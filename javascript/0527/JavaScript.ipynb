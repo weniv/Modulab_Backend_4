{
  "cells": [
    {
      "cell_type": "code",
      "execution_count": 3,
      "metadata": {
        "trusted": true
      },
      "outputs": [
        {
          "ename": "TypeError",
          "evalue": "Assignment to constant variable.",
          "output_type": "error",
          "traceback": [
            "TypeError: Assignment to constant variable.\n    at eval (eval at execute (https://jupyter.weniv.co.kr/extensions/@jupyterlite/javascript-kernel-extension/static/584.7e49152bd31ca0f8291b.js?v=7e49152bd31ca0f8291b:2:13351), <anonymous>:10:3)\n    at eval (<anonymous>)\n    at Object.execute (https://jupyter.weniv.co.kr/extensions/@jupyterlite/javascript-kernel-extension/static/584.7e49152bd31ca0f8291b.js?v=7e49152bd31ca0f8291b:2:13351)\n    at o (https://jupyter.weniv.co.kr/extensions/@jupyterlite/javascript-kernel-extension/static/584.7e49152bd31ca0f8291b.js?v=7e49152bd31ca0f8291b:2:10215)"
          ]
        }
      ],
      "source": [
        "// 아래 코드는 변수 x에 10을 넣는 코드입니다.\n",
        "// 변수(변하는 수)는 let을 사용하고\n",
        "// 상수(변하지 않는 수)는 const를 사용합니다.\n",
        "// 위 키워드는 선언할 때에만 사용합니다.\n",
        "\n",
        "let x = 10\n",
        "const y = 100\n",
        "\n",
        "x = 100\n",
        "// y = 200 // error!! 상수는 변경할 수 없습니다."
      ]
    },
    {
      "cell_type": "code",
      "execution_count": 4,
      "metadata": {
        "trusted": true
      },
      "outputs": [
        {
          "data": {
            "text/plain": [
              "10"
            ]
          },
          "execution_count": 3,
          "metadata": {},
          "output_type": "execute_result"
        }
      ],
      "source": [
        "// var라는 키워드도 자주 봤는데요!?\n",
        "// var는 이제는 거의 쓰지 않습니다.\n",
        "// 전역변수 선언할 때 사용하는데 var를 사용했을 때 문제가 많기 때문에\n",
        "// let과 const가 나온겁니다!\n",
        "\n",
        "var x = 10\n",
        "var y = 20\n",
        "\n",
        "x"
      ]
    },
    {
      "cell_type": "code",
      "execution_count": 5,
      "metadata": {
        "trusted": true
      },
      "outputs": [
        {
          "name": "stdout",
          "output_type": "stream",
          "text": [
            "30 Jun\n"
          ]
        },
        {
          "data": {},
          "execution_count": 4,
          "metadata": {},
          "output_type": "execute_result"
        }
      ],
      "source": [
        "// 앞서 python 에서는 print를 사용했지만\n",
        "// javascript에서는 console.log()를 사용합니다.\n",
        "\n",
        "let age = 30 // 나이 변수\n",
        "let name = 'Jun' // 이름 변수\n",
        "console.log(age, name) // 결과 값은 30 Jun입니다."
      ]
    },
    {
      "cell_type": "code",
      "execution_count": 6,
      "metadata": {
        "trusted": true
      },
      "outputs": [
        {
          "name": "stdout",
          "output_type": "stream",
          "text": [
            "나이는 30 이고, 이름은 Jun이야!\n"
          ]
        },
        {
          "data": {},
          "execution_count": 5,
          "metadata": {},
          "output_type": "execute_result"
        }
      ],
      "source": [
        "// python의 f-string\n",
        "// 앞서 python 에서는 f'{변수} 문자!'을 사용했지만\n",
        "\n",
        "// javascript의 template literals\n",
        "// javascript에서는 `${변수} 문자!`의 형태로 사용합니다.\n",
        "\n",
        "let age = 30 // 나이 변수\n",
        "let name = 'Jun' // 이름 변수\n",
        "console.log(`나이는 ${age} 이고, 이름은 ${name}이야!`)"
      ]
    },
    {
      "cell_type": "code",
      "execution_count": 7,
      "metadata": {
        "trusted": true
      },
      "outputs": [
        {
          "data": {},
          "execution_count": 6,
          "metadata": {},
          "output_type": "execute_result"
        }
      ],
      "source": [
        "// JavaScript는 뒤에 세미콜론을 붙여야 합니다.\n",
        "// 그런데 붙이지 않으셔도 세미콜론이 자동으로 붙어요!\n",
        "// 다만 세미콜론을 붙이지 않았을 경우 의도치 않은 애러가 발생할 수도 있습니다.\n",
        "// 보통은 직접 붙여주는 것이 관례이지만, 회사마다 이를 자동으로 해주는 SW가 있습니다.\n",
        "// 다만 우리 수업은 Python이 주 언어이고, \n",
        "// 혼란을 드리지 않기 위해 교육할 때만 세미콜론을 생략하겠습니다."
      ]
    },
    {
      "cell_type": "code",
      "execution_count": 8,
      "metadata": {
        "trusted": true
      },
      "outputs": [
        {
          "data": {
            "text/plain": [
              "30"
            ]
          },
          "execution_count": 7,
          "metadata": {},
          "output_type": "execute_result"
        }
      ],
      "source": [
        "/*\n",
        "이 코드는 사용자의 나이와 이름을 저장합니다.\n",
        "변수 age는 사용자의 나이를 저장하고,\n",
        "변수 name은 사용자의 이름을 저장합니다.\n",
        "*/\n",
        "let age = 30\n",
        "let name = 'Jun'\n",
        "\n",
        "age"
      ]
    },
    {
      "cell_type": "code",
      "execution_count": 11,
      "metadata": {
        "trusted": true
      },
      "outputs": [
        {
          "ename": "ReferenceError",
          "evalue": "xxx is not defined",
          "output_type": "error",
          "traceback": [
            "ReferenceError: xxx is not defined\n    at eval (eval at execute (https://jupyter.weniv.co.kr/extensions/@jupyterlite/javascript-kernel-extension/static/584.7e49152bd31ca0f8291b.js?v=7e49152bd31ca0f8291b:2:13351), <anonymous>:8:1)\n    at eval (<anonymous>)\n    at Object.execute (https://jupyter.weniv.co.kr/extensions/@jupyterlite/javascript-kernel-extension/static/584.7e49152bd31ca0f8291b.js?v=7e49152bd31ca0f8291b:2:13351)\n    at o (https://jupyter.weniv.co.kr/extensions/@jupyterlite/javascript-kernel-extension/static/584.7e49152bd31ca0f8291b.js?v=7e49152bd31ca0f8291b:2:10215)"
          ]
        }
      ],
      "source": [
        "// var와 let과 const에 간단한 차이\n",
        "\n",
        "if (true){\n",
        "    let xx = 100\n",
        "    const xxx = 100\n",
        "}\n",
        "\n",
        "xxx"
      ]
    },
    {
      "cell_type": "code",
      "execution_count": 12,
      "metadata": {
        "trusted": true
      },
      "outputs": [
        {
          "data": {
            "text/plain": [
              "100"
            ]
          },
          "execution_count": 9,
          "metadata": {},
          "output_type": "execute_result"
        }
      ],
      "source": [
        "// var와 let과 const에 간단한 차이\n",
        "\n",
        "if (true){\n",
        "    var xx = 100\n",
        "}\n",
        "\n",
        "xx"
      ]
    },
    {
      "cell_type": "code",
      "execution_count": 15,
      "metadata": {
        "trusted": true
      },
      "outputs": [
        {
          "name": "stdout",
          "output_type": "stream",
          "text": [
            "number\n",
            "string\n",
            "number\n",
            "string\n"
          ]
        },
        {
          "data": {},
          "execution_count": 12,
          "metadata": {},
          "output_type": "execute_result"
        }
      ],
      "source": [
        "let num = 1234\n",
        "let str = 'jeju'\n",
        "console.log(typeof num) // 'number'\n",
        "console.log(typeof str) // 'string'\n",
        "console.log(typeof(num))\n",
        "console.log(typeof(str))"
      ]
    },
    {
      "cell_type": "code",
      "execution_count": 18,
      "metadata": {
        "trusted": true
      },
      "outputs": [
        {
          "name": "stdout",
          "output_type": "stream",
          "text": [
            "object\n",
            "object\n",
            "object\n"
          ]
        },
        {
          "data": {},
          "execution_count": 15,
          "metadata": {},
          "output_type": "execute_result"
        }
      ],
      "source": [
        "// typeof로 정확한 타입을 알아낼 수가 없다!?\n",
        "\n",
        "let a = [1, 2, 3] // array\n",
        "let b = {'one': 100, 'two': 200} // object\n",
        "console.log(typeof a) // 'object'\n",
        "console.log(typeof b) // 'object'\n",
        "console.log(typeof null) // 'object', javascript를 설계하신 분이 설계가 잘못되었다 인정!\n",
        "// 이처럼 깔끔하지 않다!?"
      ]
    },
    {
      "cell_type": "code",
      "execution_count": 19,
      "metadata": {
        "trusted": true
      },
      "outputs": [
        {
          "name": "stdout",
          "output_type": "stream",
          "text": [
            "array\n",
            "object\n",
            "null\n"
          ]
        },
        {
          "data": {},
          "execution_count": 16,
          "metadata": {},
          "output_type": "execute_result"
        }
      ],
      "source": [
        "function typeCheck(value) {\n",
        "    const return_value = Object.prototype.toString.call(value);\n",
        "    const type = return_value.substring(\n",
        "        return_value.indexOf(\" \") + 1,\n",
        "        return_value.indexOf(\"]\")\n",
        "    );\n",
        "    return type.toLowerCase();\n",
        "}\n",
        "\n",
        "let a = [1, 2, 3] // array\n",
        "let b = {'one': 100, 'two': 200} // object\n",
        "let c = null // null\n",
        "\n",
        "console.log(typeCheck(a))\n",
        "console.log(typeCheck(b))\n",
        "console.log(typeCheck(c))"
      ]
    },
    {
      "cell_type": "code",
      "execution_count": 20,
      "metadata": {
        "trusted": true
      },
      "outputs": [
        {
          "data": {},
          "execution_count": 17,
          "metadata": {},
          "output_type": "execute_result"
        }
      ],
      "source": [
        "let age = 25; // Number 타입\n",
        "let name = 'licat'; // String 타입\n",
        "let isStudent = true; // Boolean 타입\n",
        "let value; // undefined 타입 (값이 할당되지 않음)\n",
        "let emptyValue = null; // null 타입 (의도적으로 값이 없음)"
      ]
    },
    {
      "cell_type": "code",
      "execution_count": 21,
      "metadata": {
        "trusted": true
      },
      "outputs": [
        {
          "data": {
            "text/plain": [
              "'function'"
            ]
          },
          "execution_count": 18,
          "metadata": {},
          "output_type": "execute_result"
        }
      ],
      "source": [
        "let person = {\n",
        "  name: 'Bob',\n",
        "  age: 30,\n",
        "}; // Object 타입\n",
        "let numbers = [1, 2, 3, 4, 5]; // Array 타입\n",
        "function greet() {\n",
        "  console.log('Hello, world!');\n",
        "} // Function 타입\n",
        "\n",
        "typeCheck(greet)"
      ]
    },
    {
      "cell_type": "code",
      "execution_count": 33,
      "metadata": {
        "trusted": true
      },
      "outputs": [
        {
          "name": "stdout",
          "output_type": "stream",
          "text": [
            "19\n",
            "check it out 제껴라 제껴라 huh!\n",
            "check it out check it out check it out huh!\n",
            "!!!-!!!!-!!!!\n",
            "010!1234!1234\n",
            "01012341234\n",
            "what's the name? black mamba\n",
            "WATCH ME WHILE I MAKE IT OUT\n",
            "abc\n"
          ]
        },
        {
          "data": {},
          "execution_count": 28,
          "metadata": {},
          "output_type": "execute_result"
        }
      ],
      "source": [
        "// 문자열의 메서드\n",
        "\n",
        "// 1. indexOf\n",
        "let text = 'weniv ceo leehojun hello world hello world'\n",
        "console.log(text.indexOf('hello')) // 첫번째 만나는 hello를 찾습니다!\n",
        "\n",
        "// 2. replace\n",
        "// javascript는 python과 달리 정규표현식을 import와 같은 문법 없이 기본 메서드에서 사용 가능합니다.\n",
        "console.log('제껴라 제껴라 제껴라 huh!'.replace('제껴라', 'check it out'))\n",
        "console.log('제껴라 제껴라 제껴라 huh!'.replace(/제껴라/g, 'check it out'))\n",
        "console.log('010-1234-1234'.replace(/[0-9]/g, '!'))\n",
        "console.log('010-1234-1234'.replace(/[^0-9]/g, '!'))\n",
        "console.log('010-1234-1234'.replace(/[^0-9]/g, ''))\n",
        "\n",
        "// 3. slice\n",
        "// 'hello world'[2:7]\n",
        "// javascript에서는 위와 같은 슬라이싱 문법이 안됩니다. 그래서 .slice라는 메서드를 사용해야 합니다.\n",
        "'hello world'.slice(2, 7)\n",
        "\n",
        "\n",
        "// 4. split\n",
        "'hello world hello world'.split(' ')\n",
        "'hello world hello world'.split('e')\n",
        "\n",
        "// 5. toLowerCase, toUpperCase\n",
        "console.log(\"What's the name? Black mamba\".toLowerCase());\n",
        "console.log('Watch me while I make it out'.toUpperCase());\n",
        "\n",
        "// 6. trim\n",
        "console.log('         abc  '.trim());"
      ]
    },
    {
      "cell_type": "code",
      "execution_count": 34,
      "metadata": {
        "trusted": true
      },
      "outputs": [
        {
          "data": {
            "text/plain": [
              "20"
            ]
          },
          "execution_count": 29,
          "metadata": {},
          "output_type": "execute_result"
        }
      ],
      "source": [
        "// 증감 연산자\n",
        "\n",
        "let x = 10\n",
        "x += 10\n",
        "x"
      ]
    },
    {
      "cell_type": "code",
      "execution_count": 35,
      "metadata": {
        "trusted": true
      },
      "outputs": [
        {
          "data": {
            "text/plain": [
              "11"
            ]
          },
          "execution_count": 30,
          "metadata": {},
          "output_type": "execute_result"
        }
      ],
      "source": [
        "let x = 10\n",
        "x++\n",
        "x"
      ]
    },
    {
      "cell_type": "code",
      "execution_count": 36,
      "metadata": {
        "trusted": true
      },
      "outputs": [
        {
          "data": {
            "text/plain": [
              "11"
            ]
          },
          "execution_count": 31,
          "metadata": {},
          "output_type": "execute_result"
        }
      ],
      "source": [
        "let x = 10\n",
        "++x\n",
        "x"
      ]
    },
    {
      "cell_type": "code",
      "execution_count": null,
      "metadata": {
        "trusted": true
      },
      "outputs": [],
      "source": [
        "// 파이썬과 다르게 1씩 증가 또는 감소를 시켜주는 코드가 있습니다.\n",
        "// 둘 중에 아무거나 사용하셔도 출력하는 곳만 아니면 문제가 발생하지 않습니다.\n",
        "let num = 3;\n",
        "console.log(`증감연산 : ${++num}`); // 4 (num을 먼저 증가시키고 출력)\n",
        "console.log(`증감연산 : ${num++}`); // 4 (출력 후 num을 증가시킴, 결과적으로 num은 5)\n",
        "console.log(`증감연산 : ${--num}`); // 4 (num을 먼저 감소시키고 출력)\n",
        "console.log(`증감연산 : ${num--}`); // 4 (출력 후 num을 감소시킴, 결과적으로 num은 3)"
      ]
    },
    {
      "cell_type": "code",
      "execution_count": 39,
      "metadata": {
        "trusted": true
      },
      "outputs": [
        {
          "data": {
            "text/plain": [
              "false"
            ]
          },
          "execution_count": 34,
          "metadata": {},
          "output_type": "execute_result"
        }
      ],
      "source": [
        "let x = 3\n",
        "let y = 10\n",
        "\n",
        "x > y\n",
        "// python하고 전부 동일하지만 아래 2개가 다릅니다.\n",
        "x == y\n",
        "x === y"
      ]
    },
    {
      "cell_type": "code",
      "execution_count": 41,
      "metadata": {
        "trusted": true
      },
      "outputs": [
        {
          "data": {
            "text/plain": [
              "false"
            ]
          },
          "execution_count": 36,
          "metadata": {},
          "output_type": "execute_result"
        }
      ],
      "source": [
        "let x = 3\n",
        "let y = '3'\n",
        "\n",
        "x == y // python에는 False이지만, javascript에서는 true입니다!\n",
        "x === y // 우리가 원하는 값, python 에서 등호 == 인 값, 타입을 봅니다!\n",
        "// 무엇을 많이 사용하나요?\n",
        "// javascript에서는 ===를 많이 사용합니다."
      ]
    },
    {
      "cell_type": "code",
      "execution_count": 42,
      "metadata": {
        "trusted": true
      },
      "outputs": [
        {
          "data": {
            "text/plain": [
              "true"
            ]
          },
          "execution_count": 37,
          "metadata": {},
          "output_type": "execute_result"
        }
      ],
      "source": [
        "Infinity > 10 // 파이썬에서는 float('inf')로 사용했습니다!"
      ]
    },
    {
      "cell_type": "code",
      "execution_count": 43,
      "metadata": {
        "trusted": true
      },
      "outputs": [
        {
          "data": {
            "text/plain": [
              "NaN"
            ]
          },
          "execution_count": 38,
          "metadata": {},
          "output_type": "execute_result"
        }
      ],
      "source": [
        "'숫자가 아님' / 2 \n",
        "// python에서는 error! 하지만 JS에서는 NaN이라는 것을 반환!"
      ]
    },
    {
      "cell_type": "code",
      "execution_count": 46,
      "metadata": {
        "trusted": true
      },
      "outputs": [
        {
          "data": {
            "text/plain": [
              "12345678901234567891n"
            ]
          },
          "execution_count": 40,
          "metadata": {},
          "output_type": "execute_result"
        }
      ],
      "source": [
        "let a = 12345678901234567890\n",
        "a + 1 // ?? 이상한 숫자가 나오네요? 특정한 숫자 이상은 처리를 할 수가 없습니다!\n",
        "// 대부분의 언어가 언어마다 정의하고 있는 숫자가 넘어가면 처리를 못하게 되어 있습니다.\n",
        "// 이전에는 그래서 큰 숫자는 문자로 처리했습니다.\n",
        "\n",
        "let b = 12345678901234567890n\n",
        "b + 1n"
      ]
    },
    {
      "cell_type": "code",
      "execution_count": 56,
      "metadata": {
        "trusted": true
      },
      "outputs": [
        {
          "data": {
            "text/plain": [
              "NaN"
            ]
          },
          "execution_count": 50,
          "metadata": {},
          "output_type": "execute_result"
        }
      ],
      "source": [
        "// +'10'\n",
        "+'12hello'"
      ]
    },
    {
      "cell_type": "code",
      "execution_count": 54,
      "metadata": {
        "trusted": true
      },
      "outputs": [
        {
          "data": {
            "text/plain": [
              "12"
            ]
          },
          "execution_count": 48,
          "metadata": {},
          "output_type": "execute_result"
        }
      ],
      "source": [
        "// 위 연산은 안전하지 않은 연산입니다!\n",
        "parseInt('10')\n",
        "parseInt('12hello')"
      ]
    },
    {
      "cell_type": "code",
      "execution_count": 57,
      "metadata": {
        "trusted": true
      },
      "outputs": [
        {
          "data": {
            "text/plain": [
              "10.1"
            ]
          },
          "execution_count": 51,
          "metadata": {},
          "output_type": "execute_result"
        }
      ],
      "source": [
        "parseFloat('10.1')"
      ]
    },
    {
      "cell_type": "code",
      "execution_count": 59,
      "metadata": {
        "trusted": true
      },
      "outputs": [
        {
          "data": {
            "text/plain": [
              "10"
            ]
          },
          "execution_count": 53,
          "metadata": {},
          "output_type": "execute_result"
        }
      ],
      "source": [
        "// 이런 문법은 사용하지 마세요.\n",
        "~~10.1"
      ]
    },
    {
      "cell_type": "code",
      "execution_count": 65,
      "metadata": {
        "trusted": true
      },
      "outputs": [
        {
          "data": {
            "text/plain": [
              "'{\"hello\":\"world\"}'"
            ]
          },
          "execution_count": 59,
          "metadata": {},
          "output_type": "execute_result"
        }
      ],
      "source": [
        "let a = 10\n",
        "let b = [1, 2, 3]\n",
        "let c = {'hello':'world'}\n",
        "a.toString()\n",
        "b.toString() // Python 하는 사람들은 여기서부터 마음이 힘들어요.\n",
        "c.toString() // Python 하는 사람들은 여기서부터 마음이 힘들어요.\n",
        "\n",
        "// js를 하시는 분들은 python처럼 string으로 변환하고 싶을 때, JSON이라는 객체를 사용합니다.\n",
        "JSON.stringify(a)\n",
        "JSON.stringify(b)\n",
        "JSON.stringify(c)"
      ]
    },
    {
      "cell_type": "code",
      "execution_count": 69,
      "metadata": {
        "trusted": true
      },
      "outputs": [
        {
          "data": {
            "text/plain": [
              "6"
            ]
          },
          "execution_count": 63,
          "metadata": {},
          "output_type": "execute_result"
        }
      ],
      "source": [
        "Math.PI\n",
        "Math.max(1, 2, 3, 4, 5, 6)\n",
        "// Math.max([1, 2, 3, 4, 5, 6])\n",
        "Math.max(...[1, 2, 3, 4, 5, 6])"
      ]
    },
    {
      "cell_type": "code",
      "execution_count": null,
      "metadata": {
        "trusted": true
      },
      "outputs": [],
      "source": [
        "// JavaScript는 카멜 표기법을 선호합니다. oneTwoThree\n",
        "// python은 대부분 소문자고, 스네이크 표기법을 선호합니다. one_two_three"
      ]
    },
    {
      "cell_type": "code",
      "execution_count": 70,
      "metadata": {
        "trusted": true
      },
      "outputs": [
        {
          "data": {
            "text/plain": [
              "false"
            ]
          },
          "execution_count": 64,
          "metadata": {},
          "output_type": "execute_result"
        }
      ],
      "source": [
        "// and(&&)는 곱\n",
        "// or(||) 는 합\n",
        "// true      1\n",
        "// false     0\n",
        "true && false"
      ]
    },
    {
      "cell_type": "code",
      "execution_count": null,
      "metadata": {
        "trusted": true
      },
      "outputs": [],
      "source": [
        "// 함수\n",
        "\n",
        "function f(a, b){\n",
        "    return a + b\n",
        "}\n",
        "\n",
        "f(10, 20)"
      ]
    },
    {
      "cell_type": "code",
      "execution_count": 71,
      "metadata": {
        "trusted": true
      },
      "outputs": [
        {
          "data": {
            "text/plain": [
              "30"
            ]
          },
          "execution_count": 65,
          "metadata": {},
          "output_type": "execute_result"
        }
      ],
      "source": [
        "function f(a=10, b=20){\n",
        "    return a + b\n",
        "}\n",
        "\n",
        "f()"
      ]
    },
    {
      "cell_type": "code",
      "execution_count": 73,
      "metadata": {
        "trusted": true
      },
      "outputs": [
        {
          "data": {
            "text/plain": [
              "31"
            ]
          },
          "execution_count": 67,
          "metadata": {},
          "output_type": "execute_result"
        }
      ],
      "source": [
        "function f(a=2, b=3){\n",
        "    return a**2 + b**3\n",
        "}\n",
        "\n",
        "f(b=2, a=3) // javascript는 아규먼트의 순서를 파라미터의 순서로 바꿔주지 않습니다!\n",
        "// 이렇게 되면, 중간에 아규먼트 넣는 순서 틀리면 완전히 잘못된 결과를 받게됩니다!\n",
        "// 그래서 실수가 아주 많았습니다.\n",
        "// 그래서 roro기법이라는 기법이 나오게 됩니다."
      ]
    },
    {
      "cell_type": "code",
      "execution_count": 74,
      "metadata": {
        "trusted": true
      },
      "outputs": [
        {
          "data": {
            "text/plain": [
              "17"
            ]
          },
          "execution_count": 68,
          "metadata": {},
          "output_type": "execute_result"
        }
      ],
      "source": [
        "// 전혀 모르셔도 괜찮지만,\n",
        "// 참고삼아 알아두세요. Python은 이런 문제가 발생하지 않습니다.\n",
        "function f(obj){\n",
        "    return obj['a']**2 + obj['b']**3\n",
        "}\n",
        "\n",
        "f({'b':2, 'a':3})"
      ]
    },
    {
      "cell_type": "code",
      "execution_count": 75,
      "metadata": {
        "trusted": true
      },
      "outputs": [
        {
          "name": "stdout",
          "output_type": "stream",
          "text": [
            "\n"
          ]
        },
        {
          "data": {},
          "execution_count": 69,
          "metadata": {},
          "output_type": "execute_result"
        }
      ],
      "source": [
        "function f(){\n",
        "    return \n",
        "}\n",
        "\n",
        "console.log(f()) // undefined"
      ]
    },
    {
      "cell_type": "code",
      "execution_count": 76,
      "metadata": {
        "trusted": true
      },
      "outputs": [
        {
          "data": {
            "text/plain": [
              "30"
            ]
          },
          "execution_count": 70,
          "metadata": {},
          "output_type": "execute_result"
        }
      ],
      "source": [
        "// 화살표 함수\n",
        "function s(a, b){\n",
        "    return a + b\n",
        "}\n",
        "\n",
        "let ss = (a, b) => a + b\n",
        "\n",
        "ss(10, 20)"
      ]
    },
    {
      "cell_type": "code",
      "execution_count": 77,
      "metadata": {
        "trusted": true
      },
      "outputs": [
        {
          "name": "stdout",
          "output_type": "stream",
          "text": [
            "\n"
          ]
        },
        {
          "data": {},
          "execution_count": 71,
          "metadata": {},
          "output_type": "execute_result"
        }
      ],
      "source": [
        "let a;\n",
        "console.log(a)"
      ]
    },
    {
      "cell_type": "code",
      "execution_count": 78,
      "metadata": {
        "trusted": true
      },
      "outputs": [
        {
          "data": {
            "text/plain": [
              "4"
            ]
          },
          "execution_count": 72,
          "metadata": {},
          "output_type": "execute_result"
        }
      ],
      "source": [
        "// 배열\n",
        "\n",
        "let arr = [10, 20, 30, 40]\n",
        "arr.length"
      ]
    },
    {
      "cell_type": "code",
      "execution_count": 83,
      "metadata": {
        "trusted": true
      },
      "outputs": [
        {
          "data": {
            "text/plain": [
              "[ 1000, 20, 30, 40 ]"
            ]
          },
          "execution_count": 76,
          "metadata": {},
          "output_type": "execute_result"
        }
      ],
      "source": [
        "let arr = [10, 20, 30, 40]\n",
        "\n",
        "// 1. push\n",
        "arr.push(50)\n",
        "arr\n",
        "\n",
        "// 2. pop\n",
        "arr.pop()\n",
        "arr\n",
        "\n",
        "// 3. shift // python에서는 pop(0)를 사용합니다.\n",
        "arr.shift()\n",
        "arr\n",
        "\n",
        "// 4. unshift // python에서는 insert(0, 값)으로 사용합니다.\n",
        "arr.unshift(1000)\n",
        "arr"
      ]
    },
    {
      "cell_type": "code",
      "execution_count": 84,
      "metadata": {
        "trusted": true
      },
      "outputs": [
        {
          "data": {
            "text/plain": [
              "[ 1, 11, 11, 111, 21, 2111, 23, 28, 43 ]"
            ]
          },
          "execution_count": 77,
          "metadata": {},
          "output_type": "execute_result"
        }
      ],
      "source": [
        "let s = [1, 11, 23, 43, 21, 28, 11, 111, 2111]\n",
        "s.sort()\n",
        "// js 는 기본 sort가 사전식 정렬입니다."
      ]
    },
    {
      "cell_type": "code",
      "execution_count": 86,
      "metadata": {
        "trusted": true
      },
      "outputs": [
        {
          "data": {
            "text/plain": [
              "[ 2111, 111, 43, 28, 23, 21, 11, 11, 1 ]"
            ]
          },
          "execution_count": 79,
          "metadata": {},
          "output_type": "execute_result"
        }
      ],
      "source": [
        "let s = [1, 11, 23, 43, 21, 28, 11, 111, 2111]\n",
        "s.sort((a, b) => a - b) // 오름차순\n",
        "s.sort((a, b) => b - a) // 내림차순"
      ]
    },
    {
      "cell_type": "code",
      "execution_count": 1,
      "metadata": {
        "trusted": true
      },
      "outputs": [
        {
          "name": "stdout",
          "output_type": "stream",
          "text": [
            "10 0\n",
            "20 1\n",
            "30 2\n",
            "40 3\n",
            "50 4\n"
          ]
        },
        {
          "data": {},
          "execution_count": 1,
          "metadata": {},
          "output_type": "execute_result"
        }
      ],
      "source": [
        "// forEach 많이 사용합니다! 기억해주세요!\n",
        "// return하는 값을 사용하진 않습니다!\n",
        "const arr = [10, 20, 30, 40, 50]\n",
        "\n",
        "function f(value, index){\n",
        "    console.log(value, index)\n",
        "}\n",
        "\n",
        "arr.forEach(f) // 이 f 자리를 콜백펑션이라고 얘기합니다."
      ]
    },
    {
      "cell_type": "code",
      "execution_count": 4,
      "metadata": {
        "trusted": true
      },
      "outputs": [
        {
          "name": "stdout",
          "output_type": "stream",
          "text": [
            "10\n",
            "0\n",
            "------\n",
            "20\n",
            "1\n",
            "------\n",
            "30\n",
            "2\n",
            "------\n",
            "40\n",
            "3\n",
            "------\n",
            "50\n",
            "4\n",
            "------\n"
          ]
        },
        {
          "data": {},
          "execution_count": 4,
          "metadata": {},
          "output_type": "execute_result"
        }
      ],
      "source": [
        "// 이렇게 화살표 함수로 더 많이 사용합니다.\n",
        "const arr = [10, 20, 30, 40, 50]\n",
        "\n",
        "arr.forEach((v, i) => {\n",
        "    console.log(v)\n",
        "    console.log(i)\n",
        "    console.log('------')\n",
        "})"
      ]
    },
    {
      "cell_type": "code",
      "execution_count": 5,
      "metadata": {
        "trusted": true
      },
      "outputs": [
        {
          "name": "stdout",
          "output_type": "stream",
          "text": [
            "10\n",
            "0\n",
            "------\n",
            "20\n",
            "1\n",
            "------\n",
            "30\n",
            "2\n",
            "------\n",
            "40\n",
            "3\n",
            "------\n",
            "50\n",
            "4\n",
            "------\n"
          ]
        },
        {
          "data": {},
          "execution_count": 5,
          "metadata": {},
          "output_type": "execute_result"
        }
      ],
      "source": [
        "const arr = [10, 20, 30, 40, 50]\n",
        "\n",
        "function f(v, i){\n",
        "    console.log(v)\n",
        "    console.log(i)\n",
        "    console.log('------')\n",
        "}\n",
        "\n",
        "arr.forEach(f)"
      ]
    },
    {
      "cell_type": "code",
      "execution_count": null,
      "metadata": {
        "trusted": true
      },
      "outputs": [],
      "source": [
        "// map\n",
        "// python에서의 map은 새로운 list를 생성하거나, 데이터를 추출하는 용도로 사용!\n",
        "// javascript에서의 map도 동일한 기능을 하지만, 데이터를 추출하는 용도로 더 많이 사용합니다."
      ]
    },
    {
      "cell_type": "code",
      "execution_count": 6,
      "metadata": {
        "trusted": true
      },
      "outputs": [
        {
          "data": {
            "text/plain": [
              "[ 10, 10, 10, 10 ]"
            ]
          },
          "execution_count": 6,
          "metadata": {},
          "output_type": "execute_result"
        }
      ],
      "source": [
        "arr = [10, 20, 30, 40]\n",
        "\n",
        "function f(v, i){\n",
        "    return 10\n",
        "}\n",
        "\n",
        "arr.map(f)"
      ]
    },
    {
      "cell_type": "code",
      "execution_count": 7,
      "metadata": {
        "trusted": true
      },
      "outputs": [
        {
          "data": {
            "text/plain": [
              "[ 100, 400, 900, 1600 ]"
            ]
          },
          "execution_count": 7,
          "metadata": {},
          "output_type": "execute_result"
        }
      ],
      "source": [
        "arr = [10, 20, 30, 40]\n",
        "\n",
        "function f(v, i){\n",
        "    return v**2\n",
        "}\n",
        "\n",
        "arr.map(f)"
      ]
    },
    {
      "cell_type": "code",
      "execution_count": null,
      "metadata": {
        "trusted": true
      },
      "outputs": [],
      "source": [
        "// forEach는 return이 없었고\n",
        "// map은 return이 있습니다.\n",
        "\n",
        "// forEach는 각각의 순회에 return 값이 아무 기능을 하지 않습니다.\n",
        "// map 은 return 값으로 새로운 배열을 만들죠!"
      ]
    },
    {
      "cell_type": "code",
      "execution_count": null,
      "metadata": {
        "trusted": true
      },
      "outputs": [],
      "source": [
        "// 이 코드와\n",
        "\n",
        "arr = [10, 20, 30, 40]\n",
        "\n",
        "arr.map((v, i) => {\n",
        "    return v**2\n",
        "})"
      ]
    },
    {
      "cell_type": "code",
      "execution_count": null,
      "metadata": {
        "trusted": true
      },
      "outputs": [],
      "source": [
        "// 이 코드는 같은 코드입니다.\n",
        "\n",
        "arr = [10, 20, 30, 40]\n",
        "\n",
        "arr.map((v, i) => v**2)"
      ]
    },
    {
      "cell_type": "code",
      "execution_count": 10,
      "metadata": {
        "trusted": true
      },
      "outputs": [
        {
          "data": {
            "text/plain": [
              "[ 28, 37, 39 ]"
            ]
          },
          "execution_count": 10,
          "metadata": {},
          "output_type": "execute_result"
        }
      ],
      "source": [
        "// 아래와 같이 데이터를 추출하는 용도로 더 많이 사용합니다.\n",
        "\n",
        "const data = [\n",
        "  {\n",
        "    _id: '642ba3980785cecff3f39a8d',\n",
        "    index: 0,\n",
        "    age: 28,\n",
        "    eyeColor: 'green',\n",
        "    name: 'Annette Middleton',\n",
        "    gender: 'female',\n",
        "    company: 'KINETICA',\n",
        "  },\n",
        "  {\n",
        "    _id: '642ba398d0fed6e17f2f50c9',\n",
        "    index: 1,\n",
        "    age: 37,\n",
        "    eyeColor: 'green',\n",
        "    name: 'Kidd Roman',\n",
        "    gender: 'male',\n",
        "    company: 'AUSTECH',\n",
        "  },\n",
        "  {\n",
        "    _id: '642ba39827d809511d00dd8d',\n",
        "    index: 2,\n",
        "    age: 39,\n",
        "    eyeColor: 'brown',\n",
        "    name: 'Best Ratliff',\n",
        "    gender: 'male',\n",
        "    company: 'PRISMATIC',\n",
        "  },\n",
        "];\n",
        "\n",
        "// const ages = data.map(item => item.age);\n",
        "const ages = data.map((item) => item['age']);\n",
        "// console.log(ages);\n",
        "ages"
      ]
    },
    {
      "cell_type": "code",
      "execution_count": 11,
      "metadata": {
        "trusted": true
      },
      "outputs": [
        {
          "data": {
            "text/plain": [
              "[ 28, 37, 39 ]"
            ]
          },
          "execution_count": 11,
          "metadata": {},
          "output_type": "execute_result"
        }
      ],
      "source": [
        "// 아래와 같이 데이터를 추출하는 용도로 더 많이 사용합니다.\n",
        "\n",
        "const data = [\n",
        "  {\n",
        "    _id: '642ba3980785cecff3f39a8d',\n",
        "    index: 0,\n",
        "    age: 28,\n",
        "    eyeColor: 'green',\n",
        "    name: 'Annette Middleton',\n",
        "    gender: 'female',\n",
        "    company: 'KINETICA',\n",
        "  },\n",
        "  {\n",
        "    _id: '642ba398d0fed6e17f2f50c9',\n",
        "    index: 1,\n",
        "    age: 37,\n",
        "    eyeColor: 'green',\n",
        "    name: 'Kidd Roman',\n",
        "    gender: 'male',\n",
        "    company: 'AUSTECH',\n",
        "  },\n",
        "  {\n",
        "    _id: '642ba39827d809511d00dd8d',\n",
        "    index: 2,\n",
        "    age: 39,\n",
        "    eyeColor: 'brown',\n",
        "    name: 'Best Ratliff',\n",
        "    gender: 'male',\n",
        "    company: 'PRISMATIC',\n",
        "  },\n",
        "];\n",
        "\n",
        "\n",
        "const ages = []\n",
        "data.forEach((item) => {\n",
        "    ages.push(item['age'])\n",
        "});\n",
        "\n",
        "ages"
      ]
    },
    {
      "cell_type": "code",
      "execution_count": 12,
      "metadata": {
        "trusted": true
      },
      "outputs": [
        {
          "data": {},
          "execution_count": 12,
          "metadata": {},
          "output_type": "execute_result"
        }
      ],
      "source": [
        "// in은 JavaScript에서는 완전히 다른 의미로 사용이 됩니다."
      ]
    },
    {
      "cell_type": "code",
      "execution_count": 14,
      "metadata": {
        "trusted": true
      },
      "outputs": [
        {
          "data": {
            "text/plain": [
              "true"
            ]
          },
          "execution_count": 14,
          "metadata": {},
          "output_type": "execute_result"
        }
      ],
      "source": [
        "const arr = [10, 20, 30]\n",
        "arr.includes(20)\n",
        "\n",
        "const arr2 = ['hello', 'world']\n",
        "arr2.includes('hello')"
      ]
    },
    {
      "cell_type": "code",
      "execution_count": 15,
      "metadata": {
        "trusted": true
      },
      "outputs": [
        {
          "data": {
            "text/plain": [
              "'hello!!world'"
            ]
          },
          "execution_count": 15,
          "metadata": {},
          "output_type": "execute_result"
        }
      ],
      "source": [
        "// python 방식: '!'.join(arr)\n",
        "// javascript 방식: arr.join('!')\n",
        "\n",
        "const arr = ['hello', 'world']\n",
        "arr.join('!!')"
      ]
    },
    {
      "cell_type": "code",
      "execution_count": 16,
      "metadata": {
        "trusted": true
      },
      "outputs": [
        {
          "data": {
            "text/plain": [
              "{ one: 'hello', two: 'world' }"
            ]
          },
          "execution_count": 16,
          "metadata": {},
          "output_type": "execute_result"
        }
      ],
      "source": [
        "// 파이썬의 딕셔너리 형태 => 자바스크립트의 오브젝트 형태\n",
        "// 다만 파이썬의 딕셔너리는 매우 다양한 메서드를 가지고 있습니다.\n",
        "// 그런데 자바스크립트의 오브젝트는 할 수 있는 것이 별로 없습니다.\n",
        "\n",
        "const obj = {'one': 'hello', 'two': 'world'}\n",
        "obj"
      ]
    },
    {
      "cell_type": "code",
      "execution_count": 17,
      "metadata": {
        "trusted": true
      },
      "outputs": [
        {
          "data": {
            "text/plain": [
              "{ one: 'hello', two: 'world' }"
            ]
          },
          "execution_count": 17,
          "metadata": {},
          "output_type": "execute_result"
        }
      ],
      "source": [
        "const obj = {\n",
        "    one: 'hello', \n",
        "    two: 'world'\n",
        "}\n",
        "obj"
      ]
    },
    {
      "cell_type": "code",
      "execution_count": 18,
      "metadata": {
        "trusted": true
      },
      "outputs": [
        {
          "data": {
            "text/plain": [
              "'hello'"
            ]
          },
          "execution_count": 18,
          "metadata": {},
          "output_type": "execute_result"
        }
      ],
      "source": [
        "// 인덱싱\n",
        "const obj = {\n",
        "    one: 'hello', \n",
        "    two: 'world'\n",
        "}\n",
        "\n",
        "obj['one']"
      ]
    },
    {
      "cell_type": "code",
      "execution_count": 24,
      "metadata": {
        "trusted": true
      },
      "outputs": [
        {
          "data": {
            "text/plain": [
              "[ [ 'one', 'hello' ], [ 'two', 'world' ] ]"
            ]
          },
          "execution_count": 22,
          "metadata": {},
          "output_type": "execute_result"
        }
      ],
      "source": [
        "// key만 추출\n",
        "const obj = {\n",
        "    one: 'hello', \n",
        "    two: 'world'\n",
        "}\n",
        "\n",
        "// python에서는 obj.keys()\n",
        "// 그런데 자바스크립트에서는 이게 안됩니다!?\n",
        "\n",
        "Object.keys(obj)\n",
        "Object.values(obj)\n",
        "Object.entries(obj)\n",
        "\n",
        "// 아니? 왜 이렇게 불편하게 써야하죠?\n",
        "// 설계가 잘못된겁니다.ㅜㅜ"
      ]
    },
    {
      "cell_type": "code",
      "execution_count": 27,
      "metadata": {
        "trusted": true
      },
      "outputs": [
        {
          "data": {
            "text/plain": [
              "'object'"
            ]
          },
          "execution_count": 25,
          "metadata": {},
          "output_type": "execute_result"
        }
      ],
      "source": [
        "typeof [10, 20, 30]\n",
        "typeof null\n",
        "typeof {'hello': 'world'}"
      ]
    },
    {
      "cell_type": "code",
      "execution_count": null,
      "metadata": {
        "trusted": true
      },
      "outputs": [],
      "source": [
        "// Map\n",
        "// Set"
      ]
    },
    {
      "cell_type": "code",
      "execution_count": null,
      "metadata": {
        "trusted": true
      },
      "outputs": [
        {
          "name": "stdout",
          "output_type": "stream",
          "text": [
            "world\n"
          ]
        },
        {
          "data": {},
          "execution_count": 26,
          "metadata": {},
          "output_type": "execute_result"
        }
      ],
      "source": [
        "if (false){\n",
        "    console.log('hello')\n",
        "} else if (true) {\n",
        "    console.log('world')\n",
        "} else if (false) {\n",
        "    console.log('!')\n",
        "} else {\n",
        "    console.log('!!')\n",
        "}"
      ]
    },
    {
      "cell_type": "code",
      "execution_count": 29,
      "metadata": {
        "trusted": true
      },
      "outputs": [
        {
          "name": "stdout",
          "output_type": "stream",
          "text": [
            "one\n"
          ]
        },
        {
          "data": {},
          "execution_count": 27,
          "metadata": {},
          "output_type": "execute_result"
        }
      ],
      "source": [
        "switch ('one'){\n",
        "    case 'one':\n",
        "        console.log('one')\n",
        "        break\n",
        "    case 'two':\n",
        "        console.log('two')\n",
        "        break\n",
        "    case 'three':\n",
        "        console.log('three')\n",
        "        break\n",
        "    case 'four':\n",
        "        console.log('four')\n",
        "        break\n",
        "}"
      ]
    },
    {
      "cell_type": "code",
      "execution_count": 30,
      "metadata": {
        "trusted": true
      },
      "outputs": [
        {
          "name": "stdout",
          "output_type": "stream",
          "text": [
            "one\n",
            "two\n",
            "three\n",
            "four\n"
          ]
        },
        {
          "data": {},
          "execution_count": 28,
          "metadata": {},
          "output_type": "execute_result"
        }
      ],
      "source": [
        "switch ('one'){\n",
        "    case 'one':\n",
        "        console.log('one') \n",
        "    case 'two':\n",
        "        console.log('two')\n",
        "    case 'three':\n",
        "        console.log('three')\n",
        "    case 'four':\n",
        "        console.log('four')   \n",
        "}"
      ]
    },
    {
      "cell_type": "code",
      "execution_count": 31,
      "metadata": {
        "trusted": true
      },
      "outputs": [
        {
          "name": "stdout",
          "output_type": "stream",
          "text": [
            "three\n"
          ]
        },
        {
          "data": {},
          "execution_count": 29,
          "metadata": {},
          "output_type": "execute_result"
        }
      ],
      "source": [
        "switch ('two'){\n",
        "    case 'one':\n",
        "        console.log('one')\n",
        "        break\n",
        "    case 'two':\n",
        "    case 'three':\n",
        "        console.log('three')\n",
        "        break\n",
        "    case 'four':\n",
        "        console.log('four')\n",
        "        break\n",
        "}"
      ]
    },
    {
      "cell_type": "code",
      "execution_count": 32,
      "metadata": {
        "trusted": true
      },
      "outputs": [
        {
          "data": {
            "text/plain": [
              "1"
            ]
          },
          "execution_count": 30,
          "metadata": {},
          "output_type": "execute_result"
        }
      ],
      "source": [
        "new Date().getDay()"
      ]
    },
    {
      "cell_type": "code",
      "execution_count": 33,
      "metadata": {
        "trusted": true
      },
      "outputs": [
        {
          "name": "stdout",
          "output_type": "stream",
          "text": [
            "1\n",
            "월요일입니다.\n"
          ]
        },
        {
          "data": {},
          "execution_count": 31,
          "metadata": {},
          "output_type": "execute_result"
        }
      ],
      "source": [
        "console.log(new Date().getDay()); // 요일은 숫자로 표현됩니다.\n",
        "\n",
        "switch (new Date().getDay()) {\n",
        "  case 1:\n",
        "    console.log('월요일입니다.');\n",
        "    break;\n",
        "  case 2:\n",
        "    console.log('화요일입니다.');\n",
        "    break;\n",
        "  case 3:\n",
        "    console.log('수요일입니다.');\n",
        "    break;\n",
        "  case 4:\n",
        "    console.log('목요일입니다.');\n",
        "    break;\n",
        "  case 5:\n",
        "    console.log('금요일입니다.');\n",
        "    break;\n",
        "  default:\n",
        "    console.log('주말입니다.');\n",
        "    break;\n",
        "}"
      ]
    },
    {
      "cell_type": "code",
      "execution_count": 34,
      "metadata": {
        "trusted": true
      },
      "outputs": [
        {
          "name": "stdout",
          "output_type": "stream",
          "text": [
            "0\n",
            "1\n",
            "2\n",
            "3\n",
            "4\n",
            "5\n",
            "6\n",
            "7\n",
            "8\n",
            "9\n"
          ]
        },
        {
          "data": {},
          "execution_count": 32,
          "metadata": {},
          "output_type": "execute_result"
        }
      ],
      "source": [
        "// 반복문\n",
        "\n",
        "for(let i = 0; i < 10; ++i){\n",
        "    console.log(i)\n",
        "}"
      ]
    },
    {
      "cell_type": "code",
      "execution_count": 35,
      "metadata": {
        "trusted": true
      },
      "outputs": [
        {
          "name": "stdout",
          "output_type": "stream",
          "text": [
            "10\n",
            "20\n",
            "30\n",
            "40\n"
          ]
        },
        {
          "data": {},
          "execution_count": 33,
          "metadata": {},
          "output_type": "execute_result"
        }
      ],
      "source": [
        "const arr = [10, 20, 30, 40]\n",
        "\n",
        "for (let i = 0; i < arr.length; ++i){\n",
        "    console.log(arr[i])\n",
        "}\n",
        "\n",
        "// 너무 힘들다!!!\n",
        "// 그래서 생긴 문법이 for of 문입니다."
      ]
    },
    {
      "cell_type": "code",
      "execution_count": 36,
      "metadata": {
        "trusted": true
      },
      "outputs": [
        {
          "name": "stdout",
          "output_type": "stream",
          "text": [
            "10\n",
            "20\n",
            "30\n",
            "40\n"
          ]
        },
        {
          "data": {},
          "execution_count": 34,
          "metadata": {},
          "output_type": "execute_result"
        }
      ],
      "source": [
        "const arr = [10, 20, 30, 40]\n",
        "\n",
        "for (let i of arr){\n",
        "    console.log(i)\n",
        "}"
      ]
    },
    {
      "cell_type": "code",
      "execution_count": 37,
      "metadata": {
        "trusted": true
      },
      "outputs": [
        {
          "name": "stdout",
          "output_type": "stream",
          "text": [
            "0\n",
            "1\n",
            "2\n",
            "3\n"
          ]
        },
        {
          "data": {},
          "execution_count": 35,
          "metadata": {},
          "output_type": "execute_result"
        }
      ],
      "source": [
        "const arr = [10, 20, 30, 40]\n",
        "\n",
        "for (let i in arr){\n",
        "    console.log(i)\n",
        "}"
      ]
    },
    {
      "cell_type": "code",
      "execution_count": 38,
      "metadata": {
        "trusted": true
      },
      "outputs": [
        {
          "ename": "TypeError",
          "evalue": "obj is not iterable",
          "output_type": "error",
          "traceback": [
            "TypeError: obj is not iterable\n    at eval (eval at execute (https://jupyter.weniv.co.kr/extensions/@jupyterlite/javascript-kernel-extension/static/584.7e49152bd31ca0f8291b.js?v=7e49152bd31ca0f8291b:2:13351), <anonymous>:6:15)\n    at eval (<anonymous>)\n    at Object.execute (https://jupyter.weniv.co.kr/extensions/@jupyterlite/javascript-kernel-extension/static/584.7e49152bd31ca0f8291b.js?v=7e49152bd31ca0f8291b:2:13351)\n    at o (https://jupyter.weniv.co.kr/extensions/@jupyterlite/javascript-kernel-extension/static/584.7e49152bd31ca0f8291b.js?v=7e49152bd31ca0f8291b:2:10215)"
          ]
        }
      ],
      "source": [
        "const obj = {\n",
        "    one: 'hello',\n",
        "    two: 'world'\n",
        "}\n",
        "\n",
        "for (let i of obj){\n",
        "    console.log(i)\n",
        "}"
      ]
    },
    {
      "cell_type": "code",
      "execution_count": 39,
      "metadata": {
        "trusted": true
      },
      "outputs": [
        {
          "name": "stdout",
          "output_type": "stream",
          "text": [
            "one\n",
            "two\n"
          ]
        },
        {
          "data": {},
          "execution_count": 36,
          "metadata": {},
          "output_type": "execute_result"
        }
      ],
      "source": [
        "const obj = {\n",
        "    one: 'hello',\n",
        "    two: 'world'\n",
        "}\n",
        "\n",
        "for (let i in obj){\n",
        "    console.log(i)\n",
        "}"
      ]
    },
    {
      "cell_type": "code",
      "execution_count": 40,
      "metadata": {
        "trusted": true
      },
      "outputs": [
        {
          "name": "stdout",
          "output_type": "stream",
          "text": [
            "one\n",
            "two\n"
          ]
        },
        {
          "data": {},
          "execution_count": 37,
          "metadata": {},
          "output_type": "execute_result"
        }
      ],
      "source": [
        "const obj = {\n",
        "    one: 'hello',\n",
        "    two: 'world'\n",
        "}\n",
        "\n",
        "// 보통 for문 안에서는 let을 사용합니다.\n",
        "for (const i in obj){\n",
        "    console.log(i)\n",
        "}"
      ]
    },
    {
      "cell_type": "code",
      "execution_count": 49,
      "metadata": {
        "trusted": true
      },
      "outputs": [
        {
          "name": "stdout",
          "output_type": "stream",
          "text": [
            "30\n",
            "0\n",
            "1\n",
            "2\n",
            "3\n",
            "4\n",
            "주말\n",
            "16\n"
          ]
        },
        {
          "data": {
            "text/plain": [
              "16"
            ]
          },
          "execution_count": 45,
          "metadata": {},
          "output_type": "execute_result"
        }
      ],
      "source": [
        "// 문제입니다.\n",
        "// 1. 1부터 10까지 짝수를 더해주세요.\n",
        "let result = 0\n",
        "for (let i = 0; i < 11; i += 2){\n",
        "    result += i\n",
        "}\n",
        "console.log(result)\n",
        "// 2. 1부터 10까지 출력하는데 4까지 출력하고 5에서 멈출 수 있도록 해주세요.(break 사용)\n",
        "let i = 0;\n",
        "while (i < 10){\n",
        "    if (i === 5) {\n",
        "        break\n",
        "    }\n",
        "    console.log(i)\n",
        "    i++\n",
        "}\n",
        "\n",
        "// 3. switch 구문을 사용해서 '월', '화' .. 등을 입력받은 다음 평일과 주말로 출력해주세요.\n",
        "let 요일 = '토'\n",
        "switch (요일){\n",
        "    case '월':\n",
        "    case '화':\n",
        "    case '수':\n",
        "    case '목':\n",
        "    case '금':\n",
        "        console.log('평일')\n",
        "        break\n",
        "    case '토':\n",
        "    case '일':\n",
        "        console.log('주말')\n",
        "        break\n",
        "    default:\n",
        "        console.log('요일을 입력햇!')\n",
        "        break\n",
        "}\n",
        "// 4. [2, 4, 5, 3, 6, 5, 4, 1]에서 짝수만 더해주세요.\n",
        "// 기본 방식\n",
        "let s = [2, 4, 5, 3, 6, 5, 4, 1]\n",
        "let result2 = 0\n",
        "for (let i of s){\n",
        "    if (i % 2 === 0){\n",
        "        result2 += i\n",
        "    }\n",
        "}\n",
        "console.log(result2)\n",
        "\n",
        "// 실무에서 사용하는 방식\n",
        "s.filter(v => !(v % 2)) // 이 코드는 어렵습니다.\n",
        "s.filter(v => v % 2 === 0)\n",
        "// 아쉽게도 js에 sum이라고 하는 함수가 없습니다!\n",
        "s.filter(v => v % 2 === 0).reduce((a, c) => a + c, 0)"
      ]
    },
    {
      "cell_type": "code",
      "execution_count": 50,
      "metadata": {
        "trusted": true
      },
      "outputs": [
        {
          "data": {
            "text/plain": [
              "30"
            ]
          },
          "execution_count": 46,
          "metadata": {},
          "output_type": "execute_result"
        }
      ],
      "source": [
        "let s = [2, 4, 5, 3, 6, 5, 4, 1]\n",
        "s.reduce((a, c) => a + c)"
      ]
    },
    {
      "cell_type": "code",
      "execution_count": 52,
      "metadata": {
        "trusted": true
      },
      "outputs": [
        {
          "data": {
            "text/plain": [
              "0"
            ]
          },
          "execution_count": 47,
          "metadata": {},
          "output_type": "execute_result"
        }
      ],
      "source": [
        "let s = []\n",
        "s.reduce((a, c) => a + c, 0) // 0이 없으면 감점입니다!"
      ]
    },
    {
      "cell_type": "code",
      "execution_count": 53,
      "metadata": {
        "trusted": true
      },
      "outputs": [
        {
          "name": "stdout",
          "output_type": "stream",
          "text": [
            "0\n",
            "1\n",
            "2\n",
            "4\n",
            "5\n",
            "6\n",
            "7\n",
            "8\n",
            "9\n"
          ]
        },
        {
          "data": {},
          "execution_count": 48,
          "metadata": {},
          "output_type": "execute_result"
        }
      ],
      "source": [
        "for (let i = 0; i < 10; i++){\n",
        "    if (i === 3){\n",
        "        continue\n",
        "    }\n",
        "    console.log(i)\n",
        "}"
      ]
    },
    {
      "cell_type": "code",
      "execution_count": 56,
      "metadata": {
        "trusted": true
      },
      "outputs": [
        {
          "data": {
            "text/plain": [
              "100"
            ]
          },
          "execution_count": 51,
          "metadata": {},
          "output_type": "execute_result"
        }
      ],
      "source": [
        "// 전개 구문\n",
        "\n",
        "Math.max(1, 2, 3, 100, 5, 6, 7)\n",
        "Math.max([1, 2, 3, 100, 5, 6, 7])\n",
        "Math.max(...[1, 2, 3, 100, 5, 6, 7])"
      ]
    },
    {
      "cell_type": "code",
      "execution_count": 57,
      "metadata": {
        "trusted": true
      },
      "outputs": [
        {
          "data": {
            "text/plain": [
              "[ 10, 20, 30, 40, 50, 60 ]"
            ]
          },
          "execution_count": 52,
          "metadata": {},
          "output_type": "execute_result"
        }
      ],
      "source": [
        "let a = [10, 20, 30]\n",
        "let b = [40, 50, 60]\n",
        "let c = [...a, ...b]\n",
        "c"
      ]
    },
    {
      "cell_type": "code",
      "execution_count": 58,
      "metadata": {
        "trusted": true
      },
      "outputs": [
        {
          "data": {
            "text/plain": [
              "[ [ 10, 20, 30 ], [ 40, 50, 60 ] ]"
            ]
          },
          "execution_count": 53,
          "metadata": {},
          "output_type": "execute_result"
        }
      ],
      "source": [
        "let a = [10, 20, 30]\n",
        "let b = [40, 50, 60]\n",
        "let c = [a, b]\n",
        "c"
      ]
    },
    {
      "cell_type": "code",
      "execution_count": null,
      "metadata": {
        "trusted": true
      },
      "outputs": [],
      "source": [
        "// this는 나 자신을 호출한 객체라고 먼저 암기를 하고, 예외 케이스를 암기하는 방식으로 이해해주세요."
      ]
    },
    {
      "cell_type": "code",
      "execution_count": 59,
      "metadata": {
        "trusted": true
      },
      "outputs": [
        {
          "name": "stdout",
          "output_type": "stream",
          "text": [
            "[object DedicatedWorkerGlobalScope]\n"
          ]
        },
        {
          "data": {},
          "execution_count": 54,
          "metadata": {},
          "output_type": "execute_result"
        }
      ],
      "source": [
        "console.log(this) // console에서는 전역 객체를 나타내는 window가 출력됩니다."
      ]
    },
    {
      "cell_type": "code",
      "execution_count": 60,
      "metadata": {
        "trusted": true
      },
      "outputs": [
        {
          "name": "stdout",
          "output_type": "stream",
          "text": [
            "[object Object]\n"
          ]
        },
        {
          "data": {},
          "execution_count": 55,
          "metadata": {},
          "output_type": "execute_result"
        }
      ],
      "source": [
        "const obj = {\n",
        "  name: 'licat',\n",
        "  f: function () {\n",
        "    console.log(this);\n",
        "  },\n",
        "};\n",
        " \n",
        "obj.f(); // obj"
      ]
    },
    {
      "cell_type": "code",
      "execution_count": 61,
      "metadata": {
        "trusted": true
      },
      "outputs": [
        {
          "name": "stdout",
          "output_type": "stream",
          "text": [
            "[object Object]\n"
          ]
        },
        {
          "data": {},
          "execution_count": 56,
          "metadata": {},
          "output_type": "execute_result"
        }
      ],
      "source": [
        "function Person(name) {\n",
        "  this.name = name;\n",
        "  console.log(this);\n",
        "}\n",
        "\n",
        "const value = Person('test'); \n",
        "// Window 객체를 출력하고 undefined를 반환\n",
        "\n",
        "const person1 = new Person('licat'); // new라는 키워드는 함수 마지막에 return this를 합니다.\n",
        "// Person { name: \"licat\" }\n",
        "\n",
        "const person2 = new Person('mura'); \n",
        "// Person { name: \"mura\" }"
      ]
    },
    {
      "cell_type": "code",
      "execution_count": null,
      "metadata": {
        "trusted": true
      },
      "outputs": [],
      "source": [
        "// 파이썬에서는 아래와 같이 Book을 찍어낼 수 있습니다!\n",
        "// class Book:\n",
        "//     def __init__(self, title, author, pages):\n",
        "//         self.title = title\n",
        "//         self.author = author\n",
        "//         self.pages = pages\n",
        "\n",
        "//     def __str__(self):\n",
        "//         return f\"{self.title} by {self.author}\"\n",
        "\n",
        "// book1 = Book(\"The Great Gatsby\", \"F. Scott Fitzgerald\", 180)\n",
        "// book2 = Book(\"Pages\", \"HojunLee\", 200)\n",
        "\n",
        "// print(book1)"
      ]
    },
    {
      "cell_type": "code",
      "execution_count": 64,
      "metadata": {
        "trusted": true
      },
      "outputs": [
        {
          "data": {
            "text/plain": [
              "180"
            ]
          },
          "execution_count": 59,
          "metadata": {},
          "output_type": "execute_result"
        }
      ],
      "source": [
        "function Book(name, author, pages){\n",
        "    this.name = name\n",
        "    this.author = author\n",
        "    this.pages = pages\n",
        "    // return this\n",
        "}\n",
        "\n",
        "book1 = new Book(\"The Great Gatsby\", \"F. Scott Fitzgerald\", 180)\n",
        "book2 = new Book(\"Pages\", \"HojunLee\", 200)\n",
        "\n",
        "book1.name\n",
        "book1.author\n",
        "book1.pages"
      ]
    },
    {
      "cell_type": "code",
      "execution_count": null,
      "metadata": {
        "trusted": true
      },
      "outputs": [],
      "source": [
        "function Book(name, author, pages){\n",
        "    this.name = name\n",
        "    this.author = author\n",
        "    this.pages = pages\n",
        "}\n",
        "\n",
        "book1 = new Book(\"The Great Gatsby\", \"F. Scott Fitzgerald\", 180)\n",
        "book2 = new Book(\"Pages\", \"HojunLee\", 200)\n",
        "\n",
        "book1.name\n",
        "book1.author\n",
        "book1.pages"
      ]
    },
    {
      "cell_type": "code",
      "execution_count": 65,
      "metadata": {
        "trusted": true
      },
      "outputs": [
        {
          "data": {},
          "execution_count": 60,
          "metadata": {},
          "output_type": "execute_result"
        }
      ],
      "source": [
        "// for in은 key로 순회\n",
        "// for of는 value로 순회, objects가 순회가 되지 않습니다."
      ]
    },
    {
      "cell_type": "code",
      "execution_count": 67,
      "metadata": {
        "trusted": true
      },
      "outputs": [
        {
          "name": "stdout",
          "output_type": "stream",
          "text": [
            "0\n",
            "1\n",
            "2\n",
            "3\n",
            "one\n",
            "two\n"
          ]
        },
        {
          "data": {},
          "execution_count": 62,
          "metadata": {},
          "output_type": "execute_result"
        }
      ],
      "source": [
        "// for in은 익스플로러도 되기 때문에 부담없이 사용할 수 있습니다.\n",
        "const a = [10, 20, 30, 40]\n",
        "// const a = {\n",
        "//     0: 10,\n",
        "//     1: 20,\n",
        "//     2: 30,\n",
        "//     3: 40\n",
        "// }\n",
        "const b = {\n",
        "    one: 'hello',\n",
        "    two: 'world'\n",
        "}\n",
        "\n",
        "for (let i in a){\n",
        "    console.log(i)\n",
        "}\n",
        "\n",
        "for (let i in b){\n",
        "    console.log(i)\n",
        "}"
      ]
    },
    {
      "cell_type": "code",
      "execution_count": 68,
      "metadata": {
        "trusted": true
      },
      "outputs": [
        {
          "name": "stdout",
          "output_type": "stream",
          "text": [
            "10\n",
            "20\n",
            "30\n",
            "40\n"
          ]
        },
        {
          "ename": "TypeError",
          "evalue": "b is not iterable",
          "output_type": "error",
          "traceback": [
            "TypeError: b is not iterable\n    at eval (eval at execute (https://jupyter.weniv.co.kr/extensions/@jupyterlite/javascript-kernel-extension/static/584.7e49152bd31ca0f8291b.js?v=7e49152bd31ca0f8291b:2:13351), <anonymous>:13:15)\n    at eval (<anonymous>)\n    at Object.execute (https://jupyter.weniv.co.kr/extensions/@jupyterlite/javascript-kernel-extension/static/584.7e49152bd31ca0f8291b.js?v=7e49152bd31ca0f8291b:2:13351)\n    at o (https://jupyter.weniv.co.kr/extensions/@jupyterlite/javascript-kernel-extension/static/584.7e49152bd31ca0f8291b.js?v=7e49152bd31ca0f8291b:2:10215)"
          ]
        }
      ],
      "source": [
        "// for of는 익스플로러가 지원하지 않기 때문에,\n",
        "// 민원이 발생할 수 있습니다.\n",
        "const a = [10, 20, 30, 40]\n",
        "// const a = {\n",
        "//     0: 10,\n",
        "//     1: 20,\n",
        "//     2: 30,\n",
        "//     3: 40\n",
        "// }\n",
        "const b = {\n",
        "    one: 'hello',\n",
        "    two: 'world'\n",
        "}\n",
        "\n",
        "// 이 코드도 전혀 작동하지 않습니다. 익스플로러에서요.\n",
        "for (let i of a){\n",
        "    console.log(i)\n",
        "}\n",
        "\n",
        "for (let i of b){\n",
        "    console.log(i)\n",
        "}"
      ]
    },
    {
      "cell_type": "code",
      "execution_count": 70,
      "metadata": {
        "trusted": true
      },
      "outputs": [
        {
          "name": "stdout",
          "output_type": "stream",
          "text": [
            "하나,1,1,하나,true,1,false,0\n"
          ]
        },
        {
          "data": {},
          "execution_count": 64,
          "metadata": {},
          "output_type": "execute_result"
        }
      ],
      "source": [
        "let m = new Map();\n",
        "\n",
        "m.set('하나', '1');\n",
        "m.set(1, '하나');\n",
        "m.set(true, 1);\n",
        "m.set(false, 0);\n",
        "\n",
        "m = [...m] // 위니북스에서만 이렇게 사용\n",
        "\n",
        "console.log(m);"
      ]
    },
    {
      "cell_type": "code",
      "execution_count": 82,
      "metadata": {
        "trusted": true
      },
      "outputs": [
        {
          "data": {
            "text/plain": [
              "Map (3) {'하나' => '1', '둘' => '2', '셋' => '3'}"
            ]
          },
          "execution_count": 75,
          "metadata": {},
          "output_type": "execute_result"
        }
      ],
      "source": [
        "let m = new Map();\n",
        "\n",
        "m.set('하나', '1');\n",
        "m.set('둘', '2');\n",
        "m.set('셋', '3');\n",
        "\n",
        "m.size\n",
        "m.keys()\n",
        "m.values()\n",
        "m.entries()\n",
        "m"
      ]
    },
    {
      "cell_type": "code",
      "execution_count": 72,
      "metadata": {
        "trusted": true
      },
      "outputs": [
        {
          "name": "stdout",
          "output_type": "stream",
          "text": [
            "하나\n",
            "1\n",
            "둘\n",
            "2\n",
            "셋\n",
            "3\n"
          ]
        },
        {
          "data": {},
          "execution_count": 66,
          "metadata": {},
          "output_type": "execute_result"
        }
      ],
      "source": [
        "let m = new Map();\n",
        "\n",
        "m.set('하나', '1');\n",
        "m.set('둘', '2');\n",
        "m.set('셋', '3');\n",
        "\n",
        "for (let [a, b] of m.entries()){\n",
        "    console.log(a)\n",
        "    console.log(b)\n",
        "}"
      ]
    },
    {
      "cell_type": "code",
      "execution_count": 73,
      "metadata": {
        "trusted": true
      },
      "outputs": [
        {
          "data": {
            "text/plain": [
              "'1'"
            ]
          },
          "execution_count": 67,
          "metadata": {},
          "output_type": "execute_result"
        }
      ],
      "source": [
        "let m = new Map();\n",
        "\n",
        "m.set('하나', '1');\n",
        "m.set('둘', '2');\n",
        "m.set('셋', '3');\n",
        "\n",
        "m.get('하나')"
      ]
    },
    {
      "cell_type": "code",
      "execution_count": 76,
      "metadata": {
        "trusted": true
      },
      "outputs": [
        {
          "name": "stdout",
          "output_type": "stream",
          "text": [
            "true\n",
            "false\n"
          ]
        },
        {
          "data": {
            "text/plain": [
              "[ '둘', '셋' ]"
            ]
          },
          "execution_count": 69,
          "metadata": {},
          "output_type": "execute_result"
        }
      ],
      "source": [
        "let m = new Map();\n",
        "\n",
        "m.set('하나', '1');\n",
        "m.set('둘', '2');\n",
        "m.set('셋', '3');\n",
        "\n",
        "console.log(m.delete('하나')); // true\n",
        "console.log(m.has('하나')); // false\n",
        "\n",
        "[...m.keys()]"
      ]
    },
    {
      "cell_type": "code",
      "execution_count": 77,
      "metadata": {
        "trusted": true
      },
      "outputs": [
        {
          "data": {},
          "execution_count": 70,
          "metadata": {},
          "output_type": "execute_result"
        }
      ],
      "source": [
        "let obj = { hi: 1, hi2: 2, hi3: 3, hi4: 4 };\n",
        "obj.length"
      ]
    },
    {
      "cell_type": "code",
      "execution_count": null,
      "metadata": {
        "trusted": true
      },
      "outputs": [],
      "source": [
        "// 1. Map은 keys, values, entries가 모두 메서드로 있다!\n",
        "// 2. has도 바로 체크 가능하다\n",
        "// 3. 길이도 object는 length가 없지만, Map은 size가 있어서 길이를 바로 알 수 있다."
      ]
    },
    {
      "cell_type": "code",
      "execution_count": 78,
      "metadata": {
        "trusted": true
      },
      "outputs": [
        {
          "data": {
            "text/plain": [
              "Set (3) {1, 2, 3}"
            ]
          },
          "execution_count": 71,
          "metadata": {},
          "output_type": "execute_result"
        }
      ],
      "source": [
        "// set\n",
        "\n",
        "let s = new Set()\n",
        "s.add(1)\n",
        "s.add(1)\n",
        "s.add(1)\n",
        "s.add(2)\n",
        "s.add(2)\n",
        "s.add(3)\n",
        "s.add(3)\n",
        "s.add(3)\n",
        "\n",
        "s"
      ]
    },
    {
      "cell_type": "code",
      "execution_count": 81,
      "metadata": {
        "trusted": true
      },
      "outputs": [
        {
          "data": {
            "text/plain": [
              "Set (5) {'a', 'b', 'c', 'd', 'e'}"
            ]
          },
          "execution_count": 74,
          "metadata": {},
          "output_type": "execute_result"
        }
      ],
      "source": [
        "let s = new Set('abcdeeeeeeeee');\n",
        "s\n",
        "// console.log(s.size);"
      ]
    },
    {
      "cell_type": "code",
      "execution_count": 84,
      "metadata": {
        "trusted": true
      },
      "outputs": [
        {
          "data": {
            "text/plain": [
              "Set (1) {'apple'}"
            ]
          },
          "execution_count": 77,
          "metadata": {},
          "output_type": "execute_result"
        }
      ],
      "source": [
        "let setA = new Set(['apple', 'banana', 'orange']);\n",
        "let setB = new Set(['banana', 'kiwi', 'orange']);\n",
        "\n",
        "// 교집합\n",
        "let intersection = new Set([...setA].filter(x => setB.has(x)));\n",
        "intersection\n",
        "\n",
        "// 합집합\n",
        "let union = new Set([...setA, ...setB]);\n",
        "union\n",
        "\n",
        "// 차집합\n",
        "let difference = new Set([...setA].filter(x => !setB.has(x)));\n",
        "difference"
      ]
    },
    {
      "cell_type": "code",
      "execution_count": null,
      "metadata": {
        "trusted": true
      },
      "outputs": [],
      "source": [
        "// Map에서 아래 것만 기억해주세요.\n",
        "// get, set, size\n",
        "// .keys(), .values(), .entries()"
      ]
    },
    {
      "cell_type": "code",
      "execution_count": 85,
      "metadata": {
        "trusted": true
      },
      "outputs": [
        {
          "data": {
            "text/plain": [
              "false"
            ]
          },
          "execution_count": 78,
          "metadata": {},
          "output_type": "execute_result"
        }
      ],
      "source": [
        "// a = [1, 2, 3]\n",
        "// b = [1, 2, 3]\n",
        "\n",
        "// a == b\n",
        "// python은 True인데!?\n",
        "\n",
        "const a = [1, 2, 3]\n",
        "const b = [1, 2, 3]\n",
        "\n",
        "a == b // false <-- a와 b가 메모리 주소가 다르다!"
      ]
    },
    {
      "cell_type": "code",
      "execution_count": 88,
      "metadata": {
        "trusted": true
      },
      "outputs": [
        {
          "data": {
            "text/plain": [
              "true"
            ]
          },
          "execution_count": 81,
          "metadata": {},
          "output_type": "execute_result"
        }
      ],
      "source": [
        "const a = [1, 2, 3]\n",
        "const b = [1, 2, 3]\n",
        "\n",
        "JSON.stringify(a)\n",
        "JSON.stringify(b)\n",
        "JSON.stringify(a) == JSON.stringify(b)"
      ]
    },
    {
      "cell_type": "code",
      "execution_count": null,
      "metadata": {
        "trusted": true
      },
      "outputs": [],
      "source": [
        "// JSON !== JavaScript object\n",
        "// JSON이 좀 더 엄격합니다.\n",
        "// key값에 쌍따옴표 붙입니다.\n",
        "// 앞에는 한 칸 안띄고, 뒤에는 한 칸 띕니다.\n",
        "// {\"key\": \"value\"}"
      ]
    },
    {
      "cell_type": "code",
      "execution_count": 90,
      "metadata": {
        "trusted": true
      },
      "outputs": [
        {
          "data": {
            "text/plain": [
              "[ 1, 2, [ 1, 2, 3 ] ]"
            ]
          },
          "execution_count": 83,
          "metadata": {},
          "output_type": "execute_result"
        }
      ],
      "source": [
        "const json = '[1, 2, [1, 2, 3]]'; // 이렇게 다른 언어에서 string으로 받았으면\n",
        "const obj = JSON.parse(json); // 내부에서 사용할 수 있는 객체로 변환\n",
        "obj"
      ]
    },
    {
      "cell_type": "code",
      "execution_count": 92,
      "metadata": {
        "trusted": true
      },
      "outputs": [
        {
          "data": {
            "text/plain": [
              "'{\"one\":\"hello\",\"two\":\"world\"}'"
            ]
          },
          "execution_count": 85,
          "metadata": {},
          "output_type": "execute_result"
        }
      ],
      "source": [
        "const a = [1, 2, 3]\n",
        "const b = {\n",
        "    one: 'hello',\n",
        "    two: 'world'\n",
        "}\n",
        "\n",
        "JSON.stringify(a) // 외부로 데이터 전송할 때에는 이렇게 문자열로 변환해 전송\n",
        "JSON.stringify(b) // 외부로 데이터 전송할 때에는 이렇게 문자열로 변환해 전송"
      ]
    },
    {
      "cell_type": "code",
      "execution_count": 96,
      "metadata": {
        "trusted": true
      },
      "outputs": [
        {
          "data": {
            "text/plain": [
              "34.4"
            ]
          },
          "execution_count": 89,
          "metadata": {},
          "output_type": "execute_result"
        }
      ],
      "source": [
        "// 이 코드를 암기하시면 실무에서 자주 사용하는 패턴 3개를 한꺼번에 익히실 수 있습니다.\n",
        "// 정답 코드를 손으로도 여러번 써보세요.\n",
        "// 팬을 들고요.\n",
        "const data = [\n",
        "  {\n",
        "    \"_id\": \"998e1c16-6a80-4cb5-Cfaa-95e5b9f8cd0d\",\n",
        "    \"index\": \"1\",\n",
        "    \"name\": \"원윤슬\",\n",
        "    \"email\": \"user-qn97dcg@Curabitur.biz\",\n",
        "    \"phone\": \"010-9963-0904\",\n",
        "    \"country\": \"마카오\",\n",
        "    \"address\": \"양평로 94-5\",\n",
        "    \"age\": \"36\",\n",
        "    \"job\": \"식품공학기술자\"\n",
        "  },\n",
        "  {\n",
        "    \"_id\": \"8c93c034-a1e5-4ce0-C974-c6544801aa20\",\n",
        "    \"index\": \"2\",\n",
        "    \"name\": \"난시원\",\n",
        "    \"email\": \"user-bh7qncs@Eget.com\",\n",
        "    \"phone\": \"010-3095-1880\",\n",
        "    \"country\": \"키리바시\",\n",
        "    \"address\": \"양재로 75-6\",\n",
        "    \"age\": \"47\",\n",
        "    \"job\": \"생물공학연구원\"\n",
        "  },\n",
        "  {\n",
        "    \"_id\": \"36da5180-a858-4203-Aee9-e5a30ecdaaef\",\n",
        "    \"index\": \"3\",\n",
        "    \"name\": \"도태림\",\n",
        "    \"email\": \"user-7qmj5al@Quisque.co.kr\",\n",
        "    \"phone\": \"010-5681-9837\",\n",
        "    \"country\": \"르완다\",\n",
        "    \"address\": \"강변북로 35-8\",\n",
        "    \"age\": \"49\",\n",
        "    \"job\": \"회계사\"\n",
        "  },\n",
        "  {\n",
        "    \"_id\": \"752fb846-86ec-46e7-C38a-06e5eed26a5f\",\n",
        "    \"index\": \"4\",\n",
        "    \"name\": \"갈영현\",\n",
        "    \"email\": \"user-txs2nnu@Molestie.co.kr\",\n",
        "    \"phone\": \"010-3581-4638\",\n",
        "    \"country\": \"마셜 제도\",\n",
        "    \"address\": \"용산로 56-1\",\n",
        "    \"age\": \"40\",\n",
        "    \"job\": \"방송연출가\"\n",
        "  },\n",
        "  {\n",
        "    \"_id\": \"09ff1f9e-7887-4fef-B4c6-a85c576ad261\",\n",
        "    \"index\": \"5\",\n",
        "    \"name\": \"팽지호\",\n",
        "    \"email\": \"user-hai4w0q@Donec.org\",\n",
        "    \"phone\": \"010-5765-4652\",\n",
        "    \"country\": \"세인트헬레나\",\n",
        "    \"address\": \"노량진로 24-2\",\n",
        "    \"age\": \"33\",\n",
        "    \"job\": \"생물공학연구원\"\n",
        "  }\n",
        "]\n",
        "// 35살 이상이신 분들의 평균\n",
        "const len = data.length\n",
        "const fiteringdata = data.filter(v => parseInt(v['age']) >= 35)\n",
        "const ages = fiteringdata.map(v => parseInt(v['age']))\n",
        "const sum = ages.reduce((a, c) => a + c, 0)\n",
        "sum / len"
      ]
    },
    {
      "cell_type": "code",
      "execution_count": 97,
      "metadata": {
        "trusted": true
      },
      "outputs": [
        {
          "data": {},
          "execution_count": 90,
          "metadata": {},
          "output_type": "execute_result"
        }
      ],
      "source": [
        "// 전부 array 메서드입니다!\n",
        "// filter\n",
        "// reduce\n",
        "// map"
      ]
    },
    {
      "cell_type": "code",
      "execution_count": 100,
      "metadata": {
        "trusted": true
      },
      "outputs": [
        {
          "name": "stdout",
          "output_type": "stream",
          "text": [
            "10\n",
            "20\n",
            "------\n",
            "30\n",
            "30\n",
            "------\n",
            "60\n",
            "40\n",
            "------\n"
          ]
        },
        {
          "data": {
            "text/plain": [
              "100"
            ]
          },
          "execution_count": 93,
          "metadata": {},
          "output_type": "execute_result"
        }
      ],
      "source": [
        "[10, 20, 30, 40].reduce((a, c) => {\n",
        "    console.log(a)\n",
        "    console.log(c)\n",
        "    console.log('------')\n",
        "    return a + c\n",
        "})"
      ]
    },
    {
      "cell_type": "code",
      "execution_count": 99,
      "metadata": {
        "trusted": true
      },
      "outputs": [
        {
          "name": "stdout",
          "output_type": "stream",
          "text": [
            "10\n",
            "20\n",
            "------\n",
            "100\n",
            "30\n",
            "------\n",
            "100\n",
            "40\n",
            "------\n"
          ]
        },
        {
          "data": {
            "text/plain": [
              "100"
            ]
          },
          "execution_count": 92,
          "metadata": {},
          "output_type": "execute_result"
        }
      ],
      "source": [
        "[10, 20, 30, 40].reduce((a, c) => {\n",
        "    console.log(a)\n",
        "    console.log(c)\n",
        "    console.log('------')\n",
        "    return 100\n",
        "})"
      ]
    },
    {
      "cell_type": "code",
      "execution_count": 101,
      "metadata": {
        "trusted": true
      },
      "outputs": [
        {
          "data": {
            "text/plain": [
              "[ 3, 4, 5 ]"
            ]
          },
          "execution_count": 94,
          "metadata": {},
          "output_type": "execute_result"
        }
      ],
      "source": [
        "[1, 2, 3, 4, 5].filter(x => x >= 3)"
      ]
    },
    {
      "cell_type": "code",
      "execution_count": 102,
      "metadata": {
        "trusted": true
      },
      "outputs": [
        {
          "data": {
            "text/plain": [
              "[ 3, 4, 5 ]"
            ]
          },
          "execution_count": 95,
          "metadata": {},
          "output_type": "execute_result"
        }
      ],
      "source": [
        "function f(x){\n",
        "    return x >= 3\n",
        "}\n",
        "\n",
        "[1, 2, 3, 4, 5].filter(f)"
      ]
    },
    {
      "cell_type": "code",
      "execution_count": 103,
      "metadata": {
        "trusted": true
      },
      "outputs": [
        {
          "data": {
            "text/plain": [
              "[ false, false, true, true, true ]"
            ]
          },
          "execution_count": 96,
          "metadata": {},
          "output_type": "execute_result"
        }
      ],
      "source": [
        "[1, 2, 3, 4, 5].map(x => x >= 3) // 데이터 추출로 더 많이 사용"
      ]
    },
    {
      "cell_type": "code",
      "execution_count": 115,
      "metadata": {
        "trusted": true
      },
      "outputs": [
        {
          "data": {
            "text/plain": [
              "60"
            ]
          },
          "execution_count": 107,
          "metadata": {},
          "output_type": "execute_result"
        }
      ],
      "source": [
        "// # Array 메서드 실무 연습 문제 10개\n",
        "\n",
        "// ## 문제 1: 숫자 배열 필터링\n",
        "// `[1, 5, 10, 15, 20, 25, 30]`에서 15 이상인 수만 추출하세요.\n",
        "const data1 = [1, 5, 10, 15, 20, 25, 30]\n",
        "data1.filter(x => x >= 15)\n",
        "\n",
        "// ## 문제 2: 문자열 배열 변환\n",
        "// `['apple', 'banana', 'cherry']`를 모두 대문자로 변환하세요.\n",
        "const data2 = ['apple', 'banana', 'cherry']\n",
        "data2.map(x => x.toUpperCase())\n",
        "\n",
        "// ## 문제 3: 숫자 합계\n",
        "// `[100, 200, 300, 400, 500]`의 총합을 구하세요.\n",
        "const data3 = [100, 200, 300, 400, 500]\n",
        "data3.reduce((a, c) => a + c, 0)\n",
        "\n",
        "// ## 문제 4: 이름 배열에서 특정 길이\n",
        "// `['김철수', '이영희', '박민수진', '최지']`에서 3글자인 이름만 찾으세요.\n",
        "const data4 = ['김철수', '이영희', '박민수진', '최지']\n",
        "data4.filter(x => x.length === 3)\n",
        "\n",
        "// ## 문제 5: 점수 평균 계산\n",
        "// `[85, 92, 78, 96, 88]` 점수들의 평균을 구하세요.\n",
        "const data5 = [85, 92, 78, 96, 88]\n",
        "const len = data5.length\n",
        "data5.reduce((a, c) => a + c, 0) / len\n",
        "\n",
        "// ## 문제 6: 제품 데이터 처리\n",
        "// const products = [\n",
        "//   { name: '노트북', price: 1000000, category: '전자제품' },\n",
        "//   { name: '마우스', price: 30000, category: '전자제품' },\n",
        "//   { name: '책상', price: 200000, category: '가구' }\n",
        "// ];\n",
        "// 전자제품 카테고리의 제품명만 추출하세요.\n",
        "const data6 = [\n",
        "  { name: '노트북', price: 1000000, category: '전자제품' },\n",
        "  { name: '마우스', price: 30000, category: '전자제품' },\n",
        "  { name: '책상', price: 200000, category: '가구' }\n",
        "];\n",
        "data6.map(v => v['name'])\n",
        "\n",
        "// ## 문제 7: 짝수/홀수 확인\n",
        "// `[2, 4, 6, 8, 10]` 배열이 모두 짝수인지 확인하세요.\n",
        "const data7 = [2, 4, 6, 8, 10]\n",
        "data7.filter(v => v % 2 === 0).length === data7.length\n",
        "// data7.every(v => v % 2 === 0)\n",
        "\n",
        "// ## 문제 8: 최대값 찾기\n",
        "// `[45, 23, 89, 12, 67, 34]`에서 가장 큰 수를 찾으세요.\n",
        "Math.max(...[45, 23, 89, 12, 67, 34])\n",
        "\n",
        "const numbers = [45, 23, 89, 12, 67, 34];\n",
        "const result = numbers.reduce((max, num) => num > max ? num : max);\n",
        "// 잘 풀었지만 우리에겐 Math.max가 있습니다!\n",
        "\n",
        "// ## 문제 9: 단어 길이 변환\n",
        "// `['자바스크립트', '리액트', '뷰', '앵귤러']`를 각 단어의 글자 수로 변환하세요.\n",
        "const data8 = ['자바스크립트', '리액트', '뷰', '앵귤러']\n",
        "data8.map(v => v.length)\n",
        "\n",
        "// ## 문제 10: 조건부 합계\n",
        "// `[10, -5, 20, -15, 30, -8]`에서 양수만 골라서 합계를 구하세요.\n",
        "const data9 = [10, -5, 20, -15, 30, -8]\n",
        "data9.filter(x => x > 0).reduce((a, c) => a + c, 0)"
      ]
    },
    {
      "cell_type": "code",
      "execution_count": 112,
      "metadata": {
        "trusted": true
      },
      "outputs": [
        {
          "data": {
            "text/plain": [
              "'hello'"
            ]
          },
          "execution_count": 104,
          "metadata": {},
          "output_type": "execute_result"
        }
      ],
      "source": [
        "10 > 5 ? 'hello' : 'world'"
      ]
    },
    {
      "cell_type": "code",
      "execution_count": 113,
      "metadata": {
        "trusted": true
      },
      "outputs": [
        {
          "data": {
            "text/plain": [
              "'hello'"
            ]
          },
          "execution_count": 105,
          "metadata": {},
          "output_type": "execute_result"
        }
      ],
      "source": [
        "const value = 10 > 5 ? 'hello' : 'world'\n",
        "value"
      ]
    },
    {
      "cell_type": "code",
      "execution_count": null,
      "metadata": {
        "trusted": true
      },
      "outputs": [],
      "source": [
        "// https://school.programmers.co.kr/learn/courses/30/lessons/120871"
      ]
    },
    {
      "cell_type": "code",
      "execution_count": 117,
      "metadata": {
        "trusted": true
      },
      "outputs": [
        {
          "data": {
            "text/plain": [
              "[ 1, 2, 3, 4, 5, 6, 7, 8, 9, 10 ]"
            ]
          },
          "execution_count": 109,
          "metadata": {},
          "output_type": "execute_result"
        }
      ],
      "source": [
        "Array(10).fill(1)\n",
        "Array(10).fill(1).map((v, i) => v + i)"
      ]
    },
    {
      "cell_type": "code",
      "execution_count": 16,
      "metadata": {
        "trusted": true
      },
      "outputs": [
        {
          "data": {
            "text/plain": [
              "[ 1, 2, 4, 5, 7, 8, 10, 11, 14, 16, 17, 19, 20, 22, 25, 26, 28, 29, 40, 41, 44, 46, 47, 49, 50, 52, 55, 56, 58, 59, 61, 62, 64, 65, 67, 68, 70, 71, 74, 76, 77, 79, 80, 82, 85, 86, 88, 89, 91, 92, 94, 95, 97, 98, 100 ]"
            ]
          },
          "execution_count": 14,
          "metadata": {},
          "output_type": "execute_result"
        }
      ],
      "source": [
        "// 첫번째 방식(제가 즐겨하는 방식)\n",
        "// 배열을 만들어 놓고 시작하는 방식\n",
        "Array(100)\n",
        "    .fill(1)\n",
        "    .map((v, i) => v + i)\n",
        "    .filter(x => x % 3 !== 0)\n",
        "    .filter(x => !x.toString().includes('3'))"
      ]
    },
    {
      "cell_type": "code",
      "execution_count": 12,
      "metadata": {
        "trusted": true
      },
      "outputs": [
        {
          "data": {
            "text/plain": [
              "[ 1, 2, 4, 5, 7, 8, 10, 11, 14, 16, 17, 19, 20, 22, 25, 26, 28, 29, 40, 41, 44, 46, 47, 49, 50, 52, 55, 56, 58, 59, 61, 62, 64, 65, 67, 68, 70, 71, 74, 76, 77, 79, 80, 82, 85, 86, 88, 89, 91, 92, 94, 95, 97, 98, 100 ]"
            ]
          },
          "execution_count": 10,
          "metadata": {},
          "output_type": "execute_result"
        }
      ],
      "source": [
        "Array(100)\n",
        "    .fill(1)\n",
        "    .map((v, i) => v + i)\n",
        "    .filter(x => x % 3 !== 0)\n",
        "    .filter(x => !/3/.test(x))"
      ]
    },
    {
      "cell_type": "code",
      "execution_count": 14,
      "metadata": {
        "trusted": true
      },
      "outputs": [
        {
          "data": {
            "text/plain": [
              "25"
            ]
          },
          "execution_count": 12,
          "metadata": {},
          "output_type": "execute_result"
        }
      ],
      "source": [
        "Array(100)\n",
        "    .fill(1)\n",
        "    .map((v, i) => v + i)\n",
        "    .filter(x => x % 3 !== 0)\n",
        "    .filter(x => !/3/.test(x))[14]"
      ]
    },
    {
      "cell_type": "code",
      "execution_count": null,
      "metadata": {
        "trusted": true
      },
      "outputs": [],
      "source": [
        "// /3/.test(33)\n",
        "// /3/.test(123)\n",
        "/3/.test(12)"
      ]
    },
    {
      "cell_type": "code",
      "execution_count": 15,
      "metadata": {
        "trusted": true
      },
      "outputs": [
        {
          "data": {
            "text/plain": [
              "true"
            ]
          },
          "execution_count": 13,
          "metadata": {},
          "output_type": "execute_result"
        }
      ],
      "source": [
        "'hello'.includes('h')"
      ]
    },
    {
      "cell_type": "code",
      "execution_count": 17,
      "metadata": {
        "trusted": true
      },
      "outputs": [
        {
          "data": {},
          "execution_count": 15,
          "metadata": {},
          "output_type": "execute_result"
        }
      ],
      "source": [
        "// 두번째 방식\n",
        "// 배열을 만들어놓지 않고, 실시간으로 연산해 나가면서 풀이하는 방식"
      ]
    },
    {
      "cell_type": "code",
      "execution_count": 21,
      "metadata": {
        "trusted": true
      },
      "outputs": [
        {
          "data": {
            "text/plain": [
              "25"
            ]
          },
          "execution_count": 18,
          "metadata": {},
          "output_type": "execute_result"
        }
      ],
      "source": [
        "function solution(n){\n",
        "    let count3x = 0\n",
        "    while (n > 0) {\n",
        "        count3x++\n",
        "        if (count3x.toString().includes('3')){\n",
        "            continue\n",
        "        }\n",
        "        if (count3x % 3 == 0) {\n",
        "            continue\n",
        "        }\n",
        "        n--\n",
        "    }\n",
        "    return count3x\n",
        "}\n",
        "\n",
        "solution(15)"
      ]
    },
    {
      "cell_type": "code",
      "execution_count": 27,
      "metadata": {
        "trusted": true
      },
      "outputs": [
        {
          "name": "stdout",
          "output_type": "stream",
          "text": [
            "1\n",
            "2\n",
            "4\n",
            "5\n",
            "7\n",
            "8\n",
            "10\n",
            "11\n",
            "13\n",
            "14\n",
            "16\n",
            "17\n",
            "19\n",
            "20\n",
            "22\n",
            "25\n"
          ]
        },
        {
          "data": {},
          "execution_count": 24,
          "metadata": {},
          "output_type": "execute_result"
        }
      ],
      "source": [
        "let n = 15\n",
        "let count3x = 0\n",
        "for (let i = 0; i < n + 1; i++) {\n",
        "    count3x++\n",
        "    while (count3x.toString().includes('3')){\n",
        "        count3x++\n",
        "    }\n",
        "    while (count3x % 3 === 0) {\n",
        "        count3x++\n",
        "    }\n",
        "    console.log(count3x)\n",
        "}"
      ]
    },
    {
      "cell_type": "code",
      "execution_count": 2,
      "metadata": {
        "trusted": true
      },
      "outputs": [
        {
          "data": {
            "text/plain": [
              "'이 책의 이름은 The Great Gatsby이고 이 책의 저는 F. Scott Fitzgerald입니다.'"
            ]
          },
          "execution_count": 1,
          "metadata": {},
          "output_type": "execute_result"
        }
      ],
      "source": [
        "// 파이썬에서는 아래와 같이 Book을 찍어낼 수 있습니다!\n",
        "// class Book:\n",
        "//     def __init__(self, title, author, pages):\n",
        "//         self.title = title\n",
        "//         self.author = author\n",
        "//         self.pages = pages\n",
        "\n",
        "//     def __str__(self):\n",
        "//         return f\"{self.title} by {self.author}\"\n",
        "\n",
        "// book1 = Book(\"The Great Gatsby\", \"F. Scott Fitzgerald\", 180)\n",
        "// book2 = Book(\"Pages\", \"HojunLee\", 200)\n",
        "\n",
        "// print(book1)\n",
        "\n",
        "class Book {\n",
        "    constructor(name, author, pages){\n",
        "        this.name = name\n",
        "        this.author = author\n",
        "        this.pages = pages\n",
        "    }\n",
        "\n",
        "    introduce(){\n",
        "        return `이 책의 이름은 ${this.name}이고 이 책의 저는 ${this.author}입니다.`\n",
        "    }\n",
        "}\n",
        "\n",
        "book1 = new Book(\"The Great Gatsby\", \"F. Scott Fitzgerald\", 180)\n",
        "book2 = new Book(\"Pages\", \"HojunLee\", 200)\n",
        "book1.introduce()"
      ]
    },
    {
      "cell_type": "code",
      "execution_count": 4,
      "metadata": {
        "trusted": true
      },
      "outputs": [
        {
          "data": {
            "text/plain": [
              "'내 이름은 냐옹이이야!'"
            ]
          },
          "execution_count": 3,
          "metadata": {},
          "output_type": "execute_result"
        }
      ],
      "source": [
        "class Animal {\n",
        "    constructor(name){\n",
        "        this.name = name\n",
        "    }\n",
        "\n",
        "    say(){\n",
        "        return `내 이름은 ${this.name}이야!`\n",
        "    }\n",
        "}\n",
        "\n",
        "class Dog extends Animal {\n",
        "    constructor(name){\n",
        "        super(name)\n",
        "    }\n",
        "}\n",
        "\n",
        "class Cat extends Animal {\n",
        "    constructor(name){\n",
        "        super(name)\n",
        "    }\n",
        "}\n",
        "\n",
        "개 = new Dog(\"흰둥이\")\n",
        "고양이 = new Cat(\"냐옹이\")\n",
        "\n",
        "개.say()\n",
        "고양이.say()"
      ]
    },
    {
      "cell_type": "code",
      "execution_count": 5,
      "metadata": {
        "trusted": true
      },
      "outputs": [
        {
          "data": {
            "text/plain": [
              "'냐옹!'"
            ]
          },
          "execution_count": 4,
          "metadata": {},
          "output_type": "execute_result"
        }
      ],
      "source": [
        "class Animal {\n",
        "    constructor(name){\n",
        "        this.name = name\n",
        "    }\n",
        "\n",
        "    say(){\n",
        "        return `내 이름은 ${this.name}이야!`\n",
        "    }\n",
        "}\n",
        "\n",
        "class Dog extends Animal {\n",
        "    constructor(name){\n",
        "        super(name)\n",
        "    }\n",
        "    say(){\n",
        "        return `멍멍!`\n",
        "    }\n",
        "}\n",
        "\n",
        "class Cat extends Animal {\n",
        "    constructor(name){\n",
        "        super(name)\n",
        "    }\n",
        "    say(){\n",
        "        return `냐옹!`\n",
        "    }\n",
        "}\n",
        "\n",
        "개 = new Dog(\"흰둥이\")\n",
        "고양이 = new Cat(\"냐옹이\")\n",
        "\n",
        "개.say()\n",
        "고양이.say()"
      ]
    },
    {
      "cell_type": "code",
      "execution_count": null,
      "metadata": {
        "trusted": true
      },
      "outputs": [],
      "source": [
        "class Robot {\n",
        "  #password;\n",
        "\n",
        "  constructor(name, pw) {\n",
        "    this.name = name;\n",
        "    this.#password = pw;\n",
        "  }\n",
        "\n",
        "  sayYourName() {\n",
        "    console.log(`삐리비리. 제 이름은 ${this.name}입니다. 주인님.`);\n",
        "  }\n",
        "\n",
        "  get password() {\n",
        "    console.log('get password 호출')\n",
        "    return this.#password;\n",
        "  }\n",
        "\n",
        "  set password(pw) {\n",
        "    console.log('set password 호출')\n",
        "    this.#password = pw;\n",
        "  }\n",
        "}\n",
        "\n",
        "// get과 set사용\n",
        "const bot = new Robot('재현', 1234);\n",
        "\n",
        "console.log(bot.password); // 1234\n",
        "bot.password = 5678;\n",
        "console.log(bot.password); // 5678"
      ]
    }
  ],
  "metadata": {
    "kernelspec": {
      "display_name": "JavaScript (Web Worker)",
      "language": "javascript",
      "name": "javascript"
    },
    "language_info": {
      "codemirror_mode": {
        "name": "javascript"
      },
      "file_extension": ".js",
      "mimetype": "text/javascript",
      "name": "javascript",
      "nbconvert_exporter": "javascript",
      "pygments_lexer": "javascript",
      "version": "es2017"
    }
  },
  "nbformat": 4,
  "nbformat_minor": 4
}
