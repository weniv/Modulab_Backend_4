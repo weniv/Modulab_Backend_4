{
  "nbformat": 4,
  "nbformat_minor": 0,
  "metadata": {
    "colab": {
      "provenance": []
    },
    "kernelspec": {
      "name": "python3",
      "display_name": "Python 3"
    },
    "language_info": {
      "name": "python"
    }
  },
  "cells": [
    {
      "cell_type": "markdown",
      "source": [
        "* colab에 좋은 점: 시각화가 잘 되어 있고, 설치가 필요 없고, 학습을 빠르게 할 수 있다.\n",
        "* .py에 좋은 점: 실무에서는 colab으로 개발하는 것이 아닙니다! .py로 만들어서 개발해야 합니다."
      ],
      "metadata": {
        "id": "VAOo9cTmZPA4"
      }
    },
    {
      "cell_type": "markdown",
      "source": [
        "# colab\n",
        "\n",
        "- google id만 있으면 ram을 12G, disk를 100G나 되는 원격 컴퓨터를 무료로 준다!\n",
        "- 여기에는 Python 환경이 모두 설정이 되어 있어서 별도의 설정이 필요 없다!\n",
        "- google drive가 자동 연동되어서 별도로 다운로드 해서 저장할 필요가 없다!\n",
        "- Ctrl + Enter: 현재 셀 실행\n",
        "- Alt + Enter: 현재 셀 실행 + 아래 셀 하나 만들기"
      ],
      "metadata": {
        "id": "f53lgqqhIoK1"
      }
    },
    {
      "cell_type": "markdown",
      "source": [
        "## 마크업과 마크다운\n",
        "\n",
        "```\n",
        "- HTML은 웹 브라우저나 고급 문서를 표현\n",
        "<h1>hello world</h1>\n",
        "<h2>hello world</h2>\n",
        "<p>hello world</p>\n",
        "\n",
        "- Markdown은 서식이 필요치 않은 문서를 표현\n",
        "# hello world\n",
        "## hello world\n",
        "```\n",
        "\n",
        "## 마크 다운 문법(우리가 사용할 문법)\n",
        "\n",
        "```\n",
        "# hello world\n",
        "## hello world\n",
        "### hello world\n",
        "\n",
        "- hello world\n",
        "- hello world\n",
        "- hello world\n",
        "\n",
        "1. hello world\n",
        "2. hello world\n",
        "3. hello world\n",
        "```"
      ],
      "metadata": {
        "id": "NxQ1delAFROL"
      }
    },
    {
      "cell_type": "markdown",
      "source": [
        "# range"
      ],
      "metadata": {
        "id": "IeDLJCj3QY58"
      }
    },
    {
      "cell_type": "code",
      "source": [
        "range(1, 10, 2) # start, stop, step"
      ],
      "metadata": {
        "id": "j_LUTKCpZ6Fq"
      },
      "execution_count": null,
      "outputs": []
    },
    {
      "cell_type": "code",
      "execution_count": null,
      "metadata": {
        "colab": {
          "base_uri": "https://localhost:8080/"
        },
        "id": "2JE6SzafCBkD",
        "outputId": "16ff33a8-af98-414a-81e4-47298b516db7"
      },
      "outputs": [
        {
          "output_type": "execute_result",
          "data": {
            "text/plain": [
              "[10, 20, 30, 40]"
            ]
          },
          "metadata": {},
          "execution_count": 1
        }
      ],
      "source": [
        "l = [10, 20, 30, 40]\n",
        "l # 이렇게 마지막 라인에 한하여 print를 안해도 출력이 됩니다."
      ]
    },
    {
      "cell_type": "code",
      "source": [
        "range(0, 10)\n",
        "# [0, 1, 2, 3, 4, 5, 6, 7, 8, 9] # 아니? 이렇게 왜 안나오는거지?"
      ],
      "metadata": {
        "colab": {
          "base_uri": "https://localhost:8080/"
        },
        "id": "8v1f7fDmJw0x",
        "outputId": "c8eceee3-e386-4603-a888-76ce6231ded3"
      },
      "execution_count": null,
      "outputs": [
        {
          "output_type": "execute_result",
          "data": {
            "text/plain": [
              "range(0, 10)"
            ]
          },
          "metadata": {},
          "execution_count": 2
        }
      ]
    },
    {
      "cell_type": "code",
      "source": [
        "# range()는 python 2.x에서는 list였습니다!!!!?\n",
        "type(range(0, 10)) # 왜 range라는 타입일까요?"
      ],
      "metadata": {
        "colab": {
          "base_uri": "https://localhost:8080/"
        },
        "id": "jn8MOgFHKe5_",
        "outputId": "0dca8c06-2f70-4986-d74c-51f40bfa5e1d"
      },
      "execution_count": null,
      "outputs": [
        {
          "output_type": "execute_result",
          "data": {
            "text/plain": [
              "range"
            ]
          },
          "metadata": {},
          "execution_count": 4
        }
      ]
    },
    {
      "cell_type": "code",
      "source": [
        "# 파이썬은 속도를 올리기 위한 작업을 매 버전마다 해왔습니다.\n",
        "# 그래서 최종 목표는 C의 속도를 따라잡는 것입니다.\n",
        "# range(10000000000000000) 이렇게 데이터를 생성한다고 생각해보세요.\n",
        "# 0 ~ 10000000000000000에 숫자를 모두 메모리에 올려야 합니다.\n",
        "# xrange()라는 것을 만들어서 이를 해결했습니다.\n",
        "# xrange는 숫자를 생성하지 않고, start, stop, step 값으로 호출을 할 때 하나씩 생성을 하는 방식을 새롭게 도입했습니다.\n",
        "# xrange가 3.x로 오면서 range가 된 것입니다!"
      ],
      "metadata": {
        "id": "FjJ2iVzJLDBV"
      },
      "execution_count": null,
      "outputs": []
    },
    {
      "cell_type": "code",
      "source": [
        "# range()의 인덱싱\n",
        "range(100)[3]\n",
        "range(100, 1000, 100)[3]"
      ],
      "metadata": {
        "colab": {
          "base_uri": "https://localhost:8080/"
        },
        "id": "R3eC49kxPdvM",
        "outputId": "8faa93eb-fa13-4c6c-99c2-6f66061173d5"
      },
      "execution_count": null,
      "outputs": [
        {
          "output_type": "execute_result",
          "data": {
            "text/plain": [
              "400"
            ]
          },
          "metadata": {},
          "execution_count": 10
        }
      ]
    },
    {
      "cell_type": "code",
      "source": [
        "# range()의 슬라이싱\n",
        "range(100)[1:10]"
      ],
      "metadata": {
        "colab": {
          "base_uri": "https://localhost:8080/"
        },
        "id": "1xqs28WGPhYp",
        "outputId": "8c889a22-7ba2-496a-b9c9-98f12b8cec00"
      },
      "execution_count": null,
      "outputs": [
        {
          "output_type": "execute_result",
          "data": {
            "text/plain": [
              "range(1, 10)"
            ]
          },
          "metadata": {},
          "execution_count": 9
        }
      ]
    },
    {
      "cell_type": "code",
      "source": [
        "# range의 step 음수 값\n",
        "list(range(100, 9, -10))"
      ],
      "metadata": {
        "colab": {
          "base_uri": "https://localhost:8080/"
        },
        "id": "rWOT9629P6Od",
        "outputId": "02fac8cd-f33c-4f31-9cbf-40fe37fb30ac"
      },
      "execution_count": null,
      "outputs": [
        {
          "output_type": "execute_result",
          "data": {
            "text/plain": [
              "[100, 90, 80, 70, 60, 50, 40, 30, 20, 10]"
            ]
          },
          "metadata": {},
          "execution_count": 13
        }
      ]
    },
    {
      "cell_type": "markdown",
      "source": [
        "# function"
      ],
      "metadata": {
        "id": "xhjY56T9Qfzk"
      }
    },
    {
      "cell_type": "code",
      "source": [
        "# function이라는 것이 왜 필요했을까?\n",
        "# 첫번째 이유\n",
        "\n",
        "x = 10 # 이 코드가 반복되니 이 코드의 이름을 hello라고 하고, 이 코드 자리에 hello를 놓자!\n",
        "y = 20\n",
        "print(x + y)\n",
        "\n",
        "a = 10\n",
        "\n",
        "x = 10\n",
        "y = 20\n",
        "print(x + y)\n",
        "\n",
        "b = 20\n",
        "\n",
        "x = 10\n",
        "y = 20\n",
        "print(x + y)\n",
        "\n",
        "a + b\n",
        "\n",
        "x = 10\n",
        "y = 20\n",
        "print(x + y)\n",
        "\n",
        "a - b\n",
        "\n",
        "x = 10\n",
        "y = 20\n",
        "print(x + y)"
      ],
      "metadata": {
        "id": "h8TlKZa45HOE"
      },
      "execution_count": null,
      "outputs": []
    },
    {
      "cell_type": "code",
      "source": [
        "# function이라는 것이 왜 필요했을까?\n",
        "# 반복되는 코드가 줄어들었다!\n",
        "\n",
        "def hello():\n",
        "    x = 10\n",
        "    y = 20\n",
        "    print(x + y)\n",
        "\n",
        "hello()\n",
        "a = 10\n",
        "hello()\n",
        "b = 20\n",
        "hello()\n",
        "a + b\n",
        "hello()\n",
        "a - b\n",
        "hello()"
      ],
      "metadata": {
        "id": "JxFzZ4gk5uvg"
      },
      "execution_count": null,
      "outputs": []
    },
    {
      "cell_type": "code",
      "source": [
        "# 두 번째 이유\n",
        "# 수만줄의 코드도 아래와 같이 함수로 쌓여있으면 '구조를 파악'하기 쉽습니다.\n",
        "\n",
        "땅파기()\n",
        "땅다지기()\n",
        "상하수도설치()\n",
        "벽돌쌓기()\n",
        "지붕올리기()\n",
        "내부인테리어()"
      ],
      "metadata": {
        "id": "ST1fCcD85_h7"
      },
      "execution_count": null,
      "outputs": []
    },
    {
      "cell_type": "code",
      "source": [
        "# 세 번째 이유\n",
        "# 알지 않아도 되는 코드를 들여다보지 않을 수 있어요.\n",
        "# 추상화\n",
        "# 여러분이 자동차를 운전할 때 자동차 패달을 밟는다 해서\n",
        "# 엔진을 뜯어볼 필요가 있나요?\n",
        "# 파이썬에서 추상화란 복잡한 내부 구현을 숨기고\n",
        "# 필요한 기능만 외부에 노출시켜 코드를 더 이해하기 쉽고 사용하기 편리하게 만드는 개념입니다.\n",
        "\n",
        "땅파기()\n",
        "땅다지기()\n",
        "상하수도설치()\n",
        "벽돌쌓기() # 내 과업은 벽돌 쌓기를 수정하는 것입니다.\n",
        "지붕올리기()\n",
        "내부인테리어()"
      ],
      "metadata": {
        "id": "7z-hkWQt6XjZ"
      },
      "execution_count": null,
      "outputs": []
    },
    {
      "cell_type": "code",
      "source": [
        "def hello():\n",
        "    x = 10\n",
        "    y = 20\n",
        "    return x + y"
      ],
      "metadata": {
        "id": "2hiRaLqNQjSr"
      },
      "execution_count": null,
      "outputs": []
    },
    {
      "cell_type": "code",
      "source": [
        "# 파라미터와 아규먼트\n",
        "\n",
        "def xysum(x, y): # 함수를 정의하는 부분\n",
        "    return x + y\n",
        "\n",
        "xysum(10, 20) # 함수를 호출하는 부분"
      ],
      "metadata": {
        "id": "ND9mSmYU7joR"
      },
      "execution_count": null,
      "outputs": []
    },
    {
      "cell_type": "code",
      "source": [
        "# 파선아실(파라미터는 선언할 때, 아규먼트는 실행할 때)\n",
        "\n",
        "def xysum(x, y): # 함수를 정의하는 부분\n",
        "    return x + y\n",
        "\n",
        "xysum(10, 20) # 함수를 호출하는 부분"
      ],
      "metadata": {
        "id": "q7Wg9YFS8Uxm"
      },
      "execution_count": null,
      "outputs": []
    },
    {
      "cell_type": "code",
      "source": [
        "def xysum(x, y):\n",
        "    return x + y # 나를 호출한 곳에 그대로 이 값을 넣어주세요!\n",
        "\n",
        "result = xysum(10, 20) + xysum(30, 40) + xysum(50, 60)\n",
        "result"
      ],
      "metadata": {
        "colab": {
          "base_uri": "https://localhost:8080/"
        },
        "id": "fxkvVcaW89rl",
        "outputId": "19b97091-2014-4dcb-bd7c-eb352306fa3a"
      },
      "execution_count": null,
      "outputs": [
        {
          "output_type": "execute_result",
          "data": {
            "text/plain": [
              "210"
            ]
          },
          "metadata": {},
          "execution_count": 75
        }
      ]
    },
    {
      "cell_type": "code",
      "source": [
        "def xysum(x, y):\n",
        "    print(x + y)\n",
        "\n",
        "result = xysum(10, 20) + xysum(30, 40) + xysum(50, 60)\n",
        "result"
      ],
      "metadata": {
        "colab": {
          "base_uri": "https://localhost:8080/",
          "height": 240
        },
        "id": "M6nRulLX9QZm",
        "outputId": "722dbf8b-74c5-4a11-8747-f01572440695"
      },
      "execution_count": null,
      "outputs": [
        {
          "output_type": "stream",
          "name": "stdout",
          "text": [
            "30\n",
            "70\n"
          ]
        },
        {
          "output_type": "error",
          "ename": "TypeError",
          "evalue": "unsupported operand type(s) for +: 'NoneType' and 'NoneType'",
          "traceback": [
            "\u001b[0;31m---------------------------------------------------------------------------\u001b[0m",
            "\u001b[0;31mTypeError\u001b[0m                                 Traceback (most recent call last)",
            "\u001b[0;32m<ipython-input-76-b99c82da7dd0>\u001b[0m in \u001b[0;36m<cell line: 0>\u001b[0;34m()\u001b[0m\n\u001b[1;32m      2\u001b[0m     \u001b[0mprint\u001b[0m\u001b[0;34m(\u001b[0m\u001b[0mx\u001b[0m \u001b[0;34m+\u001b[0m \u001b[0my\u001b[0m\u001b[0;34m)\u001b[0m\u001b[0;34m\u001b[0m\u001b[0;34m\u001b[0m\u001b[0m\n\u001b[1;32m      3\u001b[0m \u001b[0;34m\u001b[0m\u001b[0m\n\u001b[0;32m----> 4\u001b[0;31m \u001b[0mresult\u001b[0m \u001b[0;34m=\u001b[0m \u001b[0mxysum\u001b[0m\u001b[0;34m(\u001b[0m\u001b[0;36m10\u001b[0m\u001b[0;34m,\u001b[0m \u001b[0;36m20\u001b[0m\u001b[0;34m)\u001b[0m \u001b[0;34m+\u001b[0m \u001b[0mxysum\u001b[0m\u001b[0;34m(\u001b[0m\u001b[0;36m30\u001b[0m\u001b[0;34m,\u001b[0m \u001b[0;36m40\u001b[0m\u001b[0;34m)\u001b[0m \u001b[0;34m+\u001b[0m \u001b[0mxysum\u001b[0m\u001b[0;34m(\u001b[0m\u001b[0;36m50\u001b[0m\u001b[0;34m,\u001b[0m \u001b[0;36m60\u001b[0m\u001b[0;34m)\u001b[0m\u001b[0;34m\u001b[0m\u001b[0;34m\u001b[0m\u001b[0m\n\u001b[0m\u001b[1;32m      5\u001b[0m \u001b[0mresult\u001b[0m\u001b[0;34m\u001b[0m\u001b[0;34m\u001b[0m\u001b[0m\n",
            "\u001b[0;31mTypeError\u001b[0m: unsupported operand type(s) for +: 'NoneType' and 'NoneType'"
          ]
        }
      ]
    },
    {
      "cell_type": "code",
      "source": [
        "None\n",
        "print(None)"
      ],
      "metadata": {
        "colab": {
          "base_uri": "https://localhost:8080/"
        },
        "id": "3p2ZE0FA9v7l",
        "outputId": "1064e528-72f2-40a3-f2e6-c2b84a9a2a85"
      },
      "execution_count": null,
      "outputs": [
        {
          "output_type": "stream",
          "name": "stdout",
          "text": [
            "None\n"
          ]
        }
      ]
    },
    {
      "cell_type": "code",
      "source": [
        "def a(x, y):\n",
        "    z = x + y\n",
        "\n",
        "print(a(10, 20))"
      ],
      "metadata": {
        "colab": {
          "base_uri": "https://localhost:8080/"
        },
        "id": "YNdn_1t89nOo",
        "outputId": "bf31c0ab-4bc7-43f2-e5c5-9a77c4f4ad67"
      },
      "execution_count": null,
      "outputs": [
        {
          "output_type": "stream",
          "name": "stdout",
          "text": [
            "None\n"
          ]
        }
      ]
    },
    {
      "cell_type": "code",
      "source": [
        "def a(x, y):\n",
        "    z = x + y\n",
        "    return None\n",
        "\n",
        "print(a(10, 20))"
      ],
      "metadata": {
        "colab": {
          "base_uri": "https://localhost:8080/"
        },
        "id": "4R5zEZnY95FL",
        "outputId": "a79733df-6ca0-43d9-ba53-457f298353f3"
      },
      "execution_count": null,
      "outputs": [
        {
          "output_type": "stream",
          "name": "stdout",
          "text": [
            "None\n"
          ]
        }
      ]
    },
    {
      "cell_type": "code",
      "source": [
        "print(print(print('hello')))"
      ],
      "metadata": {
        "colab": {
          "base_uri": "https://localhost:8080/"
        },
        "id": "lYTQTNkI9-pQ",
        "outputId": "6e4fcba2-13bf-49b4-b52a-bb19227321ee"
      },
      "execution_count": null,
      "outputs": [
        {
          "output_type": "stream",
          "name": "stdout",
          "text": [
            "hello\n",
            "None\n",
            "None\n"
          ]
        }
      ]
    },
    {
      "cell_type": "code",
      "source": [
        "# 파라미터가 있는 함수\n",
        "def hello(a):\n",
        "    return a\n",
        "\n",
        "# 파라미터가 없는 함수\n",
        "def hello():\n",
        "    return 'hello world'"
      ],
      "metadata": {
        "id": "CxZcXtrm-9_B"
      },
      "execution_count": null,
      "outputs": []
    },
    {
      "cell_type": "code",
      "source": [
        "# 리턴값이 있는 함수\n",
        "def add(a, b):\n",
        "    return a + b\n",
        "\n",
        "# 리턴값이 없는 함수\n",
        "def add(a, b):\n",
        "    print(a + b)"
      ],
      "metadata": {
        "id": "H5Hx1nQj_E7A"
      },
      "execution_count": null,
      "outputs": []
    },
    {
      "cell_type": "code",
      "source": [
        "# 문제1: 2x + 15 방정식이 주어졌을 때, x값이 10일때 y값이 얼마인지 구하는 함수를 만드세요.\n",
        "\n",
        "def solution(x):\n",
        "    return 2 * x + 15\n",
        "\n",
        "solution(10)"
      ],
      "metadata": {
        "colab": {
          "base_uri": "https://localhost:8080/"
        },
        "id": "nYZ5I1lz_thv",
        "outputId": "fd35929e-8829-49b4-d004-64a9cfb9d83c"
      },
      "execution_count": null,
      "outputs": [
        {
          "output_type": "execute_result",
          "data": {
            "text/plain": [
              "35"
            ]
          },
          "metadata": {},
          "execution_count": 89
        }
      ]
    },
    {
      "cell_type": "code",
      "source": [
        "# map을 아직 안배웠어요!\n",
        "# map은 나중에 할 예정입니다. 지금 이 코드는 '어떻게 활용하는가?'에 대한 얘기입니다.\n",
        "list(map(solution, range(10)))"
      ],
      "metadata": {
        "colab": {
          "base_uri": "https://localhost:8080/"
        },
        "id": "-vU2HUsvJ5Y5",
        "outputId": "7024e4c0-6269-4d95-88aa-f10f22e55fa4"
      },
      "execution_count": null,
      "outputs": [
        {
          "output_type": "execute_result",
          "data": {
            "text/plain": [
              "[15, 17, 19, 21, 23, 25, 27, 29, 31, 33]"
            ]
          },
          "metadata": {},
          "execution_count": 91
        }
      ]
    },
    {
      "cell_type": "code",
      "source": [
        "# 실제 모의 주식 그래프는 아래와 같이 그립니다.\n",
        "import random\n",
        "\n",
        "l = [15, 17, 19, 21, 23, 25, 27, 29, 31, 33]\n",
        "result = []\n",
        "for i in l:\n",
        "    result = result + [i + random.randint(-5, 5)]\n",
        "result"
      ],
      "metadata": {
        "colab": {
          "base_uri": "https://localhost:8080/"
        },
        "id": "-bXF1swKKS3t",
        "outputId": "96a906f4-49fc-4ed3-e91a-4c894ddc3cc8"
      },
      "execution_count": null,
      "outputs": [
        {
          "output_type": "execute_result",
          "data": {
            "text/plain": [
              "[15, 12, 22, 26, 20, 22, 22, 28, 29, 37]"
            ]
          },
          "metadata": {},
          "execution_count": 88
        }
      ]
    },
    {
      "cell_type": "code",
      "source": [
        "# 문제2: [10, 20, 30] + [1, 2, 3]이라고 했을 때 이 두 행렬을 요소별로 더하는 함수를 만드세요.\n",
        "\n",
        "def solution(a, b):\n",
        "    for i, v in enumerate(a):\n",
        "        a[i] = v + b[i]\n",
        "    return a\n",
        "\n",
        "solution([10, 20, 30], [1, 2, 3])"
      ],
      "metadata": {
        "colab": {
          "base_uri": "https://localhost:8080/"
        },
        "id": "_z_jQHhUAMNi",
        "outputId": "92659c31-31d7-435f-fa48-2f19b3ef1a20"
      },
      "execution_count": null,
      "outputs": [
        {
          "output_type": "execute_result",
          "data": {
            "text/plain": [
              "[11, 22, 33]"
            ]
          },
          "metadata": {},
          "execution_count": 93
        }
      ]
    },
    {
      "cell_type": "code",
      "source": [
        "# 문제2: [10, 20, 30] + [1, 2, 3]이라고 했을 때 이 두 행렬을 요소별로 더하는 함수를 만드세요.\n",
        "# 관습적으로 안쓰는 코드는 변수 _ 에 할당합니다.\n",
        "\n",
        "def solution(a, b):\n",
        "    result = []\n",
        "    for i, _ in enumerate(a):\n",
        "        result.append(a[i] + b[i])\n",
        "    return result\n",
        "\n",
        "solution([10, 20, 30], [1, 2, 3])"
      ],
      "metadata": {
        "colab": {
          "base_uri": "https://localhost:8080/"
        },
        "id": "ovtYZbi2MYUO",
        "outputId": "3de67494-9da4-4607-c68d-3755250920ce"
      },
      "execution_count": null,
      "outputs": [
        {
          "output_type": "execute_result",
          "data": {
            "text/plain": [
              "[11, 22, 33]"
            ]
          },
          "metadata": {},
          "execution_count": 95
        }
      ]
    },
    {
      "cell_type": "code",
      "source": [
        "list(enumerate({'one':100, 'two':200}))"
      ],
      "metadata": {
        "colab": {
          "base_uri": "https://localhost:8080/"
        },
        "id": "PaRpVqudNNHG",
        "outputId": "ad8537d6-80c3-41bb-e294-d9f60f03158e"
      },
      "execution_count": null,
      "outputs": [
        {
          "output_type": "execute_result",
          "data": {
            "text/plain": [
              "[(0, 'one'), (1, 'two')]"
            ]
          },
          "metadata": {},
          "execution_count": 97
        }
      ]
    },
    {
      "cell_type": "code",
      "source": [
        "# 문제2: [10, 20, 30] + [1, 2, 3]이라고 했을 때 이 두 행렬을 요소별로 더하는 함수를 만드세요.\n",
        "# 좀 더 우아한 풀이\n",
        "\n",
        "def solution(a, b):\n",
        "    return list(map(sum, (zip([10, 20, 30], [1, 2, 3]))))\n",
        "\n",
        "solution([10, 20, 30], [1, 2, 3])"
      ],
      "metadata": {
        "id": "NOV85P7pNejM"
      },
      "execution_count": null,
      "outputs": []
    },
    {
      "cell_type": "code",
      "source": [
        "# 문제3: 행렬(리스트의 리스트)의 모든 요소에 특정 숫자를 곱하는 함수를 만드세요.\n",
        "# 예: [1, 2, 3, 4] * 2 = [2, 4, 6, 8]\n",
        "\n",
        "def solution(matrix, multiplier):\n",
        "    result = []\n",
        "    for i in matrix:\n",
        "        result.append(i * multiplier)\n",
        "    return result\n",
        "\n",
        "solution([1, 2, 3, 4], 2)"
      ],
      "metadata": {
        "colab": {
          "base_uri": "https://localhost:8080/"
        },
        "id": "wUWRkAhfAkwc",
        "outputId": "24062e54-e9db-4a55-e9cb-2edb07d74cc4"
      },
      "execution_count": null,
      "outputs": [
        {
          "output_type": "execute_result",
          "data": {
            "text/plain": [
              "[2, 4, 6, 8]"
            ]
          },
          "metadata": {},
          "execution_count": 101
        }
      ]
    },
    {
      "cell_type": "code",
      "source": [
        "# 문제3: 행렬(리스트의 리스트)의 모든 요소에 특정 숫자를 곱하는 함수를 만드세요.\n",
        "# 예: [1, 2, 3, 4] * 2 = [2, 4, 6, 8]\n",
        "\n",
        "def solution(matrix, multiplier):\n",
        "    return [i * multiplier for i in matrix]\n",
        "\n",
        "solution([1, 2, 3, 4], 2)"
      ],
      "metadata": {
        "colab": {
          "base_uri": "https://localhost:8080/"
        },
        "id": "a24lE_BJOtoY",
        "outputId": "c55ad461-cb2e-48b4-e1db-44f368bf254c"
      },
      "execution_count": null,
      "outputs": [
        {
          "output_type": "execute_result",
          "data": {
            "text/plain": [
              "[2, 4, 6, 8]"
            ]
          },
          "metadata": {},
          "execution_count": 102
        }
      ]
    },
    {
      "cell_type": "code",
      "source": [
        "s = []\n",
        "for i in range(1, 10, 2):\n",
        "    s.append(i)\n",
        "s"
      ],
      "metadata": {
        "colab": {
          "base_uri": "https://localhost:8080/"
        },
        "id": "VzmT-MUaPQeW",
        "outputId": "3c364a26-eede-4a09-97ea-d2767ec55209"
      },
      "execution_count": null,
      "outputs": [
        {
          "output_type": "execute_result",
          "data": {
            "text/plain": [
              "[1, 3, 5, 7, 9]"
            ]
          },
          "metadata": {},
          "execution_count": 103
        }
      ]
    },
    {
      "cell_type": "code",
      "source": [
        "[i for i in range(1, 10, 2)]"
      ],
      "metadata": {
        "colab": {
          "base_uri": "https://localhost:8080/"
        },
        "id": "POOyEQF8PWht",
        "outputId": "bdfe10d7-faab-47f0-8887-388fa98dc1cc"
      },
      "execution_count": null,
      "outputs": [
        {
          "output_type": "execute_result",
          "data": {
            "text/plain": [
              "[1, 3, 5, 7, 9]"
            ]
          },
          "metadata": {},
          "execution_count": 104
        }
      ]
    },
    {
      "cell_type": "code",
      "source": [
        "# 아래와 같은 코드는 가독성이 떨어지기 때문에 좋은 코드라고 보기 어렵습니다.\n",
        "# 파이썬에서는 읽기 좋은 코드에 가치를 높게 평가합니다!\n",
        "[f'{i} X {j} = {i * j}' for i in range(2, 10) for j in range(1, 10)]"
      ],
      "metadata": {
        "colab": {
          "base_uri": "https://localhost:8080/"
        },
        "id": "yX7fxjFgPnpi",
        "outputId": "b2d7b115-a451-4d97-cf0e-0371a95349c4"
      },
      "execution_count": null,
      "outputs": [
        {
          "output_type": "execute_result",
          "data": {
            "text/plain": [
              "['2 X 1 = 2',\n",
              " '2 X 2 = 4',\n",
              " '2 X 3 = 6',\n",
              " '2 X 4 = 8',\n",
              " '2 X 5 = 10',\n",
              " '2 X 6 = 12',\n",
              " '2 X 7 = 14',\n",
              " '2 X 8 = 16',\n",
              " '2 X 9 = 18',\n",
              " '3 X 1 = 3',\n",
              " '3 X 2 = 6',\n",
              " '3 X 3 = 9',\n",
              " '3 X 4 = 12',\n",
              " '3 X 5 = 15',\n",
              " '3 X 6 = 18',\n",
              " '3 X 7 = 21',\n",
              " '3 X 8 = 24',\n",
              " '3 X 9 = 27',\n",
              " '4 X 1 = 4',\n",
              " '4 X 2 = 8',\n",
              " '4 X 3 = 12',\n",
              " '4 X 4 = 16',\n",
              " '4 X 5 = 20',\n",
              " '4 X 6 = 24',\n",
              " '4 X 7 = 28',\n",
              " '4 X 8 = 32',\n",
              " '4 X 9 = 36',\n",
              " '5 X 1 = 5',\n",
              " '5 X 2 = 10',\n",
              " '5 X 3 = 15',\n",
              " '5 X 4 = 20',\n",
              " '5 X 5 = 25',\n",
              " '5 X 6 = 30',\n",
              " '5 X 7 = 35',\n",
              " '5 X 8 = 40',\n",
              " '5 X 9 = 45',\n",
              " '6 X 1 = 6',\n",
              " '6 X 2 = 12',\n",
              " '6 X 3 = 18',\n",
              " '6 X 4 = 24',\n",
              " '6 X 5 = 30',\n",
              " '6 X 6 = 36',\n",
              " '6 X 7 = 42',\n",
              " '6 X 8 = 48',\n",
              " '6 X 9 = 54',\n",
              " '7 X 1 = 7',\n",
              " '7 X 2 = 14',\n",
              " '7 X 3 = 21',\n",
              " '7 X 4 = 28',\n",
              " '7 X 5 = 35',\n",
              " '7 X 6 = 42',\n",
              " '7 X 7 = 49',\n",
              " '7 X 8 = 56',\n",
              " '7 X 9 = 63',\n",
              " '8 X 1 = 8',\n",
              " '8 X 2 = 16',\n",
              " '8 X 3 = 24',\n",
              " '8 X 4 = 32',\n",
              " '8 X 5 = 40',\n",
              " '8 X 6 = 48',\n",
              " '8 X 7 = 56',\n",
              " '8 X 8 = 64',\n",
              " '8 X 9 = 72',\n",
              " '9 X 1 = 9',\n",
              " '9 X 2 = 18',\n",
              " '9 X 3 = 27',\n",
              " '9 X 4 = 36',\n",
              " '9 X 5 = 45',\n",
              " '9 X 6 = 54',\n",
              " '9 X 7 = 63',\n",
              " '9 X 8 = 72',\n",
              " '9 X 9 = 81']"
            ]
          },
          "metadata": {},
          "execution_count": 106
        }
      ]
    },
    {
      "cell_type": "code",
      "source": [
        "# 문제4: 프로그래머스(카카오 코딩 테스트 보는 공간)에 문제 하나 풀어보세요.\n",
        "# 기업에서 이런식으로 알고리즘 테스트가 나옵니다.\n",
        "# https://school.programmers.co.kr/learn/courses/30/lessons/181928\n",
        "\n",
        "def solution(num_list):\n",
        "    짝수 = ''\n",
        "    홀수 = ''\n",
        "    for i in num_list:\n",
        "        if i % 2 == 0:\n",
        "            짝수 += str(i)\n",
        "        else:\n",
        "            홀수 += str(i)\n",
        "    answer = int(짝수) + int(홀수)\n",
        "    return answer\n",
        "\n",
        "solution([3, 4, 5, 2, 1])"
      ],
      "metadata": {
        "colab": {
          "base_uri": "https://localhost:8080/"
        },
        "id": "XfLQsm4vB7yv",
        "outputId": "1d1564c2-1e7a-4ec5-cf62-3b316a4eba3b"
      },
      "execution_count": null,
      "outputs": [
        {
          "output_type": "execute_result",
          "data": {
            "text/plain": [
              "393"
            ]
          },
          "metadata": {},
          "execution_count": 107
        }
      ]
    },
    {
      "cell_type": "code",
      "source": [
        "# 파라미터에 기본값이 정해져 있는 경우!\n",
        "\n",
        "def add(x = 10, y = 20):\n",
        "    return x + y\n",
        "\n",
        "add()"
      ],
      "metadata": {
        "colab": {
          "base_uri": "https://localhost:8080/"
        },
        "id": "opp3WlkiUb4p",
        "outputId": "1e2d7e27-07c4-4a0b-ec02-0a28a7b43852"
      },
      "execution_count": null,
      "outputs": [
        {
          "output_type": "execute_result",
          "data": {
            "text/plain": [
              "30"
            ]
          },
          "metadata": {},
          "execution_count": 108
        }
      ]
    },
    {
      "cell_type": "code",
      "source": [
        "# 지역변수 전역변수\n",
        "\n",
        "x = 10\n",
        "\n",
        "def hello():\n",
        "    print(x) # 밖에 있는 변수는 읽을 수는 있습니다.\n",
        "\n",
        "hello()"
      ],
      "metadata": {
        "colab": {
          "base_uri": "https://localhost:8080/"
        },
        "id": "xxa89h9-Vrzs",
        "outputId": "208d90c5-4cf9-4ce6-fa62-a562007a4358"
      },
      "execution_count": null,
      "outputs": [
        {
          "output_type": "stream",
          "name": "stdout",
          "text": [
            "10\n"
          ]
        }
      ]
    },
    {
      "cell_type": "code",
      "source": [
        "x = 10\n",
        "\n",
        "def hello():\n",
        "    x += 1 # 밖에 있는 변수를 수정할 수는 없습니다.\n",
        "\n",
        "hello()"
      ],
      "metadata": {
        "colab": {
          "base_uri": "https://localhost:8080/",
          "height": 313
        },
        "id": "HsS1gYLqWWKu",
        "outputId": "a8c4cd82-2b71-4a9e-f049-4adec3af7c0a"
      },
      "execution_count": null,
      "outputs": [
        {
          "output_type": "error",
          "ename": "UnboundLocalError",
          "evalue": "cannot access local variable 'x' where it is not associated with a value",
          "traceback": [
            "\u001b[0;31m---------------------------------------------------------------------------\u001b[0m",
            "\u001b[0;31mUnboundLocalError\u001b[0m                         Traceback (most recent call last)",
            "\u001b[0;32m<ipython-input-111-345d6794dc27>\u001b[0m in \u001b[0;36m<cell line: 0>\u001b[0;34m()\u001b[0m\n\u001b[1;32m      4\u001b[0m     \u001b[0mx\u001b[0m \u001b[0;34m+=\u001b[0m \u001b[0;36m1\u001b[0m\u001b[0;34m\u001b[0m\u001b[0;34m\u001b[0m\u001b[0m\n\u001b[1;32m      5\u001b[0m \u001b[0;34m\u001b[0m\u001b[0m\n\u001b[0;32m----> 6\u001b[0;31m \u001b[0mhello\u001b[0m\u001b[0;34m(\u001b[0m\u001b[0;34m)\u001b[0m\u001b[0;34m\u001b[0m\u001b[0;34m\u001b[0m\u001b[0m\n\u001b[0m",
            "\u001b[0;32m<ipython-input-111-345d6794dc27>\u001b[0m in \u001b[0;36mhello\u001b[0;34m()\u001b[0m\n\u001b[1;32m      2\u001b[0m \u001b[0;34m\u001b[0m\u001b[0m\n\u001b[1;32m      3\u001b[0m \u001b[0;32mdef\u001b[0m \u001b[0mhello\u001b[0m\u001b[0;34m(\u001b[0m\u001b[0;34m)\u001b[0m\u001b[0;34m:\u001b[0m\u001b[0;34m\u001b[0m\u001b[0;34m\u001b[0m\u001b[0m\n\u001b[0;32m----> 4\u001b[0;31m     \u001b[0mx\u001b[0m \u001b[0;34m+=\u001b[0m \u001b[0;36m1\u001b[0m\u001b[0;34m\u001b[0m\u001b[0;34m\u001b[0m\u001b[0m\n\u001b[0m\u001b[1;32m      5\u001b[0m \u001b[0;34m\u001b[0m\u001b[0m\n\u001b[1;32m      6\u001b[0m \u001b[0mhello\u001b[0m\u001b[0;34m(\u001b[0m\u001b[0;34m)\u001b[0m\u001b[0;34m\u001b[0m\u001b[0;34m\u001b[0m\u001b[0m\n",
            "\u001b[0;31mUnboundLocalError\u001b[0m: cannot access local variable 'x' where it is not associated with a value"
          ]
        }
      ]
    },
    {
      "cell_type": "code",
      "source": [
        "x = 10 # 전역변수 x 10\n",
        "\n",
        "def hello():\n",
        "    x = 100 # 지역변수 x 100\n",
        "\n",
        "hello()\n",
        "print(x)"
      ],
      "metadata": {
        "colab": {
          "base_uri": "https://localhost:8080/"
        },
        "id": "mcb883BhWpRm",
        "outputId": "9bd16ce8-aba0-43b7-e9a0-fa11f7758710"
      },
      "execution_count": null,
      "outputs": [
        {
          "output_type": "stream",
          "name": "stdout",
          "text": [
            "10\n"
          ]
        }
      ]
    },
    {
      "cell_type": "code",
      "source": [
        "x = 10 # 전역변수 x 10\n",
        "\n",
        "def hello(input_x):\n",
        "    input_x += 10\n",
        "    return input_x\n",
        "\n",
        "x = hello(x) # 초급자의 마음: 아니? 이렇게 불편하게 써야해?\n",
        "print(x)"
      ],
      "metadata": {
        "colab": {
          "base_uri": "https://localhost:8080/"
        },
        "id": "My__sbX7XXXN",
        "outputId": "4ec7c594-4c15-4ef9-a811-a062637e96c5"
      },
      "execution_count": null,
      "outputs": [
        {
          "output_type": "stream",
          "name": "stdout",
          "text": [
            "20\n"
          ]
        }
      ]
    },
    {
      "cell_type": "code",
      "source": [
        "# 초급자의 마음: 이렇게 하면 되잖아!\n",
        "# => 아주 짧은 코드에서는 맞는 얘기지만\n",
        "# 실무에서는 깨끗한 코드, 구조화 되어있는 코드, 견고한 코드가 필요합니다.\n",
        "\n",
        "x = 10\n",
        "x += 10\n",
        "\n",
        "print(x)"
      ],
      "metadata": {
        "colab": {
          "base_uri": "https://localhost:8080/"
        },
        "id": "5eGUbQ0tXi1v",
        "outputId": "f2d7bf63-82eb-4f4d-82e1-0dfc41ec168a"
      },
      "execution_count": null,
      "outputs": [
        {
          "output_type": "stream",
          "name": "stdout",
          "text": [
            "20\n"
          ]
        }
      ]
    },
    {
      "cell_type": "code",
      "source": [
        "# 대부분 아래 코드는 안좋은 사례로 꼽힙니다.\n",
        "\n",
        "x = 10\n",
        "\n",
        "def hello():\n",
        "    global x\n",
        "    x += 100\n",
        "\n",
        "hello()\n",
        "print(x)"
      ],
      "metadata": {
        "id": "wyWAmNDCYGLT"
      },
      "execution_count": null,
      "outputs": []
    },
    {
      "cell_type": "code",
      "source": [
        "# locals()\n",
        "# globals()"
      ],
      "metadata": {
        "id": "FpHj0MYgYxHz"
      },
      "execution_count": null,
      "outputs": []
    },
    {
      "cell_type": "code",
      "source": [
        "def add(a, b):\n",
        "    z = a + b\n",
        "    print(locals())\n",
        "    return z\n",
        "\n",
        "add(10, 20)"
      ],
      "metadata": {
        "colab": {
          "base_uri": "https://localhost:8080/"
        },
        "id": "-bUxGcNwY4ZQ",
        "outputId": "98d9a57f-89ec-4cd3-df0e-2f071e4c30ae"
      },
      "execution_count": null,
      "outputs": [
        {
          "output_type": "stream",
          "name": "stdout",
          "text": [
            "{'a': 10, 'b': 20, 'z': 30}\n"
          ]
        },
        {
          "output_type": "execute_result",
          "data": {
            "text/plain": [
              "30"
            ]
          },
          "metadata": {},
          "execution_count": 118
        }
      ]
    },
    {
      "cell_type": "code",
      "source": [
        "# hello라는 것은 무엇일까?\n",
        "# print라는 것은 무엇일까?\n",
        "\n",
        "# hello든 print든 변수입니다! 함수의 이름은 변수입니다."
      ],
      "metadata": {
        "id": "jxeUYnReQrW2"
      },
      "execution_count": null,
      "outputs": []
    },
    {
      "cell_type": "code",
      "source": [
        "a = print\n",
        "a('hello world')"
      ],
      "metadata": {
        "colab": {
          "base_uri": "https://localhost:8080/"
        },
        "id": "uQTcoT_JQ64E",
        "outputId": "e2bec677-c1a4-4380-c8fb-66ef4d63dacc"
      },
      "execution_count": null,
      "outputs": [
        {
          "output_type": "stream",
          "name": "stdout",
          "text": [
            "hello world\n"
          ]
        }
      ]
    },
    {
      "cell_type": "code",
      "source": [
        "l = [a, a, a, a, a]\n",
        "l[0]('hello')"
      ],
      "metadata": {
        "colab": {
          "base_uri": "https://localhost:8080/"
        },
        "id": "NYQU9-aLRBv3",
        "outputId": "38ad181d-0cb9-4ca5-972b-e7e65bfb664e"
      },
      "execution_count": null,
      "outputs": [
        {
          "output_type": "stream",
          "name": "stdout",
          "text": [
            "hello\n"
          ]
        }
      ]
    },
    {
      "cell_type": "markdown",
      "source": [
        "# 연습문제\n",
        "\n",
        "```\n",
        "# 문제1: 두 수를 더하는 함수를 만드세요.\n",
        "def solution(a, b):\n",
        "    pass\n",
        "\n",
        "solution(5, 3)  # 결과: 8\n",
        "```\n",
        "\n",
        "```\n",
        "# 문제2: 두 수를 곱하는 함수를 만드세요.\n",
        "def solution(a, b):\n",
        "    pass\n",
        "\n",
        "solution(4, 7)  # 결과: 28\n",
        "```\n",
        "\n",
        "```\n",
        "# 문제3: 리스트의 모든 숫자를 더하는 함수를 만드세요.\n",
        "def solution(numbers):\n",
        "    pass\n",
        "\n",
        "solution([1, 2, 3, 4, 5])  # 결과: 15\n",
        "```\n",
        "\n",
        "```\n",
        "# 문제4: 리스트의 평균값을 계산하는 함수를 만드세요.\n",
        "def solution(numbers):\n",
        "    pass\n",
        "\n",
        "solution([10, 20, 30, 40])  # 결과: 25.0\n",
        "```\n",
        "\n",
        "```\n",
        "# 문제5: 문자열의 길이를 반환하는 함수를 만드세요.\n",
        "def solution(text):\n",
        "    pass\n",
        "\n",
        "solution(\"파이썬\")  # 결과: 3\n",
        "```\n",
        "\n",
        "```\n",
        "# 문제6: 리스트에서 가장 큰 수를 찾는 함수를 만드세요.\n",
        "def solution(numbers):\n",
        "    pass\n",
        "\n",
        "solution([7, 12, 3, 8, 4])  # 결과: 12\n",
        "```\n",
        "\n",
        "```\n",
        "# 문제7: 리스트에서 가장 작은 수를 찾는 함수를 만드세요.\n",
        "def solution(numbers):\n",
        "    pass\n",
        "\n",
        "solution([7, 12, 3, 8, 4])  # 결과: 3\n",
        "```\n",
        "\n",
        "```\n",
        "# 문제8: 문자열을 n번 반복하는 함수를 만드세요.\n",
        "def solution(text, n):\n",
        "    pass\n",
        "\n",
        "solution(\"안녕\", 3)  # 결과: \"안녕안녕안녕\"\n",
        "```\n",
        "\n",
        "```\n",
        "# 문제9: 주어진 숫자가 짝수인지 확인하는 함수를 만드세요. (짝수면 True, 홀수면 False 반환)\n",
        "def solution(number):\n",
        "    pass\n",
        "\n",
        "solution(6)  # 결과: True\n",
        "solution(9)  # 결과: False\n",
        "```"
      ],
      "metadata": {
        "id": "IGDu87spfTM-"
      }
    },
    {
      "cell_type": "markdown",
      "source": [
        "# 변수"
      ],
      "metadata": {
        "id": "XAFDXwL1RxmC"
      }
    },
    {
      "cell_type": "code",
      "source": [
        "a = 10\n",
        "b = a\n",
        "c = b\n",
        "\n",
        "c\n",
        "\n",
        "# 화살표는 어떻게 그려지는 것일까요? 답은 2번입니다!\n",
        "# 1번: c -> b -> a -> 10\n",
        "# 2번:\n",
        "#      a -> 10\n",
        "#      b -> 10\n",
        "#      c -> 10"
      ],
      "metadata": {
        "colab": {
          "base_uri": "https://localhost:8080/"
        },
        "id": "RsvymHo5RzGG",
        "outputId": "7c9e1b4b-f3bb-4d7f-bf73-d45b54931f7c"
      },
      "execution_count": null,
      "outputs": [
        {
          "output_type": "execute_result",
          "data": {
            "text/plain": [
              "10"
            ]
          },
          "metadata": {},
          "execution_count": 18
        }
      ]
    },
    {
      "cell_type": "code",
      "source": [
        "# 증명\n",
        "a = 10\n",
        "b = a\n",
        "c = b\n",
        "\n",
        "c"
      ],
      "metadata": {
        "colab": {
          "base_uri": "https://localhost:8080/"
        },
        "id": "TjOnARz-STmf",
        "outputId": "35c01620-9d12-41d3-e517-8957464f4e14"
      },
      "execution_count": null,
      "outputs": [
        {
          "output_type": "execute_result",
          "data": {
            "text/plain": [
              "10"
            ]
          },
          "metadata": {},
          "execution_count": 19
        }
      ]
    },
    {
      "cell_type": "code",
      "source": [
        "b = 100\n",
        "c"
      ],
      "metadata": {
        "colab": {
          "base_uri": "https://localhost:8080/"
        },
        "id": "ubZPRc71SgK6",
        "outputId": "cd43f138-7779-4a6f-8a1a-38827e7064cc"
      },
      "execution_count": null,
      "outputs": [
        {
          "output_type": "execute_result",
          "data": {
            "text/plain": [
              "10"
            ]
          },
          "metadata": {},
          "execution_count": 20
        }
      ]
    },
    {
      "cell_type": "code",
      "source": [
        "a = [1, 2, 3]\n",
        "b = a\n",
        "\n",
        "id(a), id(b)\n",
        "\n",
        "a.append(10)\n",
        "b"
      ],
      "metadata": {
        "colab": {
          "base_uri": "https://localhost:8080/"
        },
        "id": "6BwJjr41kIQr",
        "outputId": "13e0e836-199c-46da-daf4-e23b43465fc3"
      },
      "execution_count": null,
      "outputs": [
        {
          "output_type": "execute_result",
          "data": {
            "text/plain": [
              "[1, 2, 3, 10]"
            ]
          },
          "metadata": {},
          "execution_count": 69
        }
      ]
    },
    {
      "cell_type": "markdown",
      "source": [
        "# type, dir, id\n",
        "\n",
        "- type은 앞으로도 자주 사용됩니다. 왜냐하면 우리가 앞으로 사용할 데이터 자료형은 기본 자료형이 아닌 경우가 많기 때문이에요.\n",
        "- dir은 여러분이 해당 자료형에 있는 속성들을 파악하기 좋습니다.\n",
        "- id는 해당 자료형이 무엇을 가리키고 있는지 확인하기 좋습니다."
      ],
      "metadata": {
        "id": "k7_rTeeLT9rr"
      }
    },
    {
      "cell_type": "code",
      "source": [
        "l = [10, 20, 30, 40]\n",
        "print(type(l)) # print와 print를 안하는 것은 왜 차이가 있죠?"
      ],
      "metadata": {
        "colab": {
          "base_uri": "https://localhost:8080/"
        },
        "id": "f3xZ42SyUA4H",
        "outputId": "026b9d76-b41e-4e1c-ed80-7133f43da3fc"
      },
      "execution_count": null,
      "outputs": [
        {
          "output_type": "stream",
          "name": "stdout",
          "text": [
            "<class 'list'>\n"
          ]
        }
      ]
    },
    {
      "cell_type": "code",
      "source": [
        "print(type(hello))"
      ],
      "metadata": {
        "colab": {
          "base_uri": "https://localhost:8080/"
        },
        "id": "uY1Q_pJ6UgYA",
        "outputId": "899126cd-51ce-44cc-f1da-121ee061a06c"
      },
      "execution_count": null,
      "outputs": [
        {
          "output_type": "stream",
          "name": "stdout",
          "text": [
            "<class 'function'>\n"
          ]
        }
      ]
    },
    {
      "cell_type": "code",
      "source": [
        "a = 10\n",
        "print(type(a))"
      ],
      "metadata": {
        "colab": {
          "base_uri": "https://localhost:8080/"
        },
        "id": "ouxZ8L5zUozt",
        "outputId": "614e4ecc-ff33-4460-93e2-1fd363b96e05"
      },
      "execution_count": null,
      "outputs": [
        {
          "output_type": "stream",
          "name": "stdout",
          "text": [
            "<class 'int'>\n"
          ]
        }
      ]
    },
    {
      "cell_type": "code",
      "source": [
        "print(a)"
      ],
      "metadata": {
        "colab": {
          "base_uri": "https://localhost:8080/"
        },
        "id": "PFojpFdSU9ZD",
        "outputId": "6df4dd1f-0e46-4fcf-d2f0-be153003f1b8"
      },
      "execution_count": null,
      "outputs": [
        {
          "output_type": "stream",
          "name": "stdout",
          "text": [
            "10\n"
          ]
        }
      ]
    },
    {
      "cell_type": "code",
      "source": [
        "# 타입 확인이 이만큼 중요하다는 것을 보여드리기 위한 예제 2개\n",
        "\n",
        "# 예 1) 눈으로 10으로 보인다고 해서 int형이라고 생각하지 마세요.\n",
        "import numpy as np\n",
        "\n",
        "data = np.array(10)\n",
        "print(data)\n",
        "print(type(data))"
      ],
      "metadata": {
        "colab": {
          "base_uri": "https://localhost:8080/"
        },
        "id": "zndBc-j8VHhC",
        "outputId": "d1b3c8d7-98a6-4304-c3e9-d826886de9c6"
      },
      "execution_count": null,
      "outputs": [
        {
          "output_type": "stream",
          "name": "stdout",
          "text": [
            "10\n",
            "<class 'numpy.ndarray'>\n"
          ]
        }
      ]
    },
    {
      "cell_type": "code",
      "source": [
        "# 예 2) 타입을 확인해야 하는 이유는 아래와 같아요. 기본 연산이 다르기 때문이죠.\n",
        "print([1, 2, 3] + [4, 5, 6])\n",
        "print(np.array([1, 2, 3]) + np.array([4, 5, 6]))"
      ],
      "metadata": {
        "colab": {
          "base_uri": "https://localhost:8080/"
        },
        "id": "tXl7HMNdVorg",
        "outputId": "79c8b110-0cad-4ae4-90ad-3001f2890298"
      },
      "execution_count": null,
      "outputs": [
        {
          "output_type": "stream",
          "name": "stdout",
          "text": [
            "[1, 2, 3, 4, 5, 6]\n",
            "[5 7 9]\n"
          ]
        }
      ]
    },
    {
      "cell_type": "code",
      "source": [
        "l = [1, 2, 3, 4]\n",
        "dir(l) # 메서드 + 멤버\n",
        "\n",
        "# 이게 왜 중요할까? 코딩하다가 메서드 까먹을까봐 중요하다고 하신걸까?"
      ],
      "metadata": {
        "colab": {
          "base_uri": "https://localhost:8080/"
        },
        "id": "gSJ22FnHWeHX",
        "outputId": "2ac55c77-6e4b-43b2-9f7f-fdc510f08fec"
      },
      "execution_count": null,
      "outputs": [
        {
          "output_type": "execute_result",
          "data": {
            "text/plain": [
              "['__add__',\n",
              " '__class__',\n",
              " '__class_getitem__',\n",
              " '__contains__',\n",
              " '__delattr__',\n",
              " '__delitem__',\n",
              " '__dir__',\n",
              " '__doc__',\n",
              " '__eq__',\n",
              " '__format__',\n",
              " '__ge__',\n",
              " '__getattribute__',\n",
              " '__getitem__',\n",
              " '__getstate__',\n",
              " '__gt__',\n",
              " '__hash__',\n",
              " '__iadd__',\n",
              " '__imul__',\n",
              " '__init__',\n",
              " '__init_subclass__',\n",
              " '__iter__',\n",
              " '__le__',\n",
              " '__len__',\n",
              " '__lt__',\n",
              " '__mul__',\n",
              " '__ne__',\n",
              " '__new__',\n",
              " '__reduce__',\n",
              " '__reduce_ex__',\n",
              " '__repr__',\n",
              " '__reversed__',\n",
              " '__rmul__',\n",
              " '__setattr__',\n",
              " '__setitem__',\n",
              " '__sizeof__',\n",
              " '__str__',\n",
              " '__subclasshook__',\n",
              " 'append',\n",
              " 'clear',\n",
              " 'copy',\n",
              " 'count',\n",
              " 'extend',\n",
              " 'index',\n",
              " 'insert',\n",
              " 'pop',\n",
              " 'remove',\n",
              " 'reverse',\n",
              " 'sort']"
            ]
          },
          "metadata": {},
          "execution_count": 34
        }
      ]
    },
    {
      "cell_type": "code",
      "source": [
        "# 이 빌트인 펑션이 왜 중요하냐면, 앞으로 여러분들이 만날 자료형들은\n",
        "# 새롭게 만나는 자료형들입니다.\n",
        "# 예를 들어, 아래 타입을 한 번 살펴보도록 하겠습니다.\n",
        "\n",
        "import numpy as np\n",
        "\n",
        "data = np.array([[10, 20, 30], [40, 50, 60]])\n",
        "dir(data)\n",
        "# 아래 목록만 봐도 어떤 자료형인지 짐작할 수 있고\n",
        "# 원하는 메서드를 바로 발견할 수도 있습니다.\n",
        "\n",
        "print(data.T)"
      ],
      "metadata": {
        "colab": {
          "base_uri": "https://localhost:8080/"
        },
        "id": "4ceoeo-0YIsn",
        "outputId": "2de1da11-a242-45a8-f8d5-08bca9027659"
      },
      "execution_count": null,
      "outputs": [
        {
          "output_type": "stream",
          "name": "stdout",
          "text": [
            "[[10 40]\n",
            " [20 50]\n",
            " [30 60]]\n"
          ]
        }
      ]
    },
    {
      "cell_type": "code",
      "source": [
        "# id\n",
        "\n",
        "a = 10\n",
        "b = a\n",
        "c = b\n",
        "\n",
        "# 화살표는 어떻게 그렸죠?\n",
        "id(a), id(b), id(c)\n",
        "\n",
        "# id는 해당 변수가 가리키고 있는 최종 목적지"
      ],
      "metadata": {
        "colab": {
          "base_uri": "https://localhost:8080/"
        },
        "id": "RPP_Nu10dDVr",
        "outputId": "26cb6022-4bdc-4549-b7f8-6e098af84cba"
      },
      "execution_count": null,
      "outputs": [
        {
          "output_type": "execute_result",
          "data": {
            "text/plain": [
              "(10751144, 10751144, 10751144)"
            ]
          },
          "metadata": {},
          "execution_count": 41
        }
      ]
    },
    {
      "cell_type": "code",
      "source": [
        "a = 10\n",
        "b = 10\n",
        "\n",
        "id(a), id(b)\n",
        "\n",
        "# 다른 언어에서는 이 값이 다릅니다! 그러면 파이썬에서는 같은가요? 아니요!\n",
        "# 아니? 아래 같게 나왔는데요?"
      ],
      "metadata": {
        "colab": {
          "base_uri": "https://localhost:8080/"
        },
        "id": "1cjcK-fGdoeW",
        "outputId": "53aa368c-5418-46e1-83b1-0eea6afe64e8"
      },
      "execution_count": null,
      "outputs": [
        {
          "output_type": "execute_result",
          "data": {
            "text/plain": [
              "(10751144, 10751144)"
            ]
          },
          "metadata": {},
          "execution_count": 43
        }
      ]
    },
    {
      "cell_type": "code",
      "source": [
        "a = 10000\n",
        "b = 10000\n",
        "\n",
        "id(a), id(b)\n",
        "\n",
        "# 다르게 나왔네요?"
      ],
      "metadata": {
        "colab": {
          "base_uri": "https://localhost:8080/"
        },
        "id": "pcziOQjVeYo0",
        "outputId": "3ac62a87-d401-4de9-d441-26f94acc0cd8"
      },
      "execution_count": null,
      "outputs": [
        {
          "output_type": "execute_result",
          "data": {
            "text/plain": [
              "(133401993028752, 133401993030096)"
            ]
          },
          "metadata": {},
          "execution_count": 44
        }
      ]
    },
    {
      "cell_type": "markdown",
      "source": [
        "# print와 print를 안하는 것에 차이"
      ],
      "metadata": {
        "id": "H6_7K-8ccqzH"
      }
    },
    {
      "cell_type": "code",
      "source": [
        "# 아직 class를 안배웠지만, 이 차이를 설명하기 위해 잠시 이 코드를 사용하겠습니다.\n",
        "\n",
        "class CustomInt:\n",
        "    def __repr__(self):\n",
        "        return 'hello'\n",
        "\n",
        "    def __str__(self):\n",
        "        return 'hello world'\n",
        "\n",
        "    def __len__(self):\n",
        "        return 100"
      ],
      "metadata": {
        "id": "rHi2aU7ue6Fg"
      },
      "execution_count": null,
      "outputs": []
    },
    {
      "cell_type": "code",
      "source": [
        "a = CustomInt()\n",
        "\n",
        "a"
      ],
      "metadata": {
        "colab": {
          "base_uri": "https://localhost:8080/"
        },
        "id": "B02nQG1lfXYP",
        "outputId": "422a7403-e0bc-4418-eeaa-36ad3e2e4af7"
      },
      "execution_count": null,
      "outputs": [
        {
          "output_type": "execute_result",
          "data": {
            "text/plain": [
              "hello"
            ]
          },
          "metadata": {},
          "execution_count": 57
        }
      ]
    },
    {
      "cell_type": "code",
      "source": [
        "print(a)"
      ],
      "metadata": {
        "colab": {
          "base_uri": "https://localhost:8080/"
        },
        "id": "JeSdL9hyfd4n",
        "outputId": "e31a270a-e1dc-4cfa-828b-0b5ca0f96d8d"
      },
      "execution_count": null,
      "outputs": [
        {
          "output_type": "stream",
          "name": "stdout",
          "text": [
            "hello world\n"
          ]
        }
      ]
    },
    {
      "cell_type": "code",
      "source": [
        "len(a)"
      ],
      "metadata": {
        "colab": {
          "base_uri": "https://localhost:8080/"
        },
        "id": "852poJs5gf3K",
        "outputId": "1bb22c54-b9db-4c40-a9b5-6ba6f6a5968f"
      },
      "execution_count": null,
      "outputs": [
        {
          "output_type": "execute_result",
          "data": {
            "text/plain": [
              "100"
            ]
          },
          "metadata": {},
          "execution_count": 58
        }
      ]
    },
    {
      "cell_type": "code",
      "source": [
        "a = 10\n",
        "print(type(a))\n",
        "print(a)"
      ],
      "metadata": {
        "colab": {
          "base_uri": "https://localhost:8080/"
        },
        "id": "qbnMeLHufkrO",
        "outputId": "9fc43f94-571e-4bd8-cd7d-d8a933cbb0d9"
      },
      "execution_count": null,
      "outputs": [
        {
          "output_type": "stream",
          "name": "stdout",
          "text": [
            "<class 'int'>\n",
            "10\n"
          ]
        }
      ]
    },
    {
      "cell_type": "code",
      "source": [
        "a"
      ],
      "metadata": {
        "colab": {
          "base_uri": "https://localhost:8080/"
        },
        "id": "YVx-D-35f2W1",
        "outputId": "227ea7d9-57fb-4fe4-9adb-f155ad92a00b"
      },
      "execution_count": null,
      "outputs": [
        {
          "output_type": "execute_result",
          "data": {
            "text/plain": [
              "10"
            ]
          },
          "metadata": {},
          "execution_count": 50
        }
      ]
    },
    {
      "cell_type": "code",
      "source": [
        "# 아직 class를 안배웠지만, 이 차이를 설명하기 위해 잠시 이 코드를 사용하겠습니다.\n",
        "# repr이 있으면 str이 없어도 repr이 대체를 해줍니다!\n",
        "\n",
        "class CustomInt:\n",
        "    def __repr__(self):\n",
        "        return 'hello'\n",
        "\n",
        "test = CustomInt()\n",
        "# test\n",
        "print(test)"
      ],
      "metadata": {
        "colab": {
          "base_uri": "https://localhost:8080/"
        },
        "id": "MZN71WY7gxop",
        "outputId": "6cee5855-a24a-451b-945a-802bd3311367"
      },
      "execution_count": null,
      "outputs": [
        {
          "output_type": "stream",
          "name": "stdout",
          "text": [
            "hello\n"
          ]
        }
      ]
    },
    {
      "cell_type": "code",
      "source": [
        "# print     -> 해당 인스턴스에 __str__ 호출\n",
        "# 그냥 출력 -> 해당 인스턴스에 __repr__ 호출"
      ],
      "metadata": {
        "id": "FPSfkX75hJQ0"
      },
      "execution_count": null,
      "outputs": []
    },
    {
      "cell_type": "code",
      "source": [
        "a = 10\n",
        "dir(a)\n",
        "# a.__repr__() # 그냥 출력! 했을 때 실제 실행되는 함수\n",
        "# a.__str__() # print로 출력! 했을 때 실제 실행되는 함수"
      ],
      "metadata": {
        "colab": {
          "base_uri": "https://localhost:8080/",
          "height": 35
        },
        "id": "3Q-9CbDCjBkZ",
        "outputId": "e07012ec-a65a-4d08-eb1f-39fa8673b893"
      },
      "execution_count": null,
      "outputs": [
        {
          "output_type": "execute_result",
          "data": {
            "text/plain": [
              "'10'"
            ],
            "application/vnd.google.colaboratory.intrinsic+json": {
              "type": "string"
            }
          },
          "metadata": {},
          "execution_count": 67
        }
      ]
    },
    {
      "cell_type": "markdown",
      "source": [
        "# python built-in functions\n",
        "\n",
        "* 링크: https://docs.python.org/3/library/functions.html"
      ],
      "metadata": {
        "id": "LXw0GBR3jp_U"
      }
    },
    {
      "cell_type": "code",
      "source": [
        "# 자주 사용하는 functions\n",
        "abs\n",
        "all\n",
        "any\n",
        "bin\n",
        "enumerate\n",
        "len\n",
        "format\n",
        "input\n",
        "range\n",
        "\n",
        "sorted\n",
        "reversed\n",
        "\n",
        "filter\n",
        "map\n",
        "zip\n",
        "\n",
        "# isinstance # class파트에서 해드리겠습니다!\n",
        "# issubclass\n",
        "\n",
        "iter\n",
        "next\n",
        "\n",
        "locals\n",
        "globals\n",
        "\n",
        "max\n",
        "min\n",
        "sum\n",
        "\n"
      ],
      "metadata": {
        "id": "_e625zcpkpLn"
      },
      "execution_count": null,
      "outputs": []
    },
    {
      "cell_type": "code",
      "source": [
        "# 자료형을 만드는 built-in functions\n",
        "# int\n",
        "# float\n",
        "# str\n",
        "# complex\n",
        "# list\n",
        "# tuple\n",
        "# dict\n",
        "# set"
      ],
      "metadata": {
        "id": "YUw62vn6kw9L"
      },
      "execution_count": null,
      "outputs": []
    },
    {
      "cell_type": "code",
      "source": [
        "abs(-10) # 절대값\n",
        "all([True, True, False]) # 안에 있는 값이 다 True여야 True!\n",
        "any([True, True, False]) # 하나라도 True라면 True!\n",
        "bin(10) # 2진수로 바꿔줍니다. 알고리즘 문제에서 아주 간혹 출제 됩니다."
      ],
      "metadata": {
        "id": "fMq7welbm7L_"
      },
      "execution_count": null,
      "outputs": []
    },
    {
      "cell_type": "code",
      "source": [
        "# enumerate\n",
        "# len\n",
        "# format\n",
        "# input\n",
        "# range"
      ],
      "metadata": {
        "colab": {
          "base_uri": "https://localhost:8080/",
          "height": 35
        },
        "id": "glsdlDxfmEHe",
        "outputId": "963a4f2a-6b8c-4def-fce1-25739853b582"
      },
      "execution_count": null,
      "outputs": [
        {
          "output_type": "execute_result",
          "data": {
            "text/plain": [
              "'0b1010'"
            ],
            "application/vnd.google.colaboratory.intrinsic+json": {
              "type": "string"
            }
          },
          "metadata": {},
          "execution_count": 74
        }
      ]
    },
    {
      "cell_type": "markdown",
      "source": [
        "# 반복문(while)"
      ],
      "metadata": {
        "id": "o2LYe2IA4W8u"
      }
    },
    {
      "cell_type": "markdown",
      "source": [
        "# 조건문(match)"
      ],
      "metadata": {
        "id": "bSWY-qz24ZFg"
      }
    }
  ]
}