{
  "nbformat": 4,
  "nbformat_minor": 0,
  "metadata": {
    "colab": {
      "provenance": [],
      "toc_visible": true
    },
    "kernelspec": {
      "name": "python3",
      "display_name": "Python 3"
    },
    "language_info": {
      "name": "python"
    }
  },
  "cells": [
    {
      "cell_type": "markdown",
      "source": [
        "* colab에 좋은 점: 시각화가 잘 되어 있고, 설치가 필요 없고, 학습을 빠르게 할 수 있다.\n",
        "* .py에 좋은 점: 실무에서는 colab으로 개발하는 것이 아닙니다! .py로 만들어서 개발해야 합니다."
      ],
      "metadata": {
        "id": "VAOo9cTmZPA4"
      }
    },
    {
      "cell_type": "markdown",
      "source": [
        "# colab\n",
        "\n",
        "- google id만 있으면 ram을 12G, disk를 100G나 되는 원격 컴퓨터를 무료로 준다!\n",
        "- 여기에는 Python 환경이 모두 설정이 되어 있어서 별도의 설정이 필요 없다!\n",
        "- google drive가 자동 연동되어서 별도로 다운로드 해서 저장할 필요가 없다!\n",
        "- Ctrl + Enter: 현재 셀 실행\n",
        "- Alt + Enter: 현재 셀 실행 + 아래 셀 하나 만들기"
      ],
      "metadata": {
        "id": "f53lgqqhIoK1"
      }
    },
    {
      "cell_type": "markdown",
      "source": [
        "## 마크업과 마크다운\n",
        "\n",
        "```\n",
        "- HTML은 웹 브라우저나 고급 문서를 표현\n",
        "<h1>hello world</h1>\n",
        "<h2>hello world</h2>\n",
        "<p>hello world</p>\n",
        "\n",
        "- Markdown은 서식이 필요치 않은 문서를 표현\n",
        "# hello world\n",
        "## hello world\n",
        "```\n",
        "\n",
        "## 마크 다운 문법(우리가 사용할 문법)\n",
        "\n",
        "```\n",
        "# hello world\n",
        "## hello world\n",
        "### hello world\n",
        "\n",
        "- hello world\n",
        "- hello world\n",
        "- hello world\n",
        "\n",
        "1. hello world\n",
        "2. hello world\n",
        "3. hello world\n",
        "```"
      ],
      "metadata": {
        "id": "NxQ1delAFROL"
      }
    },
    {
      "cell_type": "markdown",
      "source": [
        "# range"
      ],
      "metadata": {
        "id": "IeDLJCj3QY58"
      }
    },
    {
      "cell_type": "code",
      "source": [
        "range(1, 10, 2) # start, stop, step"
      ],
      "metadata": {
        "id": "j_LUTKCpZ6Fq"
      },
      "execution_count": null,
      "outputs": []
    },
    {
      "cell_type": "code",
      "execution_count": null,
      "metadata": {
        "colab": {
          "base_uri": "https://localhost:8080/"
        },
        "id": "2JE6SzafCBkD",
        "outputId": "16ff33a8-af98-414a-81e4-47298b516db7"
      },
      "outputs": [
        {
          "output_type": "execute_result",
          "data": {
            "text/plain": [
              "[10, 20, 30, 40]"
            ]
          },
          "metadata": {},
          "execution_count": 1
        }
      ],
      "source": [
        "l = [10, 20, 30, 40]\n",
        "l # 이렇게 마지막 라인에 한하여 print를 안해도 출력이 됩니다."
      ]
    },
    {
      "cell_type": "code",
      "source": [
        "range(0, 10)\n",
        "# [0, 1, 2, 3, 4, 5, 6, 7, 8, 9] # 아니? 이렇게 왜 안나오는거지?"
      ],
      "metadata": {
        "colab": {
          "base_uri": "https://localhost:8080/"
        },
        "id": "8v1f7fDmJw0x",
        "outputId": "c8eceee3-e386-4603-a888-76ce6231ded3"
      },
      "execution_count": null,
      "outputs": [
        {
          "output_type": "execute_result",
          "data": {
            "text/plain": [
              "range(0, 10)"
            ]
          },
          "metadata": {},
          "execution_count": 2
        }
      ]
    },
    {
      "cell_type": "code",
      "source": [
        "# range()는 python 2.x에서는 list였습니다!!!!?\n",
        "type(range(0, 10)) # 왜 range라는 타입일까요?"
      ],
      "metadata": {
        "colab": {
          "base_uri": "https://localhost:8080/"
        },
        "id": "jn8MOgFHKe5_",
        "outputId": "0dca8c06-2f70-4986-d74c-51f40bfa5e1d"
      },
      "execution_count": null,
      "outputs": [
        {
          "output_type": "execute_result",
          "data": {
            "text/plain": [
              "range"
            ]
          },
          "metadata": {},
          "execution_count": 4
        }
      ]
    },
    {
      "cell_type": "code",
      "source": [
        "# 파이썬은 속도를 올리기 위한 작업을 매 버전마다 해왔습니다.\n",
        "# 그래서 최종 목표는 C의 속도를 따라잡는 것입니다.\n",
        "# range(10000000000000000) 이렇게 데이터를 생성한다고 생각해보세요.\n",
        "# 0 ~ 10000000000000000에 숫자를 모두 메모리에 올려야 합니다.\n",
        "# xrange()라는 것을 만들어서 이를 해결했습니다.\n",
        "# xrange는 숫자를 생성하지 않고, start, stop, step 값으로 호출을 할 때 하나씩 생성을 하는 방식을 새롭게 도입했습니다.\n",
        "# xrange가 3.x로 오면서 range가 된 것입니다!"
      ],
      "metadata": {
        "id": "FjJ2iVzJLDBV"
      },
      "execution_count": null,
      "outputs": []
    },
    {
      "cell_type": "code",
      "source": [
        "# range()의 인덱싱\n",
        "range(100)[3]\n",
        "range(100, 1000, 100)[3]"
      ],
      "metadata": {
        "colab": {
          "base_uri": "https://localhost:8080/"
        },
        "id": "R3eC49kxPdvM",
        "outputId": "8faa93eb-fa13-4c6c-99c2-6f66061173d5"
      },
      "execution_count": null,
      "outputs": [
        {
          "output_type": "execute_result",
          "data": {
            "text/plain": [
              "400"
            ]
          },
          "metadata": {},
          "execution_count": 10
        }
      ]
    },
    {
      "cell_type": "code",
      "source": [
        "# range()의 슬라이싱\n",
        "range(100)[1:10]"
      ],
      "metadata": {
        "colab": {
          "base_uri": "https://localhost:8080/"
        },
        "id": "1xqs28WGPhYp",
        "outputId": "8c889a22-7ba2-496a-b9c9-98f12b8cec00"
      },
      "execution_count": null,
      "outputs": [
        {
          "output_type": "execute_result",
          "data": {
            "text/plain": [
              "range(1, 10)"
            ]
          },
          "metadata": {},
          "execution_count": 9
        }
      ]
    },
    {
      "cell_type": "code",
      "source": [
        "# range의 step 음수 값\n",
        "list(range(100, 9, -10))"
      ],
      "metadata": {
        "colab": {
          "base_uri": "https://localhost:8080/"
        },
        "id": "rWOT9629P6Od",
        "outputId": "02fac8cd-f33c-4f31-9cbf-40fe37fb30ac"
      },
      "execution_count": null,
      "outputs": [
        {
          "output_type": "execute_result",
          "data": {
            "text/plain": [
              "[100, 90, 80, 70, 60, 50, 40, 30, 20, 10]"
            ]
          },
          "metadata": {},
          "execution_count": 13
        }
      ]
    },
    {
      "cell_type": "markdown",
      "source": [
        "# function"
      ],
      "metadata": {
        "id": "xhjY56T9Qfzk"
      }
    },
    {
      "cell_type": "code",
      "source": [
        "# function이라는 것이 왜 필요했을까?\n",
        "# 첫번째 이유\n",
        "\n",
        "x = 10 # 이 코드가 반복되니 이 코드의 이름을 hello라고 하고, 이 코드 자리에 hello를 놓자!\n",
        "y = 20\n",
        "print(x + y)\n",
        "\n",
        "a = 10\n",
        "\n",
        "x = 10\n",
        "y = 20\n",
        "print(x + y)\n",
        "\n",
        "b = 20\n",
        "\n",
        "x = 10\n",
        "y = 20\n",
        "print(x + y)\n",
        "\n",
        "a + b\n",
        "\n",
        "x = 10\n",
        "y = 20\n",
        "print(x + y)\n",
        "\n",
        "a - b\n",
        "\n",
        "x = 10\n",
        "y = 20\n",
        "print(x + y)"
      ],
      "metadata": {
        "id": "h8TlKZa45HOE"
      },
      "execution_count": null,
      "outputs": []
    },
    {
      "cell_type": "code",
      "source": [
        "# function이라는 것이 왜 필요했을까?\n",
        "# 반복되는 코드가 줄어들었다!\n",
        "\n",
        "def hello():\n",
        "    x = 10\n",
        "    y = 20\n",
        "    print(x + y)\n",
        "\n",
        "hello()\n",
        "a = 10\n",
        "hello()\n",
        "b = 20\n",
        "hello()\n",
        "a + b\n",
        "hello()\n",
        "a - b\n",
        "hello()"
      ],
      "metadata": {
        "id": "JxFzZ4gk5uvg"
      },
      "execution_count": null,
      "outputs": []
    },
    {
      "cell_type": "code",
      "source": [
        "# 두 번째 이유\n",
        "# 수만줄의 코드도 아래와 같이 함수로 쌓여있으면 '구조를 파악'하기 쉽습니다.\n",
        "\n",
        "땅파기()\n",
        "땅다지기()\n",
        "상하수도설치()\n",
        "벽돌쌓기()\n",
        "지붕올리기()\n",
        "내부인테리어()"
      ],
      "metadata": {
        "id": "ST1fCcD85_h7"
      },
      "execution_count": null,
      "outputs": []
    },
    {
      "cell_type": "code",
      "source": [
        "# 세 번째 이유\n",
        "# 알지 않아도 되는 코드를 들여다보지 않을 수 있어요.\n",
        "# 추상화\n",
        "# 여러분이 자동차를 운전할 때 자동차 패달을 밟는다 해서\n",
        "# 엔진을 뜯어볼 필요가 있나요?\n",
        "# 파이썬에서 추상화란 복잡한 내부 구현을 숨기고\n",
        "# 필요한 기능만 외부에 노출시켜 코드를 더 이해하기 쉽고 사용하기 편리하게 만드는 개념입니다.\n",
        "\n",
        "땅파기()\n",
        "땅다지기()\n",
        "상하수도설치()\n",
        "벽돌쌓기() # 내 과업은 벽돌 쌓기를 수정하는 것입니다.\n",
        "지붕올리기()\n",
        "내부인테리어()"
      ],
      "metadata": {
        "id": "7z-hkWQt6XjZ"
      },
      "execution_count": null,
      "outputs": []
    },
    {
      "cell_type": "code",
      "source": [
        "def hello():\n",
        "    x = 10\n",
        "    y = 20\n",
        "    return x + y"
      ],
      "metadata": {
        "id": "2hiRaLqNQjSr"
      },
      "execution_count": null,
      "outputs": []
    },
    {
      "cell_type": "code",
      "source": [
        "# 파라미터와 아규먼트\n",
        "\n",
        "def xysum(x, y): # 함수를 정의하는 부분\n",
        "    return x + y\n",
        "\n",
        "xysum(10, 20) # 함수를 호출하는 부분"
      ],
      "metadata": {
        "id": "ND9mSmYU7joR"
      },
      "execution_count": null,
      "outputs": []
    },
    {
      "cell_type": "code",
      "source": [
        "# 파선아실(파라미터는 선언할 때, 아규먼트는 실행할 때)\n",
        "\n",
        "def xysum(x, y): # 함수를 정의하는 부분\n",
        "    return x + y\n",
        "\n",
        "xysum(10, 20) # 함수를 호출하는 부분"
      ],
      "metadata": {
        "id": "q7Wg9YFS8Uxm"
      },
      "execution_count": null,
      "outputs": []
    },
    {
      "cell_type": "code",
      "source": [
        "def xysum(x, y):\n",
        "    return x + y # 나를 호출한 곳에 그대로 이 값을 넣어주세요!\n",
        "\n",
        "result = xysum(10, 20) + xysum(30, 40) + xysum(50, 60)\n",
        "result"
      ],
      "metadata": {
        "colab": {
          "base_uri": "https://localhost:8080/"
        },
        "id": "fxkvVcaW89rl",
        "outputId": "19b97091-2014-4dcb-bd7c-eb352306fa3a"
      },
      "execution_count": null,
      "outputs": [
        {
          "output_type": "execute_result",
          "data": {
            "text/plain": [
              "210"
            ]
          },
          "metadata": {},
          "execution_count": 75
        }
      ]
    },
    {
      "cell_type": "code",
      "source": [
        "def xysum(x, y):\n",
        "    print(x + y)\n",
        "\n",
        "result = xysum(10, 20) + xysum(30, 40) + xysum(50, 60)\n",
        "result"
      ],
      "metadata": {
        "colab": {
          "base_uri": "https://localhost:8080/",
          "height": 240
        },
        "id": "M6nRulLX9QZm",
        "outputId": "722dbf8b-74c5-4a11-8747-f01572440695"
      },
      "execution_count": null,
      "outputs": [
        {
          "output_type": "stream",
          "name": "stdout",
          "text": [
            "30\n",
            "70\n"
          ]
        },
        {
          "output_type": "error",
          "ename": "TypeError",
          "evalue": "unsupported operand type(s) for +: 'NoneType' and 'NoneType'",
          "traceback": [
            "\u001b[0;31m---------------------------------------------------------------------------\u001b[0m",
            "\u001b[0;31mTypeError\u001b[0m                                 Traceback (most recent call last)",
            "\u001b[0;32m<ipython-input-76-b99c82da7dd0>\u001b[0m in \u001b[0;36m<cell line: 0>\u001b[0;34m()\u001b[0m\n\u001b[1;32m      2\u001b[0m     \u001b[0mprint\u001b[0m\u001b[0;34m(\u001b[0m\u001b[0mx\u001b[0m \u001b[0;34m+\u001b[0m \u001b[0my\u001b[0m\u001b[0;34m)\u001b[0m\u001b[0;34m\u001b[0m\u001b[0;34m\u001b[0m\u001b[0m\n\u001b[1;32m      3\u001b[0m \u001b[0;34m\u001b[0m\u001b[0m\n\u001b[0;32m----> 4\u001b[0;31m \u001b[0mresult\u001b[0m \u001b[0;34m=\u001b[0m \u001b[0mxysum\u001b[0m\u001b[0;34m(\u001b[0m\u001b[0;36m10\u001b[0m\u001b[0;34m,\u001b[0m \u001b[0;36m20\u001b[0m\u001b[0;34m)\u001b[0m \u001b[0;34m+\u001b[0m \u001b[0mxysum\u001b[0m\u001b[0;34m(\u001b[0m\u001b[0;36m30\u001b[0m\u001b[0;34m,\u001b[0m \u001b[0;36m40\u001b[0m\u001b[0;34m)\u001b[0m \u001b[0;34m+\u001b[0m \u001b[0mxysum\u001b[0m\u001b[0;34m(\u001b[0m\u001b[0;36m50\u001b[0m\u001b[0;34m,\u001b[0m \u001b[0;36m60\u001b[0m\u001b[0;34m)\u001b[0m\u001b[0;34m\u001b[0m\u001b[0;34m\u001b[0m\u001b[0m\n\u001b[0m\u001b[1;32m      5\u001b[0m \u001b[0mresult\u001b[0m\u001b[0;34m\u001b[0m\u001b[0;34m\u001b[0m\u001b[0m\n",
            "\u001b[0;31mTypeError\u001b[0m: unsupported operand type(s) for +: 'NoneType' and 'NoneType'"
          ]
        }
      ]
    },
    {
      "cell_type": "code",
      "source": [
        "None\n",
        "print(None)"
      ],
      "metadata": {
        "colab": {
          "base_uri": "https://localhost:8080/"
        },
        "id": "3p2ZE0FA9v7l",
        "outputId": "1064e528-72f2-40a3-f2e6-c2b84a9a2a85"
      },
      "execution_count": null,
      "outputs": [
        {
          "output_type": "stream",
          "name": "stdout",
          "text": [
            "None\n"
          ]
        }
      ]
    },
    {
      "cell_type": "code",
      "source": [
        "def a(x, y):\n",
        "    z = x + y\n",
        "\n",
        "print(a(10, 20))"
      ],
      "metadata": {
        "colab": {
          "base_uri": "https://localhost:8080/"
        },
        "id": "YNdn_1t89nOo",
        "outputId": "bf31c0ab-4bc7-43f2-e5c5-9a77c4f4ad67"
      },
      "execution_count": null,
      "outputs": [
        {
          "output_type": "stream",
          "name": "stdout",
          "text": [
            "None\n"
          ]
        }
      ]
    },
    {
      "cell_type": "code",
      "source": [
        "def a(x, y):\n",
        "    z = x + y\n",
        "    return None\n",
        "\n",
        "print(a(10, 20))"
      ],
      "metadata": {
        "colab": {
          "base_uri": "https://localhost:8080/"
        },
        "id": "4R5zEZnY95FL",
        "outputId": "a79733df-6ca0-43d9-ba53-457f298353f3"
      },
      "execution_count": null,
      "outputs": [
        {
          "output_type": "stream",
          "name": "stdout",
          "text": [
            "None\n"
          ]
        }
      ]
    },
    {
      "cell_type": "code",
      "source": [
        "print(print(print('hello')))"
      ],
      "metadata": {
        "colab": {
          "base_uri": "https://localhost:8080/"
        },
        "id": "lYTQTNkI9-pQ",
        "outputId": "6e4fcba2-13bf-49b4-b52a-bb19227321ee"
      },
      "execution_count": null,
      "outputs": [
        {
          "output_type": "stream",
          "name": "stdout",
          "text": [
            "hello\n",
            "None\n",
            "None\n"
          ]
        }
      ]
    },
    {
      "cell_type": "code",
      "source": [
        "# 파라미터가 있는 함수\n",
        "def hello(a):\n",
        "    return a\n",
        "\n",
        "# 파라미터가 없는 함수\n",
        "def hello():\n",
        "    return 'hello world'"
      ],
      "metadata": {
        "id": "CxZcXtrm-9_B"
      },
      "execution_count": null,
      "outputs": []
    },
    {
      "cell_type": "code",
      "source": [
        "# 리턴값이 있는 함수\n",
        "def add(a, b):\n",
        "    return a + b\n",
        "\n",
        "# 리턴값이 없는 함수\n",
        "def add(a, b):\n",
        "    print(a + b)"
      ],
      "metadata": {
        "id": "H5Hx1nQj_E7A"
      },
      "execution_count": null,
      "outputs": []
    },
    {
      "cell_type": "code",
      "source": [
        "# 문제1: 2x + 15 방정식이 주어졌을 때, x값이 10일때 y값이 얼마인지 구하는 함수를 만드세요.\n",
        "\n",
        "def solution(x):\n",
        "    return 2 * x + 15\n",
        "\n",
        "solution(10)"
      ],
      "metadata": {
        "colab": {
          "base_uri": "https://localhost:8080/"
        },
        "id": "nYZ5I1lz_thv",
        "outputId": "fd35929e-8829-49b4-d004-64a9cfb9d83c"
      },
      "execution_count": null,
      "outputs": [
        {
          "output_type": "execute_result",
          "data": {
            "text/plain": [
              "35"
            ]
          },
          "metadata": {},
          "execution_count": 89
        }
      ]
    },
    {
      "cell_type": "code",
      "source": [
        "# map을 아직 안배웠어요!\n",
        "# map은 나중에 할 예정입니다. 지금 이 코드는 '어떻게 활용하는가?'에 대한 얘기입니다.\n",
        "list(map(solution, range(10)))"
      ],
      "metadata": {
        "colab": {
          "base_uri": "https://localhost:8080/"
        },
        "id": "-vU2HUsvJ5Y5",
        "outputId": "7024e4c0-6269-4d95-88aa-f10f22e55fa4"
      },
      "execution_count": null,
      "outputs": [
        {
          "output_type": "execute_result",
          "data": {
            "text/plain": [
              "[15, 17, 19, 21, 23, 25, 27, 29, 31, 33]"
            ]
          },
          "metadata": {},
          "execution_count": 91
        }
      ]
    },
    {
      "cell_type": "code",
      "source": [
        "# 실제 모의 주식 그래프는 아래와 같이 그립니다.\n",
        "import random\n",
        "\n",
        "l = [15, 17, 19, 21, 23, 25, 27, 29, 31, 33]\n",
        "result = []\n",
        "for i in l:\n",
        "    result = result + [i + random.randint(-5, 5)]\n",
        "result"
      ],
      "metadata": {
        "colab": {
          "base_uri": "https://localhost:8080/"
        },
        "id": "-bXF1swKKS3t",
        "outputId": "96a906f4-49fc-4ed3-e91a-4c894ddc3cc8"
      },
      "execution_count": null,
      "outputs": [
        {
          "output_type": "execute_result",
          "data": {
            "text/plain": [
              "[15, 12, 22, 26, 20, 22, 22, 28, 29, 37]"
            ]
          },
          "metadata": {},
          "execution_count": 88
        }
      ]
    },
    {
      "cell_type": "code",
      "source": [
        "# 문제2: [10, 20, 30] + [1, 2, 3]이라고 했을 때 이 두 행렬을 요소별로 더하는 함수를 만드세요.\n",
        "\n",
        "def solution(a, b):\n",
        "    for i, v in enumerate(a):\n",
        "        a[i] = v + b[i]\n",
        "    return a\n",
        "\n",
        "solution([10, 20, 30], [1, 2, 3])"
      ],
      "metadata": {
        "colab": {
          "base_uri": "https://localhost:8080/"
        },
        "id": "_z_jQHhUAMNi",
        "outputId": "92659c31-31d7-435f-fa48-2f19b3ef1a20"
      },
      "execution_count": null,
      "outputs": [
        {
          "output_type": "execute_result",
          "data": {
            "text/plain": [
              "[11, 22, 33]"
            ]
          },
          "metadata": {},
          "execution_count": 93
        }
      ]
    },
    {
      "cell_type": "code",
      "source": [
        "# 문제2: [10, 20, 30] + [1, 2, 3]이라고 했을 때 이 두 행렬을 요소별로 더하는 함수를 만드세요.\n",
        "# 관습적으로 안쓰는 코드는 변수 _ 에 할당합니다.\n",
        "\n",
        "def solution(a, b):\n",
        "    result = []\n",
        "    for i, _ in enumerate(a):\n",
        "        result.append(a[i] + b[i])\n",
        "    return result\n",
        "\n",
        "solution([10, 20, 30], [1, 2, 3])"
      ],
      "metadata": {
        "colab": {
          "base_uri": "https://localhost:8080/"
        },
        "id": "ovtYZbi2MYUO",
        "outputId": "3de67494-9da4-4607-c68d-3755250920ce"
      },
      "execution_count": null,
      "outputs": [
        {
          "output_type": "execute_result",
          "data": {
            "text/plain": [
              "[11, 22, 33]"
            ]
          },
          "metadata": {},
          "execution_count": 95
        }
      ]
    },
    {
      "cell_type": "code",
      "source": [
        "list(enumerate({'one':100, 'two':200}))"
      ],
      "metadata": {
        "colab": {
          "base_uri": "https://localhost:8080/"
        },
        "id": "PaRpVqudNNHG",
        "outputId": "ad8537d6-80c3-41bb-e294-d9f60f03158e"
      },
      "execution_count": null,
      "outputs": [
        {
          "output_type": "execute_result",
          "data": {
            "text/plain": [
              "[(0, 'one'), (1, 'two')]"
            ]
          },
          "metadata": {},
          "execution_count": 97
        }
      ]
    },
    {
      "cell_type": "code",
      "source": [
        "# 문제2: [10, 20, 30] + [1, 2, 3]이라고 했을 때 이 두 행렬을 요소별로 더하는 함수를 만드세요.\n",
        "# 좀 더 우아한 풀이\n",
        "\n",
        "def solution(a, b):\n",
        "    return list(map(sum, (zip([10, 20, 30], [1, 2, 3]))))\n",
        "\n",
        "solution([10, 20, 30], [1, 2, 3])"
      ],
      "metadata": {
        "id": "NOV85P7pNejM"
      },
      "execution_count": null,
      "outputs": []
    },
    {
      "cell_type": "code",
      "source": [
        "# 문제3: 행렬(리스트의 리스트)의 모든 요소에 특정 숫자를 곱하는 함수를 만드세요.\n",
        "# 예: [1, 2, 3, 4] * 2 = [2, 4, 6, 8]\n",
        "\n",
        "def solution(matrix, multiplier):\n",
        "    result = []\n",
        "    for i in matrix:\n",
        "        result.append(i * multiplier)\n",
        "    return result\n",
        "\n",
        "solution([1, 2, 3, 4], 2)"
      ],
      "metadata": {
        "colab": {
          "base_uri": "https://localhost:8080/"
        },
        "id": "wUWRkAhfAkwc",
        "outputId": "24062e54-e9db-4a55-e9cb-2edb07d74cc4"
      },
      "execution_count": null,
      "outputs": [
        {
          "output_type": "execute_result",
          "data": {
            "text/plain": [
              "[2, 4, 6, 8]"
            ]
          },
          "metadata": {},
          "execution_count": 101
        }
      ]
    },
    {
      "cell_type": "code",
      "source": [
        "# 문제3: 행렬(리스트의 리스트)의 모든 요소에 특정 숫자를 곱하는 함수를 만드세요.\n",
        "# 예: [1, 2, 3, 4] * 2 = [2, 4, 6, 8]\n",
        "\n",
        "def solution(matrix, multiplier):\n",
        "    return [i * multiplier for i in matrix]\n",
        "\n",
        "solution([1, 2, 3, 4], 2)"
      ],
      "metadata": {
        "colab": {
          "base_uri": "https://localhost:8080/"
        },
        "id": "a24lE_BJOtoY",
        "outputId": "c55ad461-cb2e-48b4-e1db-44f368bf254c"
      },
      "execution_count": null,
      "outputs": [
        {
          "output_type": "execute_result",
          "data": {
            "text/plain": [
              "[2, 4, 6, 8]"
            ]
          },
          "metadata": {},
          "execution_count": 102
        }
      ]
    },
    {
      "cell_type": "code",
      "source": [
        "s = []\n",
        "for i in range(1, 10, 2):\n",
        "    s.append(i)\n",
        "s"
      ],
      "metadata": {
        "colab": {
          "base_uri": "https://localhost:8080/"
        },
        "id": "VzmT-MUaPQeW",
        "outputId": "3c364a26-eede-4a09-97ea-d2767ec55209"
      },
      "execution_count": null,
      "outputs": [
        {
          "output_type": "execute_result",
          "data": {
            "text/plain": [
              "[1, 3, 5, 7, 9]"
            ]
          },
          "metadata": {},
          "execution_count": 103
        }
      ]
    },
    {
      "cell_type": "code",
      "source": [
        "[i for i in range(1, 10, 2)]"
      ],
      "metadata": {
        "colab": {
          "base_uri": "https://localhost:8080/"
        },
        "id": "POOyEQF8PWht",
        "outputId": "bdfe10d7-faab-47f0-8887-388fa98dc1cc"
      },
      "execution_count": null,
      "outputs": [
        {
          "output_type": "execute_result",
          "data": {
            "text/plain": [
              "[1, 3, 5, 7, 9]"
            ]
          },
          "metadata": {},
          "execution_count": 104
        }
      ]
    },
    {
      "cell_type": "code",
      "source": [
        "# 아래와 같은 코드는 가독성이 떨어지기 때문에 좋은 코드라고 보기 어렵습니다.\n",
        "# 파이썬에서는 읽기 좋은 코드에 가치를 높게 평가합니다!\n",
        "[f'{i} X {j} = {i * j}' for i in range(2, 10) for j in range(1, 10)]"
      ],
      "metadata": {
        "colab": {
          "base_uri": "https://localhost:8080/"
        },
        "id": "yX7fxjFgPnpi",
        "outputId": "b2d7b115-a451-4d97-cf0e-0371a95349c4"
      },
      "execution_count": null,
      "outputs": [
        {
          "output_type": "execute_result",
          "data": {
            "text/plain": [
              "['2 X 1 = 2',\n",
              " '2 X 2 = 4',\n",
              " '2 X 3 = 6',\n",
              " '2 X 4 = 8',\n",
              " '2 X 5 = 10',\n",
              " '2 X 6 = 12',\n",
              " '2 X 7 = 14',\n",
              " '2 X 8 = 16',\n",
              " '2 X 9 = 18',\n",
              " '3 X 1 = 3',\n",
              " '3 X 2 = 6',\n",
              " '3 X 3 = 9',\n",
              " '3 X 4 = 12',\n",
              " '3 X 5 = 15',\n",
              " '3 X 6 = 18',\n",
              " '3 X 7 = 21',\n",
              " '3 X 8 = 24',\n",
              " '3 X 9 = 27',\n",
              " '4 X 1 = 4',\n",
              " '4 X 2 = 8',\n",
              " '4 X 3 = 12',\n",
              " '4 X 4 = 16',\n",
              " '4 X 5 = 20',\n",
              " '4 X 6 = 24',\n",
              " '4 X 7 = 28',\n",
              " '4 X 8 = 32',\n",
              " '4 X 9 = 36',\n",
              " '5 X 1 = 5',\n",
              " '5 X 2 = 10',\n",
              " '5 X 3 = 15',\n",
              " '5 X 4 = 20',\n",
              " '5 X 5 = 25',\n",
              " '5 X 6 = 30',\n",
              " '5 X 7 = 35',\n",
              " '5 X 8 = 40',\n",
              " '5 X 9 = 45',\n",
              " '6 X 1 = 6',\n",
              " '6 X 2 = 12',\n",
              " '6 X 3 = 18',\n",
              " '6 X 4 = 24',\n",
              " '6 X 5 = 30',\n",
              " '6 X 6 = 36',\n",
              " '6 X 7 = 42',\n",
              " '6 X 8 = 48',\n",
              " '6 X 9 = 54',\n",
              " '7 X 1 = 7',\n",
              " '7 X 2 = 14',\n",
              " '7 X 3 = 21',\n",
              " '7 X 4 = 28',\n",
              " '7 X 5 = 35',\n",
              " '7 X 6 = 42',\n",
              " '7 X 7 = 49',\n",
              " '7 X 8 = 56',\n",
              " '7 X 9 = 63',\n",
              " '8 X 1 = 8',\n",
              " '8 X 2 = 16',\n",
              " '8 X 3 = 24',\n",
              " '8 X 4 = 32',\n",
              " '8 X 5 = 40',\n",
              " '8 X 6 = 48',\n",
              " '8 X 7 = 56',\n",
              " '8 X 8 = 64',\n",
              " '8 X 9 = 72',\n",
              " '9 X 1 = 9',\n",
              " '9 X 2 = 18',\n",
              " '9 X 3 = 27',\n",
              " '9 X 4 = 36',\n",
              " '9 X 5 = 45',\n",
              " '9 X 6 = 54',\n",
              " '9 X 7 = 63',\n",
              " '9 X 8 = 72',\n",
              " '9 X 9 = 81']"
            ]
          },
          "metadata": {},
          "execution_count": 106
        }
      ]
    },
    {
      "cell_type": "code",
      "source": [
        "# 문제4: 프로그래머스(카카오 코딩 테스트 보는 공간)에 문제 하나 풀어보세요.\n",
        "# 기업에서 이런식으로 알고리즘 테스트가 나옵니다.\n",
        "# https://school.programmers.co.kr/learn/courses/30/lessons/181928\n",
        "\n",
        "def solution(num_list):\n",
        "    짝수 = ''\n",
        "    홀수 = ''\n",
        "    for i in num_list:\n",
        "        if i % 2 == 0:\n",
        "            짝수 += str(i)\n",
        "        else:\n",
        "            홀수 += str(i)\n",
        "    answer = int(짝수) + int(홀수)\n",
        "    return answer\n",
        "\n",
        "solution([3, 4, 5, 2, 1])"
      ],
      "metadata": {
        "colab": {
          "base_uri": "https://localhost:8080/"
        },
        "id": "XfLQsm4vB7yv",
        "outputId": "1d1564c2-1e7a-4ec5-cf62-3b316a4eba3b"
      },
      "execution_count": null,
      "outputs": [
        {
          "output_type": "execute_result",
          "data": {
            "text/plain": [
              "393"
            ]
          },
          "metadata": {},
          "execution_count": 107
        }
      ]
    },
    {
      "cell_type": "code",
      "source": [
        "# 파라미터에 기본값이 정해져 있는 경우!\n",
        "\n",
        "def add(x = 10, y = 20):\n",
        "    return x + y\n",
        "\n",
        "add()"
      ],
      "metadata": {
        "colab": {
          "base_uri": "https://localhost:8080/"
        },
        "id": "opp3WlkiUb4p",
        "outputId": "1e2d7e27-07c4-4a0b-ec02-0a28a7b43852"
      },
      "execution_count": null,
      "outputs": [
        {
          "output_type": "execute_result",
          "data": {
            "text/plain": [
              "30"
            ]
          },
          "metadata": {},
          "execution_count": 108
        }
      ]
    },
    {
      "cell_type": "code",
      "source": [
        "# 지역변수 전역변수\n",
        "\n",
        "x = 10\n",
        "\n",
        "def hello():\n",
        "    print(x) # 밖에 있는 변수는 읽을 수는 있습니다.\n",
        "\n",
        "hello()"
      ],
      "metadata": {
        "colab": {
          "base_uri": "https://localhost:8080/"
        },
        "id": "xxa89h9-Vrzs",
        "outputId": "208d90c5-4cf9-4ce6-fa62-a562007a4358"
      },
      "execution_count": null,
      "outputs": [
        {
          "output_type": "stream",
          "name": "stdout",
          "text": [
            "10\n"
          ]
        }
      ]
    },
    {
      "cell_type": "code",
      "source": [
        "x = 10\n",
        "\n",
        "def hello():\n",
        "    x += 1 # 밖에 있는 변수를 수정할 수는 없습니다.\n",
        "\n",
        "hello()"
      ],
      "metadata": {
        "colab": {
          "base_uri": "https://localhost:8080/",
          "height": 313
        },
        "id": "HsS1gYLqWWKu",
        "outputId": "a8c4cd82-2b71-4a9e-f049-4adec3af7c0a"
      },
      "execution_count": null,
      "outputs": [
        {
          "output_type": "error",
          "ename": "UnboundLocalError",
          "evalue": "cannot access local variable 'x' where it is not associated with a value",
          "traceback": [
            "\u001b[0;31m---------------------------------------------------------------------------\u001b[0m",
            "\u001b[0;31mUnboundLocalError\u001b[0m                         Traceback (most recent call last)",
            "\u001b[0;32m<ipython-input-111-345d6794dc27>\u001b[0m in \u001b[0;36m<cell line: 0>\u001b[0;34m()\u001b[0m\n\u001b[1;32m      4\u001b[0m     \u001b[0mx\u001b[0m \u001b[0;34m+=\u001b[0m \u001b[0;36m1\u001b[0m\u001b[0;34m\u001b[0m\u001b[0;34m\u001b[0m\u001b[0m\n\u001b[1;32m      5\u001b[0m \u001b[0;34m\u001b[0m\u001b[0m\n\u001b[0;32m----> 6\u001b[0;31m \u001b[0mhello\u001b[0m\u001b[0;34m(\u001b[0m\u001b[0;34m)\u001b[0m\u001b[0;34m\u001b[0m\u001b[0;34m\u001b[0m\u001b[0m\n\u001b[0m",
            "\u001b[0;32m<ipython-input-111-345d6794dc27>\u001b[0m in \u001b[0;36mhello\u001b[0;34m()\u001b[0m\n\u001b[1;32m      2\u001b[0m \u001b[0;34m\u001b[0m\u001b[0m\n\u001b[1;32m      3\u001b[0m \u001b[0;32mdef\u001b[0m \u001b[0mhello\u001b[0m\u001b[0;34m(\u001b[0m\u001b[0;34m)\u001b[0m\u001b[0;34m:\u001b[0m\u001b[0;34m\u001b[0m\u001b[0;34m\u001b[0m\u001b[0m\n\u001b[0;32m----> 4\u001b[0;31m     \u001b[0mx\u001b[0m \u001b[0;34m+=\u001b[0m \u001b[0;36m1\u001b[0m\u001b[0;34m\u001b[0m\u001b[0;34m\u001b[0m\u001b[0m\n\u001b[0m\u001b[1;32m      5\u001b[0m \u001b[0;34m\u001b[0m\u001b[0m\n\u001b[1;32m      6\u001b[0m \u001b[0mhello\u001b[0m\u001b[0;34m(\u001b[0m\u001b[0;34m)\u001b[0m\u001b[0;34m\u001b[0m\u001b[0;34m\u001b[0m\u001b[0m\n",
            "\u001b[0;31mUnboundLocalError\u001b[0m: cannot access local variable 'x' where it is not associated with a value"
          ]
        }
      ]
    },
    {
      "cell_type": "code",
      "source": [
        "x = 10 # 전역변수 x 10\n",
        "\n",
        "def hello():\n",
        "    x = 100 # 지역변수 x 100\n",
        "\n",
        "hello()\n",
        "print(x)"
      ],
      "metadata": {
        "colab": {
          "base_uri": "https://localhost:8080/"
        },
        "id": "mcb883BhWpRm",
        "outputId": "9bd16ce8-aba0-43b7-e9a0-fa11f7758710"
      },
      "execution_count": null,
      "outputs": [
        {
          "output_type": "stream",
          "name": "stdout",
          "text": [
            "10\n"
          ]
        }
      ]
    },
    {
      "cell_type": "code",
      "source": [
        "x = 10 # 전역변수 x 10\n",
        "\n",
        "def hello(input_x):\n",
        "    input_x += 10\n",
        "    return input_x\n",
        "\n",
        "x = hello(x) # 초급자의 마음: 아니? 이렇게 불편하게 써야해?\n",
        "print(x)"
      ],
      "metadata": {
        "colab": {
          "base_uri": "https://localhost:8080/"
        },
        "id": "My__sbX7XXXN",
        "outputId": "4ec7c594-4c15-4ef9-a811-a062637e96c5"
      },
      "execution_count": null,
      "outputs": [
        {
          "output_type": "stream",
          "name": "stdout",
          "text": [
            "20\n"
          ]
        }
      ]
    },
    {
      "cell_type": "code",
      "source": [
        "# 초급자의 마음: 이렇게 하면 되잖아!\n",
        "# => 아주 짧은 코드에서는 맞는 얘기지만\n",
        "# 실무에서는 깨끗한 코드, 구조화 되어있는 코드, 견고한 코드가 필요합니다.\n",
        "\n",
        "x = 10\n",
        "x += 10\n",
        "\n",
        "print(x)"
      ],
      "metadata": {
        "colab": {
          "base_uri": "https://localhost:8080/"
        },
        "id": "5eGUbQ0tXi1v",
        "outputId": "f2d7bf63-82eb-4f4d-82e1-0dfc41ec168a"
      },
      "execution_count": null,
      "outputs": [
        {
          "output_type": "stream",
          "name": "stdout",
          "text": [
            "20\n"
          ]
        }
      ]
    },
    {
      "cell_type": "code",
      "source": [
        "# 대부분 아래 코드는 안좋은 사례로 꼽힙니다.\n",
        "\n",
        "x = 10\n",
        "\n",
        "def hello():\n",
        "    global x\n",
        "    x += 100\n",
        "\n",
        "hello()\n",
        "print(x)"
      ],
      "metadata": {
        "id": "wyWAmNDCYGLT"
      },
      "execution_count": null,
      "outputs": []
    },
    {
      "cell_type": "code",
      "source": [
        "# locals()\n",
        "# globals()"
      ],
      "metadata": {
        "id": "FpHj0MYgYxHz"
      },
      "execution_count": null,
      "outputs": []
    },
    {
      "cell_type": "code",
      "source": [
        "def add(a, b):\n",
        "    z = a + b\n",
        "    print(locals())\n",
        "    return z\n",
        "\n",
        "add(10, 20)"
      ],
      "metadata": {
        "colab": {
          "base_uri": "https://localhost:8080/"
        },
        "id": "-bUxGcNwY4ZQ",
        "outputId": "98d9a57f-89ec-4cd3-df0e-2f071e4c30ae"
      },
      "execution_count": null,
      "outputs": [
        {
          "output_type": "stream",
          "name": "stdout",
          "text": [
            "{'a': 10, 'b': 20, 'z': 30}\n"
          ]
        },
        {
          "output_type": "execute_result",
          "data": {
            "text/plain": [
              "30"
            ]
          },
          "metadata": {},
          "execution_count": 118
        }
      ]
    },
    {
      "cell_type": "code",
      "source": [
        "# hello라는 것은 무엇일까?\n",
        "# print라는 것은 무엇일까?\n",
        "\n",
        "# hello든 print든 변수입니다! 함수의 이름은 변수입니다."
      ],
      "metadata": {
        "id": "jxeUYnReQrW2"
      },
      "execution_count": null,
      "outputs": []
    },
    {
      "cell_type": "code",
      "source": [
        "a = print\n",
        "a('hello world')"
      ],
      "metadata": {
        "colab": {
          "base_uri": "https://localhost:8080/"
        },
        "id": "uQTcoT_JQ64E",
        "outputId": "e2bec677-c1a4-4380-c8fb-66ef4d63dacc"
      },
      "execution_count": null,
      "outputs": [
        {
          "output_type": "stream",
          "name": "stdout",
          "text": [
            "hello world\n"
          ]
        }
      ]
    },
    {
      "cell_type": "code",
      "source": [
        "l = [a, a, a, a, a]\n",
        "l[0]('hello')"
      ],
      "metadata": {
        "colab": {
          "base_uri": "https://localhost:8080/"
        },
        "id": "NYQU9-aLRBv3",
        "outputId": "38ad181d-0cb9-4ca5-972b-e7e65bfb664e"
      },
      "execution_count": null,
      "outputs": [
        {
          "output_type": "stream",
          "name": "stdout",
          "text": [
            "hello\n"
          ]
        }
      ]
    },
    {
      "cell_type": "markdown",
      "source": [
        "# 연습문제\n",
        "\n",
        "```\n",
        "# 문제1: 두 수를 더하는 함수를 만드세요.\n",
        "def solution(a, b):\n",
        "    pass\n",
        "\n",
        "solution(5, 3)  # 결과: 8\n",
        "```\n",
        "\n",
        "```\n",
        "# 문제2: 두 수를 곱하는 함수를 만드세요.\n",
        "def solution(a, b):\n",
        "    pass\n",
        "\n",
        "solution(4, 7)  # 결과: 28\n",
        "```\n",
        "\n",
        "```\n",
        "# 문제3: 리스트의 모든 숫자를 더하는 함수를 만드세요.\n",
        "def solution(numbers):\n",
        "    pass\n",
        "\n",
        "solution([1, 2, 3, 4, 5])  # 결과: 15\n",
        "```\n",
        "\n",
        "```\n",
        "# 문제4: 리스트의 평균값을 계산하는 함수를 만드세요.\n",
        "def solution(numbers):\n",
        "    pass\n",
        "\n",
        "solution([10, 20, 30, 40])  # 결과: 25.0\n",
        "```\n",
        "\n",
        "```\n",
        "# 문제5: 문자열의 길이를 반환하는 함수를 만드세요.\n",
        "def solution(text):\n",
        "    pass\n",
        "\n",
        "solution(\"파이썬\")  # 결과: 3\n",
        "```\n",
        "\n",
        "```\n",
        "# 문제6: 리스트에서 가장 큰 수를 찾는 함수를 만드세요.\n",
        "def solution(numbers):\n",
        "    pass\n",
        "\n",
        "solution([7, 12, 3, 8, 4])  # 결과: 12\n",
        "```\n",
        "\n",
        "```\n",
        "# 문제7: 리스트에서 가장 작은 수를 찾는 함수를 만드세요.\n",
        "def solution(numbers):\n",
        "    pass\n",
        "\n",
        "solution([7, 12, 3, 8, 4])  # 결과: 3\n",
        "```\n",
        "\n",
        "```\n",
        "# 문제8: 문자열을 n번 반복하는 함수를 만드세요.\n",
        "def solution(text, n):\n",
        "    pass\n",
        "\n",
        "solution(\"안녕\", 3)  # 결과: \"안녕안녕안녕\"\n",
        "```\n",
        "\n",
        "```\n",
        "# 문제9: 주어진 숫자가 짝수인지 확인하는 함수를 만드세요. (짝수면 True, 홀수면 False 반환)\n",
        "def solution(number):\n",
        "    pass\n",
        "\n",
        "solution(6)  # 결과: True\n",
        "solution(9)  # 결과: False\n",
        "```"
      ],
      "metadata": {
        "id": "IGDu87spfTM-"
      }
    },
    {
      "cell_type": "code",
      "source": [
        "# 문제1: 두 수를 더하는 함수를 만드세요.\n",
        "def solution(a, b):\n",
        "    return a + b\n",
        "\n",
        "solution(5, 3)  # 결과: 8"
      ],
      "metadata": {
        "id": "rkBbLyedO2Ed"
      },
      "execution_count": null,
      "outputs": []
    },
    {
      "cell_type": "code",
      "source": [
        "# 문제2: 두 수를 곱하는 함수를 만드세요.\n",
        "def solution(a, b):\n",
        "    return a * b\n",
        "\n",
        "solution(4, 7)  # 결과: 28"
      ],
      "metadata": {
        "id": "81cYCOsmO8Ck"
      },
      "execution_count": null,
      "outputs": []
    },
    {
      "cell_type": "code",
      "source": [
        "# 문제3: 리스트의 모든 숫자를 더하는 함수를 만드세요.\n",
        "def solution(numbers):\n",
        "    return sum(numbers)\n",
        "\n",
        "solution([1, 2, 3, 4, 5])  # 결과: 15"
      ],
      "metadata": {
        "colab": {
          "base_uri": "https://localhost:8080/"
        },
        "id": "iUEBXcfTPBtC",
        "outputId": "0e907d7c-98c0-4403-fa1b-865fbe283b3e"
      },
      "execution_count": null,
      "outputs": [
        {
          "output_type": "execute_result",
          "data": {
            "text/plain": [
              "15"
            ]
          },
          "metadata": {},
          "execution_count": 1
        }
      ]
    },
    {
      "cell_type": "code",
      "source": [
        "# 문제3: 리스트의 모든 숫자를 더하는 함수를 만드세요.\n",
        "def solution(numbers):\n",
        "    result = 0\n",
        "    for i in numbers:\n",
        "        result += i\n",
        "    return result\n",
        "\n",
        "solution([1, 2, 3, 4, 5])  # 결과: 15"
      ],
      "metadata": {
        "colab": {
          "base_uri": "https://localhost:8080/"
        },
        "id": "xjissIstPEg4",
        "outputId": "7c5746c2-86f6-498d-da33-175f00b69827"
      },
      "execution_count": null,
      "outputs": [
        {
          "output_type": "execute_result",
          "data": {
            "text/plain": [
              "15"
            ]
          },
          "metadata": {},
          "execution_count": 2
        }
      ]
    },
    {
      "cell_type": "code",
      "source": [
        "# 문제4: 리스트의 평균값을 계산하는 함수를 만드세요.\n",
        "def solution(numbers):\n",
        "    return sum(numbers) / len(numbers)\n",
        "\n",
        "solution([10, 20, 30, 40])  # 결과: 25.0"
      ],
      "metadata": {
        "id": "KFK11a8QPiCf"
      },
      "execution_count": null,
      "outputs": []
    },
    {
      "cell_type": "code",
      "source": [
        "# 문제5: 문자열의 길이를 반환하는 함수를 만드세요.\n",
        "def solution(text):\n",
        "    return len(text)\n",
        "\n",
        "solution(\"파이썬\")  # 결과: 3"
      ],
      "metadata": {
        "colab": {
          "base_uri": "https://localhost:8080/"
        },
        "id": "hyMIWz7YQrHI",
        "outputId": "9bc6e784-bdc7-4566-a7ae-b2598c54eb28"
      },
      "execution_count": null,
      "outputs": [
        {
          "output_type": "execute_result",
          "data": {
            "text/plain": [
              "3"
            ]
          },
          "metadata": {},
          "execution_count": 3
        }
      ]
    },
    {
      "cell_type": "code",
      "source": [
        "# 문제5: 문자열의 길이를 반환하는 함수를 만드세요.\n",
        "def solution(text):\n",
        "    count = 0\n",
        "    for _ in text:\n",
        "        count += 1\n",
        "    return count\n",
        "\n",
        "solution(\"파이썬\")  # 결과: 3"
      ],
      "metadata": {
        "colab": {
          "base_uri": "https://localhost:8080/"
        },
        "id": "Q_sEJ48CQtei",
        "outputId": "a4e6c221-4928-435a-c83e-c5111eb721fe"
      },
      "execution_count": null,
      "outputs": [
        {
          "output_type": "execute_result",
          "data": {
            "text/plain": [
              "3"
            ]
          },
          "metadata": {},
          "execution_count": 4
        }
      ]
    },
    {
      "cell_type": "code",
      "source": [
        "# 문제6: 리스트에서 가장 큰 수를 찾는 함수를 만드세요.\n",
        "def solution(numbers):\n",
        "    return max(numbers)\n",
        "\n",
        "solution([7, 12, 3, 8, 4])  # 결과: 12"
      ],
      "metadata": {
        "colab": {
          "base_uri": "https://localhost:8080/"
        },
        "id": "JbHbWYA8RKDe",
        "outputId": "189b9340-1b61-485e-d344-e9ba7d659b8d"
      },
      "execution_count": null,
      "outputs": [
        {
          "output_type": "execute_result",
          "data": {
            "text/plain": [
              "12"
            ]
          },
          "metadata": {},
          "execution_count": 5
        }
      ]
    },
    {
      "cell_type": "code",
      "source": [
        "# 문제6: 리스트에서 가장 큰 수를 찾는 함수를 만드세요.\n",
        "# sorted나 max와 같은 것을 안쓰고 반복문 만으로 풀어보겠습니다.\n",
        "# 다만 실제 문제를 이렇게 풀진 않습니다.\n",
        "# 원리에 다가간다는 의의가 있어요.\n",
        "# 최댓값 => 최솟값을 먼저 저장\n",
        "# 최솟값 => 최댓값을 먼저 저장\n",
        "def solution(numbers):\n",
        "    max_value = float('-inf')\n",
        "    for i in numbers:\n",
        "        if i > max_value:\n",
        "            max_value = i\n",
        "    return max(numbers)\n",
        "\n",
        "solution([7, 12, 3, 8, 4])  # 결과: 12"
      ],
      "metadata": {
        "colab": {
          "base_uri": "https://localhost:8080/"
        },
        "id": "V7CEjXu_RXZ1",
        "outputId": "146c4b7e-c08b-4aa2-aa9c-a8b5106b901e"
      },
      "execution_count": null,
      "outputs": [
        {
          "output_type": "execute_result",
          "data": {
            "text/plain": [
              "12"
            ]
          },
          "metadata": {},
          "execution_count": 10
        }
      ]
    },
    {
      "cell_type": "code",
      "source": [
        "float('inf') > 10\n",
        "float('-inf') > 10"
      ],
      "metadata": {
        "colab": {
          "base_uri": "https://localhost:8080/"
        },
        "id": "9rAYWbAiR4jt",
        "outputId": "00a748f6-7991-49c9-f775-0720eda7ca4f"
      },
      "execution_count": null,
      "outputs": [
        {
          "output_type": "execute_result",
          "data": {
            "text/plain": [
              "False"
            ]
          },
          "metadata": {},
          "execution_count": 9
        }
      ]
    },
    {
      "cell_type": "code",
      "source": [
        "# 문제7: 리스트에서 가장 작은 수를 찾는 함수를 만드세요.\n",
        "def solution(numbers):\n",
        "    return min(numbers)\n",
        "\n",
        "solution([7, 12, 3, 8, 4])  # 결과: 3"
      ],
      "metadata": {
        "id": "38LkOFVkSxWG"
      },
      "execution_count": null,
      "outputs": []
    },
    {
      "cell_type": "code",
      "source": [
        "# 문제7: 리스트에서 가장 작은 수를 찾는 함수를 만드세요.\n",
        "# 만약 비어있을 경우 -1을 반환하세요!\n",
        "def solution(numbers):\n",
        "    if len(numbers) == 0:\n",
        "        return -1\n",
        "    return min(numbers)\n",
        "\n",
        "solution([])"
      ],
      "metadata": {
        "colab": {
          "base_uri": "https://localhost:8080/"
        },
        "id": "Dm5hdLK6S75Y",
        "outputId": "0e66bc1f-0d4d-4206-e8ae-a47b54e2a142"
      },
      "execution_count": null,
      "outputs": [
        {
          "output_type": "execute_result",
          "data": {
            "text/plain": [
              "-1"
            ]
          },
          "metadata": {},
          "execution_count": 12
        }
      ]
    },
    {
      "cell_type": "code",
      "source": [
        "# 문제8: 문자열을 n번 반복하는 함수를 만드세요.\n",
        "def solution(text, n):\n",
        "    return text * n\n",
        "\n",
        "solution(\"안녕\", 3)  # 결과: \"안녕안녕안녕\""
      ],
      "metadata": {
        "colab": {
          "base_uri": "https://localhost:8080/",
          "height": 35
        },
        "id": "9He37G_QTvkU",
        "outputId": "cfe83acb-768a-4c25-bcb0-9ae2b34c0502"
      },
      "execution_count": null,
      "outputs": [
        {
          "output_type": "execute_result",
          "data": {
            "text/plain": [
              "'안녕안녕안녕'"
            ],
            "application/vnd.google.colaboratory.intrinsic+json": {
              "type": "string"
            }
          },
          "metadata": {},
          "execution_count": 13
        }
      ]
    },
    {
      "cell_type": "code",
      "source": [
        "# 문제9: 주어진 숫자가 짝수인지 확인하는 함수를 만드세요. (짝수면 True, 홀수면 False 반환)\n",
        "def solution(number):\n",
        "    if number % 2 == 0:\n",
        "        return True\n",
        "    else:\n",
        "        return False\n",
        "\n",
        "solution(6)  # 결과: True"
      ],
      "metadata": {
        "colab": {
          "base_uri": "https://localhost:8080/"
        },
        "id": "ERydN7rbTy7J",
        "outputId": "1c86725d-c148-4e38-c2b0-00bd6c8391b0"
      },
      "execution_count": null,
      "outputs": [
        {
          "output_type": "execute_result",
          "data": {
            "text/plain": [
              "True"
            ]
          },
          "metadata": {},
          "execution_count": 14
        }
      ]
    },
    {
      "cell_type": "markdown",
      "source": [
        "# 변수"
      ],
      "metadata": {
        "id": "XAFDXwL1RxmC"
      }
    },
    {
      "cell_type": "code",
      "source": [
        "a = 10\n",
        "b = a\n",
        "c = b\n",
        "\n",
        "c\n",
        "\n",
        "# 화살표는 어떻게 그려지는 것일까요? 답은 2번입니다!\n",
        "# 1번: c -> b -> a -> 10\n",
        "# 2번:\n",
        "#      a -> 10\n",
        "#      b -> 10\n",
        "#      c -> 10"
      ],
      "metadata": {
        "colab": {
          "base_uri": "https://localhost:8080/"
        },
        "id": "RsvymHo5RzGG",
        "outputId": "7c9e1b4b-f3bb-4d7f-bf73-d45b54931f7c"
      },
      "execution_count": null,
      "outputs": [
        {
          "output_type": "execute_result",
          "data": {
            "text/plain": [
              "10"
            ]
          },
          "metadata": {},
          "execution_count": 18
        }
      ]
    },
    {
      "cell_type": "code",
      "source": [
        "# 증명\n",
        "a = 10\n",
        "b = a\n",
        "c = b\n",
        "\n",
        "c"
      ],
      "metadata": {
        "colab": {
          "base_uri": "https://localhost:8080/"
        },
        "id": "TjOnARz-STmf",
        "outputId": "35c01620-9d12-41d3-e517-8957464f4e14"
      },
      "execution_count": null,
      "outputs": [
        {
          "output_type": "execute_result",
          "data": {
            "text/plain": [
              "10"
            ]
          },
          "metadata": {},
          "execution_count": 19
        }
      ]
    },
    {
      "cell_type": "code",
      "source": [
        "b = 100\n",
        "c"
      ],
      "metadata": {
        "colab": {
          "base_uri": "https://localhost:8080/"
        },
        "id": "ubZPRc71SgK6",
        "outputId": "cd43f138-7779-4a6f-8a1a-38827e7064cc"
      },
      "execution_count": null,
      "outputs": [
        {
          "output_type": "execute_result",
          "data": {
            "text/plain": [
              "10"
            ]
          },
          "metadata": {},
          "execution_count": 20
        }
      ]
    },
    {
      "cell_type": "code",
      "source": [
        "a = [1, 2, 3]\n",
        "b = a\n",
        "\n",
        "id(a), id(b)\n",
        "\n",
        "a.append(10)\n",
        "b"
      ],
      "metadata": {
        "colab": {
          "base_uri": "https://localhost:8080/"
        },
        "id": "6BwJjr41kIQr",
        "outputId": "13e0e836-199c-46da-daf4-e23b43465fc3"
      },
      "execution_count": null,
      "outputs": [
        {
          "output_type": "execute_result",
          "data": {
            "text/plain": [
              "[1, 2, 3, 10]"
            ]
          },
          "metadata": {},
          "execution_count": 69
        }
      ]
    },
    {
      "cell_type": "markdown",
      "source": [
        "# type, dir, id\n",
        "\n",
        "- type은 앞으로도 자주 사용됩니다. 왜냐하면 우리가 앞으로 사용할 데이터 자료형은 기본 자료형이 아닌 경우가 많기 때문이에요.\n",
        "- dir은 여러분이 해당 자료형에 있는 속성들을 파악하기 좋습니다.\n",
        "- id는 해당 자료형이 무엇을 가리키고 있는지 확인하기 좋습니다."
      ],
      "metadata": {
        "id": "k7_rTeeLT9rr"
      }
    },
    {
      "cell_type": "code",
      "source": [
        "l = [10, 20, 30, 40]\n",
        "print(type(l)) # print와 print를 안하는 것은 왜 차이가 있죠?"
      ],
      "metadata": {
        "colab": {
          "base_uri": "https://localhost:8080/"
        },
        "id": "f3xZ42SyUA4H",
        "outputId": "026b9d76-b41e-4e1c-ed80-7133f43da3fc"
      },
      "execution_count": null,
      "outputs": [
        {
          "output_type": "stream",
          "name": "stdout",
          "text": [
            "<class 'list'>\n"
          ]
        }
      ]
    },
    {
      "cell_type": "code",
      "source": [
        "print(type(hello))"
      ],
      "metadata": {
        "colab": {
          "base_uri": "https://localhost:8080/"
        },
        "id": "uY1Q_pJ6UgYA",
        "outputId": "899126cd-51ce-44cc-f1da-121ee061a06c"
      },
      "execution_count": null,
      "outputs": [
        {
          "output_type": "stream",
          "name": "stdout",
          "text": [
            "<class 'function'>\n"
          ]
        }
      ]
    },
    {
      "cell_type": "code",
      "source": [
        "a = 10\n",
        "print(type(a))"
      ],
      "metadata": {
        "colab": {
          "base_uri": "https://localhost:8080/"
        },
        "id": "ouxZ8L5zUozt",
        "outputId": "614e4ecc-ff33-4460-93e2-1fd363b96e05"
      },
      "execution_count": null,
      "outputs": [
        {
          "output_type": "stream",
          "name": "stdout",
          "text": [
            "<class 'int'>\n"
          ]
        }
      ]
    },
    {
      "cell_type": "code",
      "source": [
        "print(a)"
      ],
      "metadata": {
        "colab": {
          "base_uri": "https://localhost:8080/"
        },
        "id": "PFojpFdSU9ZD",
        "outputId": "6df4dd1f-0e46-4fcf-d2f0-be153003f1b8"
      },
      "execution_count": null,
      "outputs": [
        {
          "output_type": "stream",
          "name": "stdout",
          "text": [
            "10\n"
          ]
        }
      ]
    },
    {
      "cell_type": "code",
      "source": [
        "# 타입 확인이 이만큼 중요하다는 것을 보여드리기 위한 예제 2개\n",
        "\n",
        "# 예 1) 눈으로 10으로 보인다고 해서 int형이라고 생각하지 마세요.\n",
        "import numpy as np\n",
        "\n",
        "data = np.array(10)\n",
        "print(data)\n",
        "print(type(data))"
      ],
      "metadata": {
        "colab": {
          "base_uri": "https://localhost:8080/"
        },
        "id": "zndBc-j8VHhC",
        "outputId": "d1b3c8d7-98a6-4304-c3e9-d826886de9c6"
      },
      "execution_count": null,
      "outputs": [
        {
          "output_type": "stream",
          "name": "stdout",
          "text": [
            "10\n",
            "<class 'numpy.ndarray'>\n"
          ]
        }
      ]
    },
    {
      "cell_type": "code",
      "source": [
        "# 예 2) 타입을 확인해야 하는 이유는 아래와 같아요. 기본 연산이 다르기 때문이죠.\n",
        "print([1, 2, 3] + [4, 5, 6])\n",
        "print(np.array([1, 2, 3]) + np.array([4, 5, 6]))"
      ],
      "metadata": {
        "colab": {
          "base_uri": "https://localhost:8080/"
        },
        "id": "tXl7HMNdVorg",
        "outputId": "79c8b110-0cad-4ae4-90ad-3001f2890298"
      },
      "execution_count": null,
      "outputs": [
        {
          "output_type": "stream",
          "name": "stdout",
          "text": [
            "[1, 2, 3, 4, 5, 6]\n",
            "[5 7 9]\n"
          ]
        }
      ]
    },
    {
      "cell_type": "code",
      "source": [
        "l = [1, 2, 3, 4]\n",
        "dir(l) # 메서드 + 멤버\n",
        "\n",
        "# 이게 왜 중요할까? 코딩하다가 메서드 까먹을까봐 중요하다고 하신걸까?"
      ],
      "metadata": {
        "colab": {
          "base_uri": "https://localhost:8080/"
        },
        "id": "gSJ22FnHWeHX",
        "outputId": "2ac55c77-6e4b-43b2-9f7f-fdc510f08fec"
      },
      "execution_count": null,
      "outputs": [
        {
          "output_type": "execute_result",
          "data": {
            "text/plain": [
              "['__add__',\n",
              " '__class__',\n",
              " '__class_getitem__',\n",
              " '__contains__',\n",
              " '__delattr__',\n",
              " '__delitem__',\n",
              " '__dir__',\n",
              " '__doc__',\n",
              " '__eq__',\n",
              " '__format__',\n",
              " '__ge__',\n",
              " '__getattribute__',\n",
              " '__getitem__',\n",
              " '__getstate__',\n",
              " '__gt__',\n",
              " '__hash__',\n",
              " '__iadd__',\n",
              " '__imul__',\n",
              " '__init__',\n",
              " '__init_subclass__',\n",
              " '__iter__',\n",
              " '__le__',\n",
              " '__len__',\n",
              " '__lt__',\n",
              " '__mul__',\n",
              " '__ne__',\n",
              " '__new__',\n",
              " '__reduce__',\n",
              " '__reduce_ex__',\n",
              " '__repr__',\n",
              " '__reversed__',\n",
              " '__rmul__',\n",
              " '__setattr__',\n",
              " '__setitem__',\n",
              " '__sizeof__',\n",
              " '__str__',\n",
              " '__subclasshook__',\n",
              " 'append',\n",
              " 'clear',\n",
              " 'copy',\n",
              " 'count',\n",
              " 'extend',\n",
              " 'index',\n",
              " 'insert',\n",
              " 'pop',\n",
              " 'remove',\n",
              " 'reverse',\n",
              " 'sort']"
            ]
          },
          "metadata": {},
          "execution_count": 34
        }
      ]
    },
    {
      "cell_type": "code",
      "source": [
        "# 이 빌트인 펑션이 왜 중요하냐면, 앞으로 여러분들이 만날 자료형들은\n",
        "# 새롭게 만나는 자료형들입니다.\n",
        "# 예를 들어, 아래 타입을 한 번 살펴보도록 하겠습니다.\n",
        "\n",
        "import numpy as np\n",
        "\n",
        "data = np.array([[10, 20, 30], [40, 50, 60]])\n",
        "dir(data)\n",
        "# 아래 목록만 봐도 어떤 자료형인지 짐작할 수 있고\n",
        "# 원하는 메서드를 바로 발견할 수도 있습니다.\n",
        "\n",
        "print(data.T)"
      ],
      "metadata": {
        "colab": {
          "base_uri": "https://localhost:8080/"
        },
        "id": "4ceoeo-0YIsn",
        "outputId": "2de1da11-a242-45a8-f8d5-08bca9027659"
      },
      "execution_count": null,
      "outputs": [
        {
          "output_type": "stream",
          "name": "stdout",
          "text": [
            "[[10 40]\n",
            " [20 50]\n",
            " [30 60]]\n"
          ]
        }
      ]
    },
    {
      "cell_type": "code",
      "source": [
        "# id\n",
        "\n",
        "a = 10\n",
        "b = a\n",
        "c = b\n",
        "\n",
        "# 화살표는 어떻게 그렸죠?\n",
        "id(a), id(b), id(c)\n",
        "\n",
        "# id는 해당 변수가 가리키고 있는 최종 목적지"
      ],
      "metadata": {
        "colab": {
          "base_uri": "https://localhost:8080/"
        },
        "id": "RPP_Nu10dDVr",
        "outputId": "26cb6022-4bdc-4549-b7f8-6e098af84cba"
      },
      "execution_count": null,
      "outputs": [
        {
          "output_type": "execute_result",
          "data": {
            "text/plain": [
              "(10751144, 10751144, 10751144)"
            ]
          },
          "metadata": {},
          "execution_count": 41
        }
      ]
    },
    {
      "cell_type": "code",
      "source": [
        "a = 10\n",
        "b = 10\n",
        "\n",
        "id(a), id(b)\n",
        "\n",
        "# 다른 언어에서는 이 값이 다릅니다! 그러면 파이썬에서는 같은가요? 아니요!\n",
        "# 아니? 아래 같게 나왔는데요?"
      ],
      "metadata": {
        "colab": {
          "base_uri": "https://localhost:8080/"
        },
        "id": "1cjcK-fGdoeW",
        "outputId": "53aa368c-5418-46e1-83b1-0eea6afe64e8"
      },
      "execution_count": null,
      "outputs": [
        {
          "output_type": "execute_result",
          "data": {
            "text/plain": [
              "(10751144, 10751144)"
            ]
          },
          "metadata": {},
          "execution_count": 43
        }
      ]
    },
    {
      "cell_type": "code",
      "source": [
        "a = 10000\n",
        "b = 10000\n",
        "\n",
        "id(a), id(b)\n",
        "\n",
        "# 다르게 나왔네요?"
      ],
      "metadata": {
        "colab": {
          "base_uri": "https://localhost:8080/"
        },
        "id": "pcziOQjVeYo0",
        "outputId": "3ac62a87-d401-4de9-d441-26f94acc0cd8"
      },
      "execution_count": null,
      "outputs": [
        {
          "output_type": "execute_result",
          "data": {
            "text/plain": [
              "(133401993028752, 133401993030096)"
            ]
          },
          "metadata": {},
          "execution_count": 44
        }
      ]
    },
    {
      "cell_type": "markdown",
      "source": [
        "# print와 print를 안하는 것에 차이"
      ],
      "metadata": {
        "id": "H6_7K-8ccqzH"
      }
    },
    {
      "cell_type": "code",
      "source": [
        "# 아직 class를 안배웠지만, 이 차이를 설명하기 위해 잠시 이 코드를 사용하겠습니다.\n",
        "\n",
        "class CustomInt:\n",
        "    def __repr__(self):\n",
        "        return 'hello'\n",
        "\n",
        "    def __str__(self):\n",
        "        return 'hello world'\n",
        "\n",
        "    def __len__(self):\n",
        "        return 100"
      ],
      "metadata": {
        "id": "rHi2aU7ue6Fg"
      },
      "execution_count": null,
      "outputs": []
    },
    {
      "cell_type": "code",
      "source": [
        "a = CustomInt()\n",
        "\n",
        "a"
      ],
      "metadata": {
        "colab": {
          "base_uri": "https://localhost:8080/"
        },
        "id": "B02nQG1lfXYP",
        "outputId": "422a7403-e0bc-4418-eeaa-36ad3e2e4af7"
      },
      "execution_count": null,
      "outputs": [
        {
          "output_type": "execute_result",
          "data": {
            "text/plain": [
              "hello"
            ]
          },
          "metadata": {},
          "execution_count": 57
        }
      ]
    },
    {
      "cell_type": "code",
      "source": [
        "print(a)"
      ],
      "metadata": {
        "colab": {
          "base_uri": "https://localhost:8080/"
        },
        "id": "JeSdL9hyfd4n",
        "outputId": "e31a270a-e1dc-4cfa-828b-0b5ca0f96d8d"
      },
      "execution_count": null,
      "outputs": [
        {
          "output_type": "stream",
          "name": "stdout",
          "text": [
            "hello world\n"
          ]
        }
      ]
    },
    {
      "cell_type": "code",
      "source": [
        "len(a)"
      ],
      "metadata": {
        "colab": {
          "base_uri": "https://localhost:8080/"
        },
        "id": "852poJs5gf3K",
        "outputId": "1bb22c54-b9db-4c40-a9b5-6ba6f6a5968f"
      },
      "execution_count": null,
      "outputs": [
        {
          "output_type": "execute_result",
          "data": {
            "text/plain": [
              "100"
            ]
          },
          "metadata": {},
          "execution_count": 58
        }
      ]
    },
    {
      "cell_type": "code",
      "source": [
        "a = 10\n",
        "print(type(a))\n",
        "print(a)"
      ],
      "metadata": {
        "colab": {
          "base_uri": "https://localhost:8080/"
        },
        "id": "qbnMeLHufkrO",
        "outputId": "9fc43f94-571e-4bd8-cd7d-d8a933cbb0d9"
      },
      "execution_count": null,
      "outputs": [
        {
          "output_type": "stream",
          "name": "stdout",
          "text": [
            "<class 'int'>\n",
            "10\n"
          ]
        }
      ]
    },
    {
      "cell_type": "code",
      "source": [
        "a"
      ],
      "metadata": {
        "colab": {
          "base_uri": "https://localhost:8080/"
        },
        "id": "YVx-D-35f2W1",
        "outputId": "227ea7d9-57fb-4fe4-9adb-f155ad92a00b"
      },
      "execution_count": null,
      "outputs": [
        {
          "output_type": "execute_result",
          "data": {
            "text/plain": [
              "10"
            ]
          },
          "metadata": {},
          "execution_count": 50
        }
      ]
    },
    {
      "cell_type": "code",
      "source": [
        "# 아직 class를 안배웠지만, 이 차이를 설명하기 위해 잠시 이 코드를 사용하겠습니다.\n",
        "# repr이 있으면 str이 없어도 repr이 대체를 해줍니다!\n",
        "\n",
        "class CustomInt:\n",
        "    def __repr__(self):\n",
        "        return 'hello'\n",
        "\n",
        "test = CustomInt()\n",
        "# test\n",
        "print(test)"
      ],
      "metadata": {
        "colab": {
          "base_uri": "https://localhost:8080/"
        },
        "id": "MZN71WY7gxop",
        "outputId": "6cee5855-a24a-451b-945a-802bd3311367"
      },
      "execution_count": null,
      "outputs": [
        {
          "output_type": "stream",
          "name": "stdout",
          "text": [
            "hello\n"
          ]
        }
      ]
    },
    {
      "cell_type": "code",
      "source": [
        "# print     -> 해당 인스턴스에 __str__ 호출\n",
        "# 그냥 출력 -> 해당 인스턴스에 __repr__ 호출"
      ],
      "metadata": {
        "id": "FPSfkX75hJQ0"
      },
      "execution_count": null,
      "outputs": []
    },
    {
      "cell_type": "code",
      "source": [
        "a = 10\n",
        "dir(a)\n",
        "# a.__repr__() # 그냥 출력! 했을 때 실제 실행되는 함수\n",
        "# a.__str__() # print로 출력! 했을 때 실제 실행되는 함수"
      ],
      "metadata": {
        "colab": {
          "base_uri": "https://localhost:8080/",
          "height": 35
        },
        "id": "3Q-9CbDCjBkZ",
        "outputId": "e07012ec-a65a-4d08-eb1f-39fa8673b893"
      },
      "execution_count": null,
      "outputs": [
        {
          "output_type": "execute_result",
          "data": {
            "text/plain": [
              "'10'"
            ],
            "application/vnd.google.colaboratory.intrinsic+json": {
              "type": "string"
            }
          },
          "metadata": {},
          "execution_count": 67
        }
      ]
    },
    {
      "cell_type": "markdown",
      "source": [
        "# python built-in functions\n",
        "\n",
        "* 링크: https://docs.python.org/3/library/functions.html"
      ],
      "metadata": {
        "id": "LXw0GBR3jp_U"
      }
    },
    {
      "cell_type": "code",
      "source": [
        "# 자주 사용하는 functions\n",
        "abs\n",
        "all\n",
        "any\n",
        "bin\n",
        "enumerate\n",
        "len\n",
        "format\n",
        "input\n",
        "range\n",
        "\n",
        "sorted\n",
        "reversed\n",
        "\n",
        "filter\n",
        "map\n",
        "zip\n",
        "\n",
        "# isinstance # class파트에서 해드리겠습니다!\n",
        "# issubclass\n",
        "\n",
        "iter\n",
        "next\n",
        "\n",
        "locals\n",
        "globals\n",
        "\n",
        "max\n",
        "min\n",
        "sum"
      ],
      "metadata": {
        "id": "_e625zcpkpLn"
      },
      "execution_count": null,
      "outputs": []
    },
    {
      "cell_type": "code",
      "source": [
        "# 자료형을 만드는 built-in functions\n",
        "# int\n",
        "# float\n",
        "# str\n",
        "# complex\n",
        "# list\n",
        "# tuple\n",
        "# dict\n",
        "# set"
      ],
      "metadata": {
        "id": "YUw62vn6kw9L"
      },
      "execution_count": null,
      "outputs": []
    },
    {
      "cell_type": "code",
      "source": [
        "abs(-10) # 절대값\n",
        "all([True, True, False]) # 안에 있는 값이 다 True여야 True!\n",
        "any([True, True, False]) # 하나라도 True라면 True!\n",
        "bin(10) # 2진수로 바꿔줍니다. 알고리즘 문제에서 아주 간혹 출제 됩니다. 실무에서는 거의 쓸일이 없습니다.\n",
        "# oct()\n",
        "# hex()\n",
        "\n",
        "# 뽑힌 2진수를 10진수로 다시 바꾸고 싶을 때!\n",
        "int('1010', 2)"
      ],
      "metadata": {
        "id": "fMq7welbm7L_",
        "colab": {
          "base_uri": "https://localhost:8080/"
        },
        "outputId": "07ee0b26-c741-4527-8fba-4edaecf69faa"
      },
      "execution_count": null,
      "outputs": [
        {
          "output_type": "execute_result",
          "data": {
            "text/plain": [
              "10"
            ]
          },
          "metadata": {},
          "execution_count": 17
        }
      ]
    },
    {
      "cell_type": "code",
      "source": [
        "# 언패킹\n",
        "\n",
        "a, b = [10, 20]\n",
        "a, b, c, d, e = range(5)\n",
        "a, b = (10, 20)\n",
        "a, b = {\n",
        "    'one': 10,\n",
        "    'two': 20\n",
        "}\n",
        "\n",
        "a"
      ],
      "metadata": {
        "colab": {
          "base_uri": "https://localhost:8080/",
          "height": 35
        },
        "id": "fUS1b1dTYX9R",
        "outputId": "ab212244-e2e9-46f9-e192-070835f8b920"
      },
      "execution_count": null,
      "outputs": [
        {
          "output_type": "execute_result",
          "data": {
            "text/plain": [
              "'one'"
            ],
            "application/vnd.google.colaboratory.intrinsic+json": {
              "type": "string"
            }
          },
          "metadata": {},
          "execution_count": 26
        }
      ]
    },
    {
      "cell_type": "code",
      "source": [
        "# enumerate\n",
        "list(enumerate('hello'))\n",
        "list(enumerate('hello', 100))\n",
        "\n",
        "for i in enumerate('hello'):\n",
        "    print(i)\n",
        "\n",
        "for index, value in enumerate('hello'):\n",
        "    print(i)\n",
        "\n",
        "for i, v in enumerate('hello'):\n",
        "    print(i)\n",
        "\n",
        "for i in range(len('hello')): # 이렇게 쓰실거면\n",
        "    print(i)\n",
        "\n",
        "for i, _ in enumerate('hello'): # 이렇게 쓰시는 것을 권합니다.\n",
        "    print(i)"
      ],
      "metadata": {
        "colab": {
          "base_uri": "https://localhost:8080/"
        },
        "id": "glsdlDxfmEHe",
        "outputId": "55c544f1-274b-4461-fbe6-5bedbab055d1"
      },
      "execution_count": null,
      "outputs": [
        {
          "output_type": "stream",
          "name": "stdout",
          "text": [
            "(0, 'h')\n",
            "(1, 'e')\n",
            "(2, 'l')\n",
            "(3, 'l')\n",
            "(4, 'o')\n",
            "(4, 'o')\n",
            "(4, 'o')\n",
            "(4, 'o')\n",
            "(4, 'o')\n",
            "(4, 'o')\n",
            "0\n",
            "1\n",
            "2\n",
            "3\n",
            "4\n",
            "0\n",
            "1\n",
            "2\n",
            "3\n",
            "4\n",
            "0\n",
            "1\n",
            "2\n",
            "3\n",
            "4\n"
          ]
        }
      ]
    },
    {
      "cell_type": "code",
      "source": [
        "# len\n",
        "len([10, 20, 30])\n",
        "\n",
        "# format\n",
        "format(10, 'b')\n",
        "format(100000000, ',') # 이코드 정말 많이 쓰여요!\n",
        "\n",
        "# input\n",
        "input('입력하세요!') # 주의할점: 숫자를 입력해도 문자로 입력받습니다.\n",
        "\n",
        "# range\n",
        "# range(start, stop, step)\n",
        "# range는 리스트가 아니라! range 타입입니다! 2.x에서는 리스트였습니다."
      ],
      "metadata": {
        "colab": {
          "base_uri": "https://localhost:8080/",
          "height": 54
        },
        "id": "ZOjxtnbMZeKg",
        "outputId": "cb87c000-a6af-4fe3-97f3-9ee06981827f"
      },
      "execution_count": null,
      "outputs": [
        {
          "name": "stdout",
          "output_type": "stream",
          "text": [
            "입력하세요!10000\n"
          ]
        },
        {
          "output_type": "execute_result",
          "data": {
            "text/plain": [
              "'10000'"
            ],
            "application/vnd.google.colaboratory.intrinsic+json": {
              "type": "string"
            }
          },
          "metadata": {},
          "execution_count": 33
        }
      ]
    },
    {
      "cell_type": "code",
      "source": [
        "# sorted\n",
        "# 별표 5개\n",
        "\n",
        "s = [10, 20, 5, 4, 3, 8, 19, 3, 2]\n",
        "sorted(s) # 오름차순\n",
        "sorted(s, reverse=True) # 내림차순\n",
        "\n",
        "# 이게 왜 중요할까요? 이런 정렬을 할 때가 많습니다.\n",
        "# 실무에서도 많고, 알고리즘 문제에서도 많아요."
      ],
      "metadata": {
        "colab": {
          "base_uri": "https://localhost:8080/"
        },
        "id": "uVRAyO7TajHQ",
        "outputId": "ab5ad391-3717-4dfc-b500-71722fd48f76"
      },
      "execution_count": null,
      "outputs": [
        {
          "output_type": "execute_result",
          "data": {
            "text/plain": [
              "[20, 19, 10, 8, 5, 4, 3, 3, 2]"
            ]
          },
          "metadata": {},
          "execution_count": 35
        }
      ]
    },
    {
      "cell_type": "code",
      "source": [
        "# 학년, 반, 번, 이름, 국어, 영어, 수학\n",
        "data = [\n",
        "    [1, 1, 5, '홍길동', 78, 54, 39],          # 3\n",
        "    [1, 1, 2, '김철수', 92, 88, 75],          # 3\n",
        "    [1, 2, 7, '이', 87, 91, 82],              # 1\n",
        "    [1, 2, 3, '박민수', 65, 72, 84],          # 3\n",
        "    [1, 1, 8, '정수진', 91, 85, 93],          # 3\n",
        "    [1, 3, 1, '강', 76, 79, 88],              # 1\n",
        "    [1, 2, 4, '윤서연미래별하', 89, 94, 90],  # 7\n",
        "    [1, 3, 6, '장현우', 82, 67, 71],          # 3\n",
        "    [1, 1, 10, '조', 95, 89, 97],             # 1\n",
        "    [1, 3, 9, '최준호빛나라', 73, 80, 76]     # 6\n",
        "]\n",
        "\n",
        "# 문제 1 이름의 글자수 대로 정렬해주세요.\n",
        "def f(x):\n",
        "    return len(x[3])\n",
        "\n",
        "sorted(data, key=f)"
      ],
      "metadata": {
        "colab": {
          "base_uri": "https://localhost:8080/"
        },
        "id": "wx237RwSbYrn",
        "outputId": "d63a59bd-2211-4f0a-8766-cd4b31331702"
      },
      "execution_count": null,
      "outputs": [
        {
          "output_type": "execute_result",
          "data": {
            "text/plain": [
              "[[1, 2, 7, '이', 87, 91, 82],\n",
              " [1, 3, 1, '강', 76, 79, 88],\n",
              " [1, 1, 10, '조', 95, 89, 97],\n",
              " [1, 1, 5, '홍길동', 78, 54, 39],\n",
              " [1, 1, 2, '김철수', 92, 88, 75],\n",
              " [1, 2, 3, '박민수', 65, 72, 84],\n",
              " [1, 1, 8, '정수진', 91, 85, 93],\n",
              " [1, 3, 6, '장현우', 82, 67, 71],\n",
              " [1, 3, 9, '최준호빛나라', 73, 80, 76],\n",
              " [1, 2, 4, '윤서연미래별하', 89, 94, 90]]"
            ]
          },
          "metadata": {},
          "execution_count": 36
        }
      ]
    },
    {
      "cell_type": "code",
      "source": [
        "# 학년, 반, 번, 이름, 국어, 영어, 수학\n",
        "data = [\n",
        "    [1, 1, 5, '홍길동', 78, 54, 39],          # ?\n",
        "    [1, 1, 2, '김철수', 92, 88, 75],          # ?\n",
        "    [1, 2, 7, '이', 87, 91, 82],              # ?\n",
        "    [1, 2, 3, '박민수', 65, 72, 84],          # ?\n",
        "    [1, 1, 8, '정수진', 91, 85, 93],          # ?\n",
        "    [1, 3, 1, '강', 76, 79, 88],              # ?\n",
        "    [1, 2, 4, '윤서연미래별하', 89, 94, 90],  # ?\n",
        "    [1, 3, 6, '장현우', 82, 67, 71],          # ?\n",
        "    [1, 1, 10, '조', 95, 89, 97],             # ?\n",
        "    [1, 3, 9, '최준호빛나라', 73, 80, 76]     # ?\n",
        "]\n",
        "\n",
        "# 문제 2 평균대로 정렬해주세요. 지금 풀어주세요!\n",
        "def f(x):\n",
        "    return sum(x[4:])\n",
        "\n",
        "sorted(data, key=f, reverse=True)"
      ],
      "metadata": {
        "colab": {
          "base_uri": "https://localhost:8080/"
        },
        "id": "_RU1WtEHdl99",
        "outputId": "478e4571-a99b-417b-8661-6dc48039dc85"
      },
      "execution_count": null,
      "outputs": [
        {
          "output_type": "execute_result",
          "data": {
            "text/plain": [
              "[[1, 1, 10, '조', 95, 89, 97],\n",
              " [1, 2, 4, '윤서연미래별하', 89, 94, 90],\n",
              " [1, 1, 8, '정수진', 91, 85, 93],\n",
              " [1, 2, 7, '이', 87, 91, 82],\n",
              " [1, 1, 2, '김철수', 92, 88, 75],\n",
              " [1, 3, 1, '강', 76, 79, 88],\n",
              " [1, 3, 9, '최준호빛나라', 73, 80, 76],\n",
              " [1, 2, 3, '박민수', 65, 72, 84],\n",
              " [1, 3, 6, '장현우', 82, 67, 71],\n",
              " [1, 1, 5, '홍길동', 78, 54, 39]]"
            ]
          },
          "metadata": {},
          "execution_count": 50
        }
      ]
    },
    {
      "cell_type": "code",
      "source": [
        "# 학년, 반, 번, 이름, 국어, 영어, 수학\n",
        "data = [\n",
        "    [1, 1, 5, '홍길동', 78, 54, 39],          # ?\n",
        "    [1, 1, 2, '김철수', 92, 88, 75],          # ?\n",
        "    [1, 2, 7, '이', 87, 91, 82],              # ?\n",
        "    [1, 2, 3, '박민수', 65, 72, 84],          # ?\n",
        "    [1, 1, 8, '정수진', 91, 85, 93],          # ?\n",
        "    [1, 3, 1, '강', 76, 79, 88],              # ?\n",
        "    [1, 2, 4, '윤서연미래별하', 89, 94, 90],  # ?\n",
        "    [1, 3, 6, '장현우', 82, 67, 71],          # ?\n",
        "    [1, 1, 10, '조', 95, 89, 97],             # ?\n",
        "    [1, 3, 9, '최준호빛나라', 73, 80, 76]     # ?\n",
        "]\n",
        "\n",
        "# 문제 3 국어 점수와 수학 점수가 가장 점수차가 큰 순서대로 정렬해주세요.\n",
        "def f(x):\n",
        "    return abs(x[4] - x[6])\n",
        "\n",
        "sorted(data, key=f, reverse=True)"
      ],
      "metadata": {
        "colab": {
          "base_uri": "https://localhost:8080/"
        },
        "id": "tsLVRvkGmIcN",
        "outputId": "26bbac14-fc98-4a67-96fa-f9c0bf0404c9"
      },
      "execution_count": null,
      "outputs": [
        {
          "output_type": "execute_result",
          "data": {
            "text/plain": [
              "[[1, 1, 5, '홍길동', 78, 54, 39],\n",
              " [1, 2, 3, '박민수', 65, 72, 84],\n",
              " [1, 1, 2, '김철수', 92, 88, 75],\n",
              " [1, 3, 1, '강', 76, 79, 88],\n",
              " [1, 3, 6, '장현우', 82, 67, 71],\n",
              " [1, 2, 7, '이', 87, 91, 82],\n",
              " [1, 3, 9, '최준호빛나라', 73, 80, 76],\n",
              " [1, 1, 8, '정수진', 91, 85, 93],\n",
              " [1, 1, 10, '조', 95, 89, 97],\n",
              " [1, 2, 4, '윤서연미래별하', 89, 94, 90]]"
            ]
          },
          "metadata": {},
          "execution_count": 51
        }
      ]
    },
    {
      "cell_type": "code",
      "source": [
        "# 1차원의 점들이 주어졌을 때,\n",
        "# 그 중 가장 거리가 짧은 것의 쌍을 출력하는 함수를 작성하시오.\n",
        "# (단 점들의 배열은 모두 정렬되어있다고 가정한다.)\n",
        "\n",
        "# 예를들어 S={1, 3, 4, 8, 13, 17, 20} 이 주어졌다면, 결과값은 (3, 4)가 될 것이다.\n",
        "\n",
        "# 이렇게 풀지 마세요. 파이써닉하지 않습니다.\n",
        "s = [1, 3, 4, 8, 13, 17, 20]\n",
        "\n",
        "for i in range(len(s)):\n",
        "    pass"
      ],
      "metadata": {
        "id": "MctXXe7unr3g"
      },
      "execution_count": null,
      "outputs": []
    },
    {
      "cell_type": "code",
      "source": [
        "data = [\n",
        "    [1, 3],\n",
        "    [3, 4],\n",
        "    [4, 8],\n",
        "    [8, 13],\n",
        "    [13, 17],\n",
        "    [17, 20],\n",
        "]\n",
        "\n",
        "def f(x):\n",
        "    return x[1] - x[0]\n",
        "\n",
        "sorted(data, key=f)"
      ],
      "metadata": {
        "colab": {
          "base_uri": "https://localhost:8080/"
        },
        "id": "jEg1FMLtoTps",
        "outputId": "b1f0a1c7-952d-4f48-b7c0-6b939a399d06"
      },
      "execution_count": null,
      "outputs": [
        {
          "output_type": "execute_result",
          "data": {
            "text/plain": [
              "[[3, 4], [1, 3], [17, 20], [4, 8], [13, 17], [8, 13]]"
            ]
          },
          "metadata": {},
          "execution_count": 52
        }
      ]
    },
    {
      "cell_type": "code",
      "source": [
        "s = [1, 3, 4, 8, 13, 17, 20]\n",
        "\n",
        "def f(x):\n",
        "    return x[1] - x[0]\n",
        "\n",
        "sorted(zip(s, s[1:]), key=f)"
      ],
      "metadata": {
        "colab": {
          "base_uri": "https://localhost:8080/"
        },
        "id": "1vZfRvCtpCPZ",
        "outputId": "7a25c2c9-bf94-4c34-9ab4-2754b3418aad"
      },
      "execution_count": null,
      "outputs": [
        {
          "output_type": "execute_result",
          "data": {
            "text/plain": [
              "[(1, 3), (3, 4), (4, 8), (8, 13), (13, 17), (17, 20)]"
            ]
          },
          "metadata": {},
          "execution_count": 53
        }
      ]
    },
    {
      "cell_type": "code",
      "source": [
        "# sorted에서 자주 나오는 유형2번째!\n",
        "# 정렬 기준이 나에게 없는경우!?\n",
        "\n",
        "data1 = [\n",
        "    'Moby Dick',              # 1851\n",
        "    'To Kill a Mockingbird',  # 1960\n",
        "    '1984'                    # 1949\n",
        "    ]\n",
        "data2 = {'Moby Dick': 1851, 'To Kill a Mockingbird': 1960, '1984': 1949}\n",
        "\n",
        "def f(x):\n",
        "    return data2[x]\n",
        "\n",
        "sorted(data1, key=f)"
      ],
      "metadata": {
        "colab": {
          "base_uri": "https://localhost:8080/"
        },
        "id": "cAeXw1LJpazV",
        "outputId": "340589c4-d27e-4160-9bc2-32eaf0e03b8d"
      },
      "execution_count": null,
      "outputs": [
        {
          "output_type": "execute_result",
          "data": {
            "text/plain": [
              "['Moby Dick', '1984', 'To Kill a Mockingbird']"
            ]
          },
          "metadata": {},
          "execution_count": 54
        }
      ]
    },
    {
      "cell_type": "code",
      "source": [
        "# 우편번호 정렬\n",
        "# 우편번호 오름차순 순서대로 주소를 정렬하는 코드\n",
        "data = [\n",
        "    ['A동',\n",
        "     'B동',\n",
        "     'C동'],\n",
        "    {'A동': 63007, 'B동': 63010, 'C동': 63002}\n",
        "]\n",
        "\n",
        "data1 = data[0]\n",
        "data2 = data[1]\n",
        "\n",
        "def f(x):\n",
        "    return data2[x]\n",
        "\n",
        "sorted(data1, key=f)"
      ],
      "metadata": {
        "id": "aYQ53eLHrfpm"
      },
      "execution_count": null,
      "outputs": []
    },
    {
      "cell_type": "code",
      "source": [
        "# 특정 형태의 함수가 들어가야 하나요? 아닙니다. 일반 def 되는 함수 또는 lambda 함수 모두 함수의 형태면 가능합니다!\n",
        "# 이 함수의 return 되는 값에 따라 정렬을 해줍니다."
      ],
      "metadata": {
        "id": "ZD5NoZQJfOHQ"
      },
      "execution_count": null,
      "outputs": []
    },
    {
      "cell_type": "code",
      "source": [
        "def user_f(aaa, bbb=100):\n",
        "    return aaa + bbb\n",
        "\n",
        "user_f(1000)"
      ],
      "metadata": {
        "colab": {
          "base_uri": "https://localhost:8080/"
        },
        "id": "Ys5yXQ44d4sJ",
        "outputId": "0475cf0f-a87d-46d2-d01f-903161eb8395"
      },
      "execution_count": null,
      "outputs": [
        {
          "output_type": "execute_result",
          "data": {
            "text/plain": [
              "1100"
            ]
          },
          "metadata": {},
          "execution_count": 37
        }
      ]
    },
    {
      "cell_type": "code",
      "source": [
        "def user_f(aaa, bbb=100):\n",
        "    return aaa + bbb\n",
        "\n",
        "user_f(1000, bbb=10000)"
      ],
      "metadata": {
        "colab": {
          "base_uri": "https://localhost:8080/"
        },
        "id": "ARu3tRPIeHQB",
        "outputId": "f8d70018-16f2-4cf2-de83-08ae24a258c2"
      },
      "execution_count": null,
      "outputs": [
        {
          "output_type": "execute_result",
          "data": {
            "text/plain": [
              "11000"
            ]
          },
          "metadata": {},
          "execution_count": 38
        }
      ]
    },
    {
      "cell_type": "code",
      "source": [
        "# 학년, 반, 번, 이름, 국어, 영어, 수학\n",
        "data = [\n",
        "    [1, 1, 5, '홍길동', 78, 54, 39],          # [1, 2, 3]\n",
        "    [1, 1, 2, '김철수', 92, 88, 75],          # [1, 2, 3]\n",
        "    [1, 2, 7, '이', 87, 91, 82],              # [1, 2, 3]\n",
        "    [1, 2, 3, '박민수', 65, 72, 84],          # [1, 2, 3]\n",
        "    [1, 1, 8, '정수진', 91, 85, 93],          # [1, 2, 3]\n",
        "    [1, 3, 1, '강', 76, 79, 88],              # [1, 2, 3]\n",
        "    [1, 2, 4, '윤서연미래별하', 89, 94, 90],  # [1, 2, 3]\n",
        "    [1, 3, 6, '장현우', 82, 67, 71],          # [1, 2, 3]\n",
        "    [1, 1, 10, '조', 95, 89, 97],             # [1, 2, 3]\n",
        "    [1, 3, 9, '최준호빛나라', 73, 80, 76]     # [1, 2, 3]\n",
        "]\n",
        "\n",
        "# Q&A 반환값이 아래와 같이 동일하면 어떻게 되나요? 그대로 줍니다.\n",
        "def f(x):\n",
        "    return [1, 2, 3]\n",
        "\n",
        "sorted(data, key=f)"
      ],
      "metadata": {
        "colab": {
          "base_uri": "https://localhost:8080/"
        },
        "id": "kGgiZNR3fpPe",
        "outputId": "a08ab5af-050e-4295-c8ed-5d0a7f6d9f72"
      },
      "execution_count": null,
      "outputs": [
        {
          "output_type": "execute_result",
          "data": {
            "text/plain": [
              "[[1, 1, 5, '홍길동', 78, 54, 39],\n",
              " [1, 1, 2, '김철수', 92, 88, 75],\n",
              " [1, 2, 7, '이', 87, 91, 82],\n",
              " [1, 2, 3, '박민수', 65, 72, 84],\n",
              " [1, 1, 8, '정수진', 91, 85, 93],\n",
              " [1, 3, 1, '강', 76, 79, 88],\n",
              " [1, 2, 4, '윤서연미래별하', 89, 94, 90],\n",
              " [1, 3, 6, '장현우', 82, 67, 71],\n",
              " [1, 1, 10, '조', 95, 89, 97],\n",
              " [1, 3, 9, '최준호빛나라', 73, 80, 76]]"
            ]
          },
          "metadata": {},
          "execution_count": 39
        }
      ]
    },
    {
      "cell_type": "code",
      "source": [
        "# 학년, 반, 번, 이름, 국어, 영어, 수학\n",
        "data = [\n",
        "    [1, 1, 5, '홍길동', 78, 54, 39],          # 10\n",
        "    [1, 1, 2, '김철수', 92, 88, 75],          # 10\n",
        "    [1, 2, 7, '이', 87, 91, 82],              # 10\n",
        "    [1, 2, 3, '박민수', 65, 72, 84],          # 10\n",
        "    [1, 1, 8, '정수진', 91, 85, 93],          # 10\n",
        "    [1, 3, 1, '강', 76, 79, 88],              # 10\n",
        "    [1, 2, 4, '윤서연미래별하', 89, 94, 90],  # 10\n",
        "    [1, 3, 6, '장현우', 82, 67, 71],          # 10\n",
        "    [1, 1, 10, '조', 95, 89, 97],             # 10\n",
        "    [1, 3, 9, '최준호빛나라', 73, 80, 76]     # 10\n",
        "]\n",
        "\n",
        "# Q&A 반환값이 아래와 같이 동일하면 어떻게 되나요? 그대로 줍니다.\n",
        "def f(x):\n",
        "    return 10\n",
        "\n",
        "sorted(data, key=f)"
      ],
      "metadata": {
        "colab": {
          "base_uri": "https://localhost:8080/"
        },
        "id": "AMlq79qJgdRs",
        "outputId": "0f7d9a8d-d1cf-4eec-f708-83dbd8a03271"
      },
      "execution_count": null,
      "outputs": [
        {
          "output_type": "execute_result",
          "data": {
            "text/plain": [
              "[[1, 1, 5, '홍길동', 78, 54, 39],\n",
              " [1, 1, 2, '김철수', 92, 88, 75],\n",
              " [1, 2, 7, '이', 87, 91, 82],\n",
              " [1, 2, 3, '박민수', 65, 72, 84],\n",
              " [1, 1, 8, '정수진', 91, 85, 93],\n",
              " [1, 3, 1, '강', 76, 79, 88],\n",
              " [1, 2, 4, '윤서연미래별하', 89, 94, 90],\n",
              " [1, 3, 6, '장현우', 82, 67, 71],\n",
              " [1, 1, 10, '조', 95, 89, 97],\n",
              " [1, 3, 9, '최준호빛나라', 73, 80, 76]]"
            ]
          },
          "metadata": {},
          "execution_count": 41
        }
      ]
    },
    {
      "cell_type": "code",
      "source": [
        "# 학년, 반, 번, 이름, 국어, 영어, 수학\n",
        "data = [\n",
        "    [1, 1, 5, '홍길동', 78, 54, 39],          # 10\n",
        "    [1, 1, 2, '김철수', 92, 88, 75],          # 10\n",
        "    [1, 2, 7, '이', 87, 91, 82],              # 10\n",
        "    [1, 2, 3, '박민수', 65, 72, 84],          # 10\n",
        "    [1, 1, 8, '정수진', 91, 85, 93],          # 10\n",
        "    [1, 3, 1, '강', 76, 79, 88],              # 10\n",
        "    [1, 2, 4, '윤서연미래별하', 89, 94, 90],  # 10\n",
        "    [1, 3, 6, '장현우', 82, 67, 71],          # 10\n",
        "    [1, 1, 10, '조', 95, 89, 97],             # 10\n",
        "    [1, 3, 9, '최준호빛나라', 73, 80, 76]     # 10\n",
        "]\n",
        "\n",
        "# Q&A 글자에서 1이 얼마나 들어가는지만 카운트 하는 sorted를 구현하고 싶다면 어떻게 해야 하나요?\n",
        "def user_count(x):\n",
        "    return ''.join(map(str, x)).count('1')\n",
        "\n",
        "sorted(data, key=user_count)"
      ],
      "metadata": {
        "colab": {
          "base_uri": "https://localhost:8080/"
        },
        "id": "3PNd-CR4goX7",
        "outputId": "20715488-989b-49e0-bd12-ef44b0156b9e"
      },
      "execution_count": null,
      "outputs": [
        {
          "output_type": "execute_result",
          "data": {
            "text/plain": [
              "[[1, 2, 3, '박민수', 65, 72, 84],\n",
              " [1, 2, 4, '윤서연미래별하', 89, 94, 90],\n",
              " [1, 3, 9, '최준호빛나라', 73, 80, 76],\n",
              " [1, 1, 5, '홍길동', 78, 54, 39],\n",
              " [1, 1, 2, '김철수', 92, 88, 75],\n",
              " [1, 2, 7, '이', 87, 91, 82],\n",
              " [1, 3, 1, '강', 76, 79, 88],\n",
              " [1, 3, 6, '장현우', 82, 67, 71],\n",
              " [1, 1, 8, '정수진', 91, 85, 93],\n",
              " [1, 1, 10, '조', 95, 89, 97]]"
            ]
          },
          "metadata": {},
          "execution_count": 47
        }
      ]
    },
    {
      "cell_type": "code",
      "source": [
        "# Q&A 구현한 함수 말고 built-in functions 그대로 사용할 수 있나요? 네!\n",
        "data = [\n",
        "    '홍',\n",
        "    '홍길동',\n",
        "    '길동',\n",
        "    '장현우',\n",
        "    '조'\n",
        "]\n",
        "\n",
        "\n",
        "sorted(data, key=len)"
      ],
      "metadata": {
        "colab": {
          "base_uri": "https://localhost:8080/"
        },
        "id": "o-1N07uQhqS9",
        "outputId": "7c1f68d4-9208-4bce-bad9-31e4411e7253"
      },
      "execution_count": null,
      "outputs": [
        {
          "output_type": "execute_result",
          "data": {
            "text/plain": [
              "['홍', '조', '길동', '홍길동', '장현우']"
            ]
          },
          "metadata": {},
          "execution_count": 48
        }
      ]
    },
    {
      "cell_type": "code",
      "source": [
        "# ''.join([1, 1, 5, '홍길동', 78, 54, 39])\n",
        "''.join(map(str, [1, 1, 5, '홍길동', 78, 54, 39])).count('1')"
      ],
      "metadata": {
        "colab": {
          "base_uri": "https://localhost:8080/"
        },
        "id": "bAhwd85rg-Pw",
        "outputId": "70e16f52-aadb-4f42-cff0-d2cf12f5e6fc"
      },
      "execution_count": null,
      "outputs": [
        {
          "output_type": "execute_result",
          "data": {
            "text/plain": [
              "2"
            ]
          },
          "metadata": {},
          "execution_count": 44
        }
      ]
    },
    {
      "cell_type": "code",
      "source": [
        "list(reversed([10, 20, 30]))"
      ],
      "metadata": {
        "colab": {
          "base_uri": "https://localhost:8080/"
        },
        "id": "qdoSA9FktsKF",
        "outputId": "e8170112-3780-454a-9a19-576ba55864ac"
      },
      "execution_count": null,
      "outputs": [
        {
          "output_type": "execute_result",
          "data": {
            "text/plain": [
              "[30, 20, 10]"
            ]
          },
          "metadata": {},
          "execution_count": 56
        }
      ]
    },
    {
      "cell_type": "code",
      "source": [
        "list(range(10))"
      ],
      "metadata": {
        "colab": {
          "base_uri": "https://localhost:8080/"
        },
        "id": "DDW0jbtit2js",
        "outputId": "2a77e15d-a3c2-4ef7-f19f-24bc72f5db96"
      },
      "execution_count": null,
      "outputs": [
        {
          "output_type": "execute_result",
          "data": {
            "text/plain": [
              "[0, 1, 2, 3, 4, 5, 6, 7, 8, 9]"
            ]
          },
          "metadata": {},
          "execution_count": 58
        }
      ]
    },
    {
      "cell_type": "code",
      "source": [
        "filter\n",
        "map\n",
        "zip\n",
        "\n",
        "# isinstance # class파트에서 해드리겠습니다!\n",
        "# issubclass\n",
        "\n",
        "iter\n",
        "next\n",
        "\n",
        "locals\n",
        "globals\n",
        "\n",
        "max\n",
        "min\n",
        "sum"
      ],
      "metadata": {
        "colab": {
          "base_uri": "https://localhost:8080/"
        },
        "id": "OoTsZinzuTGe",
        "outputId": "52f718cd-c2cf-4650-b6b9-29271fc0e75e"
      },
      "execution_count": null,
      "outputs": [
        {
          "output_type": "execute_result",
          "data": {
            "text/plain": [
              "<list_reverseiterator at 0x7fe16132b610>"
            ]
          },
          "metadata": {},
          "execution_count": 59
        }
      ]
    },
    {
      "cell_type": "code",
      "source": [
        "result = 0\n",
        "for i in range(1, 11):\n",
        "    if i % 2 == 0:\n",
        "        result += i\n",
        "\n",
        "result"
      ],
      "metadata": {
        "colab": {
          "base_uri": "https://localhost:8080/"
        },
        "id": "DjXr-IeCuZpA",
        "outputId": "6886f998-a78c-44af-ba6c-0199b13a0c02"
      },
      "execution_count": null,
      "outputs": [
        {
          "output_type": "execute_result",
          "data": {
            "text/plain": [
              "30"
            ]
          },
          "metadata": {},
          "execution_count": 60
        }
      ]
    },
    {
      "cell_type": "code",
      "source": [
        "def f(x):\n",
        "    return x % 2 == 0\n",
        "\n",
        "list(filter(f, range(1, 11)))"
      ],
      "metadata": {
        "colab": {
          "base_uri": "https://localhost:8080/"
        },
        "id": "m3WBN1q_u7Ro",
        "outputId": "5a373535-bdee-494d-bdcb-da9cc90587ed"
      },
      "execution_count": null,
      "outputs": [
        {
          "output_type": "execute_result",
          "data": {
            "text/plain": [
              "[2, 4, 6, 8, 10]"
            ]
          },
          "metadata": {},
          "execution_count": 62
        }
      ]
    },
    {
      "cell_type": "code",
      "source": [
        "def f(x):\n",
        "    return x % 2 == 0\n",
        "\n",
        "sum(filter(f, range(1, 11)))"
      ],
      "metadata": {
        "colab": {
          "base_uri": "https://localhost:8080/"
        },
        "id": "ldu3t2o6va-k",
        "outputId": "3d892fbf-0d7e-4d2a-9ac4-67305effecd3"
      },
      "execution_count": null,
      "outputs": [
        {
          "output_type": "execute_result",
          "data": {
            "text/plain": [
              "30"
            ]
          },
          "metadata": {},
          "execution_count": 63
        }
      ]
    },
    {
      "cell_type": "code",
      "source": [
        "# 항공사, 편명, 좌석번호, 이름, 나이, 짐무게(kg), 마일리지\n",
        "data = [\n",
        "    ['대한항공', 'KE607', '12A', '김민준', 42, 23, 5280],\n",
        "    ['아시아나', 'OZ721', '8C', '이', 29, 18, 3450],\n",
        "    ['제주항공', '7C101', '15F', '박지민', 35, 15, 720],\n",
        "    ['진에어', 'LJ211', '4D', '최서우미래한별', 51, 27, 8900],\n",
        "    ['에어부산', 'BX213', '21B', '정', 24, 12, 1250],\n",
        "    ['티웨이', 'TW305', '19E', '강민석', 38, 20, 2760],\n",
        "    ['에어서울', 'RS808', '3C', '윤지현', 47, 16, 4320],\n",
        "    ['대한항공', 'KE123', '7F', '송', 33, 21, 6780],\n",
        "    ['아시아나', 'OZ562', '11D', '장하은별님달빛', 26, 19, 1890],\n",
        "    ['제주항공', '7C505', '17B', '황수진', 40, 14, 940]\n",
        "]\n",
        "\n",
        "def f(x):\n",
        "    return x[4] >= 30\n",
        "\n",
        "for i in filter(f, data):\n",
        "    print(i)"
      ],
      "metadata": {
        "colab": {
          "base_uri": "https://localhost:8080/"
        },
        "id": "CwC8CMKnvy9l",
        "outputId": "ff187f84-bea9-4d2b-c0a2-a108b55137e4"
      },
      "execution_count": null,
      "outputs": [
        {
          "output_type": "stream",
          "name": "stdout",
          "text": [
            "['대한항공', 'KE607', '12A', '김민준', 42, 23, 5280]\n",
            "['제주항공', '7C101', '15F', '박지민', 35, 15, 720]\n",
            "['진에어', 'LJ211', '4D', '최서우미래한별', 51, 27, 8900]\n",
            "['티웨이', 'TW305', '19E', '강민석', 38, 20, 2760]\n",
            "['에어서울', 'RS808', '3C', '윤지현', 47, 16, 4320]\n",
            "['대한항공', 'KE123', '7F', '송', 33, 21, 6780]\n",
            "['제주항공', '7C505', '17B', '황수진', 40, 14, 940]\n"
          ]
        }
      ]
    },
    {
      "cell_type": "code",
      "source": [
        "# list 변환하는 것은 하나씩 순회를 돌며 메모리에 적제하기 때문에 아래와 같은 경우\n",
        "# 효율이 나쁩니다.\n",
        "\n",
        "# map(함수, iterable)\n",
        "\n",
        "def f(x):\n",
        "    return x**2\n",
        "\n",
        "list(map(f, [1, 2, 3, 4]))"
      ],
      "metadata": {
        "colab": {
          "base_uri": "https://localhost:8080/"
        },
        "id": "6BL3x6vzF8rf",
        "outputId": "3cd66ceb-69ff-472c-f7db-bdb97c9b101e"
      },
      "execution_count": null,
      "outputs": [
        {
          "output_type": "execute_result",
          "data": {
            "text/plain": [
              "[1, 4, 9, 16]"
            ]
          },
          "metadata": {},
          "execution_count": 66
        }
      ]
    },
    {
      "cell_type": "code",
      "source": [
        "# 항공사, 편명, 좌석번호, 이름, 나이, 짐무게(kg), 마일리지\n",
        "data = [\n",
        "    ['대한항공', 'KE607', '12A', '김민준', 42, 23, 5280],\n",
        "    ['아시아나', 'OZ721', '8C', '이', 29, 18, 3450],\n",
        "    ['제주항공', '7C101', '15F', '박지민', 35, 15, 720],\n",
        "    ['진에어', 'LJ211', '4D', '최서우미래한별', 51, 27, 8900],\n",
        "    ['에어부산', 'BX213', '21B', '정', 24, 12, 1250],\n",
        "    ['티웨이', 'TW305', '19E', '강민석', 38, 20, 2760],\n",
        "    ['에어서울', 'RS808', '3C', '윤지현', 47, 16, 4320],\n",
        "    ['대한항공', 'KE123', '7F', '송', 33, 21, 6780],\n",
        "    ['아시아나', 'OZ562', '11D', '장하은별님달빛', 26, 19, 1890],\n",
        "    ['제주항공', '7C505', '17B', '황수진', 40, 14, 940]\n",
        "]\n",
        "\n",
        "# filter와 동일한 함수를 썼을 경우\n",
        "def f(x):\n",
        "    return x[4] >= 30\n",
        "\n",
        "list(map(f, data)) # [True, False, True, True, False, True, True, True, False, True]"
      ],
      "metadata": {
        "colab": {
          "base_uri": "https://localhost:8080/"
        },
        "id": "O15CMNckHk6M",
        "outputId": "ce3042d2-7647-4455-9ee0-2a8de261915a"
      },
      "execution_count": null,
      "outputs": [
        {
          "output_type": "execute_result",
          "data": {
            "text/plain": [
              "[True, False, True, True, False, True, True, True, False, True]"
            ]
          },
          "metadata": {},
          "execution_count": 67
        }
      ]
    },
    {
      "cell_type": "code",
      "source": [
        "# 항공사, 편명, 좌석번호, 이름, 나이, 짐무게(kg), 마일리지\n",
        "data = [\n",
        "    ['대한항공', 'KE607', '12A', '김민준', 42, 23, 5280],\n",
        "    ['아시아나', 'OZ721', '8C', '이', 29, 18, 3450],\n",
        "    ['제주항공', '7C101', '15F', '박지민', 35, 15, 720],\n",
        "    ['진에어', 'LJ211', '4D', '최서우미래한별', 51, 27, 8900],\n",
        "    ['에어부산', 'BX213', '21B', '정', 24, 12, 1250],\n",
        "    ['티웨이', 'TW305', '19E', '강민석', 38, 20, 2760],\n",
        "    ['에어서울', 'RS808', '3C', '윤지현', 47, 16, 4320],\n",
        "    ['대한항공', 'KE123', '7F', '송', 33, 21, 6780],\n",
        "    ['아시아나', 'OZ562', '11D', '장하은별님달빛', 26, 19, 1890],\n",
        "    ['제주항공', '7C505', '17B', '황수진', 40, 14, 940]\n",
        "]\n",
        "\n",
        "# 새로운 리스트를 만들 값을 return 해줬을 때\n",
        "def f(x):\n",
        "    return x[4]\n",
        "\n",
        "list(map(f, data)) # [42, 29, 35, 51, 24, 38, 47, 33, 26, 40]"
      ],
      "metadata": {
        "colab": {
          "base_uri": "https://localhost:8080/"
        },
        "id": "1KLpj5naHwwP",
        "outputId": "785a35bd-d58e-464a-ddd3-0441a24b50c9"
      },
      "execution_count": null,
      "outputs": [
        {
          "output_type": "execute_result",
          "data": {
            "text/plain": [
              "[42, 29, 35, 51, 24, 38, 47, 33, 26, 40]"
            ]
          },
          "metadata": {},
          "execution_count": 68
        }
      ]
    },
    {
      "cell_type": "code",
      "source": [
        "# 항공사, 편명, 좌석번호, 이름, 나이, 짐무게(kg), 마일리지\n",
        "data = [\n",
        "    ['대한항공', 'KE607', '12A', '김민준', 42, 23, 5280],\n",
        "    ['아시아나', 'OZ721', '8C', '이', 29, 18, 3450],\n",
        "    ['제주항공', '7C101', '15F', '박지민', 35, 15, 720],\n",
        "    ['진에어', 'LJ211', '4D', '최서우미래한별', 51, 27, 8900],\n",
        "    ['에어부산', 'BX213', '21B', '정', 24, 12, 1250],\n",
        "    ['티웨이', 'TW305', '19E', '강민석', 38, 20, 2760],\n",
        "    ['에어서울', 'RS808', '3C', '윤지현', 47, 16, 4320],\n",
        "    ['대한항공', 'KE123', '7F', '송', 33, 21, 6780],\n",
        "    ['아시아나', 'OZ562', '11D', '장하은별님달빛', 26, 19, 1890],\n",
        "    ['제주항공', '7C505', '17B', '황수진', 40, 14, 940]\n",
        "]\n",
        "\n",
        "# 새로운 리스트를 만들 값을 return 해줬을 때\n",
        "def f(x):\n",
        "    return 1\n",
        "\n",
        "list(map(f, data)) # [1, 1, 1, 1, ...]"
      ],
      "metadata": {
        "colab": {
          "base_uri": "https://localhost:8080/"
        },
        "id": "Yle4GnyKIgoe",
        "outputId": "4eca4f2a-1b25-4fb9-fb04-397a5742ea46"
      },
      "execution_count": null,
      "outputs": [
        {
          "output_type": "execute_result",
          "data": {
            "text/plain": [
              "[1, 1, 1, 1, 1, 1, 1, 1, 1, 1]"
            ]
          },
          "metadata": {},
          "execution_count": 69
        }
      ]
    },
    {
      "cell_type": "code",
      "source": [
        "# 항공사, 편명, 좌석번호, 이름, 나이, 짐무게(kg), 마일리지\n",
        "data = [\n",
        "    ['대한항공', 'KE607', '12A', '김민준', 42, 23, 5280],\n",
        "    ['아시아나', 'OZ721', '8C', '이', 29, 18, 3450],\n",
        "    ['제주항공', '7C101', '15F', '박지민', 35, 15, 720],\n",
        "    ['진에어', 'LJ211', '4D', '최서우미래한별', 51, 27, 8900],\n",
        "    ['에어부산', 'BX213', '21B', '정', 24, 12, 1250],\n",
        "    ['티웨이', 'TW305', '19E', '강민석', 38, 20, 2760],\n",
        "    ['에어서울', 'RS808', '3C', '윤지현', 47, 16, 4320],\n",
        "    ['대한항공', 'KE123', '7F', '송', 33, 21, 6780],\n",
        "    ['아시아나', 'OZ562', '11D', '장하은별님달빛', 26, 19, 1890],\n",
        "    ['제주항공', '7C505', '17B', '황수진', 40, 14, 940]\n",
        "]\n",
        "\n",
        "# 문제: 편명과 이름으로 된 새로운 리스트를 만들어주세요.\n",
        "# [['KE607', '김민준'] ...] 이런식으로 나와야 합니다.\n",
        "def f(x):\n",
        "    return 1\n",
        "\n",
        "list(map(f, data)) # [1, 1, 1, 1, ...]"
      ],
      "metadata": {
        "id": "lex89eSWI0WK"
      },
      "execution_count": null,
      "outputs": []
    },
    {
      "cell_type": "code",
      "source": [
        "# 항공사, 편명, 좌석번호, 이름, 나이, 짐무게(kg), 마일리지\n",
        "data = [\n",
        "    ['대한항공', 'KE607', '12A', '김민준', 42, 23, 5280],\n",
        "    ['아시아나', 'OZ721', '8C', '이', 29, 18, 3450],\n",
        "    ['제주항공', '7C101', '15F', '박지민', 35, 15, 720],\n",
        "    ['진에어', 'LJ211', '4D', '최서우미래한별', 51, 27, 8900],\n",
        "    ['에어부산', 'BX213', '21B', '정', 24, 12, 1250],\n",
        "    ['티웨이', 'TW305', '19E', '강민석', 38, 20, 2760],\n",
        "    ['에어서울', 'RS808', '3C', '윤지현', 47, 16, 4320],\n",
        "    ['대한항공', 'KE123', '7F', '송', 33, 21, 6780],\n",
        "    ['아시아나', 'OZ562', '11D', '장하은별님달빛', 26, 19, 1890],\n",
        "    ['제주항공', '7C505', '17B', '황수진', 40, 14, 940]\n",
        "]\n",
        "\n",
        "# 문제: 편명과 이름으로 된 새로운 리스트를 만들어주세요.\n",
        "# [['KE607', '김민준'] ...] 이런식으로 나와야 합니다.\n",
        "def f(x):\n",
        "    return [x[1], x[3]]\n",
        "\n",
        "list(map(f, data)) # [['KE607', '김민준'], ... ]"
      ],
      "metadata": {
        "colab": {
          "base_uri": "https://localhost:8080/"
        },
        "id": "vsMPNHP1KIuu",
        "outputId": "461ea702-b7dd-48b9-8fe3-bc77523b56b6"
      },
      "execution_count": null,
      "outputs": [
        {
          "output_type": "execute_result",
          "data": {
            "text/plain": [
              "[['KE607', '김민준'],\n",
              " ['OZ721', '이'],\n",
              " ['7C101', '박지민'],\n",
              " ['LJ211', '최서우미래한별'],\n",
              " ['BX213', '정'],\n",
              " ['TW305', '강민석'],\n",
              " ['RS808', '윤지현'],\n",
              " ['KE123', '송'],\n",
              " ['OZ562', '장하은별님달빛'],\n",
              " ['7C505', '황수진']]"
            ]
          },
          "metadata": {},
          "execution_count": 70
        }
      ]
    },
    {
      "cell_type": "code",
      "source": [
        "# map은 어떤 데이터를 '추출'할 때 많이 사용합니다.\n",
        "# front-end는 입사문제로 map을 자주 출제합니다."
      ],
      "metadata": {
        "id": "pTafSpNhH3EG"
      },
      "execution_count": null,
      "outputs": []
    },
    {
      "cell_type": "code",
      "source": [
        "# 문제: 30살 이상인 사람들의 나이 합을 구해주세요!\n",
        "# 30살 이상인 사람을 filter 해서 나이를 다 더한 다음 필더링 한 사람들의 합을 구해주면 되겠네?\n",
        "# 방법1: 나이만 map 해서 뽑고 filter로 30살 이상인 사람 추출해서 sum\n",
        "# 방법2: filter로 30살 이상인 사람 추출한 다음 map으로 나이만 뽑고 sum\n",
        "\n",
        "\n",
        "# 방법1\n",
        "# 일부러 f, ff 이런식으로 함수명을 작성하고 있는데\n",
        "# 실무에서는 실제 기능에 맞춰 함수명을 작성합니다.\n",
        "# 함수명을 작성하는 것부터가 큰 스트레스입니다.\n",
        "# ChatGPT로 많이 하기 때문에 요즘에는 스트레스까진 아닙니다.\n",
        "# def f(x):\n",
        "#     return x[4]\n",
        "\n",
        "# def ff(x):\n",
        "#     return x >= 30\n",
        "\n",
        "# sum(filter(ff, map(f, data)))\n",
        "\n",
        "# 방법2\n",
        "def f(x):\n",
        "    return x[4] >= 30\n",
        "\n",
        "def ff(x):\n",
        "    return x[4]\n",
        "\n",
        "sum(map(ff, filter(f, data)))"
      ],
      "metadata": {
        "colab": {
          "base_uri": "https://localhost:8080/"
        },
        "id": "euBZRvWeKa-b",
        "outputId": "2ad8baf1-4cc5-4138-cffc-9bc4ace33f03"
      },
      "execution_count": null,
      "outputs": [
        {
          "output_type": "execute_result",
          "data": {
            "text/plain": [
              "286"
            ]
          },
          "metadata": {},
          "execution_count": 77
        }
      ]
    },
    {
      "cell_type": "code",
      "source": [
        "# 문제 1: 짐무게가 20kg 이상인 승객들의 마일리지 평균을 구해주세요!\n",
        "# 항공사, 편명, 좌석번호, 이름, 나이, 짐무게(kg), 마일리지\n",
        "data = [\n",
        "    ['대한항공', 'KE607', '12A', '김민준', 42, 23, 5280],\n",
        "    ['아시아나', 'OZ721', '8C', '이', 29, 18, 3450],\n",
        "    ['제주항공', '7C101', '15F', '박지민', 35, 15, 720],\n",
        "    ['진에어', 'LJ211', '4D', '최서우미래한별', 51, 27, 8900],\n",
        "    ['에어부산', 'BX213', '21B', '정', 24, 12, 1250],\n",
        "    ['티웨이', 'TW305', '19E', '강민석', 38, 20, 2760],\n",
        "    ['에어서울', 'RS808', '3C', '윤지현', 47, 16, 4320],\n",
        "    ['대한항공', 'KE123', '7F', '송', 33, 21, 6780],\n",
        "    ['아시아나', 'OZ562', '11D', '장하은별님달빛', 26, 19, 1890],\n",
        "    ['제주항공', '7C505', '17B', '황수진', 40, 14, 940]\n",
        "]\n",
        "\n",
        "# 방법1\n",
        "def f(x):\n",
        "    return x[-2] >= 20\n",
        "\n",
        "def ff(x):\n",
        "    return x[-1]\n",
        "\n",
        "filtering_data = list(map(ff, filter(f, data))) # list 변환했어? 메모리 효율이 안좋은데...\n",
        "sum(filtering_data) / len(filtering_data) # sum을 했어? 한 번 더 순회를 돌아야 하네...\n",
        "\n",
        "# 방법2\n",
        "def f(x):\n",
        "    return x[-2] >= 20\n",
        "\n",
        "def ff(x):\n",
        "    return x[-1]\n",
        "\n",
        "count = 0\n",
        "sum_result = 0\n",
        "for i in map(ff, filter(f, data)): # 2번 순회를 돌아야 하는 것을 1번만 순회돈 것입니다.\n",
        "    count += 1\n",
        "    sum_result += i\n",
        "\n",
        "sum_result / count\n",
        "\n",
        "# 문제 2: 아시아나 항공을 이용하는 40세 미만 승객들의 이름 길이 합을 구해주세요!\n",
        "def f(x):\n",
        "    return x[0] == '아시아나' and x[4] < 40\n",
        "\n",
        "def ff(x):\n",
        "    return x[3]\n",
        "\n",
        "len(''.join(map(ff, filter(f, data))))"
      ],
      "metadata": {
        "colab": {
          "base_uri": "https://localhost:8080/"
        },
        "id": "kwrd7CyOPHKd",
        "outputId": "d7b31118-0e50-4fa0-f2db-15cf9fbf4f8d"
      },
      "execution_count": null,
      "outputs": [
        {
          "output_type": "execute_result",
          "data": {
            "text/plain": [
              "8"
            ]
          },
          "metadata": {},
          "execution_count": 86
        }
      ]
    },
    {
      "cell_type": "code",
      "source": [
        "a = [10, 20, 30]\n",
        "b = (100, 200)\n",
        "c = 'hello world'\n",
        "\n",
        "list(zip(a, b, c))"
      ],
      "metadata": {
        "colab": {
          "base_uri": "https://localhost:8080/"
        },
        "id": "DMsw36DIVm-8",
        "outputId": "b850d626-cb2e-453a-8dcf-7b1e2e202b26"
      },
      "execution_count": null,
      "outputs": [
        {
          "output_type": "execute_result",
          "data": {
            "text/plain": [
              "[(10, 100, 'h'), (20, 200, 'e')]"
            ]
          },
          "metadata": {},
          "execution_count": 89
        }
      ]
    },
    {
      "cell_type": "code",
      "source": [
        "a = [10, 20, 30]\n",
        "b = (100, 200)\n",
        "c = 'hello world'\n",
        "\n",
        "s = zip(a, b, c)\n",
        "\n",
        "for i in s:\n",
        "    print(i)\n",
        "\n",
        "# 왜 map이나 zip, filter는 변수로 할당하면 한 번 밖에 순회를 못돌죠?\n",
        "# 변수에서 다시 순회를 돌 수 있도록 초기화를 해줘야 하는데\n",
        "# 초기화를 해주지 않는 함수입니다.\n",
        "\n",
        "for i in s:\n",
        "    print(i)"
      ],
      "metadata": {
        "colab": {
          "base_uri": "https://localhost:8080/"
        },
        "id": "iZyNKbK4WCub",
        "outputId": "45a89ca5-175d-4ff8-d1db-74a19535cde6"
      },
      "execution_count": null,
      "outputs": [
        {
          "output_type": "stream",
          "name": "stdout",
          "text": [
            "(10, 100, 'h')\n",
            "(20, 200, 'e')\n"
          ]
        }
      ]
    },
    {
      "cell_type": "code",
      "source": [
        "a = [10, 20, 30]\n",
        "b = (100, 200)\n",
        "c = 'hello world'\n",
        "\n",
        "for i in zip(a, b, c):\n",
        "    print(i)\n",
        "\n",
        "for i in zip(a, b, c):\n",
        "    print(i)"
      ],
      "metadata": {
        "colab": {
          "base_uri": "https://localhost:8080/"
        },
        "id": "GlctZFA5Wo7t",
        "outputId": "5843ef8a-39d2-41f9-dfc6-a0ddb97ac468"
      },
      "execution_count": null,
      "outputs": [
        {
          "output_type": "stream",
          "name": "stdout",
          "text": [
            "(10, 100, 'h')\n",
            "(20, 200, 'e')\n",
            "(10, 100, 'h')\n",
            "(20, 200, 'e')\n"
          ]
        }
      ]
    },
    {
      "cell_type": "code",
      "source": [
        "iter\n",
        "next\n",
        "\n",
        "for i in range(10):\n",
        "    print(i)\n",
        "\n",
        "s = 'hello'\n",
        "ss = iter(s) # 나는 이제 값을 순차적으로 꺼낼테니까 꺼낼 준비를 해줘!\n",
        "next(ss) # 다음 값을 꺼내줘!"
      ],
      "metadata": {
        "colab": {
          "base_uri": "https://localhost:8080/",
          "height": 35
        },
        "id": "UYUjy31-VwcI",
        "outputId": "369ff893-f289-41fa-eebd-959259828142"
      },
      "execution_count": null,
      "outputs": [
        {
          "output_type": "execute_result",
          "data": {
            "text/plain": [
              "'h'"
            ],
            "application/vnd.google.colaboratory.intrinsic+json": {
              "type": "string"
            }
          },
          "metadata": {},
          "execution_count": 93
        }
      ]
    },
    {
      "cell_type": "code",
      "source": [
        "next(ss)"
      ],
      "metadata": {
        "colab": {
          "base_uri": "https://localhost:8080/",
          "height": 148
        },
        "id": "K-2cvNeMXHGi",
        "outputId": "760e953b-3573-4234-842c-1afed2cc3616"
      },
      "execution_count": null,
      "outputs": [
        {
          "output_type": "error",
          "ename": "StopIteration",
          "evalue": "",
          "traceback": [
            "\u001b[0;31m---------------------------------------------------------------------------\u001b[0m",
            "\u001b[0;31mStopIteration\u001b[0m                             Traceback (most recent call last)",
            "\u001b[0;32m<ipython-input-98-d2551d6ade9e>\u001b[0m in \u001b[0;36m<cell line: 0>\u001b[0;34m()\u001b[0m\n\u001b[0;32m----> 1\u001b[0;31m \u001b[0mnext\u001b[0m\u001b[0;34m(\u001b[0m\u001b[0mss\u001b[0m\u001b[0;34m)\u001b[0m\u001b[0;34m\u001b[0m\u001b[0;34m\u001b[0m\u001b[0m\n\u001b[0m",
            "\u001b[0;31mStopIteration\u001b[0m: "
          ]
        }
      ]
    },
    {
      "cell_type": "markdown",
      "source": [
        "# 반복문(while)"
      ],
      "metadata": {
        "id": "o2LYe2IA4W8u"
      }
    },
    {
      "cell_type": "code",
      "source": [
        "# 절대 실행하지 마세요!!\n",
        "# 브라우저가 멈춥니다!\n",
        "# 언제 for를 사용하고 언제 while을 사용하나요?\n",
        "# for는 객체를 순회할 때\n",
        "# while 정해진 수만큼 순회를 하거나, 문한 반복을 할 때\n",
        "\n",
        "# 다만 for로 무한반복 구현이 불가능한 것은 아닙니다!\n",
        "# result = [1, 2, 3]\n",
        "\n",
        "# for i in result:\n",
        "#     print(i)\n",
        "#     result.append(i + 1)"
      ],
      "metadata": {
        "id": "qzAYUGpnX5mS"
      },
      "execution_count": null,
      "outputs": []
    },
    {
      "cell_type": "code",
      "source": [
        "x = 0\n",
        "\n",
        "while x < 10:\n",
        "    print(x)\n",
        "    x += 1 # 종료할 수 있는 연산"
      ],
      "metadata": {
        "colab": {
          "base_uri": "https://localhost:8080/"
        },
        "id": "aLOt-fgjZxV8",
        "outputId": "115262de-cfcc-4477-9fcb-851934d6c3af"
      },
      "execution_count": null,
      "outputs": [
        {
          "output_type": "stream",
          "name": "stdout",
          "text": [
            "0\n",
            "1\n",
            "2\n",
            "3\n",
            "4\n",
            "5\n",
            "6\n",
            "7\n",
            "8\n",
            "9\n"
          ]
        }
      ]
    },
    {
      "cell_type": "code",
      "source": [
        "# 좋지 않은 코드\n",
        "x = 0\n",
        "result = 0\n",
        "\n",
        "while x < 11:\n",
        "    if x % 2 == 0:\n",
        "        result += x\n",
        "    x += 1 # 종료할 수 있는 연산\n",
        "\n",
        "result"
      ],
      "metadata": {
        "colab": {
          "base_uri": "https://localhost:8080/"
        },
        "id": "5nux5gefd8VM",
        "outputId": "dd7c6907-407b-44b8-859c-0cdb34f7b41b"
      },
      "execution_count": null,
      "outputs": [
        {
          "output_type": "execute_result",
          "data": {
            "text/plain": [
              "30"
            ]
          },
          "metadata": {},
          "execution_count": 6
        }
      ]
    },
    {
      "cell_type": "code",
      "source": [
        "# 위의 코드보다 좋은 코드\n",
        "x = 0\n",
        "result = 0\n",
        "\n",
        "while x < 11:\n",
        "    result += x\n",
        "    x += 2 # 종료할 수 있는 연산\n",
        "\n",
        "result"
      ],
      "metadata": {
        "colab": {
          "base_uri": "https://localhost:8080/"
        },
        "id": "boXfaXnYeKa8",
        "outputId": "ea0d2581-21b6-494c-f12a-91367ab3e61c"
      },
      "execution_count": null,
      "outputs": [
        {
          "output_type": "execute_result",
          "data": {
            "text/plain": [
              "30"
            ]
          },
          "metadata": {},
          "execution_count": 7
        }
      ]
    },
    {
      "cell_type": "code",
      "source": [
        "# 주의해야 할 점\n",
        "i = 2\n",
        "j = 1\n",
        "\n",
        "while i < 10:\n",
        "    while j < 10:\n",
        "        print(i, j, i*j)\n",
        "        j += 1\n",
        "    i += 1\n",
        "    j = 1"
      ],
      "metadata": {
        "id": "qn2qb_Rzeb3s"
      },
      "execution_count": null,
      "outputs": []
    },
    {
      "cell_type": "code",
      "source": [
        "import random\n",
        "\n",
        "result = random.randint(1, 100)\n",
        "\n",
        "while True:\n",
        "    user_input = int(input('1부터 100까지 숫자를 입력하세요.'))\n",
        "    if user_input > result:\n",
        "        print('더 작은 숫자를 입력하세요.')\n",
        "    elif user_input < result:\n",
        "        print('더 큰 숫자를 입력하세요.')\n",
        "    else:\n",
        "        print('정답입니다!')\n",
        "        break"
      ],
      "metadata": {
        "colab": {
          "base_uri": "https://localhost:8080/"
        },
        "id": "cXFJFPvfZUk4",
        "outputId": "22acf087-deb7-4c03-cc04-9f314cbd4b07"
      },
      "execution_count": null,
      "outputs": [
        {
          "output_type": "stream",
          "name": "stdout",
          "text": [
            "1부터 100까지 숫자를 입력하세요.50\n",
            "더 작은 숫자를 입력하세요.\n",
            "1부터 100까지 숫자를 입력하세요.30\n",
            "더 작은 숫자를 입력하세요.\n",
            "1부터 100까지 숫자를 입력하세요.15\n",
            "정답입니다!\n"
          ]
        }
      ]
    },
    {
      "cell_type": "code",
      "source": [
        "# break, continue는 while과 for에서 모두 쓸 수 있습니다.\n",
        "# break은 반복문을 중단하는 것이고\n",
        "# continue는 다음 반복문으로 넘어가는 것입니다.\n",
        "\n",
        "# for i in range(10):\n",
        "#     if i == 3:\n",
        "#         break\n",
        "#     print(i)\n",
        "\n",
        "for i in range(10):\n",
        "    if i == 3:\n",
        "        continue\n",
        "    print(i)"
      ],
      "metadata": {
        "colab": {
          "base_uri": "https://localhost:8080/"
        },
        "id": "whUvLj2GZ9av",
        "outputId": "224bce99-d705-4d6f-fb25-c3388aa3c24e"
      },
      "execution_count": null,
      "outputs": [
        {
          "output_type": "stream",
          "name": "stdout",
          "text": [
            "0\n",
            "1\n",
            "2\n",
            "4\n",
            "5\n",
            "6\n",
            "7\n",
            "8\n",
            "9\n"
          ]
        }
      ]
    },
    {
      "cell_type": "markdown",
      "source": [
        " # 조건문(match)"
      ],
      "metadata": {
        "id": "bSWY-qz24ZFg"
      }
    },
    {
      "cell_type": "code",
      "source": [
        "day = '토'\n",
        "\n",
        "match day:\n",
        "    case \"월\" | \"화\" | \"수\" | \"목\" | \"금\":\n",
        "        print(\"평일\")\n",
        "    case \"토\" | \"일\":\n",
        "        print(\"주말\")\n",
        "    case _:\n",
        "        print(\"올바른 요일을 입력하세요\")"
      ],
      "metadata": {
        "colab": {
          "base_uri": "https://localhost:8080/"
        },
        "id": "143UguEofmSk",
        "outputId": "06685273-ffe8-4d9c-84de-01a501a1468c"
      },
      "execution_count": null,
      "outputs": [
        {
          "output_type": "stream",
          "name": "stdout",
          "text": [
            "주말\n"
          ]
        }
      ]
    },
    {
      "cell_type": "code",
      "source": [
        "# 이전에는 어떻게 사용했는가?\n",
        "\n",
        "today = '토'\n",
        "\n",
        "day = {\n",
        "    '월': '평일',\n",
        "    '화': '평일',\n",
        "    '수': '평일',\n",
        "    '목': '평일',\n",
        "    '금': '평일',\n",
        "    '토': '주말',\n",
        "    '일': '주말',\n",
        "}\n",
        "\n",
        "day.get(today, '제대로 입력하세요!')"
      ],
      "metadata": {
        "colab": {
          "base_uri": "https://localhost:8080/",
          "height": 35
        },
        "id": "yuBLDvg2hblU",
        "outputId": "d014cd4b-6f67-4de6-cbc5-1405996956ff"
      },
      "execution_count": null,
      "outputs": [
        {
          "output_type": "execute_result",
          "data": {
            "text/plain": [
              "'주말'"
            ],
            "application/vnd.google.colaboratory.intrinsic+json": {
              "type": "string"
            }
          },
          "metadata": {},
          "execution_count": 17
        }
      ]
    },
    {
      "cell_type": "markdown",
      "source": [
        "# 클래스"
      ],
      "metadata": {
        "id": "YoRUCybCizmv"
      }
    },
    {
      "cell_type": "code",
      "source": [
        "# 클래스 - 설계 도면\n",
        "# 인스턴스 - 생산품\n",
        "\n",
        "# 클래스 내의 변수 - 멤버 또는 애트리뷰트\n",
        "# 클래스 내의 함수 - 메서드\n",
        "\n",
        "# 자동차!\n",
        "# 데이터(멤버, 애트리뷰트) # 클래스 내 변수로 선언됩니다. 이것을 멤버 또는 애트리뷰트라고 합니다.\n",
        "#   * 최대 속도\n",
        "#   * 최대 탑승객\n",
        "\n",
        "# 기능(메서드) # 클래스 내 함수로 선언됩니다. 이것을 메서드라고 합니다.\n",
        "#   * 출발\n",
        "#   * 정지"
      ],
      "metadata": {
        "id": "1i0jdY5ZizI8"
      },
      "execution_count": null,
      "outputs": []
    },
    {
      "cell_type": "code",
      "source": [
        "class Car:\n",
        "    max_speed = 300\n",
        "    max_people = 5\n",
        "\n",
        "    def start(self):\n",
        "        print('출발!')\n",
        "\n",
        "    def stop(self):\n",
        "        print('정지!')\n",
        "\n",
        "car1 = Car()\n",
        "car2 = Car()\n",
        "\n",
        "print(car1.max_speed)\n",
        "car1.start() # 어디서 많이 봤던 형태인데요?"
      ],
      "metadata": {
        "colab": {
          "base_uri": "https://localhost:8080/"
        },
        "id": "fRj9lBKtlIS5",
        "outputId": "a5a5ff33-da3a-4304-d9b2-a72654b13915"
      },
      "execution_count": null,
      "outputs": [
        {
          "output_type": "stream",
          "name": "stdout",
          "text": [
            "300\n",
            "출발!\n"
          ]
        }
      ]
    },
    {
      "cell_type": "code",
      "source": [
        "dir(car1)"
      ],
      "metadata": {
        "colab": {
          "base_uri": "https://localhost:8080/"
        },
        "id": "HMbFSeuPmZPL",
        "outputId": "b280471a-e0fc-4413-fd70-46c9c1268092"
      },
      "execution_count": null,
      "outputs": [
        {
          "output_type": "execute_result",
          "data": {
            "text/plain": [
              "['__class__',\n",
              " '__delattr__',\n",
              " '__dict__',\n",
              " '__dir__',\n",
              " '__doc__',\n",
              " '__eq__',\n",
              " '__format__',\n",
              " '__ge__',\n",
              " '__getattribute__',\n",
              " '__getstate__',\n",
              " '__gt__',\n",
              " '__hash__',\n",
              " '__init__',\n",
              " '__init_subclass__',\n",
              " '__le__',\n",
              " '__lt__',\n",
              " '__module__',\n",
              " '__ne__',\n",
              " '__new__',\n",
              " '__reduce__',\n",
              " '__reduce_ex__',\n",
              " '__repr__',\n",
              " '__setattr__',\n",
              " '__sizeof__',\n",
              " '__str__',\n",
              " '__subclasshook__',\n",
              " '__weakref__',\n",
              " 'max_people',\n",
              " 'max_speed',\n",
              " 'start',\n",
              " 'stop']"
            ]
          },
          "metadata": {},
          "execution_count": 21
        }
      ]
    },
    {
      "cell_type": "code",
      "source": [
        "l = [10, 20, 30]\n",
        "dir(l)"
      ],
      "metadata": {
        "colab": {
          "base_uri": "https://localhost:8080/"
        },
        "id": "Yc2GqMv-mNrp",
        "outputId": "4e0d034c-6b25-47bc-b4ed-3dceaf6f0408"
      },
      "execution_count": null,
      "outputs": [
        {
          "output_type": "execute_result",
          "data": {
            "text/plain": [
              "['__add__',\n",
              " '__class__',\n",
              " '__class_getitem__',\n",
              " '__contains__',\n",
              " '__delattr__',\n",
              " '__delitem__',\n",
              " '__dir__',\n",
              " '__doc__',\n",
              " '__eq__',\n",
              " '__format__',\n",
              " '__ge__',\n",
              " '__getattribute__',\n",
              " '__getitem__',\n",
              " '__getstate__',\n",
              " '__gt__',\n",
              " '__hash__',\n",
              " '__iadd__',\n",
              " '__imul__',\n",
              " '__init__',\n",
              " '__init_subclass__',\n",
              " '__iter__',\n",
              " '__le__',\n",
              " '__len__',\n",
              " '__lt__',\n",
              " '__mul__',\n",
              " '__ne__',\n",
              " '__new__',\n",
              " '__reduce__',\n",
              " '__reduce_ex__',\n",
              " '__repr__',\n",
              " '__reversed__',\n",
              " '__rmul__',\n",
              " '__setattr__',\n",
              " '__setitem__',\n",
              " '__sizeof__',\n",
              " '__str__',\n",
              " '__subclasshook__',\n",
              " 'append',\n",
              " 'clear',\n",
              " 'copy',\n",
              " 'count',\n",
              " 'extend',\n",
              " 'index',\n",
              " 'insert',\n",
              " 'pop',\n",
              " 'remove',\n",
              " 'reverse',\n",
              " 'sort']"
            ]
          },
          "metadata": {},
          "execution_count": 20
        }
      ]
    },
    {
      "cell_type": "code",
      "source": [
        "car = Car()\n",
        "# car1은 Car의 인스턴스입니다!\n",
        "value = 10 # value = int(value)\n",
        "# value는 int의 인스턴스입니다!\n",
        "value = 10.0 # value = float(value)\n",
        "# value는 float의 인스턴스입니다!\n",
        "value = [10, 20, 30]\n",
        "# value는 list의 인스턴스입니다!\n",
        "value = (10, 20, 30)\n",
        "# value는 tuple의 인스턴스입니다!"
      ],
      "metadata": {
        "id": "uuINt5idm4v9"
      },
      "execution_count": null,
      "outputs": []
    },
    {
      "cell_type": "code",
      "source": [
        "l = [10, 20, 30]\n",
        "dir(l)\n",
        "\n",
        "# l에 더하기도 필요 없습니다!\n",
        "# l에 곱하기도 필요 없습니다!\n",
        "# l에 remove도 필요 없습니다!\n",
        "# ... l + l\n",
        "\n",
        "l = [1, 2, 3]\n",
        "ll = [1, 2, 3]\n",
        "l == ll\n",
        "\n",
        "a = 10000\n",
        "b = 10000\n",
        "id(a) == id(b)"
      ],
      "metadata": {
        "colab": {
          "base_uri": "https://localhost:8080/"
        },
        "id": "4kHHvo0lcXhz",
        "outputId": "62479392-aa7d-46be-ad6d-76d15dc89ed7"
      },
      "execution_count": null,
      "outputs": [
        {
          "output_type": "execute_result",
          "data": {
            "text/plain": [
              "['__add__',\n",
              " '__class__',\n",
              " '__class_getitem__',\n",
              " '__contains__',\n",
              " '__delattr__',\n",
              " '__delitem__',\n",
              " '__dir__',\n",
              " '__doc__',\n",
              " '__eq__',\n",
              " '__format__',\n",
              " '__ge__',\n",
              " '__getattribute__',\n",
              " '__getitem__',\n",
              " '__getstate__',\n",
              " '__gt__',\n",
              " '__hash__',\n",
              " '__iadd__',\n",
              " '__imul__',\n",
              " '__init__',\n",
              " '__init_subclass__',\n",
              " '__iter__',\n",
              " '__le__',\n",
              " '__len__',\n",
              " '__lt__',\n",
              " '__mul__',\n",
              " '__ne__',\n",
              " '__new__',\n",
              " '__reduce__',\n",
              " '__reduce_ex__',\n",
              " '__repr__',\n",
              " '__reversed__',\n",
              " '__rmul__',\n",
              " '__setattr__',\n",
              " '__setitem__',\n",
              " '__sizeof__',\n",
              " '__str__',\n",
              " '__subclasshook__',\n",
              " 'append',\n",
              " 'clear',\n",
              " 'copy',\n",
              " 'count',\n",
              " 'extend',\n",
              " 'index',\n",
              " 'insert',\n",
              " 'pop',\n",
              " 'remove',\n",
              " 'reverse',\n",
              " 'sort']"
            ]
          },
          "metadata": {},
          "execution_count": 4
        }
      ]
    },
    {
      "cell_type": "code",
      "source": [
        "# 클래스 변수\n",
        "# - 설계 도면에 포함되어야 하는 것,\n",
        "# - 클래스 바로 아래 선언합니다.\n",
        "# - 모든 인스턴스가 이 변수를 공유합니다.\n",
        "\n",
        "# 인스턴스 변수\n",
        "# - 생산품에 포함되어야 하는 것\n",
        "# - 보통 __init__ 아래 선언합니다.\n",
        "# - 인스턴스 고유의 영역입니다.\n",
        "\n",
        "class Car:\n",
        "    # 클래스 변수 위치\n",
        "    max_speed = 300\n",
        "    max_people = 5\n",
        "\n",
        "modelx = Car()"
      ],
      "metadata": {
        "id": "qfRb0l3oeXeJ"
      },
      "execution_count": null,
      "outputs": []
    },
    {
      "cell_type": "code",
      "source": [
        "Car.max_speed"
      ],
      "metadata": {
        "colab": {
          "base_uri": "https://localhost:8080/"
        },
        "id": "UVdmL3Xnhxj_",
        "outputId": "0c8cbfc3-b269-462d-98de-7b7057b99295"
      },
      "execution_count": null,
      "outputs": [
        {
          "output_type": "execute_result",
          "data": {
            "text/plain": [
              "300"
            ]
          },
          "metadata": {},
          "execution_count": 6
        }
      ]
    },
    {
      "cell_type": "code",
      "source": [
        "Car.max_people"
      ],
      "metadata": {
        "colab": {
          "base_uri": "https://localhost:8080/"
        },
        "id": "3YKwBDl0h3P9",
        "outputId": "cb125ff6-0b8f-4946-d361-899d6f7978af"
      },
      "execution_count": null,
      "outputs": [
        {
          "output_type": "execute_result",
          "data": {
            "text/plain": [
              "5"
            ]
          },
          "metadata": {},
          "execution_count": 7
        }
      ]
    },
    {
      "cell_type": "code",
      "source": [
        "# 클래스 변수 - 설계 도면에 포함되어야 하는 것\n",
        "# 인스턴스 변수 - 생산품에 포함되어야 하는 것\n",
        "\n",
        "class Car:\n",
        "    # 클래스 변수 위치\n",
        "    max_speed = 300\n",
        "    max_people = 5\n",
        "\n",
        "    def __init__(self, 구매자):\n",
        "        # 인스턴스 변수 위치\n",
        "        # 'self.변수이름'의 형태\n",
        "        self.차구매자 = 구매자\n",
        "\n",
        "modela = Car('구매자1')\n",
        "modelb = Car('구매자2')\n",
        "\n",
        "modela.차구매자\n",
        "modelb.차구매자"
      ],
      "metadata": {
        "colab": {
          "base_uri": "https://localhost:8080/",
          "height": 35
        },
        "id": "0o6iGzz_h7wf",
        "outputId": "d977b256-27de-42eb-a0ff-cb645c76d79c"
      },
      "execution_count": null,
      "outputs": [
        {
          "output_type": "execute_result",
          "data": {
            "text/plain": [
              "'구매자2'"
            ],
            "application/vnd.google.colaboratory.intrinsic+json": {
              "type": "string"
            }
          },
          "metadata": {},
          "execution_count": 9
        }
      ]
    },
    {
      "cell_type": "code",
      "source": [
        "# self의 정체! - self는 해당 인스턴스를 얘기합니다.\n",
        "\n",
        "class Car:\n",
        "    # 클래스 변수 위치\n",
        "    max_speed = 300\n",
        "    max_people = 5\n",
        "\n",
        "    def __init__(self, 구매자):\n",
        "        # 인스턴스 변수 위치\n",
        "        # 'self.변수이름'의 형태\n",
        "        self.차구매자 = 구매자\n",
        "\n",
        "modela = Car('구매자1')\n",
        "modelb = Car('구매자2')\n",
        "\n",
        "modela.차구매자\n",
        "modelb.차구매자"
      ],
      "metadata": {
        "id": "mwtI4D19jSpO"
      },
      "execution_count": null,
      "outputs": []
    },
    {
      "cell_type": "code",
      "source": [
        "# self의 정체! - self는 해당 인스턴스를 얘기합니다.\n",
        "\n",
        "class Car:\n",
        "    # 클래스 변수 위치\n",
        "    max_speed = 300\n",
        "    max_people = 5\n",
        "\n",
        "    def __init__(self, 구매자):\n",
        "        # 인스턴스 변수 위치\n",
        "        # 'self.변수이름'의 형태\n",
        "        self.차구매자 = 구매자\n",
        "\n",
        "modela = Car('구매자1')\n",
        "modelb = Car('구매자2')\n",
        "\n",
        "# 인스턴스 변수를 이렇게 넣을 수도 있습니다!\n",
        "modela.스마트키 = '키티 스마트키'\n",
        "modela.스마트키\n",
        "# .으로 접근하는 것이 생소하다!? => list나 tuple, dict를 생각하세요.\n",
        "# l.append()로 접근하잖아요?\n",
        "# l['append']이렇게 접근하지 않죠.\n",
        "# 같은 원리로 modela['스마트키']로 접근하지 않습니다."
      ],
      "metadata": {
        "colab": {
          "base_uri": "https://localhost:8080/",
          "height": 35
        },
        "id": "P3b3QJhEjzhr",
        "outputId": "769575eb-a109-420f-934b-8fbe1a359cb0"
      },
      "execution_count": null,
      "outputs": [
        {
          "output_type": "execute_result",
          "data": {
            "text/plain": [
              "'키티 스마트키'"
            ],
            "application/vnd.google.colaboratory.intrinsic+json": {
              "type": "string"
            }
          },
          "metadata": {},
          "execution_count": 12
        }
      ]
    },
    {
      "cell_type": "code",
      "source": [
        "# 비교해보세요.\n",
        "# 초급자의 마음:\n",
        "# 클래스가 더 복잡하고 난해하죠?\n",
        "# 아니, 굳이 이렇게까지 해야하나요?\n",
        "\n",
        "# 항공사, 편명, 좌석번호, 이름, 나이, 짐무게(kg), 마일리지\n",
        "data = [\n",
        "    ['대한항공', 'KE607', '12A', '김민준', 42, 23, 5280],\n",
        "    ['아시아나', 'OZ721', '8C', '이', 29, 18, 3450],\n",
        "    ['제주항공', '7C101', '15F', '박지민', 35, 15, 720],\n",
        "    ['진에어', 'LJ211', '4D', '최서우미래한별', 51, 27, 8900],\n",
        "    ['에어부산', 'BX213', '21B', '정', 24, 12, 1250],\n",
        "    ['티웨이', 'TW305', '19E', '강민석', 38, 20, 2760],\n",
        "    ['에어서울', 'RS808', '3C', '윤지현', 47, 16, 4320],\n",
        "    ['대한항공', 'KE123', '7F', '송', 33, 21, 6780],\n",
        "    ['아시아나', 'OZ562', '11D', '장하은별님달빛', 26, 19, 1890],\n",
        "    ['제주항공', '7C505', '17B', '황수진', 40, 14, 940]\n",
        "]\n",
        "\n",
        "class Passenger:\n",
        "    def __init__(self, 항공사, 편명, 좌석번호, 이름, 나이, 짐무게, 마일리지):\n",
        "        self.항공사 = 항공사\n",
        "        self.편명 = 편명\n",
        "        self.좌석번호 = 좌석번호\n",
        "        self.이름 = 이름\n",
        "        self.나이 = 나이\n",
        "        self.짐무게 = 짐무게\n",
        "        self.마일리지 = 마일리지\n",
        "\n",
        "p1 = Passenger('대한항공', 'KE607', '12A', '김민준', 42, 23, 5280)\n",
        "p2 = Passenger('아시아나', 'OZ721', '8C', '이', 29, 18, 3450)\n",
        "p3 = Passenger('제주항공', '7C101', '15F', '박지민', 35, 15, 720)\n",
        "\n",
        "p1.이름"
      ],
      "metadata": {
        "colab": {
          "base_uri": "https://localhost:8080/",
          "height": 35
        },
        "id": "F9LsGqZukivV",
        "outputId": "c13383a2-41f3-473d-c013-4dda16a0d21d"
      },
      "execution_count": null,
      "outputs": [
        {
          "output_type": "execute_result",
          "data": {
            "text/plain": [
              "'김민준'"
            ],
            "application/vnd.google.colaboratory.intrinsic+json": {
              "type": "string"
            }
          },
          "metadata": {},
          "execution_count": 13
        }
      ]
    },
    {
      "cell_type": "code",
      "source": [
        "# 중급자 입장:\n",
        "# 1. 예를 들어서 print로 출력을 했을 때 출력되는 길이가 너무 긴 경우가 있을 수 있어요.\n",
        "# 2. 예를 들어 data끼리 더해야 될 때가 있어요.\n",
        "\n",
        "# 항공사, 편명, 좌석번호, 이름, 나이, 짐무게(kg), 마일리지\n",
        "data = [\n",
        "    ['대한항공', 'KE607', '12A', '김민준', 42, 23, 5280],\n",
        "    ['아시아나', 'OZ721', '8C', '이', 29, 18, 3450],\n",
        "    ['제주항공', '7C101', '15F', '박지민', 35, 15, 720],\n",
        "    ['진에어', 'LJ211', '4D', '최서우미래한별', 51, 27, 8900],\n",
        "    ['에어부산', 'BX213', '21B', '정', 24, 12, 1250],\n",
        "    ['티웨이', 'TW305', '19E', '강민석', 38, 20, 2760],\n",
        "    ['에어서울', 'RS808', '3C', '윤지현', 47, 16, 4320],\n",
        "    ['대한항공', 'KE123', '7F', '송', 33, 21, 6780],\n",
        "    ['아시아나', 'OZ562', '11D', '장하은별님달빛', 26, 19, 1890],\n",
        "    ['제주항공', '7C505', '17B', '황수진', 40, 14, 940]\n",
        "]\n",
        "\n",
        "data[0] # 1. 수천자 출력할 수도 있는데?\n",
        "data[0] + data[1] # 2. 나는 마일리지 더하기를 하고 싶었는데?"
      ],
      "metadata": {
        "colab": {
          "base_uri": "https://localhost:8080/"
        },
        "id": "Y8yY1wAPmsHt",
        "outputId": "b251b5c3-f9ec-4af5-879f-d648e527b4b4"
      },
      "execution_count": null,
      "outputs": [
        {
          "output_type": "execute_result",
          "data": {
            "text/plain": [
              "['대한항공',\n",
              " 'KE607',\n",
              " '12A',\n",
              " '김민준',\n",
              " 42,\n",
              " 23,\n",
              " 5280,\n",
              " '아시아나',\n",
              " 'OZ721',\n",
              " '8C',\n",
              " '이',\n",
              " 29,\n",
              " 18,\n",
              " 3450]"
            ]
          },
          "metadata": {},
          "execution_count": 15
        }
      ]
    },
    {
      "cell_type": "code",
      "source": [
        "class A:\n",
        "    pass\n",
        "\n",
        "a = A()"
      ],
      "metadata": {
        "id": "-KzGT-8ZwUhV"
      },
      "execution_count": null,
      "outputs": []
    },
    {
      "cell_type": "code",
      "source": [
        "# 중급자가 다음과 같이 해결해요.\n",
        "\n",
        "\n",
        "class Passenger:\n",
        "    def __init__(self, 항공사, 편명, 좌석번호, 이름, 나이, 짐무게, 마일리지):\n",
        "        self.항공사 = 항공사\n",
        "        self.편명 = 편명\n",
        "        self.좌석번호 = 좌석번호\n",
        "        self.이름 = 이름\n",
        "        self.나이 = 나이\n",
        "        self.짐무게 = 짐무게\n",
        "        self.마일리지 = 마일리지\n",
        "\n",
        "    def __str__(self):\n",
        "        return f'{self.이름}, {self.나이}!!'\n",
        "\n",
        "    def __add__(self, next):\n",
        "        return self.마일리지 + next.마일리지\n",
        "\n",
        "\n",
        "p1 = Passenger('대한항공', 'KE607', '12A', '김민준', 42, 23, 5280)\n",
        "p2 = Passenger('아시아나', 'OZ721', '8C', '이', 29, 18, 3450)\n",
        "p3 = Passenger('제주항공', '7C101', '15F', '박지민', 35, 15, 720)\n",
        "\n",
        "print(p1) # 원하는 정보만 출력한 것입니다.\n",
        "p1 + p2 # 마일리지 더한 것입니다."
      ],
      "metadata": {
        "colab": {
          "base_uri": "https://localhost:8080/"
        },
        "id": "mvO_dPNendwf",
        "outputId": "dbbfe637-196f-48cf-d4df-75521fecbdc2"
      },
      "execution_count": null,
      "outputs": [
        {
          "output_type": "stream",
          "name": "stdout",
          "text": [
            "김민준, 42!!\n"
          ]
        },
        {
          "output_type": "execute_result",
          "data": {
            "text/plain": [
              "8730"
            ]
          },
          "metadata": {},
          "execution_count": 18
        }
      ]
    },
    {
      "cell_type": "code",
      "source": [
        "class Car:\n",
        "    max_speed = 300\n",
        "    max_people = 5\n",
        "\n",
        "    def __init__(self, 구매자): # 클래스가 인스턴스를 찍어낼때 자동으로 실행\n",
        "        self.차구매자 = 구매자\n",
        "\n",
        "modela = Car('구매자1')\n",
        "modelb = Car('구매자2')\n",
        "\n",
        "modela + modelb # '+'기호는 modela에 __add__를 실행합니다!"
      ],
      "metadata": {
        "colab": {
          "base_uri": "https://localhost:8080/",
          "height": 184
        },
        "id": "DFHREYIWotqR",
        "outputId": "3ba08eff-db1f-422a-d337-bd0ef1a702a7"
      },
      "execution_count": null,
      "outputs": [
        {
          "output_type": "error",
          "ename": "TypeError",
          "evalue": "unsupported operand type(s) for +: 'Car' and 'Car'",
          "traceback": [
            "\u001b[0;31m---------------------------------------------------------------------------\u001b[0m",
            "\u001b[0;31mTypeError\u001b[0m                                 Traceback (most recent call last)",
            "\u001b[0;32m<ipython-input-23-ff6322290a1f>\u001b[0m in \u001b[0;36m<cell line: 0>\u001b[0;34m()\u001b[0m\n\u001b[1;32m      9\u001b[0m \u001b[0mmodelb\u001b[0m \u001b[0;34m=\u001b[0m \u001b[0mCar\u001b[0m\u001b[0;34m(\u001b[0m\u001b[0;34m'구매자2'\u001b[0m\u001b[0;34m)\u001b[0m\u001b[0;34m\u001b[0m\u001b[0;34m\u001b[0m\u001b[0m\n\u001b[1;32m     10\u001b[0m \u001b[0;34m\u001b[0m\u001b[0m\n\u001b[0;32m---> 11\u001b[0;31m \u001b[0mmodela\u001b[0m \u001b[0;34m+\u001b[0m \u001b[0mmodelb\u001b[0m\u001b[0;34m\u001b[0m\u001b[0;34m\u001b[0m\u001b[0m\n\u001b[0m",
            "\u001b[0;31mTypeError\u001b[0m: unsupported operand type(s) for +: 'Car' and 'Car'"
          ]
        }
      ]
    },
    {
      "cell_type": "code",
      "source": [
        "# 어려운 것을 만날 때마다 느끼는 나의 마음\n",
        "\n",
        "# 이게 과연 나의 길일까?\n",
        "# 내가 할 수 있을까?\n",
        "# 내가 해야할까?\n",
        "\n",
        "# 어려운 것을 만나면 더 어려운 부분을 찾아요.\n",
        "# 왜냐면 그것이 차이를 만들어 낼테니까요.\n",
        "# 남들도 어려우니까요.\n",
        "\n",
        "# 이 차이가 '경쟁력'이 되는 것이고\n",
        "# 많은 경우에 '경제력'도 됩니다.\n",
        "\n",
        "# 어려움이 가치를 만들어내는 경우가 많아요.\n",
        "\n",
        "# 지나가서 평온한 날이와요.\n",
        "# 불편한 날이 지나갑니다."
      ],
      "metadata": {
        "id": "VpAKIghErLzZ"
      },
      "execution_count": null,
      "outputs": []
    },
    {
      "cell_type": "code",
      "source": [
        "class Dot:\n",
        "\n",
        "    def __init__(self, x, y):\n",
        "        self.x = x\n",
        "        self.y = y\n",
        "\n",
        "a = Dot(1, 1)\n",
        "b = Dot(2, 2)\n",
        "\n",
        "a + b # '+'기호는 a에 __add__를 실행합니다!"
      ],
      "metadata": {
        "colab": {
          "base_uri": "https://localhost:8080/",
          "height": 184
        },
        "id": "maJ8GvDEq5sl",
        "outputId": "083be9b7-f96c-4d31-89d2-e69feeffc39e"
      },
      "execution_count": null,
      "outputs": [
        {
          "output_type": "error",
          "ename": "TypeError",
          "evalue": "unsupported operand type(s) for +: 'Dot' and 'Dot'",
          "traceback": [
            "\u001b[0;31m---------------------------------------------------------------------------\u001b[0m",
            "\u001b[0;31mTypeError\u001b[0m                                 Traceback (most recent call last)",
            "\u001b[0;32m<ipython-input-24-17ea18daeccd>\u001b[0m in \u001b[0;36m<cell line: 0>\u001b[0;34m()\u001b[0m\n\u001b[1;32m      8\u001b[0m \u001b[0mb\u001b[0m \u001b[0;34m=\u001b[0m \u001b[0mDot\u001b[0m\u001b[0;34m(\u001b[0m\u001b[0;36m2\u001b[0m\u001b[0;34m,\u001b[0m \u001b[0;36m2\u001b[0m\u001b[0;34m)\u001b[0m\u001b[0;34m\u001b[0m\u001b[0;34m\u001b[0m\u001b[0m\n\u001b[1;32m      9\u001b[0m \u001b[0;34m\u001b[0m\u001b[0m\n\u001b[0;32m---> 10\u001b[0;31m \u001b[0ma\u001b[0m \u001b[0;34m+\u001b[0m \u001b[0mb\u001b[0m \u001b[0;31m# '+'기호는 Dot에 __add__를 실행합니다!\u001b[0m\u001b[0;34m\u001b[0m\u001b[0;34m\u001b[0m\u001b[0m\n\u001b[0m",
            "\u001b[0;31mTypeError\u001b[0m: unsupported operand type(s) for +: 'Dot' and 'Dot'"
          ]
        }
      ]
    },
    {
      "cell_type": "code",
      "source": [
        "class Dot:\n",
        "\n",
        "    def __init__(self, x, y):\n",
        "        self.x = x\n",
        "        self.y = y\n",
        "\n",
        "    def __add__(self, next):\n",
        "        return [self.x + next.x, self.y + next.y]\n",
        "\n",
        "    def __mul__(self, next):\n",
        "        return [self.x * next.x , self.y * next.y]\n",
        "\n",
        "a = Dot(1, 1)\n",
        "b = Dot(2, 2)\n",
        "\n",
        "a + b # '+'기호는 a에 __add__를 실행합니다!\n",
        "a * b # '*'기호는 a에 __mul__를 실행합니다!"
      ],
      "metadata": {
        "colab": {
          "base_uri": "https://localhost:8080/"
        },
        "id": "8kXUmmslvqM2",
        "outputId": "0f822038-d1da-40ad-e0c3-434fd690b087"
      },
      "execution_count": null,
      "outputs": [
        {
          "output_type": "execute_result",
          "data": {
            "text/plain": [
              "[2, 2]"
            ]
          },
          "metadata": {},
          "execution_count": 30
        }
      ]
    },
    {
      "cell_type": "code",
      "source": [
        "a = 10 # a는 int라는 클래스에 인스턴스입니다!\n",
        "b = 20 # b는 int라는 클래스에 인스턴스입니다!\n",
        "\n",
        "a + b # a인스턴스의 __add__를 실행시킨 결과를 보여주세요!\n",
        "a * b # a인스턴스의 __mul__를 실행시킨 결과를 보여주세요!"
      ],
      "metadata": {
        "colab": {
          "base_uri": "https://localhost:8080/"
        },
        "id": "EMLNRDWSwyOX",
        "outputId": "9ff66713-c909-41c5-f2c6-c24fc07abe6e"
      },
      "execution_count": null,
      "outputs": [
        {
          "output_type": "execute_result",
          "data": {
            "text/plain": [
              "30"
            ]
          },
          "metadata": {},
          "execution_count": 27
        }
      ]
    },
    {
      "cell_type": "code",
      "source": [
        "class Dot:\n",
        "\n",
        "    def __init__(self, x, y):\n",
        "        self.x = x\n",
        "        self.y = y\n",
        "\n",
        "    def __eq__(self, next):\n",
        "        # return False\n",
        "        return self.x == next.x and self.y == next.y\n",
        "\n",
        "a = Dot(1, 1)\n",
        "b = Dot(1, 2)\n",
        "\n",
        "a == b # '=='기호는 a에 __eq__를 실행합니다!\n",
        "\n",
        "dir(a)"
      ],
      "metadata": {
        "colab": {
          "base_uri": "https://localhost:8080/"
        },
        "id": "Y7mL7olMygvD",
        "outputId": "da2a2094-87c3-4c65-8467-44534596c136"
      },
      "execution_count": null,
      "outputs": [
        {
          "output_type": "execute_result",
          "data": {
            "text/plain": [
              "['__class__',\n",
              " '__delattr__',\n",
              " '__dict__',\n",
              " '__dir__',\n",
              " '__doc__',\n",
              " '__eq__',\n",
              " '__format__',\n",
              " '__ge__',\n",
              " '__getattribute__',\n",
              " '__getstate__',\n",
              " '__gt__',\n",
              " '__hash__',\n",
              " '__init__',\n",
              " '__init_subclass__',\n",
              " '__le__',\n",
              " '__lt__',\n",
              " '__module__',\n",
              " '__ne__',\n",
              " '__new__',\n",
              " '__reduce__',\n",
              " '__reduce_ex__',\n",
              " '__repr__',\n",
              " '__setattr__',\n",
              " '__sizeof__',\n",
              " '__str__',\n",
              " '__subclasshook__',\n",
              " '__weakref__',\n",
              " 'x',\n",
              " 'y']"
            ]
          },
          "metadata": {},
          "execution_count": 39
        }
      ]
    },
    {
      "cell_type": "code",
      "source": [
        "l = [10, 20] # l은 list라는 클래스에 인스턴스입니다!\n",
        "ll = [10, 20] # ll은 list라는 클래스에 인스턴스입니다!\n",
        "\n",
        "l == ll # l인스턴스의 __eq__를 실행시킨 결과를 보여주세요!"
      ],
      "metadata": {
        "colab": {
          "base_uri": "https://localhost:8080/"
        },
        "id": "KZwWVzXox-oF",
        "outputId": "4b682fcf-a20a-485e-a7a8-51d5368201d2"
      },
      "execution_count": null,
      "outputs": [
        {
          "output_type": "execute_result",
          "data": {
            "text/plain": [
              "True"
            ]
          },
          "metadata": {},
          "execution_count": 32
        }
      ]
    },
    {
      "cell_type": "code",
      "source": [
        "dir(l) # __add__가 있기 때문에 +가 되는 자료형이라는 것을 알 수 있습니다."
      ],
      "metadata": {
        "colab": {
          "base_uri": "https://localhost:8080/"
        },
        "id": "S0JpLIHozUUU",
        "outputId": "15be602d-4857-4a58-c9c9-5a2c43ba7223"
      },
      "execution_count": null,
      "outputs": [
        {
          "output_type": "execute_result",
          "data": {
            "text/plain": [
              "['__add__',\n",
              " '__class__',\n",
              " '__class_getitem__',\n",
              " '__contains__',\n",
              " '__delattr__',\n",
              " '__delitem__',\n",
              " '__dir__',\n",
              " '__doc__',\n",
              " '__eq__',\n",
              " '__format__',\n",
              " '__ge__',\n",
              " '__getattribute__',\n",
              " '__getitem__',\n",
              " '__getstate__',\n",
              " '__gt__',\n",
              " '__hash__',\n",
              " '__iadd__',\n",
              " '__imul__',\n",
              " '__init__',\n",
              " '__init_subclass__',\n",
              " '__iter__',\n",
              " '__le__',\n",
              " '__len__',\n",
              " '__lt__',\n",
              " '__mul__',\n",
              " '__ne__',\n",
              " '__new__',\n",
              " '__reduce__',\n",
              " '__reduce_ex__',\n",
              " '__repr__',\n",
              " '__reversed__',\n",
              " '__rmul__',\n",
              " '__setattr__',\n",
              " '__setitem__',\n",
              " '__sizeof__',\n",
              " '__str__',\n",
              " '__subclasshook__',\n",
              " 'append',\n",
              " 'clear',\n",
              " 'copy',\n",
              " 'count',\n",
              " 'extend',\n",
              " 'index',\n",
              " 'insert',\n",
              " 'pop',\n",
              " 'remove',\n",
              " 'reverse',\n",
              " 'sort']"
            ]
          },
          "metadata": {},
          "execution_count": 38
        }
      ]
    },
    {
      "cell_type": "code",
      "source": [
        "class Dot:\n",
        "\n",
        "    def __init__(self, x, y):\n",
        "        self.x = x\n",
        "        self.y = y\n",
        "\n",
        "a = Dot(1, 1)\n",
        "\n",
        "print(a) # <__main__.Dot object at 0x7c114b4cdc50> 나는 이렇게 출력하고 싶지 않은데?\n",
        "# [1, 1] 리스트와 형태가 비슷하네?\n",
        "# (1, 1) 튜플과 형태가 비슷하네?\n",
        "# {1, 1} ...\n",
        "# <1, 1> 또는 !1, 1! 이런식으로 기존 자료형과 기호가 다르게 하는 경우가 많습니다."
      ],
      "metadata": {
        "colab": {
          "base_uri": "https://localhost:8080/"
        },
        "id": "_UCi-v2JztvE",
        "outputId": "49f75398-d34c-4591-fad3-d85e8a806fcb"
      },
      "execution_count": null,
      "outputs": [
        {
          "output_type": "stream",
          "name": "stdout",
          "text": [
            "<__main__.Dot object at 0x7c114b4cdc50>\n"
          ]
        }
      ]
    },
    {
      "cell_type": "code",
      "source": [
        "class Dot:\n",
        "\n",
        "    def __init__(self, x, y):\n",
        "        self.x = x\n",
        "        self.y = y\n",
        "\n",
        "    def __str__(self):\n",
        "        # return f'<{self.x}, {self.y}>'\n",
        "        return 'hello world'\n",
        "\n",
        "a = Dot(1, 1)\n",
        "b = Dot(2, 2)\n",
        "\n",
        "print(a) # print는 a의 __str__을 실행합니다.\n",
        "print(b) # print는 a의 __str__을 실행합니다."
      ],
      "metadata": {
        "colab": {
          "base_uri": "https://localhost:8080/"
        },
        "id": "34UlQ_oO03bS",
        "outputId": "bfd7d284-7cb4-46ed-8193-eb30a87bae74"
      },
      "execution_count": null,
      "outputs": [
        {
          "output_type": "stream",
          "name": "stdout",
          "text": [
            "hello world\n",
            "hello world\n"
          ]
        }
      ]
    },
    {
      "cell_type": "code",
      "source": [
        "a = 10\n",
        "# a는 무엇이죠?\n",
        "# a는 int 클래스의 인스턴스 입니다.\n",
        "\n",
        "print(a)\n",
        "# 출력되는 결과는 무엇이죠?\n",
        "# a 인스턴스의 __str__를 실행시킨 결과(__str__ 메서드의 return)입니다.\n",
        "# 그 return 값은 10입니다."
      ],
      "metadata": {
        "id": "6aSBhWex1Lq5"
      },
      "execution_count": null,
      "outputs": []
    },
    {
      "cell_type": "markdown",
      "source": [
        "# 클래스 연습문제"
      ],
      "metadata": {
        "id": "kmmX_HjR35Nw"
      }
    },
    {
      "cell_type": "code",
      "source": [
        "## 문제 1: 간단한 Book 클래스 만들기\n",
        "# 책을 표현하는 Book 클래스를 만들어보세요. 책은 제목, 저자, 페이지 수를 가지며, 책 정보를 출력하는 기능이 있어야 합니다.\n",
        "\n",
        "\n",
        "# Book 클래스를 구현하세요\n",
        "# 요구사항:\n",
        "# 1. 제목(title), 저자(author), 페이지 수(pages)를 속성으로 가짐\n",
        "# 2. __str__ 메서드를 구현하여 책 정보를 \"제목 (저자, 페이지수 쪽)\" 형식으로 출력\n",
        "# 3. book1과 book2를 비교했을 때 페이지 수가 많은 책이 \"더 큰\" 책이 되도록 __gt__ 메서드 구현\n",
        "\n",
        "#\n",
        "class Book:\n",
        "    def __init__(self, title, author, pages):\n",
        "        # 아래와 같은 코드를 보일러플레이트 코드라고 합니다. 매번 반복적으로 써야 하는 코드이죠.\n",
        "        self.title = title\n",
        "        self.author = author\n",
        "        self.pages = pages\n",
        "\n",
        "    def __str__(self):\n",
        "        return f'{self.title} ({self.author}, {self.pages} 쪽)'\n",
        "\n",
        "    def __gt__(self, next):\n",
        "        return self.pages > next.pages\n",
        "\n",
        "# 예시 실행 코드\n",
        "book1 = Book(\"파이썬 기초\", \"김코딩\", 200)\n",
        "book2 = Book(\"자바 기초\", \"이자바\", 300)\n",
        "\n",
        "print(book1)  # 출력 예상: 파이썬 기초 (김코딩, 200 쪽)\n",
        "print(book2 > book1)  # 출력 예상: True (300 > 200)\n"
      ],
      "metadata": {
        "colab": {
          "base_uri": "https://localhost:8080/"
        },
        "id": "DLXU19gi36y1",
        "outputId": "9b631046-2408-4d7a-ce49-bb10d9d1311a"
      },
      "execution_count": null,
      "outputs": [
        {
          "output_type": "stream",
          "name": "stdout",
          "text": [
            "파이썬 기초 (김코딩, 200 쪽)\n",
            "True\n"
          ]
        }
      ]
    },
    {
      "cell_type": "code",
      "source": [
        "# ---------------------------------------------\n",
        "## 문제 2: 계산기 클래스 만들기\n",
        "# 사칙연산을 수행할 수 있는 Calculator 클래스를 만들어보세요.\n",
        "\n",
        "# Calculator 클래스를 구현하세요\n",
        "# 요구사항:\n",
        "# 1. 덧셈, 뺄셈, 곱셈, 나눗셈 기능 구현\n",
        "# 2. 계산 기록을 저장하는 기능 추가\n",
        "# 3. 마지막 계산 결과를 기억하고 있어야 함\n",
        "\n",
        "# 문제가 있는 문제입니다.\n",
        "# 앞에서 book은 확실히 데이터가 찍어낼 필요가 있는 데이터\n",
        "# 이러한 계산기는 그냥 함수로 구현하시면 됩니다.\n",
        "# 굳이 class로 '찍어낼 필요'가 있진 않아요.\n",
        "\n",
        "class Calculator:\n",
        "    def __init__(self):\n",
        "        self.history = []\n",
        "\n",
        "    def add(self, a, b):\n",
        "        self.history.append(f'{a} + {b} = {a + b}')\n",
        "        return a + b\n",
        "\n",
        "    def subtract(self, a, b):\n",
        "        self.history.append(f'{a} - {b} = {a - b}')\n",
        "        return a - b\n",
        "\n",
        "    def multiply(self, a, b):\n",
        "        self.history.append(f'{a} * {b} = {a * b}')\n",
        "        return a * b\n",
        "\n",
        "    def divide(self, a, b):\n",
        "        self.history.append(f'{a} / {b} = {a / b}')\n",
        "        return a / b\n",
        "\n",
        "    def get_history(self):\n",
        "        return self.history\n",
        "\n",
        "    def get_last_result(self):\n",
        "        return self.history[-1]\n",
        "\n",
        "# 예시 실행 코드\n",
        "calc = Calculator()\n",
        "print(calc.add(5, 3))  # 출력 예상: 8\n",
        "print(calc.subtract(10, 7))  # 출력 예상: 3\n",
        "print(calc.multiply(4, 2))  # 출력 예상: 8\n",
        "print(calc.divide(9, 3))  # 출력 예상: 3.0\n",
        "print(calc.get_history())  # 출력 예상: ['5 + 3 = 8', '10 - 7 = 3', '4 * 2 = 8', '9 / 3 = 3.0']\n",
        "print(calc.get_last_result())  # 출력 예상: 3.0"
      ],
      "metadata": {
        "colab": {
          "base_uri": "https://localhost:8080/"
        },
        "id": "XwPAK61IPKcD",
        "outputId": "3ffccb9e-3015-4e6e-a16f-aaa9a08debd9"
      },
      "execution_count": null,
      "outputs": [
        {
          "output_type": "stream",
          "name": "stdout",
          "text": [
            "8\n",
            "3\n",
            "8\n",
            "3.0\n",
            "['5 + 3 = 8', '10 - 7 = 3', '4 * 2 = 8', '9 / 3 = 3.0']\n",
            "9 / 3 = 3.0\n"
          ]
        }
      ]
    },
    {
      "cell_type": "code",
      "source": [
        "# ---------------------------------------------\n",
        "## 문제 3: 간단한 학생 성적 관리 클래스 만들기\n",
        "# 학생들의 성적을 관리하는 GradeBook 클래스를 만들어보세요.\n",
        "\n",
        "# GradeBook 클래스를 구현하세요\n",
        "# 요구사항:\n",
        "# 1. 학생 이름과 점수를 추가하는 기능\n",
        "# 2. 전체 학생 목록과 점수를 출력하는 기능\n",
        "# 3. 최고 점수와 해당 학생 이름을 반환하는 기능\n",
        "# 4. 평균 점수를 계산하는 기능\n",
        "\n",
        "class GradeBook:\n",
        "    def __init__(self):\n",
        "        self.students = []\n",
        "\n",
        "    def add_student(self):\n",
        "        pass\n",
        "\n",
        "    def print_grades(self):\n",
        "        pass\n",
        "\n",
        "    def get_highest_grade(self):\n",
        "        pass\n",
        "\n",
        "    def get_average(self):\n",
        "        pass\n",
        "\n",
        "# 예시 실행 코드\n",
        "gradebook = GradeBook()\n",
        "gradebook.add_student(\"김철수\", 85)\n",
        "gradebook.add_student(\"이영희\", 92)\n",
        "gradebook.add_student(\"박민수\", 78)\n",
        "gradebook.add_student(\"정지원\", 95)\n",
        "\n",
        "gradebook.print_grades()  # 모든 학생의 이름과 점수 출력\n",
        "print(f\"최고 점수: {gradebook.get_highest_grade()}\")  # 출력 예상: 최고 점수: ('정지원', 95)\n",
        "print(f\"평균 점수: {gradebook.get_average()}\")  # 출력 예상: 평균 점수: 87.5"
      ],
      "metadata": {
        "id": "BgQXZJG5PMfE"
      },
      "execution_count": null,
      "outputs": []
    },
    {
      "cell_type": "code",
      "source": [
        "# ---------------------------------------------\n",
        "## 문제 3: 간단한 학생 성적 관리 클래스 만들기\n",
        "# 학생들의 성적을 관리하는 GradeBook 클래스를 만들어보세요.\n",
        "\n",
        "# GradeBook 클래스를 구현하세요\n",
        "# 요구사항:\n",
        "# 1. 학생 이름과 점수를 추가하는 기능\n",
        "# 2. 전체 학생 목록과 점수를 출력하는 기능\n",
        "# 3. 최고 점수와 해당 학생 이름을 반환하는 기능\n",
        "# 4. 평균 점수를 계산하는 기능\n",
        "\n",
        "class GradeBook:\n",
        "    def __init__(self):\n",
        "        self.students = []\n",
        "\n",
        "    def add_student(self, name, score):\n",
        "        self.students.append((name, score))\n",
        "\n",
        "    def print_grades(self):\n",
        "        return self.students\n",
        "\n",
        "    def get_highest_grade(self):\n",
        "        def f(x):\n",
        "            return x[1]\n",
        "        return sorted(self.students, key=f, reverse=True)[0]\n",
        "\n",
        "    def get_average(self):\n",
        "        def f(x):\n",
        "            return x[1]\n",
        "        return sum(map(f, self.students)) / len(self.students)\n",
        "\n",
        "# 예시 실행 코드\n",
        "gradebook = GradeBook()\n",
        "gradebook.add_student(\"김철수\", 85)\n",
        "gradebook.add_student(\"이영희\", 92)\n",
        "gradebook.add_student(\"박민수\", 78)\n",
        "gradebook.add_student(\"정지원\", 95)\n",
        "\n",
        "gradebook.print_grades()  # 모든 학생의 이름과 점수 출력\n",
        "print(f\"최고 점수: {gradebook.get_highest_grade()}\")  # 출력 예상: 최고 점수: ('정지원', 95)\n",
        "print(f\"평균 점수: {gradebook.get_average()}\")  # 출력 예상: 평균 점수: 87.5"
      ],
      "metadata": {
        "colab": {
          "base_uri": "https://localhost:8080/"
        },
        "id": "ZyEtq4l0VDsf",
        "outputId": "d50b261c-38e9-4a81-b7bb-4c507c747c1e"
      },
      "execution_count": null,
      "outputs": [
        {
          "output_type": "stream",
          "name": "stdout",
          "text": [
            "최고 점수: ('정지원', 95)\n",
            "평균 점수: 87.5\n"
          ]
        }
      ]
    },
    {
      "cell_type": "code",
      "source": [
        "# ---------------------------------------------\n",
        "## 나아가기\n",
        "## 실무라면 어떻게 하는 것이 좋았을까요?\n",
        "# => class로 변환할 수 있는 것은 모두 클래스로 변경했을 것입니다.\n",
        "\n",
        "class Student:\n",
        "    def __init__(self, name, score, phone, email):\n",
        "        self.name = name\n",
        "        self.score = score\n",
        "        self.phone = phone\n",
        "        self.email = email\n",
        "\n",
        "    def __str__(self): # print를 하면 출력해주는 문자열\n",
        "        return f'{self.name}'\n",
        "\n",
        "    def __repr__(self): # 이 객체를 대표하는 문자열, print를 안하고 출력하면 이 문자열을 출력합니다.\n",
        "        return f'{self.name}'\n",
        "\n",
        "class GradeBook:\n",
        "    def __init__(self):\n",
        "        self.students = []\n",
        "\n",
        "    def add_student(self, name, score, phone='000-0000-0000', email=''):\n",
        "        self.students.append(Student(name, score, phone, email))\n",
        "\n",
        "    def print_grades(self):\n",
        "        return self.students\n",
        "\n",
        "# 예시 실행 코드\n",
        "gradebook = GradeBook()\n",
        "gradebook.add_student(\"김철수\", 85, '010-5044-2903')\n",
        "gradebook.add_student(\"이영희\", 92)\n",
        "gradebook.add_student(\"박민수\", 78)\n",
        "gradebook.add_student(\"정지원\", 95)\n",
        "\n",
        "gradebook.print_grades()\n",
        "\n",
        "data = gradebook.print_grades()\n",
        "data[0].score\n",
        "data[0].phone"
      ],
      "metadata": {
        "colab": {
          "base_uri": "https://localhost:8080/",
          "height": 35
        },
        "id": "-syuKw5ZY-lv",
        "outputId": "63a4e069-77ce-41be-c192-65322124948d"
      },
      "execution_count": null,
      "outputs": [
        {
          "output_type": "execute_result",
          "data": {
            "text/plain": [
              "'010-5044-2903'"
            ],
            "application/vnd.google.colaboratory.intrinsic+json": {
              "type": "string"
            }
          },
          "metadata": {},
          "execution_count": 14
        }
      ]
    },
    {
      "cell_type": "markdown",
      "source": [
        "# 상속"
      ],
      "metadata": {
        "id": "CljGPH7chR5G"
      }
    },
    {
      "cell_type": "code",
      "source": [
        "# 국내 학생\n",
        "\n",
        "class Student:\n",
        "    def __init__(self, name, score, phone, email):\n",
        "        self.name = name\n",
        "        self.score = score\n",
        "        self.phone = phone\n",
        "        self.email = email\n",
        "\n",
        "    def __repr__(self):\n",
        "        return self.name\n",
        "\n",
        "# 외국학생이 들어왔습니다!? 1 / 10000 명이 들어왔어요.\n",
        "# 이 한 명을 위해 이 class를 바꾸는 것이 바람직할까요?\n",
        "# 그래서 이렇게 하고 싶은겁니다. Student에 있는 것을 그대로 사용하고\n",
        "# 국적만 추가해주는 다른 class를 만드는 것입니다.\n",
        "\n",
        "class ForeignStudent(Student):\n",
        "    def __init__(self, name, score, phone, email, country):\n",
        "        super().__init__(name, score, phone, email)\n",
        "        self.country = country\n",
        "\n",
        "# 그럼 이제 학생들 관리할 때 아래와 같이 관리할 수 있을 겁니다.\n",
        "\n",
        "data = [\n",
        "    Student(\"김민준\", 85, \"010-1234-5678\", \"minjun@example.kr\"),\n",
        "    Student(\"이서연\", 92, \"010-2345-6789\", \"seoyeon@example.kr\"),\n",
        "    Student(\"박지훈\", 78, \"010-3456-7890\", \"jihoon@example.kr\"),\n",
        "    Student(\"최수아\", 88, \"010-4567-8901\", \"sua@example.kr\"),\n",
        "    Student(\"정도현\", 95, \"010-5678-9012\", \"dohyun@example.kr\"),\n",
        "    Student(\"강하은\", 82, \"010-6789-0123\", \"haeun@example.kr\"),\n",
        "    Student(\"윤지우\", 90, \"010-7890-1234\", \"jiwoo@example.kr\"),\n",
        "    Student(\"임서진\", 79, \"010-8901-2345\", \"seojin@example.kr\"),\n",
        "    ForeignStudent(\"Emma Wilson\", 87, \"010-9012-3456\", \"emma@example.com\", \"USA\"),\n",
        "    Student(\"한유진\", 93, \"010-0123-4567\", \"yujin@example.kr\")\n",
        "]\n",
        "\n",
        "data\n",
        "\n",
        "# for i in data:\n",
        "#     print(i.score)"
      ],
      "metadata": {
        "colab": {
          "base_uri": "https://localhost:8080/"
        },
        "id": "BaAqQt3ZhTcq",
        "outputId": "ed394239-9d31-4d5b-f953-04ce80ad8216"
      },
      "execution_count": null,
      "outputs": [
        {
          "output_type": "execute_result",
          "data": {
            "text/plain": [
              "[김민준, 이서연, 박지훈, 최수아, 정도현, 강하은, 윤지우, 임서진, Emma Wilson, 한유진]"
            ]
          },
          "metadata": {},
          "execution_count": 21
        }
      ]
    },
    {
      "cell_type": "code",
      "source": [
        "class A:\n",
        "    pass\n",
        "\n",
        "class B:\n",
        "    pass\n",
        "\n",
        "class C:\n",
        "    pass"
      ],
      "metadata": {
        "id": "KNkhbnGrmxb3"
      },
      "execution_count": null,
      "outputs": []
    },
    {
      "cell_type": "code",
      "source": [
        "class A:\n",
        "    pass\n",
        "\n",
        "class B(A):\n",
        "    pass\n",
        "\n",
        "class C(B):\n",
        "    pass"
      ],
      "metadata": {
        "id": "IxwwjsJWm32E"
      },
      "execution_count": null,
      "outputs": []
    },
    {
      "cell_type": "code",
      "source": [
        "class A:\n",
        "    def move(self):\n",
        "        print('움직여요!')\n",
        "\n",
        "class B(A):\n",
        "    pass\n",
        "\n",
        "class C(B):\n",
        "    pass\n",
        "\n",
        "a = A()\n",
        "b = B()\n",
        "c = C()\n",
        "\n",
        "a.move()\n",
        "b.move()\n",
        "c.move()"
      ],
      "metadata": {
        "colab": {
          "base_uri": "https://localhost:8080/"
        },
        "id": "soVAqq87nGfx",
        "outputId": "157a26da-9f10-4022-9117-2de649d5abb4"
      },
      "execution_count": null,
      "outputs": [
        {
          "output_type": "stream",
          "name": "stdout",
          "text": [
            "움직여요!\n",
            "움직여요!\n",
            "움직여요!\n"
          ]
        }
      ]
    },
    {
      "cell_type": "code",
      "source": [
        "class A:\n",
        "    num = 100\n",
        "    def move(self):\n",
        "        print('움직여요!')\n",
        "\n",
        "class B(A):\n",
        "    pass\n",
        "\n",
        "class C(B):\n",
        "    pass\n",
        "\n",
        "a = A()\n",
        "b = B()\n",
        "c = C()\n",
        "\n",
        "a.num\n",
        "b.num\n",
        "c.num"
      ],
      "metadata": {
        "colab": {
          "base_uri": "https://localhost:8080/"
        },
        "id": "nziAlvH3nWKE",
        "outputId": "d91da510-fc0f-45dc-a7f7-e0cda281b865"
      },
      "execution_count": null,
      "outputs": [
        {
          "output_type": "execute_result",
          "data": {
            "text/plain": [
              "100"
            ]
          },
          "metadata": {},
          "execution_count": 25
        }
      ]
    },
    {
      "cell_type": "code",
      "source": [
        "class A:\n",
        "    a = 100\n",
        "\n",
        "class B:\n",
        "    b = 200\n",
        "\n",
        "class C(A, B):\n",
        "    pass\n",
        "\n",
        "\n",
        "c = C()\n",
        "\n",
        "c.a\n",
        "c.b"
      ],
      "metadata": {
        "colab": {
          "base_uri": "https://localhost:8080/"
        },
        "id": "BZtWXKksoV9H",
        "outputId": "90eeb09e-b5b6-4a5f-d498-a5632bf9727a"
      },
      "execution_count": null,
      "outputs": [
        {
          "output_type": "execute_result",
          "data": {
            "text/plain": [
              "200"
            ]
          },
          "metadata": {},
          "execution_count": 28
        }
      ]
    },
    {
      "cell_type": "code",
      "source": [
        "class A:\n",
        "    a = 100\n",
        "\n",
        "class B:\n",
        "    a = 200\n",
        "\n",
        "class C(B, A):\n",
        "    pass\n",
        "\n",
        "\n",
        "c = C()\n",
        "\n",
        "c.a"
      ],
      "metadata": {
        "colab": {
          "base_uri": "https://localhost:8080/"
        },
        "id": "1rqpokDGooT7",
        "outputId": "7e1ed6e2-288e-43e7-dafe-d94024c044a4"
      },
      "execution_count": null,
      "outputs": [
        {
          "output_type": "execute_result",
          "data": {
            "text/plain": [
              "200"
            ]
          },
          "metadata": {},
          "execution_count": 31
        }
      ]
    },
    {
      "cell_type": "markdown",
      "source": [
        "# 메서드 오버라이딩"
      ],
      "metadata": {
        "id": "4K7CAmOWpH-I"
      }
    },
    {
      "cell_type": "code",
      "source": [
        "class A:\n",
        "    def move(self):\n",
        "        print('출발')\n",
        "\n",
        "\n",
        "class B(A):\n",
        "    def move(self):\n",
        "        print('덮어썼지롱!')\n",
        "\n",
        "\n",
        "b = B()\n",
        "b.move()"
      ],
      "metadata": {
        "colab": {
          "base_uri": "https://localhost:8080/"
        },
        "id": "V4m_dIj0pVai",
        "outputId": "05d5afae-c852-4457-893d-b302be6608fa"
      },
      "execution_count": null,
      "outputs": [
        {
          "output_type": "stream",
          "name": "stdout",
          "text": [
            "덮어썼지롱!\n"
          ]
        }
      ]
    },
    {
      "cell_type": "code",
      "source": [
        "# 절대 실행시키지 마세요.\n",
        "class int(int):\n",
        "    def __add__(self, a):\n",
        "        return self * a\n",
        "\n",
        "int('10') + int('10')"
      ],
      "metadata": {
        "colab": {
          "base_uri": "https://localhost:8080/"
        },
        "id": "WBtPMvu0qujl",
        "outputId": "c7cde860-b0c2-4bd7-a4c8-50367ca6d3ba"
      },
      "execution_count": null,
      "outputs": [
        {
          "output_type": "execute_result",
          "data": {
            "text/plain": [
              "100"
            ]
          },
          "metadata": {},
          "execution_count": 33
        }
      ]
    },
    {
      "cell_type": "code",
      "source": [
        "class MyClass:\n",
        "    def __init__(self, c, d, e):\n",
        "        self.__c = c\n",
        "        self.d = d\n",
        "        self._ = e\n",
        "\n",
        "c = MyClass(30, 40, 50)\n",
        "c._\n",
        "c.__c # error"
      ],
      "metadata": {
        "colab": {
          "base_uri": "https://localhost:8080/"
        },
        "id": "YKyXLaCOsfP4",
        "outputId": "50bee545-475f-4ddc-c036-9cd179e2a0e6"
      },
      "execution_count": null,
      "outputs": [
        {
          "output_type": "execute_result",
          "data": {
            "text/plain": [
              "50"
            ]
          },
          "metadata": {},
          "execution_count": 3
        }
      ]
    },
    {
      "cell_type": "markdown",
      "source": [
        "# lambda"
      ],
      "metadata": {
        "id": "uVRf8-BsVrf4"
      }
    },
    {
      "cell_type": "code",
      "source": [
        "# 이름이 없는 함수!\n",
        "# 함수는 => 재사용하려고 사용!\n",
        "# 이름이 없는 함수인 lambda는 재사용이 목적이 아니라 함수 기능 자체에 목적이 있습니다.\n",
        "def f(x): # 이 f함수를 거의 재사용하지 않아요! 1번만 사용하는 경우가 많습니다.\n",
        "    return x ** 2\n",
        "\n",
        "list(map(f, [1, 2, 3, 4]))"
      ],
      "metadata": {
        "colab": {
          "base_uri": "https://localhost:8080/"
        },
        "id": "l-UFoZGwbdXX",
        "outputId": "af216261-7800-4f24-cd56-950ff00bdae6"
      },
      "execution_count": null,
      "outputs": [
        {
          "output_type": "execute_result",
          "data": {
            "text/plain": [
              "[1, 4, 9, 16]"
            ]
          },
          "metadata": {},
          "execution_count": 15
        }
      ]
    },
    {
      "cell_type": "code",
      "source": [
        "list(map(lambda x: x ** 2, [1, 2, 3, 4]))"
      ],
      "metadata": {
        "colab": {
          "base_uri": "https://localhost:8080/"
        },
        "id": "xYvfjrjOb4Pn",
        "outputId": "e3da0bf3-43a4-409d-f51d-cae7e3e07592"
      },
      "execution_count": null,
      "outputs": [
        {
          "output_type": "execute_result",
          "data": {
            "text/plain": [
              "[1, 4, 9, 16]"
            ]
          },
          "metadata": {},
          "execution_count": 16
        }
      ]
    },
    {
      "cell_type": "code",
      "source": [
        "# lambda가 자주 사용되는 곳은 어딘가요?\n",
        "\n",
        "# 보통\n",
        "# map\n",
        "# filter\n",
        "# sorted\n",
        "\n",
        "# 다만, 고급 프로그래머는 시도 때도 없이 lambda를 사용합니다.\n",
        "# 그리고 한줄로만 코딩을 하려는 이상한 분들이 있으십니다. => 권하지 않습니다.\n",
        "# 가독성은 중요합니다. lambda를 너무 겹쳐서 쓰면 가독성이 깨집니다."
      ],
      "metadata": {
        "id": "ljS_cI-LcIDo"
      },
      "execution_count": null,
      "outputs": []
    },
    {
      "cell_type": "code",
      "source": [
        "# [2, 5, 3, 7, 5, 3, 4, 1, 2, 3]에서 4 이상인 값을 모두 출력하세요. lambda를 통해 구현하세요.\n",
        "\n",
        "list(filter(lambda x: x >= 4, [2, 5, 3, 7, 5, 3, 4, 1, 2, 3]))"
      ],
      "metadata": {
        "colab": {
          "base_uri": "https://localhost:8080/"
        },
        "id": "kVFeoWEvc4_c",
        "outputId": "71acff62-53d0-4144-c476-66724dcdf4cc"
      },
      "execution_count": null,
      "outputs": [
        {
          "output_type": "execute_result",
          "data": {
            "text/plain": [
              "[5, 7, 5, 4]"
            ]
          },
          "metadata": {},
          "execution_count": 17
        }
      ]
    },
    {
      "cell_type": "code",
      "source": [
        "# lambda를 이름 있는 함수로!?\n",
        "\n",
        "f = lambda num: num >= 4\n",
        "\n",
        "def f(num):\n",
        "    return num >= 4"
      ],
      "metadata": {
        "id": "S1Uu-Cd9fMWu"
      },
      "execution_count": null,
      "outputs": []
    },
    {
      "cell_type": "code",
      "source": [
        "# 가독성이 매우 떨어지는 중첩 lambda 예시\n",
        "process_data = lambda data: list(map(\n",
        "    lambda x: (lambda y: (lambda z: z ** 2)(y * 3) if y % 2 == 0 else (lambda w: w + 10)(y))(\n",
        "        (lambda a: a + 5 if a > 10 else (lambda b: b * 2)(a))(x)\n",
        "    ),\n",
        "    filter(lambda n: (lambda p: p > 0)(n) and (lambda q: q < 100)(n) and (lambda r: r % 3 != 0 or r % 5 == 0)(n), data)\n",
        "))\n",
        "\n",
        "# 사용 예시\n",
        "numbers = list(range(-10, 30))\n",
        "result = process_data(numbers)\n",
        "print(result)"
      ],
      "metadata": {
        "id": "WmD1-_Xrfu1Z"
      },
      "execution_count": null,
      "outputs": []
    },
    {
      "cell_type": "markdown",
      "source": [
        "# 상수"
      ],
      "metadata": {
        "id": "sN7fQWnwe6FQ"
      }
    },
    {
      "cell_type": "code",
      "source": [
        "# 대부분 모든 변수의 알파벳이 대문자면 상수로 여기고 잘 수정하지 않습니다.\n",
        "# 그런데 잘 수정하지 않을 뿐이지 수정은 되죠!?\n",
        "# 상수를 보호할 수 있는 보호 장치가 다른 언어보다 미흡한 것은 사실입니다.\n",
        "# 이런 상수를 만들 수 있는 여러가지 기법들이 존재합니다.\n",
        "\n",
        "PI = 3.14"
      ],
      "metadata": {
        "id": "xHv_mGEveNVI"
      },
      "execution_count": null,
      "outputs": []
    },
    {
      "cell_type": "code",
      "source": [
        "from enum import Enum\n",
        "\n",
        "class Color(Enum):\n",
        "    RED = 1\n",
        "    GREEN = 2\n",
        "    BLUE = 3\n",
        "\n",
        "print(Color.RED)\n",
        "\n",
        "for color in Color:\n",
        "    print(color)"
      ],
      "metadata": {
        "colab": {
          "base_uri": "https://localhost:8080/"
        },
        "id": "1BOMY9Lce5YE",
        "outputId": "4ec0b832-8674-4849-d463-8c18c152ce77"
      },
      "execution_count": null,
      "outputs": [
        {
          "output_type": "stream",
          "name": "stdout",
          "text": [
            "Color.RED\n",
            "Color.RED\n",
            "Color.GREEN\n",
            "Color.BLUE\n"
          ]
        }
      ]
    },
    {
      "cell_type": "code",
      "source": [
        "# 기능적으로는 수정이 되어 버립니다!\n",
        "color.RED = 100"
      ],
      "metadata": {
        "id": "02d3RpALfGou"
      },
      "execution_count": null,
      "outputs": []
    },
    {
      "cell_type": "code",
      "source": [
        "color.RED"
      ],
      "metadata": {
        "colab": {
          "base_uri": "https://localhost:8080/"
        },
        "id": "r8SQk5qMfJdF",
        "outputId": "b4e499ae-1167-4ca2-9335-e8bb5f183689"
      },
      "execution_count": null,
      "outputs": [
        {
          "output_type": "execute_result",
          "data": {
            "text/plain": [
              "100"
            ]
          },
          "metadata": {},
          "execution_count": 3
        }
      ]
    },
    {
      "cell_type": "code",
      "source": [
        "# 클로저라는 기법을 사용하면 변수를 숨길 수 있어요.\n",
        "# factory 함수라고도 합니다.\n",
        "\n",
        "# 클로저는 함수가 끝난 뒤에 휘발되어야 하는 영역에\n",
        "# 함수가 끝난 뒤에도 접근할 수 있도록 하는 기술\n",
        "# x가 휘발되지 않으려면 어딘가에서 x를 사용하고 있기만 하면 됩니다.\n",
        "\n",
        "##############################\n",
        "def f(x):\n",
        "    def ff(y):\n",
        "        return y ** x\n",
        "    return ff\n",
        "\n",
        "aa = f(3)\n",
        "##############################\n",
        "\n",
        "# 위 코드는 아래 코드와 같은 결과를 낳게 됩니다.\n",
        "def aa(y):\n",
        "    return y ** 3"
      ],
      "metadata": {
        "id": "8-b7f7NofZmH"
      },
      "execution_count": null,
      "outputs": []
    },
    {
      "cell_type": "code",
      "source": [
        "# 위 코드는 아래 코드와 같은 결과를 낳게 됩니다.\n",
        "def aa(y):\n",
        "    return y ** 3\n",
        "\n",
        "aa(2)"
      ],
      "metadata": {
        "colab": {
          "base_uri": "https://localhost:8080/"
        },
        "id": "r4ZHP2hJgy0D",
        "outputId": "b7900ac9-949c-4cbb-9b81-5fcbdb88dc9b"
      },
      "execution_count": null,
      "outputs": [
        {
          "output_type": "execute_result",
          "data": {
            "text/plain": [
              "8"
            ]
          },
          "metadata": {},
          "execution_count": 4
        }
      ]
    },
    {
      "cell_type": "code",
      "source": [
        "def f(x):\n",
        "    def ff(y):\n",
        "        return y ** x\n",
        "    return ff\n",
        "\n",
        "aa = f(3)\n",
        "aa(2) # 여기 이후로는 x에 접근이 불가능합니다."
      ],
      "metadata": {
        "colab": {
          "base_uri": "https://localhost:8080/"
        },
        "id": "ngXwp0Z2g3vV",
        "outputId": "14de7891-2850-4af3-ed1d-b7d2e691f60e"
      },
      "execution_count": null,
      "outputs": [
        {
          "output_type": "execute_result",
          "data": {
            "text/plain": [
              "8"
            ]
          },
          "metadata": {},
          "execution_count": 5
        }
      ]
    },
    {
      "cell_type": "markdown",
      "source": [
        "# 모듈과 패키지"
      ],
      "metadata": {
        "id": "6e0xVZrehfZa"
      }
    },
    {
      "cell_type": "code",
      "source": [
        "import hojun # 내 폴더에서 먼저 hojun.py를 찾습니다!\n",
        "\n",
        "hojun.age\n",
        "hojun.name\n",
        "hojun.add(3, 4)\n",
        "\n",
        "'''\n",
        "# hojun.py 파일 내용\n",
        "name = 'hojun'\n",
        "age = 10\n",
        "\n",
        "def add(x, y):\n",
        "    return x + y\n",
        "\n",
        "def mul(x, y):\n",
        "    return x * y\n",
        "'''\n",
        "\n",
        "# print(dir(hojun))\n",
        "# print(type(hojun)) # <class 'module'>"
      ],
      "metadata": {
        "colab": {
          "base_uri": "https://localhost:8080/"
        },
        "id": "Mm7YuD3rhjzo",
        "outputId": "7be29b09-17a8-47e1-f563-1773202ba6e7"
      },
      "execution_count": null,
      "outputs": [
        {
          "output_type": "execute_result",
          "data": {
            "text/plain": [
              "7"
            ]
          },
          "metadata": {},
          "execution_count": 11
        }
      ]
    },
    {
      "cell_type": "code",
      "source": [
        "import hojun as h # 내 폴더에서 먼저 hojun.py를 찾습니다!\n",
        "\n",
        "print(h.age)\n",
        "print(h.name)\n",
        "print(h.add(3, 4))"
      ],
      "metadata": {
        "colab": {
          "base_uri": "https://localhost:8080/",
          "height": 109
        },
        "id": "iFTSweoxjJXK",
        "outputId": "6f3693d0-6e68-4ad7-d10d-ecad041ad6b1"
      },
      "execution_count": null,
      "outputs": [
        {
          "output_type": "stream",
          "name": "stdout",
          "text": [
            "10\n",
            "hojun\n",
            "7\n"
          ]
        },
        {
          "output_type": "execute_result",
          "data": {
            "text/plain": [
              "\"\\n# hojun.py 파일 내용\\nname = 'hojun'\\nage = 10\\n\\ndef add(x, y):\\n    return x + y\\n\\ndef mul(x, y):\\n    return x * y\\n\""
            ],
            "application/vnd.google.colaboratory.intrinsic+json": {
              "type": "string"
            }
          },
          "metadata": {},
          "execution_count": 13
        }
      ]
    },
    {
      "cell_type": "code",
      "source": [
        "from hojun import age, name, add\n",
        "\n",
        "print(age)\n",
        "print(name)\n",
        "print(add(3, 4))"
      ],
      "metadata": {
        "colab": {
          "base_uri": "https://localhost:8080/"
        },
        "id": "oGzb50gJj3BU",
        "outputId": "9b24432b-6146-4087-d721-50c7d08d1a4c"
      },
      "execution_count": null,
      "outputs": [
        {
          "output_type": "stream",
          "name": "stdout",
          "text": [
            "10\n",
            "hojun\n",
            "7\n"
          ]
        }
      ]
    },
    {
      "cell_type": "code",
      "source": [
        "# 위 코드는 이럴 때에는 문제가 생깁니다.\n",
        "# 이 코드는 실행이 되지 않습니다. nayung.py 파일이 없습니다.\n",
        "from hojun import age, name, add\n",
        "from nayung import age, name, add\n",
        "\n",
        "print(age)\n",
        "print(name)\n",
        "print(add(3, 4))"
      ],
      "metadata": {
        "colab": {
          "base_uri": "https://localhost:8080/"
        },
        "id": "6_pZ5zxrkFkF",
        "outputId": "669f1659-81bd-47c6-f4dd-95789e6b32a5"
      },
      "execution_count": null,
      "outputs": [
        {
          "output_type": "stream",
          "name": "stdout",
          "text": [
            "5\n",
            "nayung\n",
            "7\n"
          ]
        }
      ]
    },
    {
      "cell_type": "code",
      "source": [
        "# 위와 같은 문제가 있기 때문에\n",
        "# 아래와 같이 import 또는 import + as를 권장합니다.\n",
        "\n",
        "import hojun as h # 내 폴더에서 먼저 hojun.py를 찾습니다!\n",
        "import nayung as n # 내 폴더에서 먼저 nayung.py를 찾습니다!\n",
        "\n",
        "print(h.age)\n",
        "print(h.name)\n",
        "print(h.add(3, 4))\n",
        "\n",
        "print(n.age)\n",
        "print(n.name)\n",
        "print(n.add(3, 4))"
      ],
      "metadata": {
        "id": "bWeitrLKjfsN"
      },
      "execution_count": null,
      "outputs": []
    },
    {
      "cell_type": "markdown",
      "source": [
        "## 문제 1: 수학 모듈 만들기\n",
        "\n",
        "**문제 설명:**\n",
        "수학 연산을 수행하는 `math_tools.py` 모듈을 만들고, 이를 불러와 사용하는 프로그램을 작성하세요.\n",
        "\n",
        "**요구사항:**\n",
        "1. `math_tools.py` 파일을 만들고 다음 항목을 구현하세요.\n",
        "   - `pi` 변수: 3.14159 값을 저장\n",
        "   - `e` 변수: 2.71828 값을 저장\n",
        "   - `square(x)` 함수: 숫자의 제곱을 반환\n",
        "   - `cube(x)` 함수: 숫자의 세제곱을 반환\n",
        "   - `factorial(n)` 함수: n의 팩토리얼(n!)을 계산하여 반환\n",
        "\n",
        "2. 각 import 방식에 따라 pi 값을 출력하고, 숫자 5의 제곱을 계산하여 출력하세요.\n",
        "\n",
        "**예상 결과:**\n",
        "```\n",
        "전체 import 방식으로 사용:\n",
        "Pi: 3.14159\n",
        "5의 제곱: 25\n",
        "\n",
        "별칭(as)으로 import하여 사용:\n",
        "Pi: 3.14159\n",
        "5의 제곱: 25\n",
        "\n",
        "특정 항목만 import하여 사용:\n",
        "Pi: 3.14159\n",
        "5의 제곱: 25\n",
        "```\n",
        "\n",
        "## 문제 2: 학생 정보 관리 모듈 만들기\n",
        "\n",
        "**문제 설명:**\n",
        "학생들의 정보를 관리하는 `student_info.py` 모듈을 만들고, 이를 활용하여 학생들의 정보를 출력하는 프로그램을 작성하세요.\n",
        "\n",
        "**요구사항:**\n",
        "1. `student_info.py` 파일을 만들고 다음 항목을 구현하세요:\n",
        "   - `school_name` 변수: 학교 이름 (예: \"파이썬 고등학교\")\n",
        "   - `students` 리스트: 학생들의 이름을 담은 리스트 (최소 3명)\n",
        "   - `get_student_info(name)` 함수: 학생 이름이 주어지면 \"{이름}은/는 {학교이름}의 학생입니다.\"라는 문자열 반환\n",
        "   - `count_students()` 함수: 학생 수를 반환\n",
        "\n",
        "2. 두 가지 import 방식을 모두 사용하여\n",
        "   - 학교 이름 출력\n",
        "   - 첫 번째 학생의 정보 출력 (두 가지 import 방식 모두 사용)\n",
        "   - 전체 학생 수 출력 (별칭을 사용한 import 방식으로만)\n",
        "\n",
        "**예상 결과:**\n",
        "```\n",
        "[별칭 import 방식]\n",
        "학교 이름: 파이썬 고등학교\n",
        "첫 번째 학생 정보: 홍길동은/는 파이썬 고등학교의 학생입니다.\n",
        "전체 학생 수: 3\n",
        "\n",
        "[특정 항목 import 방식]\n",
        "학교 이름: 파이썬 고등학교\n",
        "첫 번째 학생 정보: 홍길동은/는 파이썬 고등학교의 학생입니다.\n",
        "```"
      ],
      "metadata": {
        "id": "d-gjPZnRlr8b"
      }
    },
    {
      "cell_type": "code",
      "source": [
        "# math_tools.py\n",
        "pi = 3.14159\n",
        "e = 2.71828\n",
        "\n",
        "def square(x):\n",
        "    return x ** 2\n",
        "\n",
        "def cube(x):\n",
        "    return x ** 3\n",
        "\n",
        "def factorial(n):\n",
        "    result = 1\n",
        "    for i in range(1, n+1):\n",
        "        result *= i\n",
        "    return result"
      ],
      "metadata": {
        "id": "y_xTPsKdmGDB"
      },
      "execution_count": null,
      "outputs": []
    },
    {
      "cell_type": "code",
      "source": [
        "import math_tools\n",
        "\n",
        "print(math_tools.pi)\n",
        "\n",
        "import math_tools as mt\n",
        "\n",
        "print(mt.pi)\n",
        "\n",
        "from math_tools import pi\n",
        "\n",
        "print(pi)"
      ],
      "metadata": {
        "colab": {
          "base_uri": "https://localhost:8080/"
        },
        "id": "ZNq9dDQMva-A",
        "outputId": "b5d89d3d-1df3-4043-ef35-93fcda0a528a"
      },
      "execution_count": null,
      "outputs": [
        {
          "output_type": "stream",
          "name": "stdout",
          "text": [
            "3.14159\n",
            "3.14159\n",
            "3.14159\n"
          ]
        }
      ]
    },
    {
      "cell_type": "code",
      "source": [
        "# student_info.py\n",
        "\n",
        "school_name = \"파이썬 고등학교\"\n",
        "students = [\"홍길동\", \"김철수\", \"이영희\"]\n",
        "\n",
        "def get_student_info(name):\n",
        "    return f\"{name}은/는 {school_name}의 학생입니다.\"\n",
        "\n",
        "def count_students():\n",
        "    return len(students)"
      ],
      "metadata": {
        "id": "VDZ7BD3mvpFq"
      },
      "execution_count": null,
      "outputs": []
    },
    {
      "cell_type": "code",
      "source": [
        "# 학교 이름 출력\n",
        "# 첫 번째 학생의 정보 출력 (두 가지 import 방식 모두 사용)\n",
        "# 전체 학생 수 출력 (별칭을 사용한 import 방식으로만)\n",
        "\n",
        "import student_info\n",
        "\n",
        "print(student_info.school_name)\n",
        "print(student_info.get_student_info(student_info.students[0]))\n",
        "\n",
        "import student_info as si\n",
        "\n",
        "print(si.school_name)\n",
        "print(si.get_student_info(si.students[0]))"
      ],
      "metadata": {
        "colab": {
          "base_uri": "https://localhost:8080/"
        },
        "id": "7C4rC1Bvv_9I",
        "outputId": "f83383ed-fde6-4e82-e744-a96455ef99bc"
      },
      "execution_count": null,
      "outputs": [
        {
          "output_type": "stream",
          "name": "stdout",
          "text": [
            "파이썬 고등학교\n",
            "홍길동은/는 파이썬 고등학교의 학생입니다.\n",
            "파이썬 고등학교\n",
            "홍길동은/는 파이썬 고등학교의 학생입니다.\n"
          ]
        }
      ]
    },
    {
      "cell_type": "code",
      "source": [
        "# 모듈을 읽는 순서\n",
        "# 1. 해당 메모리에 해당 모듈이 있는지 확인합니다.\n",
        "# 2. 해당 파일 폴더에 해당 .py파일이나 폴더가 있는지 확인합니다.\n",
        "# 3. 파이썬이 설치된 곳으로 이동해서 모듈을 찾습니다.\n",
        "# 4. 이렇게 해서 못찾을 경우 애러를 반환합니다.\n",
        "\n",
        "from a.b.c import hojun # a폴더 아래 b폴더 아래 c 폴더 아래\n",
        "\n",
        "hojun.age"
      ],
      "metadata": {
        "colab": {
          "base_uri": "https://localhost:8080/"
        },
        "id": "6RdexYqawgGI",
        "outputId": "ea316341-a271-43c6-b0e9-4024107f7ef6"
      },
      "execution_count": null,
      "outputs": [
        {
          "output_type": "execute_result",
          "data": {
            "text/plain": [
              "10"
            ]
          },
          "metadata": {},
          "execution_count": 19
        }
      ]
    },
    {
      "cell_type": "code",
      "source": [
        "from a.b.c.hojun import age\n",
        "\n",
        "print(age)"
      ],
      "metadata": {
        "colab": {
          "base_uri": "https://localhost:8080/"
        },
        "id": "KDjTWDJ9zdEX",
        "outputId": "2cd5b79e-8aee-4308-8dfb-47f125a107d4"
      },
      "execution_count": null,
      "outputs": [
        {
          "output_type": "stream",
          "name": "stdout",
          "text": [
            "10\n"
          ]
        }
      ]
    },
    {
      "cell_type": "code",
      "source": [
        "import os\n",
        "\n",
        "# 정말 많이 사용되지만\n",
        "# 문제가 있습니다! Mac, Linux, Window를 혼용 사용하시는 분들은\n",
        "# 주의하실 필요가 있습니다.\n",
        "# 경로 생성에서 구분자가 잘못들어가는 이슈가 있어서 뒤에서 배울 Django에서는\n",
        "# 3.x에서 os 모듈이 빠졌습니다.\n",
        "# 대신 pathlib 모듈이 들어갔습니다.\n",
        "# Django 외에 다른 곳에서는 잘 빼지 않습니다.\n",
        "\n",
        "os.mkdir('licat') # licat이란 폴더 생성, 삭제는 os.rmdir()\n",
        "print(os.path.join('hello', 'world')) # 경로를 합쳐줍니다.\n",
        "print(os.listdir()) # 현재 디렉토리의 파일 목록을 반환합니다."
      ],
      "metadata": {
        "colab": {
          "base_uri": "https://localhost:8080/"
        },
        "id": "dTuwsjnN0O6i",
        "outputId": "cb0f7a47-e309-4b8c-954a-73334cb6c331"
      },
      "execution_count": null,
      "outputs": [
        {
          "output_type": "stream",
          "name": "stdout",
          "text": [
            "hello/world\n",
            "['.config', 'nayung.py', 'student_info.py', '.ipynb_checkpoints', 'math_tools.py', 'a', 'licat', '__pycache__', 'sample_data']\n"
          ]
        }
      ]
    },
    {
      "cell_type": "code",
      "source": [
        "from pathlib import Path as p\n",
        "\n",
        "p.cwd() # 현재 경로 확인\n",
        "pwd = p.cwd()\n",
        "pwd / 'hello' / 'world' # /로 경로 결합\n",
        "\n",
        "print(pwd / 'hello100' / 'world100' / 'hello200') # 이런 코드는 우리가 뒤에 Django도 많이 볼 코드에요."
      ],
      "metadata": {
        "colab": {
          "base_uri": "https://localhost:8080/"
        },
        "id": "P7scRpZh5z3u",
        "outputId": "e5f87a78-95ba-42e2-9269-2ad97b008358"
      },
      "execution_count": null,
      "outputs": [
        {
          "output_type": "stream",
          "name": "stdout",
          "text": [
            "/content/hello100/world100/hello200\n"
          ]
        }
      ]
    },
    {
      "cell_type": "code",
      "source": [
        "# pwd 인스턴스 입장에서 /는 __truediv__가 호출이 되는 것입니다!\n",
        "# 여기서 나누기를 하지 않고 경로를 결합해주는 코드가 작성이 되어있는 것입니다.\n",
        "\n",
        "# 1. '/' (일반 나눗셈): `__truediv__` 매직 메서드가 처리합니다.\n",
        "#    - 결과는 실수(float)를 반환합니다.\n",
        "#    - 예: `5 / 2 = 2.5`\n",
        "\n",
        "# 2. '//' (정수 나눗셈): `__floordiv__` 매직 메서드가 처리합니다.\n",
        "#    - 결과는 몫만 반환하고, 소수점 이하를 버립니다.\n",
        "#    - 예: `5 // 2 = 2`"
      ],
      "metadata": {
        "id": "Bqsv7Ddy6LUS"
      },
      "execution_count": null,
      "outputs": []
    },
    {
      "cell_type": "code",
      "source": [
        "from datetime import datetime\n",
        "\n",
        "datetime.today()"
      ],
      "metadata": {
        "colab": {
          "base_uri": "https://localhost:8080/"
        },
        "id": "l_PWD5a56yhG",
        "outputId": "5fa972bd-335c-4c5f-cf8e-a57d24b1741b"
      },
      "execution_count": null,
      "outputs": [
        {
          "output_type": "execute_result",
          "data": {
            "text/plain": [
              "datetime.datetime(2025, 5, 15, 3, 10, 46, 640244)"
            ]
          },
          "metadata": {},
          "execution_count": 27
        }
      ]
    },
    {
      "cell_type": "code",
      "source": [
        "today = datetime.today()\n",
        "\n",
        "today.year\n",
        "today.month\n",
        "today.day\n",
        "today.hour"
      ],
      "metadata": {
        "colab": {
          "base_uri": "https://localhost:8080/"
        },
        "id": "wks5uhgJ7kJX",
        "outputId": "f103fc00-ce13-47ca-d79e-07c243188b24"
      },
      "execution_count": null,
      "outputs": [
        {
          "output_type": "execute_result",
          "data": {
            "text/plain": [
              "3"
            ]
          },
          "metadata": {},
          "execution_count": 34
        }
      ]
    },
    {
      "cell_type": "code",
      "source": [
        "import datetime\n",
        "\n",
        "today = datetime.date.today()\n",
        "days = datetime.timedelta(days=100)\n",
        "today + days # 100일 후 시간"
      ],
      "metadata": {
        "colab": {
          "base_uri": "https://localhost:8080/"
        },
        "id": "7xqBWlZc8VCa",
        "outputId": "e4d6ca89-69cb-406b-e1d1-94ddc3affb71"
      },
      "execution_count": null,
      "outputs": [
        {
          "output_type": "execute_result",
          "data": {
            "text/plain": [
              "datetime.date(2025, 8, 23)"
            ]
          },
          "metadata": {},
          "execution_count": 37
        }
      ]
    },
    {
      "cell_type": "code",
      "source": [
        "import datetime\n",
        "\n",
        "date = '2024-12-10'\n",
        "date = datetime.datetime.strptime(date, '%Y-%m-%d')\n",
        "print(date)\n",
        "\n",
        "# https://docs.python.org/ko/3/library/datetime.html#strftime-and-strptime-format-codes"
      ],
      "metadata": {
        "colab": {
          "base_uri": "https://localhost:8080/"
        },
        "id": "qD69wuKY8u7L",
        "outputId": "e0af4f37-832d-430b-e091-a395b6f3f2d2"
      },
      "execution_count": null,
      "outputs": [
        {
          "output_type": "stream",
          "name": "stdout",
          "text": [
            "2024-12-10 00:00:00\n"
          ]
        }
      ]
    },
    {
      "cell_type": "code",
      "source": [
        "import json\n",
        "\n",
        "d = {\n",
        "    'one': 1,\n",
        "    'two': 2,\n",
        "    'three': 3\n",
        "}\n",
        "\n",
        "# s = json.dumps(d)\n",
        "# print(type(s)) # str\n",
        "# d = json.loads(s)\n",
        "# print(type(d)) # dict\n",
        "\n",
        "# str(d)\n",
        "# json.dumps(d) # 안전하고, 견고하게 바꿔줘요."
      ],
      "metadata": {
        "colab": {
          "base_uri": "https://localhost:8080/",
          "height": 35
        },
        "id": "b8Hcwe789dpe",
        "outputId": "342c2014-3ec4-4cc4-f58f-2833b1fd8cf2"
      },
      "execution_count": null,
      "outputs": [
        {
          "output_type": "execute_result",
          "data": {
            "text/plain": [
              "'{\"one\": 1, \"two\": 2, \"three\": true}'"
            ],
            "application/vnd.google.colaboratory.intrinsic+json": {
              "type": "string"
            }
          },
          "metadata": {},
          "execution_count": 44
        }
      ]
    },
    {
      "cell_type": "code",
      "source": [
        "import json\n",
        "\n",
        "d = {\n",
        "    'one': 1,\n",
        "    'two': 2,\n",
        "    'three': True\n",
        "}\n",
        "\n",
        "# str(d)\n",
        "# json.dumps(d) # 안전하고, 견고하게 바꿔줘요."
      ],
      "metadata": {
        "colab": {
          "base_uri": "https://localhost:8080/",
          "height": 35
        },
        "id": "UyG5J1bj-V91",
        "outputId": "6ba06078-10b8-4daa-8dce-05f73b82bd4d"
      },
      "execution_count": null,
      "outputs": [
        {
          "output_type": "execute_result",
          "data": {
            "text/plain": [
              "'{\"one\": 1, \"two\": 2, \"three\": true}'"
            ],
            "application/vnd.google.colaboratory.intrinsic+json": {
              "type": "string"
            }
          },
          "metadata": {},
          "execution_count": 46
        }
      ]
    },
    {
      "cell_type": "code",
      "source": [
        "# 리스트인데 앞뒤로 데이터를 넣고\n",
        "# 순회도 되게 하고 싶다?\n",
        "# 그런데 기본 자료형에는 없어요. => collections라는 모듈이 있습니다.\n",
        "# 여기에는 자주 사용하는 자료를 담는 구조에 대한 구현이 되어 있습니다.\n",
        "# 이런 것을 '자료 구조'라고 합니다."
      ],
      "metadata": {
        "id": "oqMD_8GbAu0Y"
      },
      "execution_count": null,
      "outputs": []
    },
    {
      "cell_type": "code",
      "source": [
        "import collections # 별표 3개\n",
        "\n",
        "d = collections.deque([1, 2, 3, 4])\n",
        "d.rotate(2) # 1번 오른쪽으로 쉬프트 합니다. 숫자를 2로 바꾸어 비교해보세요.\n",
        "print(d)"
      ],
      "metadata": {
        "colab": {
          "base_uri": "https://localhost:8080/"
        },
        "id": "6DaLzwCi_kDE",
        "outputId": "c343d27e-c171-4024-8698-fd1d80d278b1"
      },
      "execution_count": null,
      "outputs": [
        {
          "output_type": "stream",
          "name": "stdout",
          "text": [
            "deque([3, 4, 1, 2])\n"
          ]
        }
      ]
    },
    {
      "cell_type": "code",
      "source": [
        "import collections # 별표 3개\n",
        "\n",
        "d = collections.deque([1, 2, 3, 4])\n",
        "dir(d)\n",
        "\n",
        "d = collections.deque([1, 2, 3, 4], maxlen = 4)\n",
        "d\n",
        "d.append(100)\n",
        "d"
      ],
      "metadata": {
        "colab": {
          "base_uri": "https://localhost:8080/"
        },
        "id": "pJv_uTAqBVcq",
        "outputId": "57a61751-6735-4a9d-f463-0ea03069f5cf"
      },
      "execution_count": null,
      "outputs": [
        {
          "output_type": "execute_result",
          "data": {
            "text/plain": [
              "deque([2, 3, 4, 100])"
            ]
          },
          "metadata": {},
          "execution_count": 52
        }
      ]
    },
    {
      "cell_type": "code",
      "source": [
        "d = collections.deque([1, 2, 3, 4])\n",
        "d.appendleft(100)\n",
        "d"
      ],
      "metadata": {
        "colab": {
          "base_uri": "https://localhost:8080/"
        },
        "id": "LvmfdNYUBroK",
        "outputId": "90d1dda8-fc16-4fbd-820e-600c8be4f894"
      },
      "execution_count": null,
      "outputs": [
        {
          "output_type": "execute_result",
          "data": {
            "text/plain": [
              "deque([100, 1, 2, 3, 4])"
            ]
          },
          "metadata": {},
          "execution_count": 53
        }
      ]
    },
    {
      "cell_type": "code",
      "source": [
        "import collections\n",
        "\n",
        "# 각 숫자의 갯수를 카운팅 하세요!\n",
        "\n",
        "# '111114443333222333444555111222333'\n",
        "c = collections.Counter('111114443333222333444555111222333')\n",
        "print(c)\n",
        "print(c.most_common)\n",
        "print(c.most_common())"
      ],
      "metadata": {
        "colab": {
          "base_uri": "https://localhost:8080/"
        },
        "id": "28rFBJleByp3",
        "outputId": "5ecf917e-9377-4ade-8d73-38ddd26db5e5"
      },
      "execution_count": null,
      "outputs": [
        {
          "output_type": "stream",
          "name": "stdout",
          "text": [
            "Counter({'3': 10, '1': 8, '4': 6, '2': 6, '5': 3})\n",
            "<bound method Counter.most_common of Counter({'3': 10, '1': 8, '4': 6, '2': 6, '5': 3})>\n",
            "[('3', 10), ('1', 8), ('4', 6), ('2', 6), ('5', 3)]\n"
          ]
        }
      ]
    },
    {
      "cell_type": "code",
      "source": [
        "# 이렇게 웹에서 데이터를 가져 오는 것을 크롤링이라고 합니다.\n",
        "# 이 크롤링에 자주 사용되는 라이브러리는\n",
        "# requests, bs4, selenium 3개가 있습니다.\n",
        "# 경고!! 이 크롤링 코드를 다른 서버에 크롤링 하진 마세요.\n",
        "# 수업 다 듣고 충분히 크롤링에 위험성을 인지한 다음 하세요.\n",
        "\n",
        "import requests\n",
        "\n",
        "# for i in range(1000): # 이렇게 하시면 안됩니다. 공격이에요.\n",
        "paullab_url = 'https://paullab.co.kr/bookservice/'\n",
        "response = requests.get(paullab_url)\n",
        "response.encoding = 'utf-8'\n",
        "response.text"
      ],
      "metadata": {
        "id": "p5KS521vDEZ-"
      },
      "execution_count": null,
      "outputs": []
    },
    {
      "cell_type": "code",
      "source": [
        "# 판례: 크롤링을 할 때 저작권자에 의도에 위반하는가? 이게 가장 핵심입니다.\n",
        "# 대부분에 서비스가 개발할 때 https://www.google.com/robots.txt 와 같이 /robots.txt를 명시해둡니다.\n",
        "# 크롤링이 가능하다는거죠?\n",
        "# 그런데 그렇다 하더라도 이 저작물에 상업적 이용을 허하겠다는 얘기는 아닙니다.\n",
        "# 더군다나 경쟁사라고 한다면 서비스를 만든 목적에 반하기 때문에 법 위반이 됩니다.\n",
        "\n",
        "##########################\n",
        "\n",
        "# 사례: 실제로 제가 S그룹에 있었을 때, K 기관에서 무료로 취약점 점검 크롤링을 했는데\n",
        "# 게시판을 크롤링 할 때 '지연'을 안했습니다. 마치 for i in range(100000): 이런 것처럼요.\n",
        "# 그래서 S그룹사 중에 하나의 회사가 서버가 나갔습니다.\n",
        "# 그래서 꼭 여러 페이지를 크롤링 할 것이라면 '지연' 을 걸어주세요."
      ],
      "metadata": {
        "id": "Fl8uvuP8DesN"
      },
      "execution_count": null,
      "outputs": []
    },
    {
      "cell_type": "code",
      "source": [
        "# 예를 들어 아래와 같이 지연시킬 수 있습니다.\n",
        "\n",
        "import time\n",
        "import requests\n",
        "\n",
        "for i in range(5): # 이렇게 하시면 안됩니다. 공격이에요.\n",
        "    time.sleep(5) # 이럴 때에는 이렇게 지연을 해주셔야 합니다. 그래야 서버가 부하가 없어요.\n",
        "    paullab_url = 'https://paullab.co.kr/bookservice/'\n",
        "    response = requests.get(paullab_url)\n",
        "    response.encoding = 'utf-8'\n",
        "    print(response.text[:10])"
      ],
      "metadata": {
        "colab": {
          "base_uri": "https://localhost:8080/"
        },
        "id": "HrABYAZ2Xuss",
        "outputId": "3d5496bb-20ec-4838-bb1c-dea65e449a43"
      },
      "execution_count": null,
      "outputs": [
        {
          "output_type": "stream",
          "name": "stdout",
          "text": [
            "<!DOCTYPE \n",
            "<!DOCTYPE \n",
            "<!DOCTYPE \n",
            "<!DOCTYPE \n",
            "<!DOCTYPE \n"
          ]
        }
      ]
    },
    {
      "cell_type": "code",
      "source": [
        "# 여러분 크롤링 연습용으로 Naver와 똑같이 만들었습니다.(UI를 똑같이 만들었다는 얘기는 아닙니다.)\n",
        "# https://paullab.co.kr/bookservice/\n",
        "# https://paullab.co.kr/stock.html"
      ],
      "metadata": {
        "id": "XtZI1dy8ZGyi"
      },
      "execution_count": null,
      "outputs": []
    },
    {
      "cell_type": "code",
      "source": [
        "import requests\n",
        "from bs4 import BeautifulSoup\n",
        "\n",
        "url = 'https://paullab.co.kr/bookservice/'\n",
        "response = requests.get(url)\n",
        "response.encoding = 'utf-8'\n",
        "html = response.text\n",
        "\n",
        "soup = BeautifulSoup(html, 'html.parser')\n",
        "soup"
      ],
      "metadata": {
        "id": "Nk8EzqbLazMU"
      },
      "execution_count": null,
      "outputs": []
    },
    {
      "cell_type": "code",
      "source": [
        "s = soup.select('.book_name')\n",
        "s"
      ],
      "metadata": {
        "colab": {
          "base_uri": "https://localhost:8080/"
        },
        "id": "L5dO5IhZbBMq",
        "outputId": "b5f6454e-1d60-4330-a6c1-44d2cd98461c"
      },
      "execution_count": null,
      "outputs": [
        {
          "output_type": "execute_result",
          "data": {
            "text/plain": [
              "[<h2 class=\"book_name\" style=\"margin-top: 0;\">메모혁신 Notion(노션) 활용 가이드</h2>,\n",
              " <h2 class=\"book_name\" style=\"margin-top: 0;\">이력서 작성 가이드</h2>,\n",
              " <h2 class=\"book_name\" style=\"margin-top: 0;\">제주코딩베이스캠프 Code Festival: Python 100제 1부</h2>,\n",
              " <h2 class=\"book_name\" style=\"margin-top: 0;\">튜토리얼로 배우는 HTML&amp;CSS</h2>,\n",
              " <h2 class=\"book_name\" style=\"margin-top: 0;\">코딩도장 튜토리얼로 배우는 Python 1편 object</h2>,\n",
              " <h2 class=\"book_name\" style=\"margin-top: 0;\">코딩도장 튜토리얼로 배우는 python 2편 제어문</h2>,\n",
              " <h2 class=\"book_name\" style=\"margin-top: 0;\">코딩도장 튜토리얼로 배우는 Python 문제풀이</h2>,\n",
              " <h2 class=\"book_name\" style=\"margin-top: 0;\">타노스의 건틀릿 알고리즘 With Python</h2>,\n",
              " <h2 class=\"book_name\" style=\"margin-top: 0;\">xlsxwriter 튜토리얼로 배우는 Python 엑셀 프로그래밍</h2>,\n",
              " <h2 class=\"book_name\" style=\"margin-top: 0;\">러플 튜토리얼로 배우는 Python</h2>,\n",
              " <h2 class=\"book_name\" style=\"margin-top: 0;\">인공지능을 활용한 업무자동화 With Google Developers Group JEJU</h2>]"
            ]
          },
          "metadata": {},
          "execution_count": 67
        }
      ]
    },
    {
      "cell_type": "code",
      "source": [
        "for i in s:\n",
        "    print(i.text)"
      ],
      "metadata": {
        "colab": {
          "base_uri": "https://localhost:8080/"
        },
        "id": "blbpe_F9bW7y",
        "outputId": "045976f9-9e3b-441b-827c-fe217abc3f61"
      },
      "execution_count": null,
      "outputs": [
        {
          "output_type": "stream",
          "name": "stdout",
          "text": [
            "메모혁신 Notion(노션) 활용 가이드\n",
            "이력서 작성 가이드\n",
            "제주코딩베이스캠프 Code Festival: Python 100제 1부\n",
            "튜토리얼로 배우는 HTML&CSS\n",
            "코딩도장 튜토리얼로 배우는 Python 1편 object\n",
            "코딩도장 튜토리얼로 배우는 python 2편 제어문\n",
            "코딩도장 튜토리얼로 배우는 Python 문제풀이\n",
            "타노스의 건틀릿 알고리즘 With Python\n",
            "xlsxwriter 튜토리얼로 배우는 Python 엑셀 프로그래밍\n",
            "러플 튜토리얼로 배우는 Python\n",
            "인공지능을 활용한 업무자동화 With Google Developers Group JEJU\n"
          ]
        }
      ]
    },
    {
      "cell_type": "code",
      "source": [
        "# 별은 3개지만, 여러분이 취업이 되신 다음 업무에 할당을 받으셨을 때\n",
        "# 별도로 공부하시면 됩니다.\n",
        "# 또는 내가 채용되고 싶은 회사에 크롤링 우대가 있으면 공부해가세요.\n",
        "\n",
        "import requests\n",
        "from bs4 import BeautifulSoup\n",
        "\n",
        "url = 'https://paullab.co.kr/bookservice/'\n",
        "response = requests.get(url)\n",
        "response.encoding = 'utf-8'\n",
        "html = response.text\n",
        "\n",
        "soup = BeautifulSoup(html, 'html.parser')\n",
        "\n",
        "for i in soup.select('.book_name'):\n",
        "    print(i.text)"
      ],
      "metadata": {
        "colab": {
          "base_uri": "https://localhost:8080/"
        },
        "id": "xKBp9_JvbmE7",
        "outputId": "01c868cb-1dfc-42db-f8ea-c3afe246546a"
      },
      "execution_count": null,
      "outputs": [
        {
          "output_type": "stream",
          "name": "stdout",
          "text": [
            "메모혁신 Notion(노션) 활용 가이드\n",
            "이력서 작성 가이드\n",
            "제주코딩베이스캠프 Code Festival: Python 100제 1부\n",
            "튜토리얼로 배우는 HTML&CSS\n",
            "코딩도장 튜토리얼로 배우는 Python 1편 object\n",
            "코딩도장 튜토리얼로 배우는 python 2편 제어문\n",
            "코딩도장 튜토리얼로 배우는 Python 문제풀이\n",
            "타노스의 건틀릿 알고리즘 With Python\n",
            "xlsxwriter 튜토리얼로 배우는 Python 엑셀 프로그래밍\n",
            "러플 튜토리얼로 배우는 Python\n",
            "인공지능을 활용한 업무자동화 With Google Developers Group JEJU\n"
          ]
        }
      ]
    },
    {
      "cell_type": "code",
      "source": [
        "import pandas as pd\n",
        "\n",
        "\n",
        "data = pd.read_html('https://paullab.co.kr/stock.html')\n",
        "# 위와 같은 책 제목 등은 안되고, table형태로 만들어져 있어야만 가능!\n",
        "data[3]\n",
        "data[3]['종가']"
      ],
      "metadata": {
        "colab": {
          "base_uri": "https://localhost:8080/",
          "height": 711
        },
        "id": "QMbFfNUMdufW",
        "outputId": "7885d4ca-9aef-4111-e84c-5454ecf9a701"
      },
      "execution_count": null,
      "outputs": [
        {
          "output_type": "execute_result",
          "data": {
            "text/plain": [
              "0     6650\n",
              "1     6630\n",
              "2     6820\n",
              "3     6430\n",
              "4     5950\n",
              "5     5930\n",
              "6     5640\n",
              "7     5380\n",
              "8     5040\n",
              "9     5100\n",
              "10    5050\n",
              "11    4940\n",
              "12    5010\n",
              "13    4920\n",
              "14    5010\n",
              "15    5000\n",
              "16    5010\n",
              "17    5060\n",
              "18    5060\n",
              "19    5330\n",
              "Name: 종가, dtype: int64"
            ],
            "text/html": [
              "<div>\n",
              "<style scoped>\n",
              "    .dataframe tbody tr th:only-of-type {\n",
              "        vertical-align: middle;\n",
              "    }\n",
              "\n",
              "    .dataframe tbody tr th {\n",
              "        vertical-align: top;\n",
              "    }\n",
              "\n",
              "    .dataframe thead th {\n",
              "        text-align: right;\n",
              "    }\n",
              "</style>\n",
              "<table border=\"1\" class=\"dataframe\">\n",
              "  <thead>\n",
              "    <tr style=\"text-align: right;\">\n",
              "      <th></th>\n",
              "      <th>종가</th>\n",
              "    </tr>\n",
              "  </thead>\n",
              "  <tbody>\n",
              "    <tr>\n",
              "      <th>0</th>\n",
              "      <td>6650</td>\n",
              "    </tr>\n",
              "    <tr>\n",
              "      <th>1</th>\n",
              "      <td>6630</td>\n",
              "    </tr>\n",
              "    <tr>\n",
              "      <th>2</th>\n",
              "      <td>6820</td>\n",
              "    </tr>\n",
              "    <tr>\n",
              "      <th>3</th>\n",
              "      <td>6430</td>\n",
              "    </tr>\n",
              "    <tr>\n",
              "      <th>4</th>\n",
              "      <td>5950</td>\n",
              "    </tr>\n",
              "    <tr>\n",
              "      <th>5</th>\n",
              "      <td>5930</td>\n",
              "    </tr>\n",
              "    <tr>\n",
              "      <th>6</th>\n",
              "      <td>5640</td>\n",
              "    </tr>\n",
              "    <tr>\n",
              "      <th>7</th>\n",
              "      <td>5380</td>\n",
              "    </tr>\n",
              "    <tr>\n",
              "      <th>8</th>\n",
              "      <td>5040</td>\n",
              "    </tr>\n",
              "    <tr>\n",
              "      <th>9</th>\n",
              "      <td>5100</td>\n",
              "    </tr>\n",
              "    <tr>\n",
              "      <th>10</th>\n",
              "      <td>5050</td>\n",
              "    </tr>\n",
              "    <tr>\n",
              "      <th>11</th>\n",
              "      <td>4940</td>\n",
              "    </tr>\n",
              "    <tr>\n",
              "      <th>12</th>\n",
              "      <td>5010</td>\n",
              "    </tr>\n",
              "    <tr>\n",
              "      <th>13</th>\n",
              "      <td>4920</td>\n",
              "    </tr>\n",
              "    <tr>\n",
              "      <th>14</th>\n",
              "      <td>5010</td>\n",
              "    </tr>\n",
              "    <tr>\n",
              "      <th>15</th>\n",
              "      <td>5000</td>\n",
              "    </tr>\n",
              "    <tr>\n",
              "      <th>16</th>\n",
              "      <td>5010</td>\n",
              "    </tr>\n",
              "    <tr>\n",
              "      <th>17</th>\n",
              "      <td>5060</td>\n",
              "    </tr>\n",
              "    <tr>\n",
              "      <th>18</th>\n",
              "      <td>5060</td>\n",
              "    </tr>\n",
              "    <tr>\n",
              "      <th>19</th>\n",
              "      <td>5330</td>\n",
              "    </tr>\n",
              "  </tbody>\n",
              "</table>\n",
              "</div><br><label><b>dtype:</b> int64</label>"
            ]
          },
          "metadata": {},
          "execution_count": 76
        }
      ]
    },
    {
      "cell_type": "code",
      "source": [
        "# 예외처리\n",
        "# 별표 4개\n",
        "\n",
        "try:\n",
        "    pass\n",
        "except:\n",
        "    pass"
      ],
      "metadata": {
        "id": "n7IJ6kgZefVV"
      },
      "execution_count": null,
      "outputs": []
    },
    {
      "cell_type": "code",
      "source": [
        "for i in range(10):\n",
        "    print(i)\n",
        "    1/0"
      ],
      "metadata": {
        "colab": {
          "base_uri": "https://localhost:8080/",
          "height": 202
        },
        "id": "GZncGUlzeyMR",
        "outputId": "a2afadee-e607-4af6-da3d-39b07bb071fd"
      },
      "execution_count": null,
      "outputs": [
        {
          "output_type": "stream",
          "name": "stdout",
          "text": [
            "0\n"
          ]
        },
        {
          "output_type": "error",
          "ename": "ZeroDivisionError",
          "evalue": "division by zero",
          "traceback": [
            "\u001b[0;31m---------------------------------------------------------------------------\u001b[0m",
            "\u001b[0;31mZeroDivisionError\u001b[0m                         Traceback (most recent call last)",
            "\u001b[0;32m<ipython-input-79-6c6883c9a717>\u001b[0m in \u001b[0;36m<cell line: 0>\u001b[0;34m()\u001b[0m\n\u001b[1;32m      1\u001b[0m \u001b[0;32mfor\u001b[0m \u001b[0mi\u001b[0m \u001b[0;32min\u001b[0m \u001b[0mrange\u001b[0m\u001b[0;34m(\u001b[0m\u001b[0;36m10\u001b[0m\u001b[0;34m)\u001b[0m\u001b[0;34m:\u001b[0m\u001b[0;34m\u001b[0m\u001b[0;34m\u001b[0m\u001b[0m\n\u001b[1;32m      2\u001b[0m     \u001b[0mprint\u001b[0m\u001b[0;34m(\u001b[0m\u001b[0mi\u001b[0m\u001b[0;34m)\u001b[0m\u001b[0;34m\u001b[0m\u001b[0;34m\u001b[0m\u001b[0m\n\u001b[0;32m----> 3\u001b[0;31m     \u001b[0;36m1\u001b[0m\u001b[0;34m/\u001b[0m\u001b[0;36m0\u001b[0m\u001b[0;34m\u001b[0m\u001b[0;34m\u001b[0m\u001b[0m\n\u001b[0m",
            "\u001b[0;31mZeroDivisionError\u001b[0m: division by zero"
          ]
        }
      ]
    },
    {
      "cell_type": "code",
      "source": [
        "# 예외처리\n",
        "# 별표 4개\n",
        "\n",
        "try:\n",
        "    for i in range(10):\n",
        "        print(i)\n",
        "        1/0\n",
        "except:\n",
        "    print('애러발생 / 애러가 발생했으니 다시 시도해주세요!')\n",
        "\n",
        "print('프로그램 끝!')"
      ],
      "metadata": {
        "colab": {
          "base_uri": "https://localhost:8080/"
        },
        "id": "LlCKO26KenHX",
        "outputId": "99b7a040-8759-4b3f-de0a-fbbcfcc640fe"
      },
      "execution_count": null,
      "outputs": [
        {
          "output_type": "stream",
          "name": "stdout",
          "text": [
            "0\n",
            "애러발생 / 애러가 발생했으니 다시 시도해주세요!\n",
            "프로그램 끝!\n"
          ]
        }
      ]
    },
    {
      "cell_type": "code",
      "source": [
        "# 1. 여러분은 이걸로 먹고 살 사람들입니다. 그러니 애러를 만나면 애러를 외워주세요.\n",
        "# 2. 모든 코드에 try와 except를 작성하는 것은 반대합니다. 애러가 발생할 여지가 있는 곳에만\n",
        "# 작성해주세요."
      ],
      "metadata": {
        "colab": {
          "base_uri": "https://localhost:8080/",
          "height": 184
        },
        "id": "UK-nZr8MfKaS",
        "outputId": "0d1ae43b-ad98-4ce5-8667-3c3c6727c32f"
      },
      "execution_count": null,
      "outputs": [
        {
          "output_type": "error",
          "ename": "IndexError",
          "evalue": "list index out of range",
          "traceback": [
            "\u001b[0;31m---------------------------------------------------------------------------\u001b[0m",
            "\u001b[0;31mIndexError\u001b[0m                                Traceback (most recent call last)",
            "\u001b[0;32m<ipython-input-83-5b485944ad3f>\u001b[0m in \u001b[0;36m<cell line: 0>\u001b[0;34m()\u001b[0m\n\u001b[1;32m      1\u001b[0m \u001b[0;31m# 1. 여러분은 이걸로 먹고 살 사람들입니다. 그러니 애러를 만나면 애러를 외워주세요.\u001b[0m\u001b[0;34m\u001b[0m\u001b[0;34m\u001b[0m\u001b[0m\n\u001b[1;32m      2\u001b[0m \u001b[0ml\u001b[0m \u001b[0;34m=\u001b[0m \u001b[0;34m[\u001b[0m\u001b[0;36m10\u001b[0m\u001b[0;34m,\u001b[0m \u001b[0;36m20\u001b[0m\u001b[0;34m,\u001b[0m \u001b[0;36m30\u001b[0m\u001b[0;34m]\u001b[0m\u001b[0;34m\u001b[0m\u001b[0;34m\u001b[0m\u001b[0m\n\u001b[0;32m----> 3\u001b[0;31m \u001b[0ml\u001b[0m\u001b[0;34m[\u001b[0m\u001b[0;36m5\u001b[0m\u001b[0;34m]\u001b[0m\u001b[0;34m\u001b[0m\u001b[0;34m\u001b[0m\u001b[0m\n\u001b[0m",
            "\u001b[0;31mIndexError\u001b[0m: list index out of range"
          ]
        }
      ]
    },
    {
      "cell_type": "code",
      "source": [
        "# 이런 형태를 잘 사용하지 않습니다.\n",
        "try:\n",
        "    s = 1/0\n",
        "    print(s)\n",
        "except ZeroDivisionError:\n",
        "    print('0으로 나누어졌습니다!')"
      ],
      "metadata": {
        "colab": {
          "base_uri": "https://localhost:8080/"
        },
        "id": "TQm1Jb2iiu5e",
        "outputId": "372f6776-d12f-46be-b24c-3ff486f7f784"
      },
      "execution_count": null,
      "outputs": [
        {
          "output_type": "stream",
          "name": "stdout",
          "text": [
            "0으로 나누어졌습니다!\n"
          ]
        }
      ]
    },
    {
      "cell_type": "code",
      "source": [
        "# 이런 형태를 잘 사용하지 않습니다.\n",
        "try:\n",
        "    l = [10, 20, 30]\n",
        "    l[5]\n",
        "except ZeroDivisionError:\n",
        "    print('0으로 나누어졌습니다!')\n",
        "except IndexError:\n",
        "    print('범위가 넘어갔어요!')"
      ],
      "metadata": {
        "colab": {
          "base_uri": "https://localhost:8080/"
        },
        "id": "u5YJkKDrjHAJ",
        "outputId": "27dd8a0d-3118-49b1-9f43-7efaf684fa20"
      },
      "execution_count": null,
      "outputs": [
        {
          "output_type": "stream",
          "name": "stdout",
          "text": [
            "범위가 넘어갔어요!\n"
          ]
        }
      ]
    },
    {
      "cell_type": "code",
      "source": [
        "# test 코드 작성할 때 이 코드를 자주 사용합니다.\n",
        "\n",
        "test = 'hello'\n",
        "\n",
        "assert test == 'hello', '에러 메시지 1' #1\n",
        "assert test == 'world', '에러 메시지 2' #2\n",
        "assert test + 3 == 5, '에러 메시지 3' #3"
      ],
      "metadata": {
        "colab": {
          "base_uri": "https://localhost:8080/",
          "height": 202
        },
        "id": "Uc_Gxhsujhsv",
        "outputId": "a28de827-9d50-46b9-bed2-6d483ad0d164"
      },
      "execution_count": null,
      "outputs": [
        {
          "output_type": "error",
          "ename": "AssertionError",
          "evalue": "에러 메시지 2",
          "traceback": [
            "\u001b[0;31m---------------------------------------------------------------------------\u001b[0m",
            "\u001b[0;31mAssertionError\u001b[0m                            Traceback (most recent call last)",
            "\u001b[0;32m<ipython-input-87-97ad8c746d65>\u001b[0m in \u001b[0;36m<cell line: 0>\u001b[0;34m()\u001b[0m\n\u001b[1;32m      4\u001b[0m \u001b[0;34m\u001b[0m\u001b[0m\n\u001b[1;32m      5\u001b[0m \u001b[0;32massert\u001b[0m \u001b[0mtest\u001b[0m \u001b[0;34m==\u001b[0m \u001b[0;34m'hello'\u001b[0m\u001b[0;34m,\u001b[0m \u001b[0;34m'에러 메시지 1'\u001b[0m \u001b[0;31m#1\u001b[0m\u001b[0;34m\u001b[0m\u001b[0;34m\u001b[0m\u001b[0m\n\u001b[0;32m----> 6\u001b[0;31m \u001b[0;32massert\u001b[0m \u001b[0mtest\u001b[0m \u001b[0;34m==\u001b[0m \u001b[0;34m'world'\u001b[0m\u001b[0;34m,\u001b[0m \u001b[0;34m'에러 메시지 2'\u001b[0m \u001b[0;31m#2\u001b[0m\u001b[0;34m\u001b[0m\u001b[0;34m\u001b[0m\u001b[0m\n\u001b[0m\u001b[1;32m      7\u001b[0m \u001b[0;32massert\u001b[0m \u001b[0mtest\u001b[0m \u001b[0;34m+\u001b[0m \u001b[0;36m3\u001b[0m \u001b[0;34m==\u001b[0m \u001b[0;36m5\u001b[0m\u001b[0;34m,\u001b[0m \u001b[0;34m'에러 메시지 3'\u001b[0m \u001b[0;31m#3\u001b[0m\u001b[0;34m\u001b[0m\u001b[0;34m\u001b[0m\u001b[0m\n",
            "\u001b[0;31mAssertionError\u001b[0m: 에러 메시지 2"
          ]
        }
      ]
    },
    {
      "cell_type": "code",
      "source": [
        "# 메서드 체이닝\n",
        "# '11111122222312312312312344433322111'\n",
        "# => 1은 !로\n",
        "# => 2는 @로\n",
        "# => 3은 #로\n",
        "# => 4는 $로\n",
        "\n",
        "s = '11111122222312312312312344433322111'\n",
        "s.replace('1', '!').replace('2', '@').replace('3', '#').replace('4', '$')"
      ],
      "metadata": {
        "colab": {
          "base_uri": "https://localhost:8080/",
          "height": 35
        },
        "id": "pw69saHwkKeb",
        "outputId": "3b05954f-7723-48cb-b621-e64bad7c97c4"
      },
      "execution_count": null,
      "outputs": [
        {
          "output_type": "execute_result",
          "data": {
            "text/plain": [
              "'!!!!!!@@@@@#!@#!@#!@#!@#$$$###@@!!!'"
            ],
            "application/vnd.google.colaboratory.intrinsic+json": {
              "type": "string"
            }
          },
          "metadata": {},
          "execution_count": 88
        }
      ]
    },
    {
      "cell_type": "code",
      "source": [
        "s = '11111122222312312312312344433322111'\n",
        "ss = s.replace('1', '!')\n",
        "ss.replace('2', '@')\n",
        "sss = ss.replace('3', '#')\n",
        "sss\n",
        "# ..."
      ],
      "metadata": {
        "colab": {
          "base_uri": "https://localhost:8080/",
          "height": 35
        },
        "id": "S-bpo5Q4k1Pk",
        "outputId": "f4794d95-3fc0-485d-d787-92b03e52c3d7"
      },
      "execution_count": null,
      "outputs": [
        {
          "output_type": "execute_result",
          "data": {
            "text/plain": [
              "'!!!!!!22222#!2#!2#!2#!2#444###22!!!'"
            ],
            "application/vnd.google.colaboratory.intrinsic+json": {
              "type": "string"
            }
          },
          "metadata": {},
          "execution_count": 92
        }
      ]
    },
    {
      "cell_type": "code",
      "source": [
        "# 이렇게 반환값이 중간에 list로 바뀌면 사용하지 못합니다.\n",
        "s = '11111 2222 33333'\n",
        "s.replace('1', '!').split(' ') # 이 다음에 replace를 연달아 사용하진 못합니다. 여기까지가 리스트이기 때문입니다."
      ],
      "metadata": {
        "colab": {
          "base_uri": "https://localhost:8080/"
        },
        "id": "-wWma2Uuk6vW",
        "outputId": "c4f7abe8-8a49-4141-f5f7-f933e9b4f858"
      },
      "execution_count": null,
      "outputs": [
        {
          "output_type": "execute_result",
          "data": {
            "text/plain": [
              "['!!!!!', '2222', '33333']"
            ]
          },
          "metadata": {},
          "execution_count": 93
        }
      ]
    },
    {
      "cell_type": "code",
      "source": [
        "# 앞에 010을 82+010으로, 5044는 *로, 마지막 뒤에 4자리는 그대로 둡니다.\n",
        "# 띄어쓰기가 있는 곳은 없애주세요.\n",
        "# (다른 번호에 해당되는 문제는 아닙니다.)\n",
        "s = '010 5044 2903'\n",
        "\n",
        "s.replace('010', '82+010') # 이 뒤에 메서드 체이닝을 사용할 수 있는 것은 str에 메서드만 가능합니다.\n",
        "s.replace('010', '82+010').split(' ') # 이 뒤에 메서드 체이닝을 사용할 수 있는 것은 list에 메서드만 가능합니다."
      ],
      "metadata": {
        "colab": {
          "base_uri": "https://localhost:8080/"
        },
        "id": "3ZpYgkjcllG5",
        "outputId": "54a7d4f1-a89a-4e94-98db-6c74d4cabbb3"
      },
      "execution_count": null,
      "outputs": [
        {
          "output_type": "execute_result",
          "data": {
            "text/plain": [
              "['82+010', '5044', '2903']"
            ]
          },
          "metadata": {},
          "execution_count": 95
        }
      ]
    },
    {
      "cell_type": "code",
      "source": [
        "import requests\n",
        "import bs4\n",
        "import time\n",
        "\n",
        "\n",
        "s = ['서울', '제주', '대구', '부산']\n",
        "\n",
        "for i in s:\n",
        "    print(i)\n",
        "    time.sleep(3)\n",
        "    url = f'https://www.google.com/search?q=google+{i}온도'\n",
        "    response = requests.get(url)\n",
        "    response.encoding = 'utf-8'\n",
        "    html = response.text\n",
        "    soup = bs4.BeautifulSoup(html, 'html.parser')\n",
        "    for i in soup.select('.wob_t'):\n",
        "        print(i.text)"
      ],
      "metadata": {
        "colab": {
          "base_uri": "https://localhost:8080/"
        },
        "id": "moTTAIc_m2fc",
        "outputId": "c1a35d1a-791d-4f8f-d12e-6b1defd08dec"
      },
      "execution_count": null,
      "outputs": [
        {
          "output_type": "stream",
          "name": "stdout",
          "text": [
            "서울\n",
            "제주\n",
            "대구\n",
            "부산\n"
          ]
        }
      ]
    },
    {
      "cell_type": "code",
      "source": [
        "url = f'https://www.google.com/search?q=google+{i}온도'\n",
        "response = requests.get(url)\n",
        "response.encoding = 'utf-8'\n",
        "html = response.text\n",
        "soup = bs4.BeautifulSoup(html, 'html.parser')\n",
        "soup"
      ],
      "metadata": {
        "colab": {
          "base_uri": "https://localhost:8080/"
        },
        "collapsed": true,
        "id": "U9p9bdvhnrKX",
        "outputId": "a4883e00-f870-4554-b826-4754b42175b4"
      },
      "execution_count": null,
      "outputs": [
        {
          "output_type": "execute_result",
          "data": {
            "text/plain": [
              "<!DOCTYPE html>\n",
              "<html lang=\"zh-TW\"><head><title>Google Search</title><style>body{background-color:#fff}</style></head><body><noscript><style>table,div,span,p{display:none}</style><meta content=\"0;url=/httpservice/retry/enablejs?sei=7oglaJ2EC8zn1e8PrtLbwQE\" http-equiv=\"refresh\"/><div style=\"display:block\">如果系統沒有在數秒鐘後將您重新導向，請按一下<a href=\"/httpservice/retry/enablejs?sei=7oglaJ2EC8zn1e8PrtLbwQE\">這裡</a>。</div></noscript><script nonce=\"uK8SaoAvuuV_5OEE5R_UHA\">//# sourceMappingURL=data:application/json;charset=utf-8;base64,eyJ2ZXJzaW9uIjogMywic291cmNlcyI6WyIiXSwic291cmNlc0NvbnRlbnQiOlsiICJdLCJuYW1lcyI6WyJjbG9zdXJlRHluYW1pY0J1dHRvbiJdLCJtYXBwaW5ncyI6IkFBQUE7QUFBQTtBQUFBO0FBQUE7QUFBQTtBQUFBO0FBQUEifQ==\n",
              "(function(){function u(T){return T}var e=this||self,p=function(T){return u.call(this,T)},H=function(T,S,Z,J,E,F,b,W,l,D,w,B){w=13;{B=S;while(NaN!==NaN)try{if(w==29)break;else if(w==Z)B=S,w=T;else if(w==13)W=e.trustedTypes,l=b,w=66;else{if(w==32)return B=S,l;if(w==66)w=W&&W.createPolicy?J:39;else if(w==J)B=85,l=W.createPolicy(F,{createHTML:p,createScript:p,createScriptURL:p}),w=32;else{if(w==39)return l;w==T?w=e.console?82:32:w==82&&(e.console[E](D.message),w=32)}}}catch(x){if(B==S)throw x;B==85&&(D=x,w=Z)}}};(0,eval)(function(T,S){return(S=H(40,28,18,79,\"error\",\"ks\",null))&&T.eval(S.createScript(\"1\"))===1?function(Z){return S.createScript(Z)}:function(Z){return\"\"+Z}}(e)(Array(Math.random()*7824|0).join(\"\\n\")+['//# sourceMappingURL=data:application/json;charset=utf-8;base64,eyJ2ZXJzaW9uIjogMywic291cmNlcyI6WyIiXSwic291cmNlc0NvbnRlbnQiOlsiICJdLCJuYW1lcyI6WyJjbG9zdXJlRHluYW1pY0J1dHRvbiJdLCJtYXBwaW5ncyI6IkFBQUE7QUFBQTtBQUFBO0FBQUE7QUFBQTtBQUFBO0FBQUEifQ==',\n",
              "'(function(){/*',\n",
              "'',\n",
              "' Copyright Google LLC',\n",
              "' SPDX-License-Identifier: Apache-2.0',\n",
              "'*/',\n",
              "'var Cu=function(w,Z,S,B,e,u,W,l,E){{l=31;while(l!=17)if(l==29)l=(w|24)==w?89:63;else if(l==66)l=(w&41)==w?64:29;else if(l==22)u=typeof e,W=u!=B?u:e?Array.isArray(e)?\"array\":u:\"null\",E=W==S||W==B&&typeof e.length==Z,l=13;else if(l==19){a:if(typeof B===\"string\")E=typeof S!==\"string\"||S.length!=Z?-1:B.indexOf(S,0);else{for(e=0;e<B.length;e++)if(e in B&&B[e]===S){E=e;break a}E=-1}l=52}else if(l==63)l=(w^1)<24&&(w+8&15)>=10?22:13;else if(l==89)typeof S.className==Z?S.className=B:S.setAttribute&&S.setAttribute(\"class\",B),l=63;else if(l==13)l=(w>>2&7)==1?19:52;else if(l==0)l=(w>>2&15)==2?3:66;else if(l==64)Z.classList?Array.prototype.forEach.call(S,function(D){qe(16,1,\"string\",\"class\",0,Z,D)}):Cu(25,\"string\",Z,Array.prototype.filter.call(h(68,\"class\",Z),function(D){return!(Cu(39,1,D,S)>=0)}).join(\" \")),l=29;else{if(l==52)return E;l==3?l=66:l==31&&(l=0)}}},aD=function(w,Z,S,B,e,u,W,l,E,D,T,J,p,x){{x=61;while(x!=12)if(x==25)x=B?38:50;else if(x==93)aD(0,7,\"object\",B,e[J],u,W,l),x=29;else{if(x==50)return p;if(x==56)x=Array.isArray(e)?65:11;else if(x==43)x=B&&B[W5]?19:25;else if(x==5)x=30;else if(x==99)x=(Z+6^13)<Z&&(Z-2|19)>=Z?56:50;else if(x==75)(D=E.Ad(e,T,u,W))&&xS(8192,5,0,null,D),x=50;else if(x==19)B.o.remove(String(e),W,T,u),x=50;else if(x==11)T=h(28,S,l)?!!l.capture:!!l,W=jv(16,W),x=43;else if(x==21)oD.call(this),w||gh||(gh=new Ux),this.u=null,this.zy=false,this.eh=null,this.Ty=void 0,this.wr=this.Fy=this.Sh=null,this.WL=false,x=3;else if(x==65)J=w,x=5;else if(x==29)J++,x=30;else if(x==6)x=(Z|6)>>3==1?21:3;else if(x==79)x=E?75:50;else if(x==80){if(B=S.length,B>w){for(u=(e=Array(B),w);u<B;u++)e[u]=S[u];p=e}else p=[];x=99}else x==30?x=J<e.length?93:50:x==61?x=6:x==3?x=(Z-3|20)<Z&&(Z-4^32)>=Z?80:99:x==38&&(E=DP(81,B,12),x=79)}}},ln=function(w,Z,S,B,e,u,W,l,E,D,T){for(D=49;D!=0;)if(D==68){a:{for(l=[Z==typeof globalThis&&globalThis,(W=S,u),Z==typeof window&&window,Z==typeof self&&self,Z==typeof global&&global];W<l.length;++W)if((E=l[W])&&E[e]==Math){T=E;break a}throw Error(\"Cannot find global object\");}D=26}else if(D==49)D=28;else if(D==94)D=(B-1&6)<w&&(B|6)>=-72?68:26;else if(D==58)T=Z in Ku?Ku[Z]:Ku[Z]=S+Z,D=94;else{if(D==26)return T;D==28&&(D=(B^8)>>4?94:58)}},Ne=function(w,Z,S,B,e,u,W,l,E,D,T){{D=82;while(D!=86)if(D==82)D=24;else if(D==74)D=65;else if(D==w)D=(Z-8&7)==1?36:3;else if(D==40)l++,D=65;else if(D==49)l in E&&e.call(void 0,E[l],l,u),D=40;else if(D==36){a:{for(W in u)if(e.call(void 0,u[W],W,u)){T=S;break a}T=B}D=3}else{if(D==3)return T;D==65?D=l<W?49:99:D==79?D=Z+2>=15&&(Z>>1&12)<4?62:99:D==24?D=(Z-8|79)<Z&&(Z+7^24)>=Z?94:79:D==84?(B(function(J){J(S)}),T=[function(){return S},function(){}],D=w):D==99?D=(Z|40)==Z?84:w:D==94?D=79:D==62&&(W=u.length,E=typeof u===\"string\"?u.split(S):u,l=B,D=74)}}},bn=function(w,Z,S,B,e,u,W,l,E,D,T){{T=66;while(T!=11)if(T==84)T=e<S.length?95:73;else if(T==2)T=Z-9<<1<Z&&(Z-9^32)>=Z?74:68;else if(T==66)T=29;else if(T==80)u=new pu(B,this),W=S.listener,e=S.nv||S.src,S.Bz&&xS(8192,6,0,null,S),l=W.call(e,u),T=16;else if(T==62)u=e=0,E=[],T=44;else if(T==68)T=(Z|32)==Z?13:54;else if(T==16)D=l,T=54;else if(T==73)D=E,T=7;else if(T==55)l=true,T=16;else if(T==95)u+=B,W=W<<B|S[e],T=98;else if(T==98)T=77;else if(T==74)this[this+\"\"]=this,D=Promise.resolve(),T=68;else if(T==28)u-=8,E.push((l=W>>u,-~(l|255)-(~l&255)+(~l|255))),T=63;else if(T==13)T=S.hd?55:80;else if(T==77)T=u>7?28:46;else if(T==46)e++,T=84;else if(T==29)T=(Z&62)==Z?w:2;else if(T==44)T=84;else{if(T==7)return D;T==54?T=(Z<<1&w)<3&&Z-9>>3>=2?62:7:T==63?T=77:T==w&&(D=typeof e.className==S?e.className:e.getAttribute&&e.getAttribute(B)||\"\",T=2)}}},xS=function(w,Z,S,B,e,u,W,l,E,D,T){{T=13;while(T!=29)if(T==88)T=W<S.length?58:35;else if(T==24)u=void 0,T=19;else if(T==23)y(e,25,true,W),T=72;else if(T==85)T=typeof e!==\"number\"&&e&&!e.hd?59:79;else if(T==35)u=B(e).replace(/\\\\+/g,\"-\").replace(/\\\\//g,\"_\").replace(/=/g,\"\"),T=19;else if(T==82)T=B?49:24;else if(T==59)E=e.src,T=46;else if(T==13)T=66;else if(T==72)T=W.b4==S?1:79;else if(T==62)y(e,36,true),T=79;else{if(T==39)return D;T==49?(e=\"\",W=0,T=81):T==76?(y(e,9,true,E.o),T=79):T==40?(wh.call(this),this.o=new TF(this),this.OZ=this,this.Lv=null,T=39):T==52?T=W?23:62:T==86?(W+=w,T=88):T==32?T=(Z|16)==Z?40:39:T==19?(D=u,T=32):T==18?(B=window.btoa,T=82):T==81?T=88:T==1?(W.src=B,E[Sv]=B,T=79):T==58?(e+=String.fromCharCode.apply(null,S.slice(W,W+w)),T=86):T==66?T=(Z>>2&7)==1?85:79:T==46?T=E&&E[W5]?76:8:T==79?T=(Z>>2&11)>=10&&(Z-9&8)<2?18:32:T==8&&(l=e.proxy,u=e.type,E.removeEventListener?E.removeEventListener(u,l,e.capture):E.detachEvent?E.detachEvent(ln(2,u,\"on\",5),l):E.addListener&&E.removeListener&&E.removeListener(l),ev--,W=DP(81,E,11),T=52)}}},jv=function(w,Z,S,B,e,u){for(u=91;u!=65;)if(u==39)u=(w-7^19)>=w&&(w-4^9)<w?55:82;else if(u==55)typeof Z===\"function\"?e=Z:(Z[c5]||(Z[c5]=function(W){return Z.handleEvent(W)}),e=Z[c5]),u=82;else{if(u==20)return e;u==54?u=20:u==35?(e=Z,u=85):u==85?u=(w-4^14)<w&&(w-8^13)>=w?54:20:u==0?(S.J=((S.J?S.J+\"~\":\"E:\")+B.message+Z+B.stack).slice(0,2048),u=39):u==82?u=((w|2)&7)>=4&&w>>1<16?35:85:u==91?u=19:u==19&&(u=(w&70)==w?0:39)}},qe=function(w,Z,S,B,e,u,W,l,E,D,T,J){for(T=22;T!=15;)if(T==0)u.classList?u.classList.remove(W):qe(23,Z,e,W,u)&&Cu(27,S,u,Array.prototype.filter.call(h(65,B,u),function(p){return p!=W}).join(\" \")),T=51;else if(T==51)T=(w^49)&25?48:36;else if(T==10)W=h(64,\"class\",e),u=Cu(37,Z,B,W)>=S,T=34;else if(T==20)l={},rh=(l.atomic=S,l.autocomplete=\"none\",l.dropeffect=\"none\",l.haspopup=S,l.live=\"off\",l.multiline=S,l.multiselectable=S,l.orientation=\"vertical\",l.readonly=S,l.relevant=\"additions text\",l.required=S,l.sort=\"none\",l[Z]=S,l.disabled=S,l.hidden=S,l.invalid=\"false\",l),T=1;else if(T==22)T=62;else if(T==16)T=(w+7&16)<15&&(w<<1&14)>=4?85:47;else if(T==48)T=(w<<2&12)<2&&(w+3&11)>=7?72:63;else if(T==34)D=u,T=48;else if(T==65)u=e.classList.contains(B),T=34;else if(T==85)Array.isArray(e)&&(e=e.join(\" \")),E=\"aria-\"+B,T=17;else if(T==72)J=function(p){return Z.call(J.src,J.listener,p)},Z=QR,D=J,T=63;else if(T==36)T=e.classList?65:10;else if(T==47)T=(w&117)==w?0:51;else if(T==70)T=rh?1:20;else if(T==17)T=e===\"\"||e==void 0?70:37;else if(T==37)u.setAttribute(E,e),T=47;else if(T==56)D=y(B,22,e)&&!!(B.S&e)!=S&&(!(u=B.sZ,(e|Z)-~(u&e)+~e)||B.dispatchEvent(RD(6,8,5,1,2,8,32,S,e)))&&!B.N,T=16;else{if(T==63)return D;T==62?T=(w|40)==w?56:16:T==1&&(W=rh,B in W?u.setAttribute(E,W[B]):u.removeAttribute(E),T=47)}},XK=function(w,Z,S,B,e,u,W,l,E){{l=62;while(l!=79)if(l==44)H5.call(this,B,S||AS.OT(),Z),l=73;else if(l==73)l=(e+7&7)>=2&&(e<<2&8)<3?0:11;else if(l==0)u=Cu(36,B,S,Z),(W=u>=0)&&Array.prototype.splice.call(Z,u,B),E=W,l=11;else{if(l==11)return E;l==w?l=(e|32)==e?44:73:l==62&&(l=w)}}},hS=function(w,Z,S,B,e,u,W,l,E,D,T,J,p,x){{p=32;while(p!=20){if(p==90)return x;if(p==36)p=(Z-7^11)<Z&&(Z+1&46)>=Z?5:90;else if(p==32)p=98;else if(p==5)this.listener=w,this.proxy=null,this.src=B,this.type=S,this.capture=!!u,this.nv=e,this.key=++yR,this.hd=this.Bz=false,p=90;else if(p==98)p=(Z&45)==Z?60:50;else if(p==50)p=(Z|24)==Z?34:36;else if(p==60)x=w&&w.parentNode?w.parentNode.removeChild(w):null,p=50;else if(p==34){if(D=B.o.l[String(S)]){for(l=(E=(D=D.concat(),0),w);E<D.length;++E)(T=D[E])&&!T.hd&&T.capture==e&&(J=T.listener,W=T.nv||T.src,T.Bz&&y(T,26,w,B.o),l=J.call(W,u)!==false&&l);x=l&&!u.defaultPrevented}else x=w;p=36}}}},ID=function(w,Z,S,B,e,u,W,l,E,D,T,J,p,x){{x=85;while(x!=43)if(x==64)x=D<Z.length?5:63;else if(x==85)x=11;else if(x==73)D++,x=64;else if(x==5)J+=Z.charCodeAt(D),J+=J<<10,J=(u=J>>6,(J&~u)-(~J^u)+(~J|u)),x=73;else{if(x==84)return p;x==20?x=(w-4|18)<w&&(w-9^17)>=w?48:84:x==11?x=(w-8&14)==2?57:3:x==51?x=64:x==33?(D=J=0,x=51):x==3?x=w>>2&7?20:33:x==48?(this.Kv=r.document||document,x=84):x==57?(this.F=Z,x=3):x==63&&(J+=J<<3,J=(T=J>>11,-(J|0)-1-~T+2*(J&~T)),E=J+(J<<15)>>>0,W=new Number((l=(e=1<<S,-1-~e+~(e|1)-(~e|1)),(l|0)-2*~(E&l)+2*~l+(~E&l))),W[0]=(E>>>S)%B,p=W,x=20)}}},Q=function(w,Z,S,B,e,u){for(u=83;u!=97;)if(u==4)Z.OT=function(){return Z.DJ?Z.DJ:Z.DJ=new Z},Z.DJ=void 0,u=9;else if(u==37)B.s.splice(Z,Z,S),u=43;else if(u==11)u=w+1>>1<w&&(w-3^6)>=w?37:43;else if(u==43)u=(w&27)==w?68:74;else if(u==9)u=w-7&13?23:55;else if(u==26)u=(w^28)>>4>=1&&(w-8&11)<4?4:9;else if(u==74)u=(w&97)==w?48:26;else if(u==68)this.n++,S=Z-this.H,this.H+=S/this.n,this.UT+=S*(Z-this.H),u=74;else if(u==48)e=v5[S](v5.prototype,{replace:Z,call:Z,floor:Z,prototype:Z,document:Z,console:Z,parent:Z,splice:Z,propertyIsEnumerable:Z,stack:Z,length:Z,pop:Z}),u=26;else if(u==55)VR.call(this,Z?Z.type:\"\"),this.relatedTarget=this.currentTarget=this.target=null,this.button=this.screenY=this.screenX=this.clientY=this.clientX=this.offsetY=this.offsetX=0,this.key=\"\",this.charCode=this.keyCode=0,this.metaKey=this.shiftKey=this.altKey=this.ctrlKey=false,this.state=null,this.pointerId=0,this.pointerType=\"\",this.timeStamp=0,this.I=null,Z&&this.init(Z,S),u=23;else if(u==83)u=11;else if(u==23)return e},mH=function(w,Z,S,B,e,u,W,l,E,D,T,J,p,x){for(p=(T=26,0);;)try{if(T==60)break;else if(T==52)l=u.i,l(function(){mH(41,S,Z,Z,u)}),T=23;else if(T==94)T=w>>2<12&&((w^11)&14)>=7?81:58;else{if(T==82)return x;if(T==0)T=Z?55:11;else if(T==91)T=36;else if(T==86)p=40,E=nu(D,e,u,B),T=66;else if(T==55)T=typeof S!==\"function\"?67:87;else if(T==36)T=u.s.length?54:23;else if(T==26)T=94;else if(T==99)x=this.n===0?0:Math.sqrt(this.UT/this.n),T=25;else if(T==81)this.src=Z,this.l={},this.b4=0,T=58;else if(T==47)T=w>>1&13?25:99;else{if(T==67)throw Error(\"Invalid decorator function \"+S);if(T==54)u.i=null,D=u.s.pop(),T=86;else{if(T==11)throw Error(\"Invalid class name \"+Z);if(T==92)T=36;else if(T==66)p=0,T=21;else if(T==58)T=(w^54)>>4?47:92;else if(T==25)T=(w-5^7)>=w&&(w-8^10)<w?0:87;else if(T==23)x=E,T=47;else if(T==21)T=W&&u.i?52:91;else if(T==90)p=0,jv(64,\":\",u,J),T=66;else if(T==18){if(e.s.length){e.JN=(e.qd=(e.qd&&\":TQR:TQR:\"(),true),S);try{l=e.Z(),e.sT=0,e.rr=0,e.Jd=l,e.ZJ=l,E=mH(48,true,false,25,3,e,S),W=B?0:10,u=e.Z()-e.Jd,e.VB+=u,e.yB&&e.yB(u-e.j,e.P,e.G,e.rr),e.P=Z,e.j=0,e.G=Z,u<W||e.Md--<=0||(u=Math.floor(u),e.QB.push(u<=254?u:254))}finally{e.qd=Z}x=E}T=82}else T==87&&(T=(w^58)>>3==2?18:82)}}}}catch(b){if(p==0)throw b;p==40&&(J=b,T=90)}},I=function(w,Z,S,B,e,u,W,l,E,D,T){return(w>>((w-1|(w<<1<35&&w+5>=16&&(Z.B?D=$S(Z,Z.A):(S=GF(true,8,Z),S&128&&(S=-(S|0)+128+2*(S&-129),B=GF(true,2,Z),S=(S<<2)+(B|0)),D=S)),8))>=w&&(w-3^7)<w&&(Z.B?D=$S(Z,Z.A):(S=GF(true,8,Z),S&128&&(S=-(S|0)+128+2*(S&-129),B=GF(true,2,Z),S=(S<<2)+(B|0)),D=S)),2)&7||(D=T=function(){for(var J=31;J!=85;){if(J==15)return x;if(J==58)var p=[dh,e,u,void 0,(J=54,l),E,arguments];else if(J==0)J=W.T?58:70;else if(J==54)J=B==Z?40:69;else if(J==70)l&&E&&l.removeEventListener(E,T,P5),J=85;else if(J==40){var x=mH(45,(Q(35,0,p,W),false),false,false,W);J=15}else if(J==95){var b=!W.s.length;J=(Q(51,0,p,W),b&&mH(43,false,false,false,W),15)}else J==49?(x=nu(p,3,W,25),J=15):J==69?J=B==S?95:49:J==31&&(J=W.F==W?0:85)}}),w)+4>>3==3&&(D=S[B]<<24|S[~(B&1)- -6+3*(B&-2)+2*(~B^1)]<<Z|S[(B|0)+2]<<8|S[(B|0)+3]),D},zF=function(w,Z,S,B,e,u,W,l,E,D,T){{D=83;while(D!=w)if(D==83)D=68;else{if(D==38)return T;if(D==67)D=S-7>>4?38:7;else if(D==7){for(E in(W=B,Z).l){for(l=Z.l[u=B,E];u<l.length;u++)++W,y(l[u],32,e);delete (Z.b4--,Z.l)[E]}D=38}else D==3?(Z.YU(function(J){u=J},B,e),T=u,D=67):D==68&&(D=(S|32)==S?3:67)}}},a=function(w,Z,S,B,e,u,W,l,E,D){for(D=85;D!=52;)if(D==14)D=(B+4^29)<B&&(B-7^31)>=B?28:26;else if(D==85)D=57;else if(D==49)E=function(){},e=void 0,w=kS(Z,function(T,J){for(J=52;J!=21;)J==43?(S&&YS(S),e=T,E(),E=void 0,J=21):J==52&&(J=E?43:21)},!!S),W=w[1],u=w[0],l={top:function(T,J,p,x,b,F,C){for(F=52;F!=10;)if(F==72)F=J?2:36;else if(F==75)x=E,E=function(){x(),YS(C)},F=10;else{if(F==36)return b=u(p),T&&T(b),b;F==2?F=e?34:75:F==52?(C=function(){e(function(X){YS(function(){T(X)})},p)},F=72):F==34&&(C(),F=10)}},pe:function(T){W&&W(T)}},D=14;else{if(D==26)return l;D==28?(K(S,w,Z),w[sx]=2796,D=26):D==57&&(D=((B|4)&3)>=2&&B+6<19?49:14)}},Me=function(w,Z,S,B,e,u,W,l,E,D,T){for(T=8;T!=23;)if(T==33)T=S.classList?63:68;else if(T==63)Array.prototype.forEach.call(B,function(J,p,x){for(x=60;x!=85;)x==96?x=qe(19,1,0,J,S)?85:65:x==60?x=S.classList?93:96:x==93?(S.classList.add(J),x=85):x==65&&(p=bn(14,6,\"string\",\"class\",S),Cu(26,\"string\",S,p+(p.length>0?\" \"+J:J)),x=85)}),T=w;else{if(T==w)return D;if(T==8)T=52;else if(T==82)T=e+8>>2<e&&e-7<<2>=e?33:w;else if(T==46){a:{for(l=S;l<u.length;++l)if(E=u[l],!E.hd&&E.listener==W&&E.capture==!!B&&E.nv==Z){D=l;break a}D=-1}T=82}else if(T==52)T=(e<<1&7)>=2&&(e|1)>>5<3?46:82;else if(T==68){for(Z in(Array.prototype.forEach.call(h(5,(u={},\"class\"),S),function(J){u[J]=true}),Array.prototype).forEach.call(B,function(J){u[J]=true}),W=\"\",u)W+=W.length>0?\" \"+Z:Z;T=(Cu(24,\"string\",S,W),w)}}},y=function(w,Z,S,B,e,u,W,l){for(l=78;l!=23;)if(l==56)l=(Z^33)>=-55&&(Z+9&13)<5?97:28;else if(l==11)l=(Z>>2&11)==1?77:39;else if(l==78)l=56;else if(l==95)u=function(){},u.prototype=B.prototype,w.h=B.prototype,w.prototype=new u,w.prototype.constructor=w,w.yS=function(E,D,T){for(var J=79;J!=5;){if(J==52)return B.prototype[D].apply(E,p);if(J==14)J=94;else if(J==48)x++,J=94;else if(J==93)p[x-S]=arguments[x],J=48;else if(J==94)J=x<arguments.length?93:52;else if(J==79)var p=Array((J=14,arguments.length-S)),x=S}},l=81;else if(l==57)w.hd=S,w.listener=null,w.proxy=null,w.src=null,w.nv=null,l=11;else if(l==97)e=w.type,l=36;else if(l==77)W=!!(B=w.vL,-~S+(B&~S)+(~B^S)),l=39;else if(l==13)y(w,52,S),l=12;else{if(l==81)return W;l==54?(delete B.l[e],B.b4--,l=28):l==36?l=e in B.l&&XK(58,B.l[e],w,1,8)?13:28:l==39?l=(Z-7&16)<7&&(Z-2&15)>=8?95:81:l==28?l=Z<<2&15?11:57:l==12&&(l=B.l[e].length==0?54:28)}},p$=function(w,Z,S,B,e,u,W,l,E){while(w+9>>3>=0&&w-3<14){switch(!(u=io(\"splice\",B,\"null\")===\"array\"?B:[B],this.J)){case true:while([]){try{W=[],e=!this.s.length,Q(36,0,[Dj,W,u],this),Q(67,0,[xf,S,W],this),Z&&!e||mH(40,false,Z,true,this)}catch(D){jv(70,\":\",this,D),S(this.J)}if(null!=false)break}break;case false:S(this.J);break}if(\"R\")break}w>>1&7||(B=v5[Z.W](Z.kY),B[Z.W]=function(){return S},B.concat=function(D){S=D},E=B);switch(!!(w-7&7)){case 0===-0:0;break;case NaN===NaN:for(l=I(56,B),W=0;Z>0;Z--)W=(e=W<<8,u=lo(true,B,8),S*(e&u)+~e+~u-2*(~e^u));m(B,l,W);break}return E},Ty=function(w,Z,S,B,e){for(B=20;B!=22;)if(B==18)B=(Z-1|13)>=Z&&(Z-w|27)<Z?16:15;else if(B==20)B=18;else{if(B==61)return e;B==16?(this.fv=this.fv,this.N=this.N,B=15):B==54?(e=Object.prototype.hasOwnProperty.call(S,F8)&&S[F8]||(S[F8]=++bo),B=61):B==15&&(B=Z>>1&3?61:54)}},h=function(w,Z,S,B,e,u,W,l,E,D,T){for(T=80;T!=37;)if(T==35)l=this.constructor,T=32;else if(T==80)T=93;else if(T==59)Ox.call(this,B),T=64;else if(T==28)T=Array.isArray(B)?2:94;else if(T==71)T=96;else if(T==67)T=w+6>>3==3?59:69;else if(T==20)h(10,\"object\",true,B[E],e,u,W,l),T=76;else if(T==12)T=E<B.length?20:67;else if(T==94)e=jv(18,e),l&&l[W5]?l.o.add(String(B),e,S,h(29,Z,u)?!!u.capture:!!u,W):fu(12,\"object\",false,l,B,u,S,e,W),T=67;else if(T==92)B=typeof S,D=B==Z&&S!=null||B==\"function\",T=91;else if(T==75)l=(u=Object.getPrototypeOf(l.prototype))&&u.constructor,T=71;else if(T==93)T=(w&69)==w?89:36;else if(T==91)T=w+8&13?67:28;else if(T==30)T=(E=tS[W])?33:75;else if(T==48)e=E?typeof E.OT===\"function\"?E.OT():new E:null,T=34;else if(T==2)E=0,T=74;else if(T==36)T=(w|24)==w?92:91;else if(T==34)this.D=e,T=69;else if(T==32)T=96;else if(T==96)T=l?63:48;else if(T==76)E++,T=12;else{if(T==69)return D;T==64?T=(e=S)?34:35:T==74?T=12:T==33?T=48:T==63?(W=Ty(9,9,l),T=30):T==89&&(D=S.classList?S.classList:bn(14,8,\"string\",Z,S).match(/\\\\S+/g)||[],T=36)}},fu=function(w,Z,S,B,e,u,W,l,E,D,T,J,p,x,b){{x=8;while(x!=50)if(x==42)x=(w|56)==w?36:26;else{if(x==22)throw Error(\"addEventListener and attachEvent are unavailable.\");if(x==87)x=83;else if(x==36){if(((B.R+=(E=(D=(S||B.sT++,B.oO>0&&B.qd&&B.JN&&B.pv<=1&&!B.B&&!B.i&&(!S||B.ls-u>1)&&document.hidden==0),(l=B.sT==4)||D)?B.Z():B.ZJ,W=E-B.ZJ,W>>14)>0,B.L&&(B.L^=(B.R+1>>Z)*(W<<Z)),B).F=B.R+1>>Z!=0||B.F,l)||D)B.ZJ=E,B.sT=0;x=(D?(B.oO>B.rr&&(B.rr=B.oO),E-B.Jd<B.oO-(e?255:S?5:2)?b=false:(B.ls=u,T=v(S?269:94,B),V(94,B,B.g),B.s.push([ek,T,S?u+1:u,B.P,B.G]),B.i=YS,b=true)):b=false,26)}else if(x==83)x=(w&76)==w?90:42;else if(x==57)p=qe(8),D.proxy=p,p.src=B,p.listener=D,x=32;else if(x==88)this.n===0?b=[0,0]:(this.Y.sort(function(F,C){return F-C}),b=[this.n,this.Y[this.Y.length>>1]]),x=45;else if(x==32)x=B.addEventListener?68:71;else if(x==10)B.addListener(p),x=98;else if(x==89)B.attachEvent(ln(2,e.toString(),\"on\",3),p),x=98;else{if(x==26)return b;if(x==8)x=67;else if(x==33)x=D.proxy?42:57;else if(x==48)J=h(27,Z,u)?!!u.capture:!!u,(T=DP(81,B,13))||(B[Sv]=T=new TF(B)),D=T.add(e,l,W,J,E),x=33;else if(x==67)x=((w|8)&3)==2?88:45;else if(x==98)ev++,x=42;else if(x==71)x=B.attachEvent?89:23;else if(x==90)x=e?48:17;else{if(x==17)throw Error(\"Invalid event type\");x==68?(Jx||(u=J),u===void 0&&(u=S),B.addEventListener(e.toString(),p,u),x=98):x==23?x=B.addListener&&B.removeListener?10:22:x==45&&(x=(w>>1&9)==1?87:83)}}}}},uo=function(w,Z,S,B,e,u,W,l,E,D,T,J,p,x,b,F){for(F=69;F!=74;)if(F==7)b=Math.floor(this.VB+(this.Z()-this.Jd)),F=96;else if(F==63)S.eh&&S.eh.forEach(Z,void 0),F=89;else if(F==69)F=14;else if(F==96)F=(w^54)>>3?89:63;else if(F==84)F=W?80:10;else if(F==80){a:{for(x=(D=u.split((p=Zj,Z)),e);x<D.length-B;x++){if(!((l=D[x],l)in p))break a;p=p[l]}(E=W((T=(J=D[D.length-B],p[J]),T)),E)!=T&&E!=S&&BU(p,J,{configurable:true,writable:true,value:E})}F=10}else if(F==14)F=(w>>2&7)>=3&&w>>1<14?7:96;else if(F==89)F=w-1&6?10:84;else if(F==10)return b},Eb=function(w,Z,S,B,e,u,W,l,E,D,T,J){{J=36;while(J!=46)if(J==36)J=18;else if(J==89)J=((Z|2)&7)==2?w:52;else if(J==97)J=D<E.length?40:0;else if(J==55)e=S,T=function(){return e<B.length?{done:false,value:B[e++]}:{done:true}},J=89;else if(J==w)this[this+\"\"]=this,J=52;else if(J==7)J=(Z&105)==Z?53:87;else if(J==40)Eb(63,29,true,false,e,u,W,l,E[D]),J=61;else if(J==18)J=(Z^44)>>3==3?55:89;else if(J==52)J=Z+3&22?0:83;else if(J==61)D++,J=97;else if(J==32)D=0,J=74;else if(J==74)J=97;else if(J==53)this.n++,J=91;else{if(J==87)return T;J==0?J=(Z+9&16)<13&&(Z+6&15)>=9?65:7:J==22?(B=Math.floor(Math.random()*this.n),B<50&&(this.Y[B]=S),J=87):J==91?J=this.Y.length<50?43:22:J==19?(l=jv(17,l),u&&u[W5]?u.o.add(String(E),l,B,h(57,\"object\",e)?!!e.capture:!!e,W):fu(8,\"object\",false,u,E,e,B,l,W),J=0):J==23?(h(8,\"object\",S,E,l,e,W,u),J=0):J==83?J=e&&e.once?23:73:J==73?J=Array.isArray(E)?32:19:J==43?(this.Y.push(S),J=87):J==65&&(u=B,u=(W=u<<13,-(u|0)-(W|0)+2*(u|W)),u=(E=u>>17,(E|0)+~E-(~u^E)),u=(l=u<<5,2*(u|0)- -1+2*~u-(~u^l)),(u&=e)||(u=1),T=S^u,J=7)}}},U=function(w,Z,S,B,e,u,W,l,E,D,T){return w-((w<<2&13||(e=[-1,23,-11,64,37,-64,e,-64,-15,-53],D=B&7,l=WU,E=v5[u.W](u.hN),E[u.W]=function(J){D+=6+7*B;while(true)if(D=(D|0)-2*(D&-8)-(~D^7)+(D|-8),\"J\")break;W=J},E.concat=function(J,p,x,b){return(W=(p=(J=(x=S%16+1,3010*W+(l()|0)*x+e[D+75&7]*S*x-140*S*S*W-805*S*W)-x*W+4*S*S*x+35*W*W+D,e)[J],void 0),e[(b=D+Z,-(b|7)-2*~(b|7)+(b^7)+2*(~b^7))+(B&2)]=p,e)[D+(B&2)]=23,p},T=E),(w|8)>=-80)&&w+4>>4<1&&(B=lo(true,S,8),128-~(B&128)+-129&&(B=127-~B+~(B|127)|lo(true,S,8)<<Z),T=B),9)&9||(Z.B?T=$S(Z,Z.A):(S=GF(true,8,Z),S&128&&(S=-(S|0)+128+2*(S&-129),B=GF(true,2,Z),S=(S<<2)+(B|0)),T=S)),T},DP=function(w,Z,S,B,e,u,W,l,E,D,T,J){{T=89;while(T!=92)if(T==89)T=29;else if(T==w)this.type=Z,this.currentTarget=this.target=B,this.defaultPrevented=this.l4=false,T=67;else if(T==29)T=(S+7^6)>=S&&(S+9&54)<S?61:8;else if(T==77)B=Z[Sv],J=B instanceof TF?B:null,T=70;else{if(T==70)return J;T==8?T=(S>>1&6)<2&&S+6>=20?w:67:T==61?(J=(D=Sk[Z.substring(0,3)+\"_\"])?D(Z.substring(3),B,e,u,W,l,E):Ne(80,40,Z,B),T=8):T==67&&(T=(S>>1&10)<5&&S+5>>3>=2?77:70)}}},RD=function(w,Z,S,B,e,u,W,l,E,D,T){for(T=64;T!=12;){if(T==40)return D;if(T==69)D=Math.floor(this.Z()),T=40;else if(T==11){a:{switch(E){case B:D=l?\"disable\":\"enable\";break a;case e:D=l?\"highlight\":\"unhighlight\";break a;case 4:D=l?\"activate\":\"deactivate\";break a;case u:D=l?\"select\":\"unselect\";break a;case 16:D=l?\"check\":\"uncheck\";break a;case W:D=l?\"focus\":\"blur\";break a;case 64:D=l?\"open\":\"close\";break a}throw Error(\"Invalid component state\");}T=10}else T==4?T=(S&93)==S?11:10:T==64?T=4:T==10&&(T=(S+4&Z)<w&&(S|1)>=27?69:40)}},n=function(w,Z,S){if(S=Z.T[w],S===void 0)throw[HU,30,w];if(S.value)return S.create();return(S.create(w*4*w+23*w+-86),S).prototype},gP=function(w,Z){{var S=54;while(S!=47)if(S==57){var B=arguments[u];for(W in B)w[W]=B[W];var e=(S=68,0)}else if(S==54)var u=(S=28,1);else if(S==97){var W=oL[e];S=(Object.prototype.hasOwnProperty.call(B,W)&&(w[W]=B[W]),82)}else S==28?S=88:S==30?S=e<oL.length?97:76:S==88?S=u<arguments.length?57:47:S==82?(e++,S=30):S==76?(u++,S=88):S==68&&(S=30)}},H5=function(w,Z,S,B,e,u,W,l){return h.call(this,18,w,Z,S,B,e,u,W,l)},IL=function(w,Z,S,B,e,u,W,l){(Z.push((W=w[0]<<24|w[1]<<16,B=w[2]<<8,-~(W|B)+(~W&B)+(W|~B))|w[3]),Z).push((S=w[4]<<24|w[5]<<16,e=w[6]<<8,-~S+2*(S^e)+2*(~S^e)-(S|~e))|w[7]),Z.push((u=w[8]<<24|w[9]<<16|w[10]<<8,l=w[11],-(u&l)-2*~(u&l)+-2+(u^l)))},Y=function(w,Z,S,B){S=(Z|0)-1;{B=[];while(S>=0)B[-2*~(Z&1)+-4+(Z^1)-(S|0)]=w>>S*8&255,S--}return B},QR=function(w,Z,S,B,e,u){return bn.call(this,14,35,w,Z,S,B,e,u)},kS=function(w,Z,S,B,e,u,W,l){return DP.call(this,81,w,55,Z,S,B,e,u,W,l)},VR=function(w,Z){return DP.call(this,81,w,16,Z)},lo=function(w,Z,S){return Z.B?$S(Z,Z.A):GF(w,S,Z)},jk=function(w,Z){function S(){this.UT=this.H=this.n=0}if(true)S.prototype.RO=function(B,e){return Q.call(this,16,B,e)};return[function(B){Z.RO(B),w.RO(B)},(w=(S.prototype.wS=function(){return mH.call(this,64)},Z=new S,new S),function(B){return w=(B=[Z.wS(),w.wS(),Z.H,w.H],new S),B})]},m=function(w,Z,S){if(Z==94||Z==269)w.T[Z]?w.T[Z].concat(S):w.T[Z]=p$(49,w,S);else{while(w.kU&&Z!=13){return;if(12)break}Z==209||Z==438||Z==491||Z==169||Z==84||Z==225||Z==463||Z==432||Z==66||Z==400?w.T[Z]||(w.T[Z]=U(16,13,Z,150,S,w)):w.T[Z]=U(28,13,Z,17,S,w)}Z==13&&(w.L=GF(false,32,w),w.O=void 0)},N9=function(w,Z,S,B,e,u,W,l,E,D,T,J,p,x){if(!Z.kU&&(x=void 0,w&&w[0]===HU&&(x=w[2],S=w[1],w=void 0),u=z(Z,84),u.length==0&&(J=z(Z,269)>>3,u.push(S,J>>8&255,J&255),x!=void 0&&u.push(-~(x&255)+(x&-256)+(~x|255))),p=\"\",w&&(w.message&&(p+=w.message),w.stack&&(p+=\":\"+w.stack)),l=v(400,Z),l[0]>3)){while(0==![\"\"])if(NaN!==(p=p.slice(0,(D=l[0],-(~D^3)-(~D&3)+(D|-4))),NaN))break;Z.F=(e=(p=(l[0]-=(E=p.length,2*(E&3)+~E-~(E|3)+(E&-4)),K$(6,\"\\\\n\",p)),Z).F,Z);try{Z.Pz?(T=(T=n(B,Z))&&T[T.length-1]||95,(W=n(463,Z))&&W[W.length-1]==T||q9([T&255],66,Z,463)):M([95],Z,B),q9(Y(p.length,2).concat(p),66,Z,438,51)}finally{Z.F=e}}},M=function(w,Z,S,B,e,u,W,l,E){if(Z.F==Z)for(e=n(S,Z),S==438||S==66||S==169?(u=function(D,T,J,p,x,b,F,C){for(b=(F=97,13);;)try{if(F==30)break;else{if(F==10)throw b=13,C;F==73?(b=2,e.aO=hx(0,I(26,16,e,(J|0)+4),2,I(21,16,e,J),p),F=60):F==79?(p=[0,0,W[1],W[2]],J=(x<<3)-4,e.dr=x,F=73):F==60?(e.push(e.aO[T&7]^D),F=30):F==37?F=e.dr!=x?79:60:F==97&&(T=e.length,x=(T|0)-4>>3,F=37)}}catch(X){if(b==13)throw X;b==2&&(C=X,F=10)}},W=n(432,Z)):u=function(D){e.push(D)},B&&u((B|255)-(B&-256)+(~B^255)-(~B|255)),l=w.length,E=0;E<l;E++)u(w[E])},VU=function(w,Z){return Cu.call(this,32,w,Z)},Ub=function(w,Z,S,B,e,u){return a.call(this,S,w,Z,3,B,e,u)},nu=function(w,Z,S,B,e,u,W,l,E,D,T,J){if(\"e\")D=w[0];if(D==Dj)S.G=true,S.Md=B,S.U(w);else if(D==xf){u=w[1];try{T=S.J||S.U(w)}catch(p){jv(68,\":\",S,p),T=S.J}u((e=S.Z(),T)),S.j+=S.Z()-e}else if(D==ek)w[Z]&&(S.P=true),w[4]&&(S.G=true),S.U(w);else switch(!(D==dP)){case true:switch(!(D==PU)){case ![]==0:if(D==dh)return J=w[2],V(477,S,w[6]),V(303,S,J),S.U(w);D==Gy?(S.U(w),S.FO=[],S.QB=[],S.T=null):D==sx&&r.document.readyState===\"loading\"&&(S.i=function(p,x){function b(F){for(F=59;F!=3;)F==78?(x=true,r.document.removeEventListener(\"DOMContentLoaded\",b,P5),r.removeEventListener(\"load\",b,P5),p(),F=3):F==59&&(F=x?3:78)}r.document.addEventListener(\"DOMContentLoaded\",b,(x=false,P5)),r.addEventListener(\"load\",b,P5)});break;case false==0==[]:try{{W=0;while(W<S.ET.length){try{l=S.ET[W],l[0][l[1]](l[2])}catch(p){}W++}}}catch(p){}if(S.ET=[],7)E=S.Z();while({})if((0,w[1])(function(p,x){S.YU(p,true,x)},function(p){(Q(52,0,(p=!S.s.length,[Gy]),S),p)&&mH(42,false,true,false,S)},function(p){return S.XO(p)},function(p,x,b){return S.BL(p,x,b)}),true)break;S.j+=S.Z()-E;break}break;case true==![]:S.P=true,S.U(w);break}},Ax=function(){return fu.call(this,3)},aL=function(w,Z,S){for(S=70;S!=65;){if(S==95)return Z;S==70?(Z=[],S=82):S==23?(Z.push(Math.random()*255|0),S=5):S==5?S=98:S==82?S=98:S==98&&(S=w--?23:95)}},Ox=function(w){return aD.call(this,w,10)},kf=function(w,Z,S,B,e,u){try{e=w[((Z|0)+2)%3],w[Z]=(u=(w[Z]|0)-(w[(2*(Z&1)+~(Z&1)- -2+(Z&-2))%3]|0)-(e|0),B=Z==1?e<<S:e>>>S,-2-(u|~B)-(~u|B))}catch(W){throw W;}},cU=function(w,Z,S,B,e,u,W,l,E,D){if((((l=I(w,(e=S[RL]||{},S)),e).bs=U(13,S),e).X=[],-0)===Number())D=S.F==S?(W=lo(true,S,B),-~(W&1)+-2+(W&-2)):1;for(u=I(13,S),E=Z;E<D;E++)e.X.push(U(15,S));for((e.xU=n(l,S),e).Zf=z(S,u);D--;)e.X[D]=n(e.X[D],S);return e},q9=function(w,Z,S,B,e,u,W,l,E,D){if(S.F==S)for(E=z(S,B),B==438||B==Z||B==169?(D=function(T,J,p,x,b,F,C,X){for(F=(C=92,77);;)try{if(C==95)break;else if(C==69)F=27,E.aO=hx(0,I(25,16,E,(b|0)+4),2,I(20,16,E,b),p),C=79;else if(C==79)E.push(E.aO[J&7]^T),C=95;else if(C==47)p=[0,0,l[1],l[2]],b=(x<<3)-4,E.dr=x,C=69;else if(C==88)C=E.dr!=x?47:79;else{if(C==43)throw F=77,X;C==92&&(J=E.length,x=(J|0)-4>>3,C=88)}}catch(A){if(F==77)throw A;F==27&&(X=A,C=43)}},l=z(S,432)):D=function(T){E.push(T)},e&&D((e|255)-(e&-256)+(~e^255)-(~e|255)),u=0,W=w.length;u<W;u++)D(w[u])},io=function(w,Z,S,B,e){if((e=typeof Z,e)==\"object\")if(Z){if(Z instanceof Array)return\"array\";if(Z instanceof Object)return e;if((B=Object.prototype.toString.call(Z),B)==\"[object Window]\")return\"object\";while(B==\"[object Array]\"||typeof Z.length==\"number\"&&typeof Z.splice!=\"undefined\"&&typeof Z.propertyIsEnumerable!=\"undefined\"&&!Z.propertyIsEnumerable(w)){return\"array\";if(false==0)break}if(B==\"[object Function]\"||typeof Z.call!=\"undefined\"&&typeof Z.propertyIsEnumerable!=\"undefined\"&&!Z.propertyIsEnumerable(\"call\"))return\"function\"}else return S;else if(e==\"function\"&&typeof Z.call==\"undefined\")return\"object\";if({})return e},pu=function(w,Z){return Q.call(this,7,w,Z)},QU=function(){return Ne.call(this,80,3)},tx=function(w,Z,S,B,e){return Me.call(this,54,S,w,Z,12,B,e)},Ux=function(){return ID.call(this,20)},vU=function(w,Z,S,B,e,u,W){if(true!=((e=z(w,(W=(u=I(50,(S=(Z|0)+(~Z^3)-(Z|(B=Z&4,-4)),w)),I(50,w)),u)),B)&&(e=K$(6,\"\\\\n\",\"\"+e)),S&&M(Y(e.length,2),w,W),[]))M(e,w,W)},X8=function(w,Z,S,B,e,u,W,l,E){if(!S.J){if(S.pv++,0==![])try{W=0,E=S.g;{l=void 0;while(--Z)try{if((u=void 0,S).B)l=$S(S,S.B);else{if((W=v(94,S),W)>=E)break;l=(u=(V(B,S,W),I)(16,S),n)(u,S)}fu(56,2,false,(l&&(e=l[Gy],(e|2048)- -1-(e&-2049)+(e|-2049))?l(S,Z):N9([HU,21,u],S,0,225),S),false,Z)}catch(D){n(w,S)?N9(D,S,22,225):V(w,S,D)}}switch(!!Z){case 0==![undefined]:false;break;case false==null:switch(!S.nw){case Number()==![\"\"]:(true!=![]).true;break;case ![]!=0:X8(486,143864540820,(S.pv--,S),269);return;break}N9([HU,33],S,0,225);break}}catch(D){try{N9(D,S,22,225)}catch(T){jv(66,\":\",S,T)}}S.pv--}},$f=function(w,Z,S,B,e){return hS.call(this,w,3,Z,S,e,B)},$S=function(w,Z,S){return(S=Z.create().shift(),w.B.create().length||w.A.create().length)||(w.B=void 0,w.A=void 0),S},O=function(w,Z,S,B,e,u,W){W=this;try{zy(B,Z,e,S,u,w,this)}catch(l){jv(64,\":\",this,l),w(function(E){E(W.J)})}},GF=function(w,Z,S,B,e,u,W,l,E,D,T,J,p,x,b,F,C){if(b=z(S,94),b>=S.g)throw[HU,31];for(x=(E=(C=Z,b),D=0,S).aH.length;C>0;)F=E>>3,e=E%8,u=S.FO[F],J=8-(e|0),B=J<C?J:C,w&&(p=S,W=E,p.O!=W>>6&&(p.O=W>>6,l=v(13,p),p.mE=hx(0,p.O,2,p.L,[0,0,l[1],l[2]])),u^=S.mE[F&x]),D|=(u>>8-(e|0)-(B|0)&(1<<B)-1)<<(C|0)-(B|0),E+=B,C-=B;return K(94,(T=D,(b|0)+(Z|0)),S),T},P,BU=typeof Object.defineProperties==\"function\"?Object.defineProperty:function(w,Z,S,B){{B=31;while(B!=58)if(B==31)B=w==Array.prototype||w==Object.prototype?88:35;else{if(B==88)return w;if(B==35)return w[Z]=S.value,w}}},TF=function(w){return mH.call(this,3,w)},K=function(w,Z,S){if(w==94||w==269)S.T[w]?S.T[w].concat(Z):S.T[w]=p$(33,S,Z);else{for(Number();S.kU&&w!=13;false){return;if(true==![]!=![]!=null)break}w==209||w==438||w==491||w==169||w==84||w==225||w==463||w==432||w==66||w==400?S.T[w]||(S.T[w]=U(32,13,w,150,Z,S)):S.T[w]=U(20,13,w,17,Z,S)}w==13&&(S.L=GF(false,32,S),S.O=void 0)},Ob=function(w,Z,S,B){B=I(16,(S=I(55,Z),Z)),M(Y(v(S,Z),w),Z,B)},yU=function(w,Z,S,B,e,u){return n(303,(K((X8(486,e,((u=z(B,94),B).FO&&u<B.g?(V(94,B,B.g),C$(94,225,Z,S,B,104)):K(94,Z,B),B),w),94),u,B),B))},V=function(w,Z,S){switch(!(w==94||w==269)){case 0==![undefined]:switch(!(Z.kU&&w!=13)){case true:false;break;case ![]:return;break}w==209||w==438||w==491||w==169||w==84||w==225||w==463||w==432||w==66||w==400?Z.T[w]||(Z.T[w]=U(12,13,w,150,S,Z)):Z.T[w]=U(24,13,w,17,S,Z);break;case false:Z.T[w]?Z.T[w].concat(S):Z.T[w]=p$(48,Z,S);break}w==13&&(Z.L=GF(false,32,Z),Z.O=void 0)},hx=function(w,Z,S,B,e,u,W,l){for(W=(u=e[S]|(l=w,w),e)[3]|w;l<15;l++)Z=Z>>>8|Z<<24,Z+=B|w,Z^=u+1906,B=B<<3|B>>>29,W=W>>>8|W<<24,W+=u|w,u=u<<3|u>>>29,W^=l+1906,u^=W,B^=Z;return[B>>>24&255,B>>>16&255,B>>>8&255,B>>>w&255,Z>>>24&255,Z>>>16&255,Z>>>8&255,Z>>>w&255]},rP=function(w,Z,S,B,e){if(w.length==3){for(S=0;S<3;S++)Z[S]+=w[S];e=0;{B=[13,8,13,12,16,5,3,10,15];while(e<9)Z[3](Z,e%3,B[e]),e++}}},Yf=function(w,Z){function S(){this.n=(this.Y=[],0)}return[(w=new (Z=((S.prototype.Gy=function(B,e){return Eb.call(this,63,9,B,e)},S.prototype).Ta=function(){return fu.call(this,18)},new S),S),function(B){(Z.Gy(B),w).Gy(B)}),function(B){return B=Z.Ta().concat(w.Ta()),w=new S,B}]},v=function(w,Z,S){S=Z.T[w];for(false;S===void 0;void(null!=false)){throw[HU,30,w];if(false==![])break}if(S.value)return S.create();return S.create(w*4*w+23*w+-86),S.prototype},M9=function(){while({}){return jv.call(this,10);if({})break}},f$=function(w,Z,S){return XK.call(this,58,S,Z,w,33)},wh=function(){return Ty.call(this,9,3)},sb=function(w){return jv.call(this,5,w)},AS=function(){return Cu.call(this,10)},z=function(w,Z,S){if(S=w.T[Z],S===void 0)throw[HU,30,Z];while(S.value){return S.create();if(\"b\")break}return S.create(Z*4*Z+23*Z+-86),S.prototype},zy=function(w,Z,S,B,e,u,W,l,E,D){for(E=(W.kY=(W.hN=Q((W.EZ=(W.aH=(W.VS=wk,W[xf]),L$),33),{get:function(){return this.concat()}},W.W),v5)[W.W](W.hN,{value:{value:{}}}),l=0,[]);l<376;l++)E[l]=String.fromCharCode(l);(W.fw=(W.u4=[],W.oO=0,W.RH=(W.G=false,S),W.i=(W.ET=[],W.sT=void 0,W.P=!(W.mE=(W.i4=void 0,W.R=1,W.ZJ=(W.Md=25,0),W.Cw=((W.s=[],W).qd=false,[]),W.VB=0,void 0),W.rS=function(T){return ID.call(this,10,T)},W.ls=8001,D=((W.FO=[],W.B=void 0,W).g=0,window.performance||{}),W.Kw=(W.pv=(W.kU=false,0),W.JN=(W.J=void 0,W.F=W,false),W.A=void 0,[]),1),W.Pz=(W.L=(W.j=0,void 0),W.rr=0,W.Jd=0,false),W.QB=[],null),W.T=[],W.yB=B,W.HL=0,W.O=void 0,D.timeOrigin||(D.timing||{}).navigationStart||0),w&&w.length==2)&&(W.Kw=w[0],W.Cw=w[1]);while(Z){try{W.i4=JSON.parse(Z)}catch(T){W.i4={}}if(true)break}while(\"L\")if(a(function(T,J,p,x,b,F,C,X,A){{A=46;while(A!=95)A==72?(m(T,b,x),A=95):A==96?(C=(p=U(6,7,T),3*(C&p)+~(C&p)-(~C^p))%J,x.push(F[C]),A=28):A==23?A=X--?96:72:A==60?A=23:A==46?(b=U(13,T),X=U(10,7,T),x=[],F=n(26,T),J=F.length,C=0,A=60):A==28&&(A=23)}},W,30,18),true)break;a(function(T,J,p,x,b){for(b=7;b!=93;)b==6?(x=I(8,T),p=I(71,T),m(T,p,function(F){return eval(F)}(TM(v(x,T.F)))),b=93):b==7&&(b=fu(57,2,true,T,false,J)?93:6)},(V(84,W,(a(function(T){Ob(1,T)},W,230,(a(function(T,J,p,x,b,F,C,X,A,N,g,d,L,ZP,c,k,Ex,q){for(q=49;q!=94;)q==18?(b=d,c=[],q=12):q==55?(ZP++,q=27):q==49?(Ex=function(f,B5){for(;g<f;)k|=lo(true,T,8)<<g,g+=8;return B5=k&((g-=f,1)<<f)-1,k>>=f,B5},F=I(12,T),g=k=0,d=(Ex(3)|0)+1,C=Ex(5),J=0,A=[],X=0,q=63):q==57?(a(function(f,B5,un,FK,t,R){for(R=75;R!=81;)R==48?R=61:R==69?R=B5<C?97:17:R==61?R=t>=FK.length?18:35:R==92?(un.push(t),R=31):R==40?R=61:R==83?R=69:R==97?(t=x[B5],R=49):R==35?(t=FK[t],R=92):R==31?(B5++,R=69):R==18?(FK.push(I(13,f)),R=48):R==49?R=A[B5]?92:40:R==17?(f.B=p$(32,f,c.slice()),f.A=p$(17,f,un),R=81):R==75&&(FK=[],un=[],B5=0,R=83)},T,F,13),q=94):q==78?(N=Ex(1),A.push(N),J+=N?0:1,q=0):q==11?(A[p]&&(x[p]=I(15,T)),q=91):q==79?q=X<C?78:2:q==0?(X++,q=79):q==15?q=26:q==7?q=b--?29:57:q==45?q=7:q==91?(p++,q=26):q==2?(L=(2*(J&1)+-4-(J^1)-2*(~J^1)).toString(2).length,x=[],ZP=0,q=9):q==9?q=27:q==12?q=7:q==26?q=p<C?11:18:q==29?(c.push(z(T,I(40,T))),q=45):q==72?(p=0,q=15):q==34?(A[ZP]||(x[ZP]=Ex(L)),q=55):q==63?q=79:q==27&&(q=ZP<C?34:72)},(a(function(T,J,p,x,b){for(b=39;b!=20;)b==11?b=73:b==77?(K(94,T.g,T),b=20):b==7?b=p?35:77:b==0?(J--,b=73):b==44?(p[84]=T.T[84],p[400]=T.T[400],T.T=p,b=20):b==8?(x=I(16,T),p[x]=T.T[x],b=0):b==35?(J=lo(true,T,8),b=11):b==39?(p=T.u4.pop(),b=7):b==73&&(b=J>0?8:44)},(K(337,((V(400,(V((m(W,94,(a(function(T,J,p,x,b,F,C,X,A){{A=79;while(A!=39)A==79?(J=I(15,T),b=I(12,T),F=I(54,T),x=z(T,b),p=v(J,T),X=0,C=\"\",A=58):A==75?(X++,A=87):A==34?(m(T,F,C in x|0),A=39):A==23?(C+=String.fromCharCode(p[X]^121),A=75):A==58?A=87:A==87&&(A=X<p.length?23:34)}},W,298,(a(function(T,J,p,x,b,F,C,X,A){for(A=47;A!=28;)A==57?(X+=String.fromCharCode(J[C]^121),A=34):A==96?A=C<J.length?57:13:A==90?A=96:A==34?(C++,A=96):A==47?(F=I(7,T),x=I(49,T),b=I(11,T),p=v(F,T),J=v(x,T),X=\"\",C=0,A=90):A==13&&(V(b,T,p[X]),A=28)},W,2,18),18)),0)),269),W,0),W),[2048]),a)(function(T,J,p,x,b,F,C,X,A,N,g,d,L,ZP,c){{c=77;while(c!=22)if(c==13)d=d>0?d:1,g=0,p=L.length,c=57;else if(c==53)N(L.slice(g,-2*~g+2*(g&~d)-(g|~d)+3*(~g|d)),A),c=93;else if(c==70){for(C in b=[],L)b.push(C);c=(L=b,51)}else c==57?c=26:c==51?c=T.F==T?13:22:c==91?(x=I(54,T),ZP=I(15,T),F=I(7,T),X=I(38,T),L=v(x,T),N=v(ZP,T),A=v(X,T),d=z(T,F),c=23):c==93?(g+=d,c=26):c==26?c=g<p?53:22:c==23?c=io(\"splice\",L,\"null\")==\"object\"?70:51:c==77&&(c=fu(59,2,true,T,true,J)?22:91)}},W,424,16),[]),W),W),49,16),W),410,15),15)),[])),W),356,19);while(![undefined]==0)if(a(function(){},W,292,17),[])break;a(function(T,J,p,x,b,F){x=I(40,T);while(![]!=true)if(p=I(39,T),true)break;m(T,(b=z(T,(F=U(47,T),J=n(p,T),x)),F),b[J])},(a(function(T,J,p,x,b){if(!!null==Number())p=I(11,T);while(true)if(b=I(18,T),\"D\")break;(x=(J=v(p,T)!=0,n)(b,T),J)&&K(94,x,T)},(a((a(function(T,J,p,x,b,F,C,X,A,N){for(N=87;N!=48;)N==87?N=fu(60,2,true,T,false,J)?48:34:N==34&&(C=cU(11,0,T.F,8),p=C.Zf,b=C.bs,X=C.X,A=C.xU,x=X.length,F=x==0?new p[A]:x==1?new p[A](X[0]):x==2?new p[A](X[0],X[1]):x==3?new p[A](X[0],X[1],X[2]):x==4?new p[A](X[0],X[1],X[2],X[3]):2(),K(b,F,T),N=48)},W,412,(a(function(T,J,p,x,b,F,C,X,A,N,g){for(g=67;g!=46;)g==76?g=X!==0?75:46:g==67?(J=I(55,T),p=I(15,T),A=U(29,T),b=I(18,T),x=n(A,T),C=v(p,T),X=v(J,T.F),F=v(b,T),g=76):g==75&&(N=I(3,2,1,1,x,F,T,X,C),X.addEventListener(C,N,P5),z(T,337).push(function(){X.removeEventListener(C,N,P5)}),V(208,T,[X,C,N]),g=46)},W,((m(W,(V(438,W,aL(4)),271),0),K)(303,{},W),466),19),16)),function(T,J,p,x,b,F){m((F=z((x=z(T,(b=U(59,(p=U(29,(J=I(13,T),T)),T)),J)),T),p),T),b,+(x==F))}),W,127,17),W),187,15),a(function(T,J,p,x,b,F){m(T,(J=z(T,(F=v((x=I(14,(p=I((b=U(41,T),13),T),T)),b),T),p)),x),F in J|0)},W,41,17),W),300,15);while(true)if(a(function(T){Ob(4,T)},W,417,16),true)break;if(a(function(T,J){m(T,(J=I(70,T),J),[])},(V(475,W,(a(function(T,J,p,x){if(J=I(6,(x=lo(true,T,(p=I(11,T),8)),T)),true)V(J,T,n(p,T)>>>x)},W,349,(a(function(T,J,p,x,b,F,C,X,A){{A=86;while(A!=17)A==46?A=b--?1:51:A==25?A=46:A==51?(m(T,p,X),A=17):A==86?(p=I(72,T),b=U(5,7,T),X=\"\",J=v(26,T),x=J.length,C=0,A=54):A==54?A=46:A==1&&(C=(F=U(7,7,T),2*(C&F)+(C&~F)-(~C^F)+(~C|F))%x,X+=E[J[C]],A=25)}},((V(169,(a(function(T,J,p,x,b,F){{F=30;while(F!=47)F==72?(m(T,x.bs,b.apply(p,x.X)),T.ZJ=T.Z(),F=47):F==30?F=fu(61,2,true,T,false,J)?47:13:F==26?F=T.F==T||b==T.rS&&p==T?72:47:F==13&&(x=cU(11,0,T,8),b=x.xU,p=x.Zf,F=26)}},W,226,(m((a(function(T){p$(39,4,3,T)},W,249,(a(function(T,J,p,x,b,F,C,X){K((X=(b=(F=(J=(C=I(49,(x=I(14,T),T)),I)(8,T),I(12,T)),v(F,T)),p=v(C,T),n)(J,T),x),I(32,2,1,b,p,X,T),T)},W,474,(a(function(T){vU(T,3)},W,(m(W,208,(K(66,(a(function(T,J,p,x){p=U(57,(x=(J=U(25,T),I)(56,T),T)),V(p,T,v(J,T)||v(x,T))},W,(a((a(function(T){vU(T,4)},W,(a(function(T,J,p){m(T,(J=(p=I(6,T),I)(16,T),J),\"\"+v(p,T))},W,(V(432,W,(a(function(T,J,p,x,b,F,C,X){{X=36;while(X!=66)X==5?(T.O=void 0,X=68):X==96?(T.L=GF(false,32,T),T.O=void 0,X=66):X==68?X=p==2?96:66:X==53?X=T.F==T?27:66:X==27?(F=z(T,J),p=v(C,T),x=n(b,T),F[p]=x,X=93):X==93?X=J==13?5:66:X==36&&(J=U(27,T),C=I(12,T),b=U(45,T),X=53)}},W,350,(K(463,(a(function(T,J,p,x,b,F){for(F=65;F!=64;)F==27?(m(T,x,J),F=64):F==93?F=54:F==54?F=b<p?99:27:F==72?(b++,F=54):F==99?(J.push(lo(true,T,8)),F=72):F==65&&(x=I(14,T),p=U(3,7,T),J=[],b=0,F=93)},W,(K(225,(m(W,(K(209,(a(function(T,J,p,x,b){m(T,(x=z(T,(p=v((b=(J=U(15,T),U)(27,T),J),T),b)),b),x+p)},W,313,(a(function(T,J,p,x,b){J=io((b=I(14,T),x=I(38,T),p=v(b,T),\"splice\"),p,\"null\"),K(x,J,T)},W,431,16),13)),[154,0,0]),W),491),[]),[]),W),V(44,W,r),(new f$(\"Submit\")).dispose(),160),19),[]),W),13)),[0,0,0])),425),13),92),13),function(T,J){C$(94,225,(J=n(U(25,T),T),J),0,T.F,104)}),W,63,19),277),15),aL(4)),W),0)),141),16),17)),18)),W),486,580),W.YY=0,17)),W),aL(4)),W).Xy=0,W),439,15),19)),W.UZ=0,W)),W),414,18),true)a(function(T,J,p){(p=(J=U(43,T),v)(J,T.F),p)[0].removeEventListener(p[1],p[2],P5)},W,372,13);mH(44,false,true,!(Q(28,(Q((Q(68,0,[sx],W),20),0,[dP,e],W),0),[PU,u],W),0),W)},oD=function(){return xS.call(this,8192,16)},K$=function(w,Z,S,B,e,u,W,l,E,D){B=(l=S.replace(/\\\\r\\\\n/g,Z),W=0);{e=[];while(W<l.length)u=l.charCodeAt(W),u<128?e[B++]=u:(u<2048?e[B++]=u>>w|192:(64512-(~u^64512)-2*(~u&64512)+(~u|64512)==55296&&W+1<l.length&&(l.charCodeAt(W+1)&64512)==56320?(u=(D=(u|0)+~u-~(u|1023)-(u^1023)<<10,2*(65536&D)-1-(-65537^D))+(l.charCodeAt(++W)&1023),e[B++]=u>>18|240,e[B++]=(E=u>>12&63,-~(E&128)-1+(E^128))):e[B++]=u>>12|224,e[B++]=u>>w&63|128),e[B++]=(u|0)+63- -1+~(u|63)|128),W++}return e},Bw=function(w){return hS.call(this,w,8)},C$=function(w,Z,S,B,e,u){e.u4.length>u?N9([HU,36],e,B,Z):(e.u4.push(e.T.slice()),e.T[w]=void 0,V(w,e,S))},Z2=function(w,Z,S,B,e,u,W,l,E,D,T,J){{J=31;while(J!=44)if(J==73)J=!Cu(3,W,Z,\"object\",E)||h(30,\"object\",E)&&E.nodeType>0?33:10;else if(J==24)D++,J=49;else if(J==10){a:{if(E&&typeof E.length==W){if(h(31,\"object\",E)){l=typeof E.item==\"function\"||typeof E.item==w;break a}if(typeof E===\"function\"){l=typeof E.item==\"function\";break a}}l=false}Ne(80,32,B,0,T,l?aD(0,24,E):E),J=24}else J==49?J=D<S.length?86:44:J==4?J=49:J==31?(T=function(p){p&&e.appendChild(typeof p===\"string\"?u.createTextNode(p):p)},D=1,J=4):J==33?(T(E),J=24):J==86&&(E=S[D],J=73)}},Su=function(w,Z,S,B,e,u,W,l,E,D,T,J){for(D=(J=B,92);;)try{if(J==60)break;else if(J==52)r.console[W](T.message),J=65;else if(J==Z)J=r.console?52:65;else if(J==w)J=E&&E.createPolicy?93:15;else if(J==93)D=57,l=E.createPolicy(u,{createHTML:sb,createScript:sb,createScriptURL:sb}),J=65;else{if(J==15)return l;if(J==S)D=92,J=Z;else if(J==B)E=r.trustedTypes,l=e,J=w;else if(J==65)return D=92,l}}catch(p){if(D==92)throw p;D==57&&(T=p,J=S)}},Zj=ln(2,\"object\",0,17,\"Math\",this),r=(uo(9,\".\",null,1,0,\"Symbol\",function(w,Z,S,B,e,u){for(u=68;u!=97;){if(u==66)return w;if(u==68)B=function(W,l){BU(this,\"description\",(this.oH=W,{configurable:true,writable:true,value:l}))},e=function(W,l){for(l=39;l!=62;){if(l==46)return new B(S+(W||\"\")+\"_\"+Z++,W);if(l==39)l=this instanceof e?86:46;else if(l==86)throw new TypeError(\"Symbol is not a constructor\");}},u=48;else{if(u==8)return B.prototype.toString=function(){return this.oH},S=\"jscomp_symbol_\"+(Math.random()*1E9>>>0)+\"_\",Z=0,e;u==48&&(u=w?66:8)}}}),this||self),F8=\"closure_uid_\"+(Math.random()*1E9>>>0),bo=0,gh,Jx=function(w,Z,S,B,e,u){u=67;{B=42;while(\"P\")try{if(u==95)break;else if(u==3)B=74,w=function(){},r.addEventListener(\"test\",w,Z),r.removeEventListener(\"test\",w,Z),u=75;else{if(u==1)return false;if(u==75)return B=42,S;u==76?(S=false,Z=Object.defineProperty({},\"passive\",{get:function(){S=true}}),u=3):u==31?(B=42,u=75):u==67&&(u=r.addEventListener&&Object.defineProperty?76:1)}}catch(W){if(B==42)throw W;B==74&&(e=W,u=31)}}}();(wh.prototype.N=false,wh).prototype.dispose=function(w){for(w=55;w!=9;)w==55?w=this.N?9:77:w==77&&(this.N=true,this.K(),w=9)};while(true)if(wh.prototype[Symbol.dispose]=function(){this.dispose()},{})break;var W5=\"closure_listenable_\"+(((y(pu,14,2,(VR.prototype.preventDefault=(wh.prototype.K=(VR.prototype.stopPropagation=function(){this.l4=true},function(w){{w=67;while(w!=30)w==68?w=this.fv.length?15:30:w==21?w=68:w==15?(this.fv.shift()(),w=21):w==83?w=68:w==67&&(w=this.fv?83:30)}}),function(){this.defaultPrevented=true}),VR)),pu.prototype.init=function(w,Z,S,B,e,u){{u=97;while(u!=34)u==97?(S=this.type=w.type,e=w.changedTouches&&w.changedTouches.length?w.changedTouches[0]:null,this.target=w.target||w.srcElement,this.currentTarget=Z,B=w.relatedTarget,u=58):u==5?(this.offsetX=w.offsetX,this.offsetY=w.offsetY,this.clientX=w.clientX!==void 0?w.clientX:w.pageX,this.clientY=w.clientY!==void 0?w.clientY:w.pageY,this.screenX=w.screenX||0,this.screenY=w.screenY||0,u=39):u==57?u=e?25:5:u==94?u=S==\"mouseover\"?1:32:u==81?(B=w.toElement,u=50):u==39?(this.button=w.button,this.keyCode=w.keyCode||0,this.key=w.key||\"\",this.charCode=w.charCode||(S==\"keypress\"?w.keyCode:0),this.ctrlKey=w.ctrlKey,this.altKey=w.altKey,this.shiftKey=w.shiftKey,this.metaKey=w.metaKey,this.pointerId=w.pointerId||0,this.pointerType=w.pointerType,this.state=w.state,this.timeStamp=w.timeStamp,this.I=w,w.defaultPrevented&&pu.h.preventDefault.call(this),u=34):u==1?(B=w.fromElement,u=50):u==58?u=B?50:94:u==25?(this.clientX=e.clientX!==void 0?e.clientX:e.pageX,this.clientY=e.clientY!==void 0?e.clientY:e.pageY,this.screenX=e.screenX||0,this.screenY=e.screenY||0,u=39):u==32?u=S==\"mouseout\"?81:50:u==50&&(this.relatedTarget=B,u=57)}},pu.prototype.stopPropagation=function(){(pu.h.stopPropagation.call(this),this.I).stopPropagation?this.I.stopPropagation():this.I.cancelBubble=true},pu).prototype.preventDefault=function(w){(w=(pu.h.preventDefault.call(this),this.I),w).preventDefault?w.preventDefault():w.returnValue=false},Math.random())*1E6|0),oL=\"constructor hasOwnProperty isPrototypeOf propertyIsEnumerable toLocaleString toString valueOf\".split(\" \"),yR=0,Sv=\"closure_lm_\"+(((TF.prototype.hasListener=function(w,Z,S,B,e){return Ne(80,(B=Z!==void 0,e=(S=w!==void 0)?w.toString():\"\",9),true,false,function(u,W,l){for(l=55;l!=1;)if(l==41)++W,l=20;else{if(l==9)return false;if(l==55)W=0,l=92;else{if(l==48)return true;l==92?l=20:l==39?l=S&&u[W].type!=e||B&&u[W].capture!=Z?41:48:l==20&&(l=W<u.length?39:9)}}},this.l)},TF).prototype.add=(TF.prototype.remove=function(w,Z,S,B,e,u,W,l){{l=88;while(l!=54)if(l==83)W=this.l[u],e=Me(54,B,0,S,6,W,Z),l=39;else if(l==39)l=e>-1?78:89;else if(l==24)l=W.length==0?92:9;else if(l==78)y(W[e],28,true),Array.prototype.splice.call(W,e,1),l=24;else{if(l==46)return false;if(l==9)return true;if(l==92)delete this.l[u],this.b4--,l=9;else{if(l==89)return false;l==88?(u=w.toString(),l=40):l==40&&(l=u in this.l?83:46)}}}},TF.prototype.Ad=function(w,Z,S,B,e,u){return((u=this.l[e=-1,w.toString()],u)&&(e=Me(54,S,0,Z,3,u,B)),e)>-1?u[e]:null},function(w,Z,S,B,e,u,W,l,E,D){{D=55;while(D!=15)if(D==43)W=this.l[l]=[],this.b4++,D=57;else{if(D==8)return u;D==57?(E=Me(54,e,0,B,5,W,Z),D=37):D==46?D=S?8:64:D==70?(u=new $f(Z,l,this.src,!!B,e),u.Bz=S,W.push(u),D=8):D==55?(l=w.toString(),W=this.l[l],D=9):D==9?D=W?57:43:D==37?D=E>-1?39:70:D==39?(u=W[E],D=46):D==64&&(u.Bz=false,D=8)}}}),Math).random()*1E6|0),ev=0,Ku={},c5=\"__closure_events_fn_\"+(Math.random()*1E9>>>0);(((P=((y(oD,15,2,wh),oD.prototype)[W5]=true,oD.prototype),P.jh=function(w){this.Lv=w},P).addEventListener=function(w,Z,S,B){Eb(63,30,true,false,S,this,B,Z,w)},P.removeEventListener=function(w,Z,S,B){aD(0,6,\"object\",this,w,B,Z,S)},P).dispatchEvent=function(w,Z,S,B,e,u,W,l,E,D,T,J){{J=42;while(J!=85)if(J==46)D=u.length-1,J=32;else if(J==68)T=l.currentTarget=u[D],E=hS(true,26,W,T,true,l)&&E,J=17;else if(J==42)Z=this.Lv,J=40;else if(J==65)J=Z?75:4;else{if(J==88)return E;J==25?(l.target=l.target||S,J=53):J==75?(e.push(Z),J=37):J==4?(S=this.OZ,l=w,W=l.type||l,u=e,J=84):J==37?(Z=Z.Lv,J=65):J==63?J=l instanceof VR?25:67:J==69?(D++,J=99):J==84?J=typeof l===\"string\"?18:63:J==76?J=l.l4?86:96:J==53?(E=true,J=21):J==21?J=u?46:76:J==96?(T=l.currentTarget=S,E=hS(true,24,W,T,true,l)&&E,l.l4||(E=hS(true,25,W,T,false,l)&&E),J=86):J==17?(D--,J=93):J==86?J=u?79:88:J==67?(B=l,l=new VR(W,S),gP(l,B),J=53):J==18?(l=new VR(l,S),J=53):J==91?J=99:J==40?J=Z?98:4:J==98?(e=[],J=72):J==93?J=!l.l4&&D>=0?68:76:J==89?(T=l.currentTarget=u[D],E=hS(true,27,W,T,false,l)&&E,J=69):J==79?(D=0,J=91):J==99?J=!l.l4&&D<u.length?89:88:J==72?J=65:J==32&&(J=93)}}},P).Ad=function(w,Z,S,B){return this.o.Ad(String(w),Z,S,B)},P.K=function(){(oD.h.K.call(this),this.o)&&zF(44,this.o,8,0,true),this.Lv=null},P.hasListener=function(w,Z){return this.o.hasListener(w!==void 0?String(w):void 0,Z)};var rh;((((((y(Ox,46,((Q(14,(((((\"ARTICLE SECTION NAV ASIDE H1 H2 H3 H4 H5 H6 HEADER FOOTER ADDRESS P HR PRE BLOCKQUOTE OL UL LH LI DL DT DD FIGURE FIGCAPTION MAIN DIV EM STRONG SMALL S CITE Q DFN ABBR RUBY RB RT RTC RP DATA TIME CODE VAR SAMP KBD SUB SUP I B U MARK BDI BDO SPAN BR WBR NOBR INS DEL PICTURE PARAM TRACK MAP TABLE CAPTION COLGROUP COL TBODY THEAD TFOOT TR TD TH SELECT DATALIST OPTGROUP OPTION OUTPUT PROGRESS METER FIELDSET LEGEND DETAILS SUMMARY MENU DIALOG SLOT CANVAS FONT CENTER ACRONYM BASEFONT BIG DIR HGROUP STRIKE TT\".split(\" \").concat([\"BUTTON\",\"INPUT\"]),P=Ux.prototype,P.V=function(w,Z){return(Z=this.Kv,typeof w===\"string\")?Z.getElementById(w):w},P).getElementsByTagName=function(w,Z){return(Z||this.Kv).getElementsByTagName(String(w))},P.createElement=function(w,Z,S){return((Z=String(w),S=this.Kv,S).contentType===\"application/xhtml+xml\"&&(Z=Z.toLowerCase()),S).createElement(Z)},P).createTextNode=function(w){return this.Kv.createTextNode(String(w))},P.appendChild=function(w,Z){w.appendChild(Z)},P.append=function(w,Z){Z2(\"string\",\"array\",arguments,\"\",w,w.nodeType==9?w:w.ownerDocument||w.document,\"number\")},P.canHaveChildren=function(w,Z){{Z=55;while(Z!=44){if(Z==69){switch(w.tagName){case \"APPLET\":case \"AREA\":case \"BASE\":case \"BR\":case \"COL\":case \"COMMAND\":case \"EMBED\":case \"FRAME\":case \"HR\":case \"IMG\":case \"INPUT\":case \"IFRAME\":case \"ISINDEX\":case \"KEYGEN\":case \"LINK\":case \"NOFRAMES\":case \"NOSCRIPT\":case \"META\":case \"OBJECT\":case \"PARAM\":case \"SCRIPT\":case \"SOURCE\":case \"STYLE\":case \"TRACK\":case \"WBR\":return false}return true}if(Z==23)return false;Z==55&&(Z=w.nodeType!=1?23:69)}}},P).removeNode=Bw,P).contains=function(w,Z,S,B){{B=61;while(B!=11)if(B==63)B=w.contains&&Z.nodeType==1?96:33;else if(B==61)B=w&&Z?63:94;else{if(B==96)return w==Z||w.contains(Z);if(B==73)Z=Z.parentNode,B=87;else if(B==8)B=Z&&w!=Z?73:39;else{if(B==39)return Z==w;if(B==0)B=8;else if(B==33)B=typeof w.compareDocumentPosition!=\"undefined\"?90:0;else{if(B==90)return w==Z||!!(S=w.compareDocumentPosition(Z),2*(S|16)- -2+~(S|16)+(~S^16));if(B==87)B=8;else if(B==94)return false}}}}},Ax)),Ax).prototype.pw=\"\",Ax.prototype.Lw=0,2),oD),P=Ox.prototype,P).cL=Ax.OT(),P).V=function(){return this.u},P).getParent=function(){return this.wr},P).jh=function(w,Z){for(Z=52;Z!=6;)if(Z==52)Z=this.wr&&this.wr!=w?32:73;else if(Z==73)Ox.h.jh.call(this,w),Z=6;else if(Z==32)throw Error(\"Method not supported\");},P.K=function(w){for(w=49;w!=98;)w==16?(uo(48,function(Z){Z.dispose()},this),!this.WL&&this.u&&Bw(this.u),this.eh=this.u=this.wr=this.Sh=null,Ox.h.K.call(this),w=98):w==49?(this.zy&&this.td(),w=54):w==18?(this.Ty.dispose(),delete this.Ty,w=16):w==54&&(w=this.Ty?18:16)},P).td=function(){this.zy=(uo(51,function(w){w.zy&&w.td()},this),this.Ty&&zF(44,this.Ty,7,0,true),false)},P).removeChild=function(w,Z,S,B,e,u,W,l,E,D,T,J,p){{p=91;while(p!=46)if(p==63)l=T,p=62;else if(p==58)w=D,p=18;else if(p==18)p=l&&w?7:72;else if(p==96)p=(u=w.Fy)?92:61;else if(p==89)p=typeof w===\"string\"?20:96;else if(p==51)W=this.Sh,D=(W!==null&&l in W?W[l]:void 0)||null,p=58;else if(p==7)E=this.Sh,l in E&&delete E[l],XK(58,this.eh,w,1,12),p=84;else if(p==20)T=w,p=63;else if(p==41)D=null,p=58;else{if(p==48)return w;if(p==70)throw Error(\"Child is not in parent component\");if(p==62)p=this.Sh&&l?51:41;else if(p==61)J=w.cL,e=w,S=J.pw+\":\"+(J.Lw++).toString(36),u=e.Fy=S,p=92;else if(p==72)p=w?48:70;else if(p==80)w.td(),w.u&&Bw(w.u),p=52;else if(p==92)T=u,p=63;else if(p==91)p=w?89:72;else{if(p==12)throw Error(\"Unable to set parent component\");p==64?p=B==null?12:40:p==52?(B=w,p=64):p==40?(B.wr=null,Ox.h.jh.call(B,null),p=72):p==84&&(p=Z?80:52)}}}};var uK,Ww={button:(Q(13,M9),\"pressed\"),checkbox:\"checked\",menuitem:\"selected\",menuitemcheckbox:\"checked\",menuitemradio:\"checked\",radio:\"checked\",tab:\"selected\",treeitem:\"selected\"},tS=(Q(15,(y(QU,(((P=M9.prototype,P).Cv=function(w,Z,S,B){(B=Z.V?Z.V():Z)&&(S?tx:VU)(B,[w])},P.vz=function(w,Z,S,B,e,u,W,l){uK||(uK={1:\"disabled\",8:\"selected\",16:\"checked\",64:\"expanded\"});while(\"M\")if(l=uK[Z],true)break;(e=((B=w.getAttribute(\"role\")||null)?(u=Ww[B]||l,W=l==\"checked\"||l==\"selected\"?u:l):W=l,W))&&qe(3,\"busy\",false,e,S,w)},P.tN=function(){return\"goog-control\"},P.Wz=function(w){return w.V()},P).gr=function(w,Z,S,B,e,u,W,l,E){for(W=(l=73,22);;)try{if(l==21)break;else l==25?(B.tabIndex=0,l=21):l==8?l=Z?25:41:l==38?(w.Nd&4&&y(w,5,4)&&w.setActive(false),w.Nd&32&&y(w,69,32)&&qe(45,0,false,w,32)&&w.v(32,false),l=70):l==68?(u=e.tabIndex,S=typeof u===\"number\"&&u>=0&&u<32768,l=49):l==73?l=y(w,6,32)&&(e=w.Wz())?93:21:l==84?(W=9,e.blur(),l=59):l==70?l=(S=e.hasAttribute(\"tabindex\"))?68:49:l==59?(W=22,l=10):l==31?(W=22,l=59):l==6?(B=e,l=8):l==10?l=w.S&32?38:70:l==49?l=S!=Z?6:21:l==41?(B.tabIndex=-1,B.removeAttribute(\"tabIndex\"),l=21):l==93&&(l=!Z&&w.S&32?84:70)}catch(D){if(W==22)throw D;W==9&&(E=D,l=31)}},P.v=function(w,Z,S,B,e,u,W){for(W=34;W!=64;)W==34?(B=w.V(),W=65):W==18?W=this.IO?61:62:W==61?((e=this.IO[Z])&&this.Cv(e,w,S),this.vz(B,Z,S),W=64):W==65?W=B?18:64:W==62&&(u=this.tN(),u.replace(/\\\\xa0|\\\\s/g,\" \"),this.IO={1:u+\"-disabled\",2:u+\"-hover\",4:u+\"-active\",8:u+\"-selected\",16:u+\"-checked\",32:u+\"-focused\",64:u+\"-open\"},W=61)},17),2,M9),QU)),{});if(((((((((((((P=(y(H5,49,2,(QU.prototype.tN=function(){return\"goog-button\"},QU.prototype.vz=function(w,Z,S){switch(Z){case 8:case 16:qe(6,\"busy\",false,\"pressed\",S,w);break;default:case 64:case 1:QU.h.vz.call(this,w,Z,S)}},Ox)),H5.prototype),P).S=0,P).Nd=255,P).K=function(w){{w=46;while(w!=45)w==1?w=this.cz?77:17:w==46?(H5.h.K.call(this),w=1):w==17?(delete this.D,this.C=null,w=45):w==77&&(this.cz.dispose(),delete this.cz,w=17)}},P).Cv=function(w,Z,S){for(S=48;S!=51;)S==19?(this.D.Cv(Z,this,false),S=51):S==31?S=this.C.length==0?64:19:S==28?S=Z?2:51:S==40?S=Z&&this.C&&XK(58,this.C,Z,1,5)?31:51:S==64?(this.C=null,S=19):S==2?(this.C?Cu(38,1,Z,this.C)>=0||this.C.push(Z):this.C=[Z],this.D.Cv(Z,this,true),S=51):S==48&&(S=w?28:40)},P.td=function(){((H5.h.td.call(this),this.cz)&&this.cz.detach(),this).isVisible()&&this.isEnabled()&&this.D.gr(this,false)},P).Wz=function(){return this.D.Wz(this)},P).vL=39,P).sZ=0,P.dS=true,P.C=null,P.isVisible=function(){return this.dS},P).isEnabled=function(){return!(this.S&1)},P).isActive=function(){return!!(this.S&4)},P).setActive=function(w){qe(41,0,w,this,4)&&this.v(4,w)},P).getState=function(){return this.S},P.v=function(w,Z,S,B,e,u,W){for(W=58;W!=76;)W==51?W=y(this,21,w)&&Z!=!!(this.S&w)?32:76:W==32?(this.D.v(this,w,Z),this.S=Z?(u=this.S,(u|0)-(~u^w)+(~u|w)):this.S&~w,W=76):W==13?(this.isVisible()&&this.D.gr(this,e),this.v(1,!e,true),W=76):W==26?(this.setActive(false),qe(42,0,false,this,2)&&this.v(2,false),W=13):W==80?(e=!Z,B=this.getParent(),W=47):W==45?W=e?13:26:W==47?W=B&&typeof B.isEnabled==\"function\"&&!B.isEnabled()||!qe(43,0,!e,this,1)?76:45:W==58&&(W=S||w!=1?51:80)},typeof H5)!==\"function\")throw Error(\"Invalid component class \"+H5);if(typeof M9!==\"function\")throw Error(\"Invalid renderer class \"+M9);var lK=Ty(9,16,H5),P5={passive:!(mH(30,\"goog-button\",((y(f$,78,2,(((Q(40,((mH(14,(tS[lK]=M9,\"goog-control\"),function(){return new H5(null)}),y)(AS,47,2,QU),AS)),AS).prototype.vz=function(){},AS.prototype.gr=function(){},AS).prototype.v=function(w,Z,S,B,e){{e=64;while(e!=38)e==44?e=B&&Z==1?50:38:e==50?(B.disabled=S,e=38):e==64&&(AS.h.v.call(this,w,Z,S),B=w.V(),e=44)}},H5)),f$.prototype).K=function(){delete (f$.h.K.call(this),this).IH,delete this.Mi},function(){return new f$(null)})),0),capture:true},YS=r.requestIdleCallback?function(w){requestIdleCallback(function(){w()},{timeout:4})}:r.setImmediate?function(w){setImmediate(w)}:function(w){setTimeout(w,0)},Sk,RL=String.fromCharCode(105,110,116,101,103,67,104,101,99,107,66,121,112,97,115,115),Gy=[],Dj=[],dP=(O.prototype.Ga=void 0,O.prototype.nw=false,[]),sx=(O.prototype.Hz=\"toString\",[]),PU=[],dh=[],ek=(O.prototype.PL=void 0,[]),xf=[],HU={},v5=((IL,aL,kf,rP,Yf,function(){})(jk),HU.constructor);if(P=(O.prototype.W=\"create\",O.prototype),P.e2=function(){return RD.call(this,6,8,30)},P.Z=(window.performance||{}).now?function(){return this.fw+window.performance.now()}:function(){return+new Date},2)P.us=0;var WU=(P.YU=function(w,Z,S,B,e,u){return p$.call(this,3,Z,w,S,B,e,u)},P.j2=(P.AN=function(w,Z,S,B,e,u,W){return Eb.call(this,63,3,w,Z,S,B,e,u,W)},function(w,Z,S,B,e,u,W,l,E,D,T){return ID.call(this,3,w,Z,S,B,e,u,W,l,E,D,T)}),(P.QS=function(w,Z,S,B,e,u,W){return bn.call(this,14,25,w,Z,S,B,e,u,W)},P).gS=function(){return uo.call(this,12)},void 0);((P=O.prototype,P).U=function(w,Z){return Z={},w={},WU=function(){return w==Z?-86:-147},function(S,B,e,u,W,l,E,D,T,J,p,x,b,F,C,X,A,N,g,d,L,ZP,c,k,Ex,q,f,B5,un,FK,t,R,JA,mU,Lu,iK,H,G,n$,JS){for(JA=!(JS=(H=90,G=96,undefined),1);;)try{if(H==35)break;else if(H==74)p=S[2],d=Y((z(this,209).length|0)+2,2),l=this.F,this.F=this,H=29;else if(H==66)u=E[b][this.Hz](16),u.length==1&&(u=\"0\"+u),D+=u,H=16;else if(H==58){if(B5=(W=n(337,this),typeof Symbol!=\"undefined\"&&Symbol.iterator&&W[Symbol.iterator]))g=B5.call(W);else if(typeof W.length==\"number\")g={next:Eb(63,49,0,W)};else throw Error(String(W)+\" is not an iterable or ArrayLike\");H=(J=(F=g,F.next()),14)}else if(H==5)H=k.length>4?62:77;else if(H==76)e[Ex++]=q,H=37;else if(H==59)H=t==xf?74:28;else if(H==47)G=44,t=S[0],H=27;else if(H==27)H=t==dP?55:23;else if(H==71)H=b<E.length?66:18;else if(H==38)W.length=0,H=68;else if(H==40)H=36;else if(H==39)G=44,N9(mU,this,17,225),JS=35,H=68;else if(H==93)H=71;else{if(H==44)return Lu;if(H==0)H=t==dh?12:34;else if(H==68)G=96,w=f,H=81;else if(H==97)yU(269,S[1],0,this,S[2]),H=68;else if(H==79)G=44,H=85;else if(H==21)S[1].push(n(66,this).length,n(169,this).length,z(this,400)[0],z(this,491).length,n(209,this).length,n(438,this).length,n(463,this).length,v(225,this).length),K(303,S[2],this),this.T[291]&&yU(269,n(291,this),0,this,8001),H=68;else if(H==88)q9(Y(k.length,2).concat(k),66,this,209,166),H=77;else if(H==4)D=\"*\"+D,H=18;else if(H==31)b=0,D=\"\",H=93;else if(H==83)this.FO=e,this.g=this.FO.length<<3,m(this,13,[0,0,0]),H=33;else if(H==37)N++,H=36;else if(H==51)q=x.charCodeAt(N),H=63;else if(H==62)H=k.length>1E6?60:88;else if(H==64)ZP=J.value,H=43;else{if(H==11)return Lu;if(H==60)k=k.slice(0,1E6),q9([],66,this,209,197),M([],this,209,36),H=88;else if(H==29)G=34,R=v(84,this),R.length>0&&M(Y(R.length,2).concat(R),this,209,48),M(Y(this.R+1>>1,1),this,209,87),M(Y(this[xf].length,1),this,209),c=this.Pz?z(this,463):z(this,225),c.length>0&&M(Y(c.length,2).concat(c),this,169,64),FK=z(this,169),FK.length>4&&M(Y(FK.length,2).concat(FK),this,209,65),un=0,un-=(A=z(this,209).length,-3-2*~A-2*(A&-6)-(~A^5)),k=v(438,this),un+=n(271,this)&2047,k.length>4&&(un-=(k.length|0)+3),un>0&&q9(Y(un,2).concat(aL(un)),66,this,209,53),H=5;else if(H==65)G=99,x=atob(L),N=Ex=0,e=[],H=40;else if(H==34)H=t==Gy?58:68;else if(H==36)H=N<x.length?51:83;else if(H==90)f=w,w=Z,H=47;else if(H==12)Lu=yU(269,S[1],0,this,8001),JS=44,H=68;else if(H==85)J=F.next(),H=32;else if(H==48)G=44,E=aL(2).concat(v(209,this)),E[1]=(B=E[0],2*~(B&60)-~B- -61),E[3]=(C=E[1],X=d[0],-2*(X|0)+(C|X)+(C&X)+2*(~C&X)),E[4]=E[1]^d[1],D=this.S2(E),H=92;else if(H==3)H=JS!==undefined?68:48;else if(H==32)H=J.done?38:64;else if(H==16)b++,H=71;else if(H==77)G=44,this.F=l,H=3;else if(H==14)H=32;else if(H==92)H=D?4:31;else if(H==18)T=D,n(66,this).length=p.shift(),n(169,this).length=p.shift(),z(this,400)[0]=p.shift(),z(this,491).length=p.shift(),n(209,this).length=p.shift(),v(438,this).length=p.shift(),v(463,this).length=p.shift(),n(225,this).length=p.shift(),Lu=T,JS=11,H=68;else if(H==28)H=t==ek?97:0;else if(H==81)JS!==undefined?(H=JS,JS=undefined):H=35;else if(H==43)G=28,ZP(),H=85;else if(H==55)L=S[1],H=65;else if(H==45)e[Ex++]=(q|0)+255-(q|255),q>>=8,H=76;else if(H==63)H=q>255?45:76;else if(H==33)G=44,X8(486,8001,this,269),H=68;else if(H==23)H=t==Dj?21:59;else if(H==10)throw n$;}}}catch(wP){if((n$=wP,G)==96)throw wP;G==28?(iK=wP,H=79):G==44?(JS=10,H=68):G==99?(mU=wP,H=39):G==34&&(JS=10,H=77)}}}(),P).za=0;var L$,wk=(P.XO=(O.prototype[PU]=[0,0,1,1,0,1,1],P.Ni=((P.BL=function(){return bn.call(this,14,9)},P).S2=function(w,Z,S,B,e){return xS.call(this,8192,41,w,Z,S,B,e)},0),function(){return Eb.call(this,63,10)}),/./),eu=dP.pop.bind(O.prototype[Dj]);wk[O.prototype.Hz]=eu;while(15)if(L$=Q(32,{get:eu},O.prototype.W),\"O\")break;var TM=(O.prototype.Df=void 0,function(w,Z){return(Z=Su(37,62,28,66,null,\"ks\",\"error\"))&&w.eval(Z.createScript(\"1\"))===1?function(S){return Z.createScript(S)}:function(S){return\"\"+S}})(r);if(true)Sk=r.knitsail||(r.knitsail={});(Sk.m>40||(Sk.m=41,Sk.ks=Ub,Sk.a=kS),Sk).Vff_=function(w,Z,S,B,e,u,W,l){return[function(E){return zF(44,l,32,false,E)},(l=new O(Z,W,e,u,B,w),function(E){l.XO(E)})]};}).call(this);'].join('\\n')));}).call(this);</script><script nonce=\"uK8SaoAvuuV_5OEE5R_UHA\">(function(){var r='1';var ce=30;var nsiws=true;var p='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\\x3d\\x3d';var g='knitsail';var eid='7oglaJ2EC8zn1e8PrtLbwQE';var ss_cgi=false;var sp='';var hashed_query='';var cbs='';var ussv='';(function(){var t=function(a){var b=0;return function(){return b<a.length?{done:!1,value:a[b++]}:{done:!0}}},w=typeof Object.defineProperties==\"function\"?Object.defineProperty:function(a,b,h){if(a==Array.prototype||a==Object.prototype)return a;a[b]=h.value;return a},x=function(a){a=[\"object\"==typeof globalThis&&globalThis,a,\"object\"==typeof window&&window,\"object\"==typeof self&&self,\"object\"==typeof global&&global];for(var b=0;b<a.length;++b){var h=a[b];if(h&&h.Math==Math)return h}throw Error(\"a\");},y=x(this),A=function(a,b){if(b)a:{var h=y;a=a.split(\".\");for(var l=0;l<a.length-1;l++){var f=a[l];if(!(f in h))break a;h=h[f]}a=a[a.length-1];l=h[a];b=b(l);b!=l&&b!=null&&w(h,a,{configurable:!0,writable:!0,value:b})}},C=function(a){var b=typeof Symbol!=\"undefined\"&&Symbol.iterator&&a[Symbol.iterator];if(b)return b.call(a);if(typeof a.length==\"number\")return{next:t(a)};throw Error(\"b`\"+String(a));};A(\"Promise\",function(a){function b(){this.i=null}function h(c){return c instanceof f?c:new f(function(d){d(c)})}if(a)return a;b.prototype.j=function(c){if(this.i==null){this.i=[];var d=this;this.l(function(){d.v()})}this.i.push(c)};var l=y.setTimeout;b.prototype.l=function(c){l(c,0)};b.prototype.v=function(){for(;this.i&&this.i.length;){var c=this.i;this.i=[];for(var d=0;d<c.length;++d){var e=c[d];c[d]=null;try{e()}catch(k){this.s(k)}}}this.i=null};b.prototype.s=function(c){this.l(function(){throw c;})};var f=function(c){this.j=0;this.l=void 0;this.i=[];this.C=!1;var d=this.s();try{c(d.resolve,d.reject)}catch(e){d.reject(e)}};f.prototype.s=function(){function c(k){return function(m){e||(e=!0,k.call(d,m))}}var d=this,e=!1;return{resolve:c(this.I),reject:c(this.v)}};f.prototype.I=function(c){if(c===this)this.v(new TypeError(\"A Promise cannot resolve to itself\"));else if(c instanceof f)this.K(c);else{a:switch(typeof c){case \"object\":var d=c!=null;break a;case \"function\":d=!0;break a;default:d=!1}d?this.H(c):this.B(c)}};f.prototype.H=function(c){var d=void 0;try{d=c.then}catch(e){this.v(e);return}typeof d==\"function\"?this.L(d,c):this.B(c)};f.prototype.v=function(c){this.D(2,c)};f.prototype.B=function(c){this.D(1,c)};f.prototype.D=function(c,d){if(this.j!=0)throw Error(\"c`\"+c+\"`\"+d+\"`\"+this.j);this.j=c;this.l=d;this.j===2&&this.J();this.F()};f.prototype.J=function(){var c=this;l(function(){if(c.G()){var d=y.console;typeof d!==\"undefined\"&&d.error(c.l)}},1)};f.prototype.G=function(){if(this.C)return!1;var c=y.CustomEvent,d=y.Event,e=y.dispatchEvent;if(typeof e===\"undefined\")return!0;typeof c===\"function\"?c=new c(\"unhandledrejection\",{cancelable:!0}):typeof d===\"function\"?c=new d(\"unhandledrejection\",{cancelable:!0}):(c=y.document.createEvent(\"CustomEvent\"),c.initCustomEvent(\"unhandledrejection\",!1,!0,c));c.promise=this;c.reason=this.l;return e(c)};f.prototype.F=function(){if(this.i!=null){for(var c=0;c<this.i.length;++c)u.j(this.i[c]);this.i=null}};var u=new b;f.prototype.K=function(c){var d=this.s();c.A(d.resolve,d.reject)};f.prototype.L=function(c,d){var e=this.s();try{c.call(d,e.resolve,e.reject)}catch(k){e.reject(k)}};f.prototype.then=function(c,d){function e(n,q){return typeof n==\"function\"?function(z){try{k(n(z))}catch(B){m(B)}}:q}var k,m,v=new f(function(n,q){k=n;m=q});this.A(e(c,k),e(d,m));return v};f.prototype.catch=function(c){return this.then(void 0,c)};f.prototype.A=function(c,d){function e(){switch(k.j){case 1:c(k.l);break;case 2:d(k.l);break;default:throw Error(\"d`\"+k.j);}}var k=\n",
              "this;this.i==null?u.j(e):this.i.push(e);this.C=!0};f.resolve=h;f.reject=function(c){return new f(function(d,e){e(c)})};f.race=function(c){return new f(function(d,e){for(var k=C(c),m=k.next();!m.done;m=k.next())h(m.value).A(d,e)})};f.all=function(c){var d=C(c),e=d.next();return e.done?h([]):new f(function(k,m){function v(z){return function(B){n[z]=B;q--;q==0&&k(n)}}var n=[],q=0;do n.push(void 0),q++,h(e.value).A(v(n.length-1),m),e=d.next();while(!e.done)})};return f});\n",
              "var D=this||self;var E=function(){var a=location.href;this.i=this.j=\"\";var b=a.indexOf(\"#\");b>0&&(this.j=a.substring(b),a=a.substring(0,b));b=a.indexOf(\"?\");b>0&&(this.i=\"&\"+a.substring(b+1),a=a.substring(0,b));this.l=a},G=function(a,b,h){F(a,b);a.i=a.i+\"&\"+b+\"=\"+h},F=function(a,b){a.i=a.i.replace(new RegExp(\"&\"+b+\"=([^&]+)\",\"g\"),\"\")};E.prototype.toString=function(){return\"\"+this.l+(this.i?\"?\"+this.i.substring(1):\"\")+this.j};var H=D.JSON.parse,I=D.JSON.stringify;function J(a,b,h,l,f,u){f=f===void 0?\"m\":f;u=u===void 0?!0:u;var c=!1;try{if(f!=\"x\"){var d=a==\"s\"?window.sessionStorage:window.localStorage,e=d.getItem(\"_c;;i\");if(e){var k=e.indexOf(\"_\");var m=k<0?null:H(e.substr(k+1))}else m=null;e=m||0;var v=\"p:*|l:9007199254740991_\"+I(e+1);d.setItem(\"_c;;i\",v);var n=e;v=b;e=h;m=f;k=n;var q=I(l);d.setItem(v+\";;\"+e,\"p:\"+m+\"|l:\"+(k+\"_\")+q);c=!0}}catch(z){}u&&(D.mPPkxd||(D.mPPkxd=[]),D.mPPkxd.push([c,arguments,n]))};\n",
              "var K=function(a){this.i=a};K.prototype.toString=function(){return this.i};var L=function(a){this.M=a};function M(a){return new L(function(b){return b.substr(0,a.length+1).toLowerCase()===a+\":\"})}var N=[M(\"data\"),M(\"http\"),M(\"https\"),M(\"mailto\"),M(\"ftp\"),new L(function(a){return/^[^:]*([/?#]|$)/.test(a)})],O=/^\\s*(?!javascript:)(?:[\\w+.-]+:|[^:/?#]*(?:[/?#]|$))/i;function P(){var a=D[g];if(a){a=C((0,a.a)(p,function(){},!1)).next().value;var b=[Q()];return a(b)}R(Error(\"f\"))}function Q(){var a=location.href,b=hashed_query,h={};b&&(h.qh=b,(a=(a=a.match(/[?&]start=(\\d+)/g))?a[a.length-1].match(/\\d+/)[0]:\"\")&&(h.st=a));return h}\n",
              "function S(){var a;a:{if(window.st&&(a=window.st(location.href)))break a;a=performance&&performance.timing&&performance.timing.navigationStart?performance.timing.navigationStart:void 0}if(a)if(nsiws)try{var b;((b=window)==null?0:b.sessionStorage)&&window.sessionStorage.setItem(eid,String(a))}catch(h){}else J(\"s\",\"sg_pns\",eid,String(a))}function T(){var a=eid,b=new E;F(b,\"sg_ss\");G(b,\"sei\",a);return b.toString()}\n",
              "function U(a){var b=eid,h=new E;G(h,\"sg_ss\",encodeURIComponent(a));G(h,\"sei\",b);V(h.toString())}function W(a){if(window.prs){var b=T();window.prs(b,a).catch(function(){U(a)})}else U(a)}function V(a){window.prs?window.prs(a).catch(function(){X(a)}):X(a)}\n",
              "function X(a){if(window.pr)window.pr(a);else{a:{var b=b===void 0?N:b;if(a instanceof K)b=a;else{for(var h=0;h<b.length;++h){var l=b[h];if(l instanceof L&&l.M(a)){b=new K(a);break a}}b=void 0}}a=location;if(b instanceof K)if(b instanceof K)b=b.i;else throw Error(\"e\");else b=O.test(b)?b:void 0;b!==void 0&&a.replace(b)}}function R(a){navigator.sendBeacon(\"/gen_204?cad=sg_b_e&e=\"+a,\"\")};navigator||(D.navigator={});typeof navigator.sendBeacon!==\"function\"&&(navigator.sendBeacon=function(a){(new Image).src=a});window.onerror=function(a,b,h,l,f){navigator.sendBeacon(\"/gen_204?emsg=\"+(f instanceof Error?f.message:a)+\"&srcpg=sgs&jsr=1&jsel=3\")};(window.sgs&&ussv?window.sgs(sp).then(function(a){r&&(S(),W(a));return!0},function(){return!1}):Promise.resolve(!1)).then(function(a){if(!a&&(a=P())){var b=cbs;a=hashed_query?\"B.1.\"+b+\".\"+a:a;b=new Date;b.setSeconds(b.getSeconds()+(Number(ce)||300));var h=\"SG_SS=\"+a,l=document.cookie.length+h.length;r&&(l<4093&&!ss_cgi&&(document.cookie=h+(\"; expires=\"+b.toUTCString())),S(),ss_cgi||document.cookie.indexOf(\"SG_SS=\")<0?U(a):V(T()))}}).catch(function(a){R(a)});}).call(this);})();</script><script nonce=\"uK8SaoAvuuV_5OEE5R_UHA\">(function(){var cssId='yvlrue';var event_id='7oglaJ2EC8zn1e8PrtLbwQE';function sw(){document.getElementById(cssId).setAttribute('style','');navigator.sendBeacon(`/gen_204?cad=sg_trbl&ei=${event_id}`,'');}\n",
              "setTimeout(sw,2000);})();</script><style>div{font-family:sans-serif;color:#474747;background-color:#fff}a{color:#1558d6;font-size:inherit;text-decoration:none}a:visited{color:#681da8}</style><div id=\"yvlrue\" style=\"display:none\">If you're having trouble accessing Google Search, please <a href=\"/search?q=google+%EB%B6%80%EC%82%B0%EC%98%A8%EB%8F%84&amp;sca_esv=a980cca8ef080035&amp;ie=UTF-8&amp;emsg=SG_REL&amp;sei=7oglaJ2EC8zn1e8PrtLbwQE\">click here</a>, or send <a href=\"https://support.google.com/websearch\">feedback</a>.</div></body></html>"
            ]
          },
          "metadata": {},
          "execution_count": 97
        }
      ]
    },
    {
      "cell_type": "code",
      "source": [
        "# 일급함수: 함수를 값으로 취급하는 것\n",
        "\n",
        "def hello():\n",
        "    pass\n",
        "\n",
        "x = 10 # 10이라는 값이 들어가는 자리에 함수가 모두 들어갈 수 있다는 얘기입니다.\n",
        "y = print\n",
        "a = sum\n",
        "b = lambda x: x ** 2\n",
        "c = hello"
      ],
      "metadata": {
        "id": "xKoOb8ZuombG"
      },
      "execution_count": null,
      "outputs": []
    },
    {
      "cell_type": "code",
      "source": [
        "a([10, 20, 30])"
      ],
      "metadata": {
        "colab": {
          "base_uri": "https://localhost:8080/"
        },
        "id": "X4-UJAWapEJ5",
        "outputId": "3775dcaf-554d-4f27-8728-637031f30c0e"
      },
      "execution_count": null,
      "outputs": [
        {
          "output_type": "execute_result",
          "data": {
            "text/plain": [
              "60"
            ]
          },
          "metadata": {},
          "execution_count": 100
        }
      ]
    },
    {
      "cell_type": "code",
      "source": [
        "def add(a, b):\n",
        "    return a + b\n",
        "\n",
        "def mul(a, b):\n",
        "    return a * b\n",
        "\n",
        "def div(a, b):\n",
        "    return a // b\n",
        "\n",
        "def sub(a, b):\n",
        "    return a - b\n",
        "\n",
        "\n",
        "functions = [add, mul, div, sub]\n",
        "functions[0](10, 20)"
      ],
      "metadata": {
        "colab": {
          "base_uri": "https://localhost:8080/"
        },
        "id": "-3MUxcRNpdCg",
        "outputId": "76aab25a-fd86-495a-df00-500243a98441"
      },
      "execution_count": null,
      "outputs": [
        {
          "output_type": "execute_result",
          "data": {
            "text/plain": [
              "30"
            ]
          },
          "metadata": {},
          "execution_count": 101
        }
      ]
    },
    {
      "cell_type": "code",
      "source": [
        "# 함수를 아규먼트로 넣는 것\n",
        "# 함수를 리턴 값으로 넣는 것\n",
        "# 고차 함수(Higher-order functions)는 하나 이상의 함수를 인자로 받아들이거나 함수를 결과로 반환하는 함수입니다.\n",
        "# 이 예제에서는 cal이 고차함수입니다.\n",
        "\n",
        "def a(x):\n",
        "    return x ** 2\n",
        "\n",
        "def b(x):\n",
        "    return x ** 3\n",
        "\n",
        "def cal(f, ff, x):\n",
        "    return f(x) + ff(x)\n",
        "\n",
        "cal(a, b, 2)"
      ],
      "metadata": {
        "colab": {
          "base_uri": "https://localhost:8080/"
        },
        "id": "goYg69HGp6dm",
        "outputId": "22e3aad6-6390-4c69-dca5-659e52a8dc01"
      },
      "execution_count": null,
      "outputs": [
        {
          "output_type": "execute_result",
          "data": {
            "text/plain": [
              "12"
            ]
          },
          "metadata": {},
          "execution_count": 105
        }
      ]
    },
    {
      "cell_type": "code",
      "source": [
        "# 함수를 아규먼트로 넣는 것\n",
        "# 함수를 리턴 값으로 넣는 것\n",
        "# 고차 함수(Higher-order functions)는 하나 이상의 함수를 인자로 받아들이거나 함수를 결과로 반환하는 함수입니다.\n",
        "# 이 예제에서는 cal이 고차함수입니다.\n",
        "\n",
        "def a(x):\n",
        "    return x ** 2\n",
        "\n",
        "def b(x):\n",
        "    return x ** 3\n",
        "\n",
        "def cal(f):\n",
        "    return b\n",
        "\n",
        "cal(a)\n",
        "cal(a)(2)"
      ],
      "metadata": {
        "colab": {
          "base_uri": "https://localhost:8080/"
        },
        "id": "J3U0T701r2S1",
        "outputId": "2ccca0c4-ddf3-42ce-aabe-5b6e0137bff5"
      },
      "execution_count": null,
      "outputs": [
        {
          "output_type": "execute_result",
          "data": {
            "text/plain": [
              "8"
            ]
          },
          "metadata": {},
          "execution_count": 106
        }
      ]
    },
    {
      "cell_type": "markdown",
      "source": [
        "# 재귀함수"
      ],
      "metadata": {
        "id": "JkgFyE9lv2oZ"
      }
    },
    {
      "cell_type": "code",
      "source": [
        "# 실행하지 마세요.\n",
        "# def hello():\n",
        "#     print(1)\n",
        "#     return hello()"
      ],
      "metadata": {
        "id": "9GlR4jIRscMn"
      },
      "execution_count": null,
      "outputs": []
    },
    {
      "cell_type": "code",
      "source": [
        "result = 1\n",
        "for i in range(1, 6):\n",
        "    result *= i\n",
        "\n",
        "result # 5! ==  5 * 4 * 3 * 2 * 1"
      ],
      "metadata": {
        "colab": {
          "base_uri": "https://localhost:8080/"
        },
        "id": "BGASx1LIwHhF",
        "outputId": "0f7614e9-29e2-488b-e6b3-4877fd86427c"
      },
      "execution_count": null,
      "outputs": [
        {
          "output_type": "execute_result",
          "data": {
            "text/plain": [
              "120"
            ]
          },
          "metadata": {},
          "execution_count": 107
        }
      ]
    },
    {
      "cell_type": "code",
      "source": [
        "def factorial(n):\n",
        "    if n == 1:\n",
        "        return 1\n",
        "    else:\n",
        "        return n * factorial(n-1)\n",
        "\n",
        "factorial(5)\n",
        "\n",
        "# 함수 아규먼트         return 값\n",
        "# factorial(5)          5 * factorial(4)  == 5 * 4 * 3 * 2 * 1\n",
        "# factorial(4)          4 * factorial(3)  == 4 * 3 * 2 * 1\n",
        "# factorial(3)          3 * factorial(2)  == 3 * 2 * 1\n",
        "# factorial(2)          2 * factorial(1)  == 2 * 1\n",
        "# factorial(1)          1"
      ],
      "metadata": {
        "colab": {
          "base_uri": "https://localhost:8080/"
        },
        "id": "mIS1UmfAwVFg",
        "outputId": "6663f85a-41ff-409d-9eac-11d7b58f67a2"
      },
      "execution_count": null,
      "outputs": [
        {
          "output_type": "execute_result",
          "data": {
            "text/plain": [
              "120"
            ]
          },
          "metadata": {},
          "execution_count": 109
        }
      ]
    },
    {
      "cell_type": "markdown",
      "source": [
        "# 클로저\n",
        "\n",
        "* 클로징 되어야 하는 메모리 영역에 접근할 수 있는 기법"
      ],
      "metadata": {
        "id": "E523jyT8x6z4"
      }
    },
    {
      "cell_type": "code",
      "source": [
        "def outer_function(x):\n",
        "    def inner_function(y):\n",
        "        return x + y\n",
        "    return inner_function\n",
        "\n",
        "inner = outer_function(100)\n",
        "inner(200) # inner\n",
        "\n",
        "# 위 코드는 아래 코드와 같습니다.\n",
        "# def inner(y):\n",
        "#     return 100 + y"
      ],
      "metadata": {
        "id": "w8NQ9P8lyFTh"
      },
      "execution_count": null,
      "outputs": []
    },
    {
      "cell_type": "code",
      "source": [
        "x = 10\n",
        "y = x\n",
        "z = y"
      ],
      "metadata": {
        "id": "n0MVx5uLyS-b"
      },
      "execution_count": null,
      "outputs": []
    },
    {
      "cell_type": "code",
      "source": [
        "def f(x):\n",
        "    def ff(y):\n",
        "        return y ** x\n",
        "    return ff\n",
        "\n",
        "a = f(2)\n",
        "a(2)\n",
        "a(3)\n",
        "a(4)\n",
        "\n",
        "b = f(3)\n",
        "b(2)\n",
        "b(3)\n",
        "b(4)"
      ],
      "metadata": {
        "colab": {
          "base_uri": "https://localhost:8080/"
        },
        "id": "Tfrfn8iOzNk5",
        "outputId": "dca8de37-01f9-4307-dcd2-17a8d84e7200"
      },
      "execution_count": null,
      "outputs": [
        {
          "output_type": "execute_result",
          "data": {
            "text/plain": [
              "64"
            ]
          },
          "metadata": {},
          "execution_count": 116
        }
      ]
    },
    {
      "cell_type": "markdown",
      "source": [
        "```py\n",
        "def login(function):\n",
        "    pass\n",
        "\n",
        "@login\n",
        "def 게시판읽기():\n",
        "    pass\n",
        "```"
      ],
      "metadata": {
        "id": "rKA3Nu9i0ptf"
      }
    },
    {
      "cell_type": "code",
      "source": [
        "# 클래스를 잘 모른다? 서비스 개발에 문제가 생깁니다. Django로 들어갈 땐 크리티컬 합니다.\n",
        "# 일급함수, 고차함수를 잘 모른다? 괜찮습니다.\n",
        "# 클로저를 잘 모른다? 괜찮습니다.\n",
        "# 데코레이터 잘 모른다? 괜찮습니다."
      ],
      "metadata": {
        "id": "y7PyNHtM0ndG"
      },
      "execution_count": null,
      "outputs": []
    },
    {
      "cell_type": "code",
      "source": [
        "def simple_decorator(function):\n",
        "    def wrapper():\n",
        "        print(\"전\")\n",
        "        function()\n",
        "        print(\"후\")\n",
        "    return wrapper\n",
        "\n",
        "@simple_decorator\n",
        "def hello():\n",
        "    print(\"Hello, World!\")\n",
        "\n",
        "hello() # 데코레이터가 없는 상태에서는 simple_decorator(hello)() 와 같습니다."
      ],
      "metadata": {
        "colab": {
          "base_uri": "https://localhost:8080/"
        },
        "id": "FB4K68Kz1SMl",
        "outputId": "d7656e36-b791-4555-8511-0ab691debadb"
      },
      "execution_count": null,
      "outputs": [
        {
          "output_type": "stream",
          "name": "stdout",
          "text": [
            "전\n",
            "Hello, World!\n",
            "후\n"
          ]
        }
      ]
    },
    {
      "cell_type": "code",
      "source": [
        "# https://docs.python.org/3/library/functions.html#sorted\n",
        "# 여기서 sorted 안에 있는 * 와 같은 것입니다.\n",
        "# 언패킹과 패킹\n",
        "\n",
        "def print_args(*args):\n",
        "    print(args) # 출력: (100, True, 'Licat')\n",
        "\n",
        "print_args(100, True, 'Licat')"
      ],
      "metadata": {
        "id": "oqI1433goAzi"
      },
      "execution_count": null,
      "outputs": []
    },
    {
      "cell_type": "code",
      "source": [
        "a, b, c = range(3)\n",
        "a, b, c"
      ],
      "metadata": {
        "colab": {
          "base_uri": "https://localhost:8080/"
        },
        "id": "cjo-waLnorr2",
        "outputId": "0f9a2011-a98f-4a48-87c6-03e9ebe82fe6"
      },
      "execution_count": 1,
      "outputs": [
        {
          "output_type": "execute_result",
          "data": {
            "text/plain": [
              "(0, 1, 2)"
            ]
          },
          "metadata": {},
          "execution_count": 1
        }
      ]
    },
    {
      "cell_type": "code",
      "source": [
        "# 앞에 일반적으로 받는 파라미터가 나오고\n",
        "# args는 뒤에 나옵니다.\n",
        "def print_args(a, b, *args):\n",
        "    print(args) # 출력: ('Licat', 'hello', 10)\n",
        "\n",
        "print_args(100, True, 'Licat', 'hello', 10)"
      ],
      "metadata": {
        "id": "IturHyNeo_-f"
      },
      "execution_count": null,
      "outputs": []
    },
    {
      "cell_type": "code",
      "source": [
        "# 이렇게 했을 때 개발자들에게 유용한 점?\n",
        "def print_kwargs(a, **kwargs):\n",
        "    print(a)\n",
        "    print(kwargs)\n",
        "\n",
        "print_kwargs(100, name='Licat', age='10')"
      ],
      "metadata": {
        "colab": {
          "base_uri": "https://localhost:8080/"
        },
        "id": "F_WwviympQoA",
        "outputId": "f26598d5-f1f0-4930-f8f3-39a783cf901c"
      },
      "execution_count": 2,
      "outputs": [
        {
          "output_type": "stream",
          "name": "stdout",
          "text": [
            "100\n",
            "{'name': 'Licat', 'age': '10'}\n"
          ]
        }
      ]
    },
    {
      "cell_type": "code",
      "source": [
        "def print_kwargs(a, name, age):\n",
        "    print(a, name, age)\n",
        "\n",
        "print_kwargs(100, 'Licat', '10')\n",
        "print_kwargs(100, '10', 'Licat') # 100이 무엇인지? 10이 무엇인지? Licat이 무엇인지"
      ],
      "metadata": {
        "colab": {
          "base_uri": "https://localhost:8080/"
        },
        "id": "M05lKqSPp8tf",
        "outputId": "29fc8359-da5f-4045-8870-bf6b8620e2a3"
      },
      "execution_count": 3,
      "outputs": [
        {
          "output_type": "stream",
          "name": "stdout",
          "text": [
            "100 Licat 10\n"
          ]
        }
      ]
    },
    {
      "cell_type": "code",
      "source": [
        "# 이렇게 했을 때 개발자들에게 유용한 점?\n",
        "def print_kwargs(a, **kwargs):\n",
        "    print(a)\n",
        "    print(kwargs)\n",
        "\n",
        "print_kwargs(100, age='10', name='Licat')"
      ],
      "metadata": {
        "id": "YLQ6I7fdqNIq"
      },
      "execution_count": null,
      "outputs": []
    },
    {
      "cell_type": "markdown",
      "source": [
        "# 이터레이터"
      ],
      "metadata": {
        "id": "bJRyBpUL3p_f"
      }
    },
    {
      "cell_type": "code",
      "source": [
        "# 이터레이터와 제너레이터\n",
        "# 여러분이 Python에 대해 더 깊게 이해할 수 있도록 도와줍니다.\n",
        "# Python에서 클래스가 가장 중요하다고 했는데\n",
        "# 그러면 Python에서 클래스를 제외하면 무엇이 남을까요?\n",
        "# for, if, elif, else, in....\n",
        "# 이런 문법이 남는데 이런 문법들은 다 무엇인가요?\n",
        "# 이런 문법은 인스턴스의 매직메서드를 호출하는 '기호'라고 볼 수 있어요.\n",
        "\n",
        "# a = 10\n",
        "# b = 10\n",
        "# a + b\n",
        "# Python 입장에서는 위 코드를 아래와 같이 해독합니다.\n",
        "# 'a' '+' 'b' 잘라냅니다.\n",
        "# a인스턴스가 있네?\n",
        "# '+'기호를 만나면 a인스턴스에 __add__를 호출해야지!\n",
        "# __add__(self, next) 이 next에 b를 넣어야지!\n",
        "# 이렇게 해서 나온 return 값이 더하기가 되는 것입니다.\n",
        "\n",
        "# for i in [1, 2, 3]:\n",
        "#     print(i)\n",
        "# Python 입장에서는 위 코드를 아래와 같이 해독합니다.\n",
        "# 'for' 'i' 'in' '[1, 2, 3]' ':' 잘라냅니다.\n",
        "# for를 만났네? in 뒤에 있는 인스턴스의 __iter__를 호출해야지!\n",
        "# i에는 __iter__에 리턴값에 __next__를 호출한 값을 넣어줘야지!"
      ],
      "metadata": {
        "id": "MDimzQiJq_uD"
      },
      "execution_count": 4,
      "outputs": []
    },
    {
      "cell_type": "code",
      "source": [
        "# enumerate(iterable, start=0) 이렇게 되어 있는 것에\n",
        "# 이 iterable은 무엇이냐?\n",
        "# 간단하게 말하면 순회가능한 객체인데\n",
        "# 메직메서드 입장에서는 __iter__와 __next__가 정의되어 있는 인스턴스를 얘기합니다.\n",
        "\n",
        "class Licat:\n",
        "    def __iter__(self):\n",
        "        return self\n",
        "\n",
        "    def __next__(self):\n",
        "        return 'Licat'\n",
        "\n",
        "\n",
        "list(zip(Licat(), 'ABC'))"
      ],
      "metadata": {
        "colab": {
          "base_uri": "https://localhost:8080/"
        },
        "id": "3c4ctTwKtwzu",
        "outputId": "9cc213ed-dada-4ff4-8ce1-f8234ded6fd7"
      },
      "execution_count": 5,
      "outputs": [
        {
          "output_type": "execute_result",
          "data": {
            "text/plain": [
              "[('Licat', 'A'), ('Licat', 'B'), ('Licat', 'C')]"
            ]
          },
          "metadata": {},
          "execution_count": 5
        }
      ]
    },
    {
      "cell_type": "code",
      "source": [
        "i = iter('ABC')\n",
        "next(i)"
      ],
      "metadata": {
        "colab": {
          "base_uri": "https://localhost:8080/",
          "height": 36
        },
        "id": "nmBXUNz9uhuD",
        "outputId": "0c14ef15-2aca-456b-d2c7-fed152aec016"
      },
      "execution_count": 9,
      "outputs": [
        {
          "output_type": "execute_result",
          "data": {
            "text/plain": [
              "'A'"
            ],
            "application/vnd.google.colaboratory.intrinsic+json": {
              "type": "string"
            }
          },
          "metadata": {},
          "execution_count": 9
        }
      ]
    },
    {
      "cell_type": "code",
      "source": [
        "# enumerate(iterable, start=0) 이렇게 되어 있는 것에\n",
        "# 이 iterable은 무엇이냐?\n",
        "# 간단하게 말하면 순회가능한 객체인데\n",
        "# 메직메서드 입장에서는 __iter__와 __next__가 정의되어 있는 인스턴스를 얘기합니다.\n",
        "\n",
        "class Licat:\n",
        "    def __iter__(self):\n",
        "        return self\n",
        "\n",
        "    def __next__(self):\n",
        "        return 'Licat'\n",
        "\n",
        "\n",
        "list(zip(Licat(), 'ABC'))"
      ],
      "metadata": {
        "colab": {
          "base_uri": "https://localhost:8080/"
        },
        "id": "Ug5OESLNu2IW",
        "outputId": "269ebfce-a84f-4a52-b2a1-93c983dddbb5"
      },
      "execution_count": 12,
      "outputs": [
        {
          "output_type": "execute_result",
          "data": {
            "text/plain": [
              "[('Licat', 'A'), ('Licat', 'B'), ('Licat', 'C')]"
            ]
          },
          "metadata": {},
          "execution_count": 12
        }
      ]
    },
    {
      "cell_type": "code",
      "source": [
        "class MyIterator:\n",
        "    def __init__(self, stop):\n",
        "        self.current_value = 0  # 현재 값\n",
        "        self.stop = stop  # 순회를 멈출 값\n",
        "\n",
        "    def __iter__(self):\n",
        "        return self\n",
        "\n",
        "    def __next__(self):\n",
        "        if self.current_value >= self.stop:\n",
        "            raise StopIteration\n",
        "        result = self.current_value\n",
        "        self.current_value += 1\n",
        "        return result\n",
        "\n",
        "my_iterator = MyIterator(5)\n",
        "\n",
        "for i in my_iterator:\n",
        "    print(i)"
      ],
      "metadata": {
        "colab": {
          "base_uri": "https://localhost:8080/"
        },
        "id": "PNRYX-QnvITk",
        "outputId": "82718659-f2c9-40d8-c0eb-88a9529fc619"
      },
      "execution_count": 13,
      "outputs": [
        {
          "output_type": "stream",
          "name": "stdout",
          "text": [
            "0\n",
            "1\n",
            "2\n",
            "3\n",
            "4\n"
          ]
        }
      ]
    },
    {
      "cell_type": "code",
      "source": [
        "class MyIterator:\n",
        "    def __init__(self, stop):\n",
        "        self.current_value = 0\n",
        "        self.stop = stop\n",
        "\n",
        "    def __iter__(self):\n",
        "        # self.current_value = 0  # __iter__에서 초기화\n",
        "        return self\n",
        "\n",
        "    def __next__(self):\n",
        "        if self.current_value >= self.stop:\n",
        "            raise StopIteration\n",
        "        result = self.current_value\n",
        "        self.current_value += 1\n",
        "        return result\n",
        "\n",
        "my_iterator = MyIterator(5)\n",
        "\n",
        "for i in my_iterator:\n",
        "    print(i)\n",
        "\n",
        "for i in my_iterator:\n",
        "    print(i)"
      ],
      "metadata": {
        "colab": {
          "base_uri": "https://localhost:8080/"
        },
        "id": "pq3kaf-r1zJh",
        "outputId": "c82cdc29-ebb0-4c0f-d50c-abf81cb0c98c"
      },
      "execution_count": 15,
      "outputs": [
        {
          "output_type": "stream",
          "name": "stdout",
          "text": [
            "0\n",
            "1\n",
            "2\n",
            "3\n",
            "4\n"
          ]
        }
      ]
    },
    {
      "cell_type": "code",
      "source": [
        "class MyIterator:\n",
        "    def __init__(self, stop):\n",
        "        # self.current_value = 0\n",
        "        self.stop = stop\n",
        "\n",
        "    def __iter__(self):\n",
        "        self.current_value = 0  # __iter__에서 초기화\n",
        "        return self\n",
        "\n",
        "    def __next__(self):\n",
        "        if self.current_value >= self.stop:\n",
        "            raise StopIteration\n",
        "        result = self.current_value\n",
        "        self.current_value += 1\n",
        "        return result\n",
        "\n",
        "my_iterator = MyIterator(5)\n",
        "\n",
        "for i in my_iterator:\n",
        "    print(i)\n",
        "\n",
        "for i in my_iterator:\n",
        "    print(i)"
      ],
      "metadata": {
        "colab": {
          "base_uri": "https://localhost:8080/"
        },
        "id": "pgQmEDF02XCF",
        "outputId": "092d1bc4-d9c0-4b69-d7f4-101730bbfd95"
      },
      "execution_count": 17,
      "outputs": [
        {
          "output_type": "stream",
          "name": "stdout",
          "text": [
            "0\n",
            "1\n",
            "2\n",
            "3\n",
            "4\n",
            "0\n",
            "1\n",
            "2\n",
            "3\n",
            "4\n"
          ]
        }
      ]
    },
    {
      "cell_type": "code",
      "source": [
        "def my_generator():\n",
        "    x = 10\n",
        "    yield x\n",
        "    x = 20\n",
        "    yield x\n",
        "    x = 30\n",
        "    yield x\n",
        "    return\n",
        "    x = 40\n",
        "    yield x\n",
        "\n",
        "\n",
        "for i in my_generator():\n",
        "    print(i)"
      ],
      "metadata": {
        "colab": {
          "base_uri": "https://localhost:8080/"
        },
        "id": "42V_merW3uHR",
        "outputId": "f9a3d087-916e-47bb-d271-e774c61be886"
      },
      "execution_count": 18,
      "outputs": [
        {
          "output_type": "stream",
          "name": "stdout",
          "text": [
            "10\n",
            "20\n",
            "30\n"
          ]
        }
      ]
    },
    {
      "cell_type": "code",
      "source": [
        "def gen():\n",
        "    x = 0\n",
        "    while True:\n",
        "        yield x\n",
        "        x += 2\n",
        "\n",
        "list(zip(gen(),'ABCDE'))"
      ],
      "metadata": {
        "colab": {
          "base_uri": "https://localhost:8080/"
        },
        "id": "buDIApBh4FWa",
        "outputId": "34c3733d-f123-49c5-ad55-dcf8cb741ad2"
      },
      "execution_count": 19,
      "outputs": [
        {
          "output_type": "execute_result",
          "data": {
            "text/plain": [
              "[(0, 'A'), (2, 'B'), (4, 'C'), (6, 'D'), (8, 'E')]"
            ]
          },
          "metadata": {},
          "execution_count": 19
        }
      ]
    },
    {
      "cell_type": "markdown",
      "source": [
        "# nonlocal"
      ],
      "metadata": {
        "id": "RY7WJ-0o4z4O"
      }
    },
    {
      "cell_type": "code",
      "source": [
        "x = 10\n",
        "\n",
        "def changex():\n",
        "    global x\n",
        "    x += 10\n",
        "\n",
        "changex()\n",
        "x"
      ],
      "metadata": {
        "colab": {
          "base_uri": "https://localhost:8080/"
        },
        "id": "e70TDXBc4syE",
        "outputId": "47575155-c0cd-4c0f-d454-e4e9c66e587e"
      },
      "execution_count": 20,
      "outputs": [
        {
          "output_type": "execute_result",
          "data": {
            "text/plain": [
              "20"
            ]
          },
          "metadata": {},
          "execution_count": 20
        }
      ]
    },
    {
      "cell_type": "code",
      "source": [
        "def hello():\n",
        "    x = 10\n",
        "    def changex():\n",
        "        nonlocal x\n",
        "        x += 10\n",
        "    changex()\n",
        "    return x\n",
        "\n",
        "hello()"
      ],
      "metadata": {
        "colab": {
          "base_uri": "https://localhost:8080/"
        },
        "id": "7X1_ytcs49GY",
        "outputId": "f451010b-8267-46c6-e89d-0511af03bc3e"
      },
      "execution_count": 22,
      "outputs": [
        {
          "output_type": "execute_result",
          "data": {
            "text/plain": [
              "20"
            ]
          },
          "metadata": {},
          "execution_count": 22
        }
      ]
    },
    {
      "cell_type": "code",
      "source": [
        "x = 100\n",
        "def hello():\n",
        "    x = 10\n",
        "    def changex():\n",
        "        # nonlocal x\n",
        "        global x\n",
        "        x += 10\n",
        "    changex()\n",
        "    return x\n",
        "\n",
        "hello(), x"
      ],
      "metadata": {
        "colab": {
          "base_uri": "https://localhost:8080/"
        },
        "id": "hyXOiaCO5YK9",
        "outputId": "174da24c-50eb-452c-d81f-87a13c9e3ba0"
      },
      "execution_count": 26,
      "outputs": [
        {
          "output_type": "execute_result",
          "data": {
            "text/plain": [
              "(10, 110)"
            ]
          },
          "metadata": {},
          "execution_count": 26
        }
      ]
    },
    {
      "cell_type": "code",
      "source": [
        "x:str = 'hello'\n",
        "y:int = 10\n",
        "\n",
        "x"
      ],
      "metadata": {
        "colab": {
          "base_uri": "https://localhost:8080/",
          "height": 36
        },
        "id": "JrZcm_B27hfO",
        "outputId": "16fdb49f-e9ae-45ba-e20e-0fc17f3e90de"
      },
      "execution_count": 28,
      "outputs": [
        {
          "output_type": "execute_result",
          "data": {
            "text/plain": [
              "'hello'"
            ],
            "application/vnd.google.colaboratory.intrinsic+json": {
              "type": "string"
            }
          },
          "metadata": {},
          "execution_count": 28
        }
      ]
    },
    {
      "cell_type": "code",
      "source": [
        "# 파이썬의 타입 힌트는 강제하지 않습니다.\n",
        "# 그러면? 컴퓨터를 위한 코드는 아닙니다!\n",
        "# 개발자 입장에서 코드를 좀 더 면밀히 검토하기 위한 코드입니다.\n",
        "\n",
        "x:int = 'hello'\n",
        "x"
      ],
      "metadata": {
        "colab": {
          "base_uri": "https://localhost:8080/",
          "height": 36
        },
        "id": "ODiUpWhq7puO",
        "outputId": "d0058c16-85aa-4f27-9866-df5fb2502345"
      },
      "execution_count": 29,
      "outputs": [
        {
          "output_type": "execute_result",
          "data": {
            "text/plain": [
              "'hello'"
            ],
            "application/vnd.google.colaboratory.intrinsic+json": {
              "type": "string"
            }
          },
          "metadata": {},
          "execution_count": 29
        }
      ]
    },
    {
      "cell_type": "code",
      "source": [
        "# 일반적인 파이썬에서 강제하지 않지만\n",
        "# FastAPI와 같은 일부 프레임웤, 라이브러리에서는 아래와 같은 사항을 강제합니다.\n",
        "\n",
        "def add(a:int, b:int) -> int:\n",
        "    return a + b\n",
        "\n",
        "add(10, 20)\n",
        "\n",
        "def add(a:int, b:int) -> int:\n",
        "    return a + b\n",
        "\n",
        "add('hello', 'world')"
      ],
      "metadata": {
        "colab": {
          "base_uri": "https://localhost:8080/",
          "height": 36
        },
        "id": "LIXe7ER38Dtu",
        "outputId": "efeec0e5-ba3e-4907-fba7-87fabd234603"
      },
      "execution_count": 31,
      "outputs": [
        {
          "output_type": "execute_result",
          "data": {
            "text/plain": [
              "'helloworld'"
            ],
            "application/vnd.google.colaboratory.intrinsic+json": {
              "type": "string"
            }
          },
          "metadata": {},
          "execution_count": 31
        }
      ]
    },
    {
      "cell_type": "code",
      "source": [
        "# 타입힌트 연습문제\n",
        "# [1, 2, 3] * 3 => [1, 2, 3, 1, 2, 3, 1, 2, 3]가 나오는 solution 함수를 만들어주세요.\n",
        "\n",
        "def solution():\n",
        "    pass\n",
        "\n",
        "solution([1, 2, 3], 3)"
      ],
      "metadata": {
        "id": "bALwDHJ98lQj"
      },
      "execution_count": null,
      "outputs": []
    },
    {
      "cell_type": "code",
      "source": [
        "def solution(a:list, b:int) -> list:\n",
        "    return a * b\n",
        "\n",
        "solution([1, 2, 3], 3)"
      ],
      "metadata": {
        "colab": {
          "base_uri": "https://localhost:8080/"
        },
        "id": "6YcrZkVh9zl1",
        "outputId": "ab2a2369-f863-4951-8a08-754da88fbde7"
      },
      "execution_count": 32,
      "outputs": [
        {
          "output_type": "execute_result",
          "data": {
            "text/plain": [
              "[1, 2, 3, 1, 2, 3, 1, 2, 3]"
            ]
          },
          "metadata": {},
          "execution_count": 32
        }
      ]
    },
    {
      "cell_type": "code",
      "source": [
        "def solution(a:list, b:int) -> list:\n",
        "    return a*b\n",
        "\n",
        "solution([1, 2, 3], 3)"
      ],
      "metadata": {
        "colab": {
          "base_uri": "https://localhost:8080/"
        },
        "id": "xF8HElBd-OhS",
        "outputId": "95467fd9-d496-45a7-8142-b5a46366da56"
      },
      "execution_count": 38,
      "outputs": [
        {
          "output_type": "execute_result",
          "data": {
            "text/plain": [
              "[1, 2, 3, 1, 2, 3, 1, 2, 3]"
            ]
          },
          "metadata": {},
          "execution_count": 38
        }
      ]
    },
    {
      "cell_type": "code",
      "source": [
        "# id, name, email이 각각 3번씩 반복\n",
        "# -> 이러한 현상을  보일러 플레이트(boiler-plate)라 함\n",
        "# -> print를 해도 필드값이 보이지 않아 불편\n",
        "class User:\n",
        "    def __init__(self, id, name, email):\n",
        "        self.id = id\n",
        "        self.name = name\n",
        "        self.email = email\n",
        "\n",
        "\n",
        "    def __repr__(self):\n",
        "        return (f'{self.__class__.__qualname__}{self.id, self.name, self.email}')\n",
        "\n",
        "\n",
        "user = User(123, 'hojun', 'hojun@gmail')\n",
        "user\n",
        "# User(123, 'hojun', 'hojun@gmail')"
      ],
      "metadata": {
        "colab": {
          "base_uri": "https://localhost:8080/"
        },
        "id": "-Xf_AaTq-jxO",
        "outputId": "34d1e4f4-7043-47e0-e6d0-61aad823134c"
      },
      "execution_count": 39,
      "outputs": [
        {
          "output_type": "execute_result",
          "data": {
            "text/plain": [
              "User(123, 'hojun', 'hojun@gmail')"
            ]
          },
          "metadata": {},
          "execution_count": 39
        }
      ]
    },
    {
      "cell_type": "code",
      "source": [
        "from dataclasses import dataclass\n",
        "\n",
        "@dataclass\n",
        "class User:\n",
        "    id: int\n",
        "    name: str\n",
        "    email : str\n",
        "\n",
        "user = User(123, 'hojun', 'hojun@gmail')\n",
        "user"
      ],
      "metadata": {
        "colab": {
          "base_uri": "https://localhost:8080/"
        },
        "id": "wHMtCtDP-pOU",
        "outputId": "1c5b5a39-ded6-47de-9b4b-6c27bf861bc3"
      },
      "execution_count": 40,
      "outputs": [
        {
          "output_type": "execute_result",
          "data": {
            "text/plain": [
              "User(id=123, name='hojun', email='hojun@gmail')"
            ]
          },
          "metadata": {},
          "execution_count": 40
        }
      ]
    },
    {
      "cell_type": "code",
      "source": [
        "# x = 0\n",
        "# while x < 10:\n",
        "#     print(x)\n",
        "#     x += 1\n",
        "\n",
        "\n",
        "y = 0\n",
        "while (y := y + 1) <= 10:\n",
        "    print(y - 1)"
      ],
      "metadata": {
        "colab": {
          "base_uri": "https://localhost:8080/"
        },
        "id": "uHlB3iX0_b0i",
        "outputId": "5bb027d3-ec2b-442a-91c9-b74a2897d235"
      },
      "execution_count": 44,
      "outputs": [
        {
          "output_type": "stream",
          "name": "stdout",
          "text": [
            "0\n",
            "1\n",
            "2\n",
            "3\n",
            "4\n",
            "5\n",
            "6\n",
            "7\n",
            "8\n",
            "9\n"
          ]
        }
      ]
    },
    {
      "cell_type": "code",
      "source": [
        "x = {\"key1\": \"value1\"}\n",
        "y = {\"key2\": \"value2\"}\n",
        "z = x | y\n",
        "z"
      ],
      "metadata": {
        "colab": {
          "base_uri": "https://localhost:8080/"
        },
        "id": "Hhv_1Xe7ClWH",
        "outputId": "8aaf486b-3320-4493-d3d6-51e1eb5efcfa"
      },
      "execution_count": 45,
      "outputs": [
        {
          "output_type": "execute_result",
          "data": {
            "text/plain": [
              "{'key1': 'value1', 'key2': 'value2'}"
            ]
          },
          "metadata": {},
          "execution_count": 45
        }
      ]
    },
    {
      "cell_type": "code",
      "source": [
        "x = {\"key1\": \"value1\"}\n",
        "y = {\"key2\": \"value2\"}\n",
        "x.update(y)\n",
        "x"
      ],
      "metadata": {
        "colab": {
          "base_uri": "https://localhost:8080/"
        },
        "id": "3YcpUJo8ClvV",
        "outputId": "49420dfd-ca9e-4f3b-cbbe-a25efc998f2e"
      },
      "execution_count": 47,
      "outputs": [
        {
          "output_type": "execute_result",
          "data": {
            "text/plain": [
              "{'key1': 'value1', 'key2': 'value2'}"
            ]
          },
          "metadata": {},
          "execution_count": 47
        }
      ]
    },
    {
      "cell_type": "markdown",
      "source": [
        "# 파일 입출력"
      ],
      "metadata": {
        "id": "MJnoXmPTDfdb"
      }
    },
    {
      "cell_type": "code",
      "source": [
        "# 대 AI 시대 파일입출력 어디까지 공부해야하나요?\n",
        "# 목적과 의도를 가지고 ChatGPT나 Claude에게 물어보면 됩니다.\n",
        "# 인코딩이 깨지는 경우, 어떻게 깨지는지도 알려주면 해결책을 알려주는 시대가\n",
        "# 되었습니다.\n",
        "\n",
        "# 주의해야할 점\n",
        "# 1. with 구문 사용해서 사용하세요.\n",
        "# 2. w 모드는 덮어쓰기 모드입니다. 뒤에 추가하고 싶으시면 a모드 사용하세요.\n",
        "\n",
        "with open('test.txt', 'w') as f:\n",
        "    f.write('hello world!')"
      ],
      "metadata": {
        "id": "w3N1ER9TDfJT"
      },
      "execution_count": 56,
      "outputs": []
    },
    {
      "cell_type": "code",
      "source": [
        "with open('test.txt', 'r') as f:\n",
        "    data = f.read()\n",
        "    print(data)"
      ],
      "metadata": {
        "colab": {
          "base_uri": "https://localhost:8080/"
        },
        "id": "1vDe0dK-El_9",
        "outputId": "9888bb79-f129-4454-b68d-941cb53a5d47"
      },
      "execution_count": 57,
      "outputs": [
        {
          "output_type": "stream",
          "name": "stdout",
          "text": [
            "hello world!\n"
          ]
        }
      ]
    },
    {
      "cell_type": "markdown",
      "source": [
        "# 비트연산자"
      ],
      "metadata": {
        "id": "TmJCKfiWGIFj"
      }
    },
    {
      "cell_type": "code",
      "source": [
        "# 비트연산은 실무에서 거의 사용하지 않습니다.\n",
        "# 간혹 알고리즘 문제에서 비트 연산 문제가 출제됩니다.\n",
        "\n",
        "3 & 9 # bit 연산자 and\n",
        "3 | 9 # bit 연산자 or"
      ],
      "metadata": {
        "colab": {
          "base_uri": "https://localhost:8080/"
        },
        "id": "5WDzfkq9Eslv",
        "outputId": "13e043b8-cf0b-4123-9484-9a0c68153d0d"
      },
      "execution_count": 59,
      "outputs": [
        {
          "output_type": "execute_result",
          "data": {
            "text/plain": [
              "11"
            ]
          },
          "metadata": {},
          "execution_count": 59
        }
      ]
    },
    {
      "cell_type": "code",
      "source": [
        "bin(3)"
      ],
      "metadata": {
        "colab": {
          "base_uri": "https://localhost:8080/",
          "height": 36
        },
        "id": "Edje1c03FHGn",
        "outputId": "0a67a1ea-40ee-48f8-8b6e-3e1cd32308ab"
      },
      "execution_count": 60,
      "outputs": [
        {
          "output_type": "execute_result",
          "data": {
            "text/plain": [
              "'0b11'"
            ],
            "application/vnd.google.colaboratory.intrinsic+json": {
              "type": "string"
            }
          },
          "metadata": {},
          "execution_count": 60
        }
      ]
    },
    {
      "cell_type": "code",
      "source": [
        "# 10진수 1982\n",
        "# 10^0 * 2 + 10^1 * 8 + 10^2 * 9 + 10^3 *1\n",
        "\n",
        "# 2진수 11\n",
        "# 2^0 * 1 + 2^1 * 1\n",
        "\n",
        "# 팁: 14라는 숫자를 2진수로 바꿔야 하는 경우가 생겼다?\n",
        "# 16이 가장 14랑 가까운 2의 승수이죠.\n",
        "# 10000\n",
        "# 1111\n",
        "# 1110"
      ],
      "metadata": {
        "id": "E1UDPSUdFOQu"
      },
      "execution_count": 61,
      "outputs": []
    },
    {
      "cell_type": "code",
      "source": [
        "# 3 & 9\n",
        "\n",
        "# 0011\n",
        "# 1001\n",
        "# ----\n",
        "# 0001"
      ],
      "metadata": {
        "id": "0_75G07WGEHf"
      },
      "execution_count": null,
      "outputs": []
    },
    {
      "cell_type": "code",
      "source": [
        "# 3 | 9\n",
        "\n",
        "# 0011\n",
        "# 1001\n",
        "# ----\n",
        "# 1011\n",
        "3 | 9"
      ],
      "metadata": {
        "colab": {
          "base_uri": "https://localhost:8080/"
        },
        "id": "Vg0VlCgpGa9N",
        "outputId": "3a4599a4-1bd2-4d5f-ce27-c5e90e290bba"
      },
      "execution_count": 62,
      "outputs": [
        {
          "output_type": "execute_result",
          "data": {
            "text/plain": [
              "11"
            ]
          },
          "metadata": {},
          "execution_count": 62
        }
      ]
    },
    {
      "cell_type": "code",
      "source": [
        "arr1 = [9, 20, 28, 18, 11]\n",
        "arr2 = [30, 1, 21, 17, 28]\n",
        "\n",
        "bin(9 | 30)\n",
        "bin(9 | 30)[2:]\n",
        "bin(9 | 30)[2:].replace('1', '#').replace('0', ' ')"
      ],
      "metadata": {
        "colab": {
          "base_uri": "https://localhost:8080/",
          "height": 36
        },
        "id": "sqHHFJH8Golg",
        "outputId": "1f39cfad-2fe2-41bd-f145-7b64249579f3"
      },
      "execution_count": 64,
      "outputs": [
        {
          "output_type": "execute_result",
          "data": {
            "text/plain": [
              "'#####'"
            ],
            "application/vnd.google.colaboratory.intrinsic+json": {
              "type": "string"
            }
          },
          "metadata": {},
          "execution_count": 64
        }
      ]
    },
    {
      "cell_type": "markdown",
      "source": [
        "# f-string"
      ],
      "metadata": {
        "id": "lKGdG0ijH_6h"
      }
    },
    {
      "cell_type": "code",
      "source": [
        "# 정말 자주 쓰는 코드이기 때문에 꼭 기억해주세요.\n",
        "num = 3.14159\n",
        "print(f\"{num:.2f}\")  # 출력: 3.14"
      ],
      "metadata": {
        "colab": {
          "base_uri": "https://localhost:8080/"
        },
        "id": "jFMIgqX3IBim",
        "outputId": "016194e6-5023-4aaf-bedc-e9c5c97e4e63"
      },
      "execution_count": 65,
      "outputs": [
        {
          "output_type": "stream",
          "name": "stdout",
          "text": [
            "3.14\n"
          ]
        }
      ]
    },
    {
      "cell_type": "code",
      "source": [
        "# 자주 안쓰는 코드이니, 이런게 가능하구나 정도만 기억해주세요.\n",
        "name = \"Alice\"\n",
        "print(f\"{name:>10}\")  # 출력:      Alice\n",
        "print(f\"{name:<10}\")\n",
        "print(f\"{name:^10}\")"
      ],
      "metadata": {
        "colab": {
          "base_uri": "https://localhost:8080/"
        },
        "id": "Xx6cC8oOIHLe",
        "outputId": "6b9e60ef-0dde-4ccf-e205-686543949611"
      },
      "execution_count": 67,
      "outputs": [
        {
          "output_type": "stream",
          "name": "stdout",
          "text": [
            "     Alice\n",
            "Alice     \n",
            "  Alice   \n"
          ]
        }
      ]
    },
    {
      "cell_type": "code",
      "source": [
        "print(f\"{name:=^20}\")  # 출력:      Alice"
      ],
      "metadata": {
        "colab": {
          "base_uri": "https://localhost:8080/"
        },
        "id": "DO4mF1dwIWHo",
        "outputId": "232ffc37-888f-4437-9197-8d8ac5c3d2d5"
      },
      "execution_count": 71,
      "outputs": [
        {
          "output_type": "stream",
          "name": "stdout",
          "text": [
            "=======Alice========\n"
          ]
        }
      ]
    },
    {
      "cell_type": "code",
      "source": [
        "# 아래 코드는 장고에서도 나오기 때문에 기억해주세요.\n",
        "\n",
        "print(f\"My set is {{1, 2, 3}}.\")  # 출력: My set is {1, 2, 3}.\n",
        "x = 10\n",
        "print(f\"My set is {{{x}}}.\")  # 출력: My set is {10}."
      ],
      "metadata": {
        "colab": {
          "base_uri": "https://localhost:8080/"
        },
        "id": "jYq3SNUIIi6F",
        "outputId": "615401cb-d0b8-4648-8cf7-ef1720882edc"
      },
      "execution_count": 72,
      "outputs": [
        {
          "output_type": "stream",
          "name": "stdout",
          "text": [
            "My set is {1, 2, 3}.\n",
            "My set is {10}.\n"
          ]
        }
      ]
    },
    {
      "cell_type": "markdown",
      "source": [
        "# 비동기 프로그래밍"
      ],
      "metadata": {
        "id": "-CXL7BcjJSMm"
      }
    },
    {
      "cell_type": "code",
      "source": [
        "# 당분간은 이 비동기를 다루실 일이 없을 겁니다.\n",
        "# 그래도 개념은 알고 있으셔야 하는 과목입니다."
      ],
      "metadata": {
        "id": "IkBOv-R_JTjd"
      },
      "execution_count": null,
      "outputs": []
    },
    {
      "cell_type": "code",
      "source": [
        "!pip install nest_asyncio"
      ],
      "metadata": {
        "colab": {
          "base_uri": "https://localhost:8080/"
        },
        "id": "Gdj9-LaxLGVV",
        "outputId": "8e79db2f-eb03-402e-eb3d-f46a8585804f"
      },
      "execution_count": 73,
      "outputs": [
        {
          "output_type": "stream",
          "name": "stdout",
          "text": [
            "Requirement already satisfied: nest_asyncio in /usr/local/lib/python3.11/dist-packages (1.6.0)\n"
          ]
        }
      ]
    },
    {
      "cell_type": "code",
      "source": [
        "import nest_asyncio\n",
        "\n",
        "nest_asyncio.apply()"
      ],
      "metadata": {
        "id": "qOLHq46fLGp7"
      },
      "execution_count": 74,
      "outputs": []
    },
    {
      "cell_type": "code",
      "source": [
        "import time\n",
        "\n",
        "def job(number):\n",
        "    print(f\"Job {number} started\")\n",
        "    time.sleep(3)  # 이 time.sleep이 매우 오래 걸리는 작업 이라 가정하고 그 효율을 생각해봅시다. 일반 sleep은 CPU를 쉬게 합니다.\n",
        "    print(f\"Job {number} completed\")\n",
        "\n",
        "job(1)\n",
        "job(2)\n",
        "job(3)"
      ],
      "metadata": {
        "colab": {
          "base_uri": "https://localhost:8080/"
        },
        "id": "cUf5jAbaLINF",
        "outputId": "55efa856-fb40-46a0-f8ac-7288df685a6b"
      },
      "execution_count": 75,
      "outputs": [
        {
          "output_type": "stream",
          "name": "stdout",
          "text": [
            "Job 1 started\n",
            "Job 1 completed\n",
            "Job 2 started\n",
            "Job 2 completed\n",
            "Job 3 started\n",
            "Job 3 completed\n"
          ]
        }
      ]
    },
    {
      "cell_type": "code",
      "source": [
        "import asyncio\n",
        "\n",
        "async def job(number):\n",
        "    print(f\"Job {number} started\")\n",
        "    await asyncio.sleep(1) # 매우 오래 걸리는 작업, asyncio.sleep은 비동기 처리를 할 수 있도록 합니다.(다른 작업이 가능합니다.)\n",
        "    print(f\"Job {number} completed\")\n",
        "\n",
        "async def main():\n",
        "    await asyncio.gather(job(1), job(2), job(3)) # await asyncio.wait([job(1), job(2), job(3)])\n",
        "\n",
        "asyncio.run(main())\n",
        "print('hello world')"
      ],
      "metadata": {
        "colab": {
          "base_uri": "https://localhost:8080/"
        },
        "id": "_2I4bXmuLO0m",
        "outputId": "82165366-d7a8-47c0-9c89-ccaa4d9fb242"
      },
      "execution_count": 76,
      "outputs": [
        {
          "output_type": "stream",
          "name": "stdout",
          "text": [
            "Job 1 started\n",
            "Job 2 started\n",
            "Job 3 started\n",
            "Job 1 completed\n",
            "Job 2 completed\n",
            "Job 3 completed\n",
            "hello world\n"
          ]
        }
      ]
    },
    {
      "cell_type": "markdown",
      "source": [
        "# 테스팅과 디버깅"
      ],
      "metadata": {
        "id": "mhsF57GYMZsH"
      }
    },
    {
      "cell_type": "code",
      "source": [
        "# 여러분 a + b를 해주는 add라는 함수를 만들어주세요!\n",
        "# 여러분은 아래와 같이 틀을 만들고 개발을 합니다.\n",
        "\n",
        "def add():\n",
        "    pass\n",
        "\n",
        "add()\n",
        "\n",
        "# 이렇게 만드는 것이 테스트 없이 개발하는 것입니다."
      ],
      "metadata": {
        "id": "NaKxLAb7MbJN"
      },
      "execution_count": null,
      "outputs": []
    },
    {
      "cell_type": "code",
      "source": [
        "# 여러분 a + b를 해주는 add라는 함수를 만들어주세요!\n",
        "# 테스트 부터 만듭니다!\n",
        "\n",
        "assert add(10, 20) == 30 # 이렇게 수십개를 먼저 만들고\n",
        "assert add(10, 40) == 50\n",
        "assert add(0, 3) == 33"
      ],
      "metadata": {
        "id": "BKhsBp7lMpR-"
      },
      "execution_count": null,
      "outputs": []
    },
    {
      "cell_type": "code",
      "source": [
        "def add(a, b):\n",
        "    return a - b\n",
        "\n",
        "assert add(10, 20) == 30"
      ],
      "metadata": {
        "colab": {
          "base_uri": "https://localhost:8080/",
          "height": 185
        },
        "id": "R8YrjLGWMwTF",
        "outputId": "061a786b-9e34-4489-ebf4-4a883ff656a2"
      },
      "execution_count": 78,
      "outputs": [
        {
          "output_type": "error",
          "ename": "AssertionError",
          "evalue": "",
          "traceback": [
            "\u001b[0;31m---------------------------------------------------------------------------\u001b[0m",
            "\u001b[0;31mAssertionError\u001b[0m                            Traceback (most recent call last)",
            "\u001b[0;32m<ipython-input-78-e0e3426389d0>\u001b[0m in \u001b[0;36m<cell line: 0>\u001b[0;34m()\u001b[0m\n\u001b[1;32m      2\u001b[0m     \u001b[0;32mreturn\u001b[0m \u001b[0ma\u001b[0m \u001b[0;34m-\u001b[0m \u001b[0mb\u001b[0m\u001b[0;34m\u001b[0m\u001b[0;34m\u001b[0m\u001b[0m\n\u001b[1;32m      3\u001b[0m \u001b[0;34m\u001b[0m\u001b[0m\n\u001b[0;32m----> 4\u001b[0;31m \u001b[0;32massert\u001b[0m \u001b[0madd\u001b[0m\u001b[0;34m(\u001b[0m\u001b[0;36m10\u001b[0m\u001b[0;34m,\u001b[0m \u001b[0;36m20\u001b[0m\u001b[0;34m)\u001b[0m \u001b[0;34m==\u001b[0m \u001b[0;36m30\u001b[0m\u001b[0;34m\u001b[0m\u001b[0;34m\u001b[0m\u001b[0m\n\u001b[0m",
            "\u001b[0;31mAssertionError\u001b[0m: "
          ]
        }
      ]
    },
    {
      "cell_type": "code",
      "source": [
        "assert 10 == 10\n",
        "assert 100 == 10"
      ],
      "metadata": {
        "colab": {
          "base_uri": "https://localhost:8080/",
          "height": 167
        },
        "id": "2flGagW3NKEe",
        "outputId": "966c377b-418c-4aa5-90a1-fed0f2b4b623"
      },
      "execution_count": 80,
      "outputs": [
        {
          "output_type": "error",
          "ename": "AssertionError",
          "evalue": "",
          "traceback": [
            "\u001b[0;31m---------------------------------------------------------------------------\u001b[0m",
            "\u001b[0;31mAssertionError\u001b[0m                            Traceback (most recent call last)",
            "\u001b[0;32m<ipython-input-80-8b26e83d670f>\u001b[0m in \u001b[0;36m<cell line: 0>\u001b[0;34m()\u001b[0m\n\u001b[1;32m      1\u001b[0m \u001b[0;32massert\u001b[0m \u001b[0;36m10\u001b[0m \u001b[0;34m==\u001b[0m \u001b[0;36m10\u001b[0m\u001b[0;34m\u001b[0m\u001b[0;34m\u001b[0m\u001b[0m\n\u001b[0;32m----> 2\u001b[0;31m \u001b[0;32massert\u001b[0m \u001b[0;36m100\u001b[0m \u001b[0;34m==\u001b[0m \u001b[0;36m10\u001b[0m\u001b[0;34m\u001b[0m\u001b[0;34m\u001b[0m\u001b[0m\n\u001b[0m",
            "\u001b[0;31mAssertionError\u001b[0m: "
          ]
        }
      ]
    },
    {
      "cell_type": "code",
      "source": [
        "# 이렇게 해야 견고한 코드를 작성할 수 있구요.\n",
        "# 오버엔지니어링도 방어할 수 있습니다."
      ],
      "metadata": {
        "id": "XfnO_47tNdgf"
      },
      "execution_count": null,
      "outputs": []
    },
    {
      "cell_type": "code",
      "source": [
        "# 보고 싶은 변수 이름\n",
        "# import unittest\n",
        "\n",
        "# def add(x, y):\n",
        "#     return x + y\n",
        "\n",
        "# class TestAdd(unittest.TestCase):\n",
        "#     def test_add(self):\n",
        "#         self.assertEqual(add(1, 2), 3)\n",
        "\n",
        "# if __name__ == '__main__':\n",
        "#     unittest.main()\n",
        "\n",
        "'''\n",
        "# unittest에서 제공하는 여러가지 메서드\n",
        "self.assertEqual(1 + 2, 3)\n",
        "self.assertTrue(10 == 10)\n",
        "self.assertFalse(1 == 10)\n",
        "self.assertGreater(10, 1)\n",
        "self.assertLess(1, 10)\n",
        "self.assertIn(1, [1, 2, 3, 4, 5])\n",
        "self.assertIsInstance('a', str)\n",
        "'''\n",
        "\n",
        "'''\n",
        "나는 Django로 간단한 블로그를 만들거야.\n",
        "테스트 주도 개발을 해보고 싶은데 테스트 코드를 간단하게 작성해줘.\n",
        "'''\n",
        "\n",
        "'''\n",
        "그러면 위 코드를 기반으로 이 테스트코드를 통과할 수 있는 코드를 생성해줘.\n",
        "'''"
      ],
      "metadata": {
        "id": "l4pXhGG3emlg"
      },
      "execution_count": null,
      "outputs": []
    },
    {
      "cell_type": "code",
      "source": [
        "def add(a, b):\n",
        "    return a + b\n",
        "\n",
        "def test():\n",
        "    for i in range(10):\n",
        "        x = add(i, 10)\n",
        "        breakpoint()\n",
        "    for i in range(10):\n",
        "        y = add(i, 100)\n",
        "        breakpoint()\n",
        "\n",
        "test()"
      ],
      "metadata": {
        "colab": {
          "base_uri": "https://localhost:8080/"
        },
        "id": "mZf6SDkNgpIo",
        "outputId": "3647b737-959f-4115-93d5-59a15bdb9ac6"
      },
      "execution_count": 81,
      "outputs": [
        {
          "output_type": "stream",
          "name": "stderr",
          "text": [
            "\n",
            "PYDEV DEBUGGER WARNING:\n",
            "sys.settrace() should not be used when the debugger is being used.\n",
            "This may cause the debugger to stop working correctly.\n",
            "If this is needed, please check: \n",
            "http://pydev.blogspot.com/2007/06/why-cant-pydev-debugger-work-with.html\n",
            "to see how to restore the debug tracing back correctly.\n",
            "Call Location:\n",
            "  File \"/usr/lib/python3.11/bdb.py\", line 336, in set_trace\n",
            "    sys.settrace(self.trace_dispatch)\n",
            "\n"
          ]
        },
        {
          "name": "stdout",
          "output_type": "stream",
          "text": [
            "> \u001b[0;32m<ipython-input-81-83f18a4d5450>\u001b[0m(5)\u001b[0;36mtest\u001b[0;34m()\u001b[0m\n",
            "\u001b[0;32m      3 \u001b[0;31m\u001b[0;34m\u001b[0m\u001b[0m\n",
            "\u001b[0m\u001b[0;32m      4 \u001b[0;31m\u001b[0;32mdef\u001b[0m \u001b[0mtest\u001b[0m\u001b[0;34m(\u001b[0m\u001b[0;34m)\u001b[0m\u001b[0;34m:\u001b[0m\u001b[0;34m\u001b[0m\u001b[0;34m\u001b[0m\u001b[0m\n",
            "\u001b[0m\u001b[0;32m----> 5 \u001b[0;31m    \u001b[0;32mfor\u001b[0m \u001b[0mi\u001b[0m \u001b[0;32min\u001b[0m \u001b[0mrange\u001b[0m\u001b[0;34m(\u001b[0m\u001b[0;36m10\u001b[0m\u001b[0;34m)\u001b[0m\u001b[0;34m:\u001b[0m\u001b[0;34m\u001b[0m\u001b[0;34m\u001b[0m\u001b[0m\n",
            "\u001b[0m\u001b[0;32m      6 \u001b[0;31m        \u001b[0mx\u001b[0m \u001b[0;34m=\u001b[0m \u001b[0madd\u001b[0m\u001b[0;34m(\u001b[0m\u001b[0mi\u001b[0m\u001b[0;34m,\u001b[0m \u001b[0;36m10\u001b[0m\u001b[0;34m)\u001b[0m\u001b[0;34m\u001b[0m\u001b[0;34m\u001b[0m\u001b[0m\n",
            "\u001b[0m\u001b[0;32m      7 \u001b[0;31m        \u001b[0mbreakpoint\u001b[0m\u001b[0;34m(\u001b[0m\u001b[0;34m)\u001b[0m\u001b[0;34m\u001b[0m\u001b[0;34m\u001b[0m\u001b[0m\n",
            "\u001b[0m\n",
            "ipdb> x\n",
            "10\n",
            "ipdb> n\n",
            "> \u001b[0;32m<ipython-input-81-83f18a4d5450>\u001b[0m(6)\u001b[0;36mtest\u001b[0;34m()\u001b[0m\n",
            "\u001b[0;32m      4 \u001b[0;31m\u001b[0;32mdef\u001b[0m \u001b[0mtest\u001b[0m\u001b[0;34m(\u001b[0m\u001b[0;34m)\u001b[0m\u001b[0;34m:\u001b[0m\u001b[0;34m\u001b[0m\u001b[0;34m\u001b[0m\u001b[0m\n",
            "\u001b[0m\u001b[0;32m      5 \u001b[0;31m    \u001b[0;32mfor\u001b[0m \u001b[0mi\u001b[0m \u001b[0;32min\u001b[0m \u001b[0mrange\u001b[0m\u001b[0;34m(\u001b[0m\u001b[0;36m10\u001b[0m\u001b[0;34m)\u001b[0m\u001b[0;34m:\u001b[0m\u001b[0;34m\u001b[0m\u001b[0;34m\u001b[0m\u001b[0m\n",
            "\u001b[0m\u001b[0;32m----> 6 \u001b[0;31m        \u001b[0mx\u001b[0m \u001b[0;34m=\u001b[0m \u001b[0madd\u001b[0m\u001b[0;34m(\u001b[0m\u001b[0mi\u001b[0m\u001b[0;34m,\u001b[0m \u001b[0;36m10\u001b[0m\u001b[0;34m)\u001b[0m\u001b[0;34m\u001b[0m\u001b[0;34m\u001b[0m\u001b[0m\n",
            "\u001b[0m\u001b[0;32m      7 \u001b[0;31m        \u001b[0mbreakpoint\u001b[0m\u001b[0;34m(\u001b[0m\u001b[0;34m)\u001b[0m\u001b[0;34m\u001b[0m\u001b[0;34m\u001b[0m\u001b[0m\n",
            "\u001b[0m\u001b[0;32m      8 \u001b[0;31m    \u001b[0;32mfor\u001b[0m \u001b[0mi\u001b[0m \u001b[0;32min\u001b[0m \u001b[0mrange\u001b[0m\u001b[0;34m(\u001b[0m\u001b[0;36m10\u001b[0m\u001b[0;34m)\u001b[0m\u001b[0;34m:\u001b[0m\u001b[0;34m\u001b[0m\u001b[0;34m\u001b[0m\u001b[0m\n",
            "\u001b[0m\n",
            "ipdb> n\n",
            "> \u001b[0;32m<ipython-input-81-83f18a4d5450>\u001b[0m(7)\u001b[0;36mtest\u001b[0;34m()\u001b[0m\n",
            "\u001b[0;32m      5 \u001b[0;31m    \u001b[0;32mfor\u001b[0m \u001b[0mi\u001b[0m \u001b[0;32min\u001b[0m \u001b[0mrange\u001b[0m\u001b[0;34m(\u001b[0m\u001b[0;36m10\u001b[0m\u001b[0;34m)\u001b[0m\u001b[0;34m:\u001b[0m\u001b[0;34m\u001b[0m\u001b[0;34m\u001b[0m\u001b[0m\n",
            "\u001b[0m\u001b[0;32m      6 \u001b[0;31m        \u001b[0mx\u001b[0m \u001b[0;34m=\u001b[0m \u001b[0madd\u001b[0m\u001b[0;34m(\u001b[0m\u001b[0mi\u001b[0m\u001b[0;34m,\u001b[0m \u001b[0;36m10\u001b[0m\u001b[0;34m)\u001b[0m\u001b[0;34m\u001b[0m\u001b[0;34m\u001b[0m\u001b[0m\n",
            "\u001b[0m\u001b[0;32m----> 7 \u001b[0;31m        \u001b[0mbreakpoint\u001b[0m\u001b[0;34m(\u001b[0m\u001b[0;34m)\u001b[0m\u001b[0;34m\u001b[0m\u001b[0;34m\u001b[0m\u001b[0m\n",
            "\u001b[0m\u001b[0;32m      8 \u001b[0;31m    \u001b[0;32mfor\u001b[0m \u001b[0mi\u001b[0m \u001b[0;32min\u001b[0m \u001b[0mrange\u001b[0m\u001b[0;34m(\u001b[0m\u001b[0;36m10\u001b[0m\u001b[0;34m)\u001b[0m\u001b[0;34m:\u001b[0m\u001b[0;34m\u001b[0m\u001b[0;34m\u001b[0m\u001b[0m\n",
            "\u001b[0m\u001b[0;32m      9 \u001b[0;31m        \u001b[0my\u001b[0m \u001b[0;34m=\u001b[0m \u001b[0madd\u001b[0m\u001b[0;34m(\u001b[0m\u001b[0mi\u001b[0m\u001b[0;34m,\u001b[0m \u001b[0;36m100\u001b[0m\u001b[0;34m)\u001b[0m\u001b[0;34m\u001b[0m\u001b[0;34m\u001b[0m\u001b[0m\n",
            "\u001b[0m\n",
            "ipdb> x\n",
            "11\n",
            "ipdb> y\n",
            "{'key2': 'value2'}\n",
            "ipdb> q\n"
          ]
        },
        {
          "output_type": "stream",
          "name": "stderr",
          "text": [
            "\n",
            "PYDEV DEBUGGER WARNING:\n",
            "sys.settrace() should not be used when the debugger is being used.\n",
            "This may cause the debugger to stop working correctly.\n",
            "If this is needed, please check: \n",
            "http://pydev.blogspot.com/2007/06/why-cant-pydev-debugger-work-with.html\n",
            "to see how to restore the debug tracing back correctly.\n",
            "Call Location:\n",
            "  File \"/usr/lib/python3.11/bdb.py\", line 361, in set_quit\n",
            "    sys.settrace(None)\n",
            "\n"
          ]
        }
      ]
    },
    {
      "cell_type": "markdown",
      "source": [
        "# 정규 표현식"
      ],
      "metadata": {
        "id": "eUbh6lSQijDr"
      }
    },
    {
      "cell_type": "code",
      "source": [
        "# 데이터 분석 직군: 정규표현식 빡빡하게 가르칠 것 같습니다.\n",
        "# 웹 개발자 직군: 조금 더 널널하게 배우셔도 됩니다. 추후에 필요할 때 다시 공부하면 됩니다.\n",
        "\n",
        "# 정규표현식은 모든 언어 공통"
      ],
      "metadata": {
        "id": "KrSrt3bbiiov"
      },
      "execution_count": 82,
      "outputs": []
    },
    {
      "cell_type": "code",
      "source": [
        "# '컴퓨터 과학은 어렵다 그 중에서도 가장 어려운 것은 정규 표현식이다.' 이런 유명한 글이 있습니다.\n",
        "# 정규표현식은 아주 오랫동안 공부해야 하는 과목입니다."
      ],
      "metadata": {
        "id": "0vuCTNujjJ1P"
      },
      "execution_count": 83,
      "outputs": []
    },
    {
      "cell_type": "code",
      "source": [
        "# 웹 개발자가 정규표현식을 배워하는 이유\n",
        "# 1. 아래와 같은 form 값에 유효성 검증\n",
        "# 010-5044-2903\n",
        "# awehfiahweflaiwfh\n",
        "# 사람인지 아닌지 말해봐\n",
        "# 신세 한탄..\n",
        "# \"SELECT * FROM users WHERE username = '{username}' AND password = '{password}'\"\n",
        "\n",
        "# 2. URL 작성과 같은 것에 사용 - 실제 Django에서도 조금 사용\n",
        "\n",
        "\n",
        "# 1. 일반 문자열\n",
        "# hello\n",
        "\n",
        "# 2. 처음과 끝\n",
        "# ^hello\n",
        "# hello$\n",
        "\n",
        "# 3. 모든 문자열 매칭\n",
        "# h.llo\n",
        "# h.... # h로 시작하는 5개의 문\n",
        "\n",
        "# 4. 택1\n",
        "# h[eao]llo\n",
        "# [김이박]씨\n",
        "# 010[- ][0-9][0-9][0-9][0-9][- ][0-9][0-9][0-9][0-9]\n",
        "# 064-721-3213\n",
        "# 064-735-6435\n",
        "# 064!735!6235\n",
        "# 064[-!]7[0-9][0-9][-!][0-9][0-9][0-9][0-9]\n",
        "\n",
        "# 5. 범위\n",
        "# /h[a-f]llo/gm\n",
        "# /[a-zA-Z0-9]/gm : 모든 알파뱃과 숫자를 찾음\n",
        "# /[^a-zA-Z0-9]/gm : 나머지 문자열을 찾음\n",
        "\n",
        "# 6. 그룹\n",
        "# 김씨\n",
        "# 이씨\n",
        "# 박씨\n",
        "\n",
        "# 김성\n",
        "# 이성\n",
        "# 박성\n",
        "# (김|이|박)(씨|성) 와 같이 사용 가능\n",
        "\n",
        "# 7. 수량자\n",
        "# 010[- ][0-9][0-9][0-9][0-9][- ][0-9][0-9][0-9][0-9]\n",
        "# 010[- ][0-9]{4}[- ][0-9]{4}\n",
        "# _* : 앞에 있는 문자가 0개 ~ N개\n",
        "# _+ : 앞에 있는 문자가 1개 ~ N개\n",
        "# _? : 앞에 있는 문자가 0개 ~ 1개\n",
        "# {3} : 3개\n",
        "# 010[- ]?[0-9]{4}[- ]?[0-9]{4}\n",
        "\n",
        "# 8. 캐릭터 클래스\n",
        "# /\\w/gm : 워드\n",
        "# /\\d/gm : 숫자\n",
        "# 010[- ]?\\d{4}[- ]?\\d{4}\n",
        "\n",
        "# 9. 이스케이프 문자\n",
        "# \\[.*] 대괄호 자체를 씁니다!\n",
        "# \\[.*\\]\n"
      ],
      "metadata": {
        "id": "AG2GRZwyjVMO"
      },
      "execution_count": null,
      "outputs": []
    },
    {
      "cell_type": "code",
      "source": [
        "print('hello\\nworld')"
      ],
      "metadata": {
        "colab": {
          "base_uri": "https://localhost:8080/"
        },
        "id": "6LIq3gAAts6e",
        "outputId": "961b26a4-400a-4933-8d21-80fdb208c8c9"
      },
      "execution_count": 84,
      "outputs": [
        {
          "output_type": "stream",
          "name": "stdout",
          "text": [
            "hello\n",
            "world\n"
          ]
        }
      ]
    },
    {
      "cell_type": "code",
      "source": [
        "import re\n",
        "\n",
        "re.findall('[0-9]', 'hello 123 helwldoaldl21 2 saf32rp2ieaslefj903')"
      ],
      "metadata": {
        "colab": {
          "base_uri": "https://localhost:8080/"
        },
        "id": "9gdBa8m3s4zR",
        "outputId": "031f03d3-5a48-481d-b951-30d9f8e42779"
      },
      "execution_count": 85,
      "outputs": [
        {
          "output_type": "execute_result",
          "data": {
            "text/plain": [
              "['1', '2', '3', '2', '1', '2', '3', '2', '2', '9', '0', '3']"
            ]
          },
          "metadata": {},
          "execution_count": 85
        }
      ]
    },
    {
      "cell_type": "code",
      "source": [
        "import re\n",
        "\n",
        "re.findall('[0-9]{2}', 'hello 123 helwldoaldl21 2 saf32rp2ieaslefj903')\n",
        "re.findall('[0-9]{3}', 'hello 123 helwldoaldl21 2 saf32rp2ieaslefj903')"
      ],
      "metadata": {
        "colab": {
          "base_uri": "https://localhost:8080/"
        },
        "id": "tLne5JeAu9-S",
        "outputId": "154f8747-fecc-4b51-beaf-502854519b77"
      },
      "execution_count": 87,
      "outputs": [
        {
          "output_type": "execute_result",
          "data": {
            "text/plain": [
              "['123', '903']"
            ]
          },
          "metadata": {},
          "execution_count": 87
        }
      ]
    },
    {
      "cell_type": "code",
      "source": [
        "# S는 1승, 2는 2승, 3은 3승입니다!\n",
        "# 다트 게임입니다. 3번 던집니다.\n",
        "# 앞에는 점수, 뒤에는 승수입니다.\n",
        "# 1S 2D 3T\n",
        "\n",
        "# 1S2D3T 1 ** 1 + 2 ** 2 + 3 ** 3 => 정답\n",
        "# 2D2D3T 2 ** 2 + 2 ** 2 + 3 ** 3 => 정답\n",
        "# 1T3D3T\n",
        "# 2T4D4T\n",
        "\n",
        "result = []\n",
        "for i in '1S2D3T':\n",
        "    if i.isdigit():\n",
        "        result.append(int(i))\n",
        "    elif i == 'S':\n",
        "        result[-1] = result[-1] ** 1\n",
        "    elif i == 'D':\n",
        "        result[-1] = result[-1] ** 2\n",
        "    elif i == 'T':\n",
        "        result[-1] = result[-1] ** 3\n",
        "\n",
        "result"
      ],
      "metadata": {
        "colab": {
          "base_uri": "https://localhost:8080/"
        },
        "id": "O7Fe_VFLvTWm",
        "outputId": "263d5515-a352-4bf0-ba99-22afd4333e54"
      },
      "execution_count": 89,
      "outputs": [
        {
          "output_type": "execute_result",
          "data": {
            "text/plain": [
              "[1, 4, 27]"
            ]
          },
          "metadata": {},
          "execution_count": 89
        }
      ]
    },
    {
      "cell_type": "code",
      "source": [
        "# S는 1승, 2는 2승, 3은 3승입니다!\n",
        "# 다트 게임입니다. 3번 던집니다.\n",
        "# 앞에는 점수, 뒤에는 승수입니다.\n",
        "# 1S 2D 3T\n",
        "\n",
        "# 1S2D3T 1 ** 1 + 2 ** 2 + 3 ** 3 => 정답\n",
        "# 2D2D3T 2 ** 2 + 2 ** 2 + 3 ** 3 => 정답\n",
        "# 1T3D3T\n",
        "# 2T4D4T\n",
        "\n",
        "re.findall('(10|[1-9])([SDT])', '1S2D3T')\n",
        "re.findall('(10|[1-9])([SDT])', '10S2D3T')\n",
        "\n",
        "result = []\n",
        "for 점수, 승수 in re.findall('(10|[1-9])([SDT])', '10S2D3T'):\n",
        "    if 승수 == 'S':\n",
        "        result.append(int(점수) ** 1)\n",
        "    elif 승수 == 'D':\n",
        "        result.append(int(점수) ** 2)\n",
        "    elif 승수 == 'T':\n",
        "        result.append(int(점수) ** 3)\n",
        "\n",
        "result"
      ],
      "metadata": {
        "colab": {
          "base_uri": "https://localhost:8080/"
        },
        "id": "wCT7VFn9wTf3",
        "outputId": "bda0aedb-3184-4db5-eac9-d12cd0392775"
      },
      "execution_count": 92,
      "outputs": [
        {
          "output_type": "execute_result",
          "data": {
            "text/plain": [
              "[10, 4, 27]"
            ]
          },
          "metadata": {},
          "execution_count": 92
        }
      ]
    },
    {
      "cell_type": "code",
      "source": [
        "# findall - 패턴에 매칭되는 것을 모두 찾는 메서드\n",
        "# sub - str에 replace와 같습니다.\n",
        "\n",
        "'11100011100'.replace('1', '#')\n",
        "# 숫자를 찾아서 모두 띄어쓰기로 바꿔주세요!\n",
        "'aweff2123sdf9a3rjs9fjslks'.replace('1', ' ').replace('2', ' ').replace('3', ' ')\n",
        "\n",
        "re.sub('[0-9]', ' ', 'aweff2123sdf9a3rjs9fjslks')"
      ],
      "metadata": {
        "colab": {
          "base_uri": "https://localhost:8080/",
          "height": 36
        },
        "id": "ETSe5K-1x5IJ",
        "outputId": "1d5a6b82-17f1-43d4-8f33-ae02a89e3acf"
      },
      "execution_count": 94,
      "outputs": [
        {
          "output_type": "execute_result",
          "data": {
            "text/plain": [
              "'aweff    sdf a rjs fjslks'"
            ],
            "application/vnd.google.colaboratory.intrinsic+json": {
              "type": "string"
            }
          },
          "metadata": {},
          "execution_count": 94
        }
      ]
    },
    {
      "cell_type": "code",
      "source": [
        "# 다음 문자열에서 r, e, v 뒤에 나오는 숫자들을 모두 찾아주세요.\n",
        "# r, e, v에는 1 ~ 10까지의 숫자가 들어갑니다.\n",
        "'a10b9r1ce33uab8wc918v2cv11v9'\n",
        "\n",
        "re.findall('([rev])(10|[1-9])', 'a10b9r1ce33uab8wc918v2cv11v9')"
      ],
      "metadata": {
        "colab": {
          "base_uri": "https://localhost:8080/"
        },
        "id": "b4fdykZDy4YM",
        "outputId": "882bed9d-782d-4593-c49a-e5a67b0e66e2"
      },
      "execution_count": 95,
      "outputs": [
        {
          "output_type": "execute_result",
          "data": {
            "text/plain": [
              "[('r', '1'), ('e', '3'), ('v', '2'), ('v', '1'), ('v', '9')]"
            ]
          },
          "metadata": {},
          "execution_count": 95
        }
      ]
    },
    {
      "cell_type": "markdown",
      "source": [
        "# Random"
      ],
      "metadata": {
        "id": "zuMJupkE2DYa"
      }
    },
    {
      "cell_type": "code",
      "source": [
        "import random\n",
        "\n",
        "random.randint(1, 3)"
      ],
      "metadata": {
        "colab": {
          "base_uri": "https://localhost:8080/"
        },
        "id": "Wn7pJJkU2FEY",
        "outputId": "f1eb2c20-caad-4b17-b80d-87c47dd9cece"
      },
      "execution_count": 110,
      "outputs": [
        {
          "output_type": "execute_result",
          "data": {
            "text/plain": [
              "1"
            ]
          },
          "metadata": {},
          "execution_count": 110
        }
      ]
    },
    {
      "cell_type": "code",
      "source": [
        "import random\n",
        "\n",
        "# random을 고정수로 사용하고 싶습니다!\n",
        "\n",
        "random.seed(42)\n",
        "\n",
        "random.randint(1, 3)"
      ],
      "metadata": {
        "colab": {
          "base_uri": "https://localhost:8080/"
        },
        "id": "lW8EA2M62NN9",
        "outputId": "7149fdca-b577-4fdf-888c-a7a6648cad52"
      },
      "execution_count": 114,
      "outputs": [
        {
          "output_type": "execute_result",
          "data": {
            "text/plain": [
              "3"
            ]
          },
          "metadata": {},
          "execution_count": 114
        }
      ]
    },
    {
      "cell_type": "code",
      "source": [
        "colors = ['red', 'blue', 'green', 'yellow']\n",
        "random.shuffle(colors)\n",
        "print(colors)"
      ],
      "metadata": {
        "colab": {
          "base_uri": "https://localhost:8080/"
        },
        "id": "TAscSXI32T71",
        "outputId": "9290dfd7-4312-45b2-fde5-4e19524df28e"
      },
      "execution_count": 115,
      "outputs": [
        {
          "output_type": "stream",
          "name": "stdout",
          "text": [
            "['green', 'blue', 'yellow', 'red']\n"
          ]
        }
      ]
    },
    {
      "cell_type": "code",
      "source": [
        "# 생성\n",
        "example = b'hello'\n",
        "\n",
        "# 인덱싱\n",
        "print(example[0])  # 출력: 104 (아스키 코드로 'h')\n",
        "print(example[1])  # 출력: 101 (아스키 코드로 'e')"
      ],
      "metadata": {
        "id": "euvd_3No55NY"
      },
      "execution_count": null,
      "outputs": []
    },
    {
      "cell_type": "code",
      "source": [
        "# f'': str 생성\n",
        "# b'': bytes값을 주는 시퀀스 생성\n",
        "# r'': raw값을 주는 string 생성\n",
        "# t'': 14버전에 포함될 아직 나오지 않은 문법"
      ],
      "metadata": {
        "id": "BNI-4B2-56Wj"
      },
      "execution_count": null,
      "outputs": []
    },
    {
      "cell_type": "code",
      "source": [
        "# https://paullab.co.kr/bookservice/\n",
        "# 책 제목, 저자, 가격을 크롤링\n",
        "# select만 사용해서 코드가 복잡하지 않도록\n",
        "\n",
        "# 프롬프트: https://paullab.co.kr/bookservice 을 크롤링 할 예정이야. 책 제목, 저자, 가격을 크롤링할 예정이고,  select만 사용해서 코드가 복잡하지 않도록 해줘.\n",
        "# 나는 코드 중에서 books를 리스트로 만들지 않고, class와 인스턴스로 만들었으면 좋겠어."
      ],
      "metadata": {
        "id": "Z5eVIAII6jYr"
      },
      "execution_count": null,
      "outputs": []
    },
    {
      "cell_type": "code",
      "source": [
        "import requests\n",
        "from bs4 import BeautifulSoup\n",
        "\n",
        "# 웹 페이지 요청\n",
        "url = 'https://paullab.co.kr/bookservice'\n",
        "response = requests.get(url)\n",
        "\n",
        "# 응답이 성공적인지 확인\n",
        "if response.status_code == 200:\n",
        "    # HTML 파싱\n",
        "    soup = BeautifulSoup(response.text, 'html.parser')\n",
        "\n",
        "    # 책 컨테이너 선택\n",
        "    book_containers = soup.select('.container.book_contents .row')\n",
        "\n",
        "    # 결과 저장할 리스트\n",
        "    books = []\n",
        "\n",
        "    # 각 책 정보 추출\n",
        "    for container in book_containers:\n",
        "        title = container.select('.book_name')[0].text.strip()\n",
        "\n",
        "        # 가격 정보 추출 (첫 번째 book_info 항목)\n",
        "        price_info = container.select('.book_info')[0].text.strip()\n",
        "        price = price_info.replace('가격: ', '')\n",
        "\n",
        "        # 저자 정보 추출 (두 번째 book_info 항목)\n",
        "        author_info = container.select('.book_info')[1].text.strip()\n",
        "        author = author_info.replace('저자: ', '')\n",
        "\n",
        "        # 결과 딕셔너리에 저장\n",
        "        books.append({\n",
        "            '제목': title,\n",
        "            '가격': price,\n",
        "            '저자': author\n",
        "        })\n",
        "\n",
        "    # 결과 출력\n",
        "    for i, book in enumerate(books, 1):\n",
        "        print(f\"[책 {i}]\")\n",
        "        print(f\"제목: {book['제목']}\")\n",
        "        print(f\"가격: {book['가격']}\")\n",
        "        print(f\"저자: {book['저자']}\")\n",
        "        print('-' * 50)\n",
        "\n",
        "else:\n",
        "    print(f\"웹 페이지 요청 실패: 상태 코드 {response.status_code}\")"
      ],
      "metadata": {
        "colab": {
          "base_uri": "https://localhost:8080/"
        },
        "id": "i7Mbubbw7NcA",
        "outputId": "53ba01d7-b761-4a2e-85e5-ec87b9cc3d2f"
      },
      "execution_count": 116,
      "outputs": [
        {
          "output_type": "stream",
          "name": "stdout",
          "text": [
            "[책 1]\n",
            "제목: 메모혁신 Notion(노션) 활용 가이드\n",
            "가격: 7,000원\n",
            "저자: 이호준, 이준호, 김혜원, 김유진, 차경림, 김진, 현지연, 정승한\n",
            "--------------------------------------------------\n",
            "[책 2]\n",
            "제목: 이력서 작성 가이드\n",
            "가격: 10,000원\n",
            "저자: 강혜진, 김유진, 김혜원, 김진, 이범재, 이호준, 원유선, 박누리, 차경림, 최원범, 한재현\n",
            "--------------------------------------------------\n",
            "[책 3]\n",
            "제목: 제주코딩베이스캠프 Code Festival: Python 100제 1부\n",
            "가격: 무료\n",
            "저자: 이호준, 강민정, 김유진, 정윤하, 최원범\n",
            "--------------------------------------------------\n",
            "[책 4]\n",
            "제목: 튜토리얼로 배우는 HTML&CSS\n",
            "가격: 4,900원\n",
            "저자: 이호준, 박민균, 양지혜, 정민준, 박소영, 전유빈\n",
            "--------------------------------------------------\n",
            "[책 5]\n",
            "제목: 코딩도장 튜토리얼로 배우는 Python 1편 object\n",
            "가격: 3,000원\n",
            "저자: 이호준, 정민준, 배희성, 김덕주, 한승협\n",
            "--------------------------------------------------\n",
            "[책 6]\n",
            "제목: 코딩도장 튜토리얼로 배우는 python 2편 제어문\n",
            "가격: 4,900원\n",
            "저자: 이호준, 우지훈, 박소영, 허재영\n",
            "--------------------------------------------------\n",
            "[책 7]\n",
            "제목: 코딩도장 튜토리얼로 배우는 Python 문제풀이\n",
            "가격: 무료\n",
            "저자: 이호준, 전유빈, 김태범, 한승협, 김혜원, 강민정\n",
            "--------------------------------------------------\n",
            "[책 8]\n",
            "제목: 타노스의 건틀릿 알고리즘 With Python\n",
            "가격: 무료\n",
            "저자: 이호준, 한승협, 강민정, 신민욱\n",
            "--------------------------------------------------\n",
            "[책 9]\n",
            "제목: xlsxwriter 튜토리얼로 배우는 Python 엑셀 프로그래밍\n",
            "가격: 무료\n",
            "저자: 이호준, 강상권, 오재원, 전진환, 문형철, 이현창\n",
            "--------------------------------------------------\n",
            "[책 10]\n",
            "제목: 러플 튜토리얼로 배우는 Python\n",
            "가격: 4,900\n",
            "저자: 이호준, 배희성, 양지혜, 박소영, 김수연, 정민준\n",
            "--------------------------------------------------\n",
            "[책 11]\n",
            "제목: 인공지능을 활용한 업무자동화 With Google Developers Group JEJU\n",
            "가격: 무료\n",
            "저자: 이호준, 이준호, 현암, 윤현담, 김루비, 이동민, 유승엽, 박서윤, 김채린, 한승협, 안상우, 장성원, 전진환, 강민성, 조민구, 전창삼\n",
            "--------------------------------------------------\n"
          ]
        }
      ]
    },
    {
      "cell_type": "code",
      "source": [
        "import requests\n",
        "from bs4 import BeautifulSoup\n",
        "\n",
        "# Book 클래스 정의\n",
        "class Book:\n",
        "    def __init__(self, title, price, author):\n",
        "        self.title = title\n",
        "        self.price = price\n",
        "        self.author = author\n",
        "\n",
        "    def __str__(self):\n",
        "        return f\"제목: {self.title}\\n가격: {self.price}\\n저자: {self.author}\"\n",
        "\n",
        "# BookCrawler 클래스 정의\n",
        "class BookCrawler:\n",
        "    def __init__(self, url):\n",
        "        self.url = url\n",
        "        self.books = []\n",
        "\n",
        "    def crawl(self):\n",
        "        # 웹 페이지 요청\n",
        "        response = requests.get(self.url)\n",
        "\n",
        "        # 응답이 성공적인지 확인\n",
        "        if response.status_code == 200:\n",
        "            # HTML 파싱\n",
        "            soup = BeautifulSoup(response.text, 'html.parser')\n",
        "\n",
        "            # 책 컨테이너 선택\n",
        "            book_containers = soup.select('.container.book_contents .row')\n",
        "\n",
        "            # 각 책 정보 추출 및 Book 인스턴스 생성\n",
        "            for container in book_containers:\n",
        "                title = container.select('.book_name')[0].text.strip()\n",
        "\n",
        "                # 가격 정보 추출 (첫 번째 book_info 항목)\n",
        "                price_info = container.select('.book_info')[0].text.strip()\n",
        "                price = price_info.replace('가격: ', '')\n",
        "\n",
        "                # 저자 정보 추출 (두 번째 book_info 항목)\n",
        "                author_info = container.select('.book_info')[1].text.strip()\n",
        "                author = author_info.replace('저자: ', '')\n",
        "\n",
        "                # Book 인스턴스 생성 및 리스트에 추가\n",
        "                book = Book(title, price, author)\n",
        "                self.books.append(book)\n",
        "\n",
        "            return True\n",
        "        else:\n",
        "            print(f\"웹 페이지 요청 실패: 상태 코드 {response.status_code}\")\n",
        "            return False\n",
        "\n",
        "    def print_books(self):\n",
        "        if not self.books:\n",
        "            print(\"크롤링된 책 정보가 없습니다.\")\n",
        "            return\n",
        "\n",
        "        for i, book in enumerate(self.books, 1):\n",
        "            print(f\"[책 {i}]\")\n",
        "            print(book)\n",
        "            print('-' * 50)\n",
        "\n",
        "# 크롤러 인스턴스 생성 및 실행\n",
        "if __name__ == \"__main__\":\n",
        "    crawler = BookCrawler('https://paullab.co.kr/bookservice')\n",
        "    if crawler.crawl():\n",
        "        crawler.print_books()"
      ],
      "metadata": {
        "colab": {
          "base_uri": "https://localhost:8080/"
        },
        "id": "kHO2f1cL7yQR",
        "outputId": "30799a3e-0b8a-4a4c-9e46-0a5ed7cb8716"
      },
      "execution_count": 117,
      "outputs": [
        {
          "output_type": "stream",
          "name": "stdout",
          "text": [
            "[책 1]\n",
            "제목: 메모혁신 Notion(노션) 활용 가이드\n",
            "가격: 7,000원\n",
            "저자: 이호준, 이준호, 김혜원, 김유진, 차경림, 김진, 현지연, 정승한\n",
            "--------------------------------------------------\n",
            "[책 2]\n",
            "제목: 이력서 작성 가이드\n",
            "가격: 10,000원\n",
            "저자: 강혜진, 김유진, 김혜원, 김진, 이범재, 이호준, 원유선, 박누리, 차경림, 최원범, 한재현\n",
            "--------------------------------------------------\n",
            "[책 3]\n",
            "제목: 제주코딩베이스캠프 Code Festival: Python 100제 1부\n",
            "가격: 무료\n",
            "저자: 이호준, 강민정, 김유진, 정윤하, 최원범\n",
            "--------------------------------------------------\n",
            "[책 4]\n",
            "제목: 튜토리얼로 배우는 HTML&CSS\n",
            "가격: 4,900원\n",
            "저자: 이호준, 박민균, 양지혜, 정민준, 박소영, 전유빈\n",
            "--------------------------------------------------\n",
            "[책 5]\n",
            "제목: 코딩도장 튜토리얼로 배우는 Python 1편 object\n",
            "가격: 3,000원\n",
            "저자: 이호준, 정민준, 배희성, 김덕주, 한승협\n",
            "--------------------------------------------------\n",
            "[책 6]\n",
            "제목: 코딩도장 튜토리얼로 배우는 python 2편 제어문\n",
            "가격: 4,900원\n",
            "저자: 이호준, 우지훈, 박소영, 허재영\n",
            "--------------------------------------------------\n",
            "[책 7]\n",
            "제목: 코딩도장 튜토리얼로 배우는 Python 문제풀이\n",
            "가격: 무료\n",
            "저자: 이호준, 전유빈, 김태범, 한승협, 김혜원, 강민정\n",
            "--------------------------------------------------\n",
            "[책 8]\n",
            "제목: 타노스의 건틀릿 알고리즘 With Python\n",
            "가격: 무료\n",
            "저자: 이호준, 한승협, 강민정, 신민욱\n",
            "--------------------------------------------------\n",
            "[책 9]\n",
            "제목: xlsxwriter 튜토리얼로 배우는 Python 엑셀 프로그래밍\n",
            "가격: 무료\n",
            "저자: 이호준, 강상권, 오재원, 전진환, 문형철, 이현창\n",
            "--------------------------------------------------\n",
            "[책 10]\n",
            "제목: 러플 튜토리얼로 배우는 Python\n",
            "가격: 4,900\n",
            "저자: 이호준, 배희성, 양지혜, 박소영, 김수연, 정민준\n",
            "--------------------------------------------------\n",
            "[책 11]\n",
            "제목: 인공지능을 활용한 업무자동화 With Google Developers Group JEJU\n",
            "가격: 무료\n",
            "저자: 이호준, 이준호, 현암, 윤현담, 김루비, 이동민, 유승엽, 박서윤, 김채린, 한승협, 안상우, 장성원, 전진환, 강민성, 조민구, 전창삼\n",
            "--------------------------------------------------\n"
          ]
        }
      ]
    },
    {
      "cell_type": "markdown",
      "source": [
        "# 파이썬 스타일 가이드"
      ],
      "metadata": {
        "id": "10fSaqQ_8_EE"
      }
    },
    {
      "cell_type": "code",
      "source": [
        "def function():\n",
        "    \"\"\"Connects to the next available port.\n",
        "\n",
        "    Args:\n",
        "      minimum: A port value greater or equal to 1024.\n",
        "\n",
        "    Returns:\n",
        "      The new minimum port.\n",
        "\n",
        "    Raises:\n",
        "      ConnectionError: If no available port is found.\n",
        "    \"\"\"\n",
        "    pass\n",
        "\n",
        "function()"
      ],
      "metadata": {
        "id": "4MbWRE-q8NBc"
      },
      "execution_count": null,
      "outputs": []
    },
    {
      "cell_type": "code",
      "source": [
        "def f(x):\n",
        "    return '짝수' if x % 2 == 0 else '홀수'\n",
        "\n",
        "f(2)\n",
        "f(3)"
      ],
      "metadata": {
        "colab": {
          "base_uri": "https://localhost:8080/",
          "height": 36
        },
        "id": "jcdjrapl9ggG",
        "outputId": "6d48c9ed-192a-442a-cc57-f6be15b677d2"
      },
      "execution_count": 118,
      "outputs": [
        {
          "output_type": "execute_result",
          "data": {
            "text/plain": [
              "'홀수'"
            ],
            "application/vnd.google.colaboratory.intrinsic+json": {
              "type": "string"
            }
          },
          "metadata": {},
          "execution_count": 118
        }
      ]
    },
    {
      "cell_type": "code",
      "source": [
        "class A:\n",
        "    def __eq__(self, next):\n",
        "        return True\n",
        "\n",
        "class B:\n",
        "    pass\n",
        "\n",
        "a = A()\n",
        "b = B()\n",
        "\n",
        "a == b\n",
        "a == None\n",
        "a is None # is는 id 값으로 비교합니다. None은 항상 id 값이 1개입니다."
      ],
      "metadata": {
        "colab": {
          "base_uri": "https://localhost:8080/"
        },
        "id": "x0lhuYSl-AQu",
        "outputId": "143307e3-d18e-45aa-e6e2-f45737ed0338"
      },
      "execution_count": 122,
      "outputs": [
        {
          "output_type": "execute_result",
          "data": {
            "text/plain": [
              "False"
            ]
          },
          "metadata": {},
          "execution_count": 122
        }
      ]
    },
    {
      "cell_type": "code",
      "source": [
        "x = ('This will build a very long long '\n",
        "     'long long long long long long string')\n",
        "\n",
        "x"
      ],
      "metadata": {
        "colab": {
          "base_uri": "https://localhost:8080/",
          "height": 36
        },
        "id": "V9gNc2qv-uhq",
        "outputId": "03cb5e1d-ce43-4c18-a932-d2f5ac7bbcb8"
      },
      "execution_count": 123,
      "outputs": [
        {
          "output_type": "execute_result",
          "data": {
            "text/plain": [
              "'This will build a very long long long long long long long long string'"
            ],
            "application/vnd.google.colaboratory.intrinsic+json": {
              "type": "string"
            }
          },
          "metadata": {},
          "execution_count": 123
        }
      ]
    },
    {
      "cell_type": "code",
      "source": [
        "'hello world' 'hi'"
      ],
      "metadata": {
        "colab": {
          "base_uri": "https://localhost:8080/",
          "height": 36
        },
        "id": "OcDl5Olc-y3C",
        "outputId": "4159079f-2e7e-4e30-a989-a5d5e02fdaee"
      },
      "execution_count": 124,
      "outputs": [
        {
          "output_type": "execute_result",
          "data": {
            "text/plain": [
              "'hello worldhi'"
            ],
            "application/vnd.google.colaboratory.intrinsic+json": {
              "type": "string"
            }
          },
          "metadata": {},
          "execution_count": 124
        }
      ]
    },
    {
      "cell_type": "code",
      "source": [
        "golomb3 = [0, 1, 3]\n",
        "golomb4 = [\n",
        "    0,\n",
        "    1,\n",
        "    4,\n",
        "    6,\n",
        "]"
      ],
      "metadata": {
        "id": "x1RYD01C_NzH"
      },
      "execution_count": null,
      "outputs": []
    }
  ]
}